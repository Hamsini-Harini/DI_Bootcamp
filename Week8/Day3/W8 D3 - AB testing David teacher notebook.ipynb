{
  "nbformat": 4,
  "nbformat_minor": 0,
  "metadata": {
    "colab": {
      "provenance": []
    },
    "kernelspec": {
      "name": "python3",
      "display_name": "Python 3"
    },
    "language_info": {
      "name": "python"
    }
  },
  "cells": [
    {
      "cell_type": "markdown",
      "source": [
        "# Introduction to A/B Testing"
      ],
      "metadata": {
        "id": "2QCBA0wkzMBp"
      }
    },
    {
      "cell_type": "code",
      "source": [
        "# Imports\n",
        "import numpy as np\n",
        "import pandas as pd\n",
        "\n",
        "from scipy.special import binom\n",
        "from scipy.stats import chi2_contingency, mannwhitneyu, norm, t, ttest_ind\n",
        "\n",
        "import matplotlib.pyplot as plt"
      ],
      "metadata": {
        "id": "XZOgfAghzLXx"
      },
      "execution_count": null,
      "outputs": []
    },
    {
      "cell_type": "markdown",
      "source": [
        "## Discrete Metrics"
      ],
      "metadata": {
        "id": "7FFzocjnK87L"
      }
    },
    {
      "cell_type": "code",
      "execution_count": null,
      "metadata": {
        "id": "qySLSuxdyK0x",
        "colab": {
          "base_uri": "https://localhost:8080/",
          "height": 212
        },
        "outputId": "67a096d5-0f1c-4f4c-9095-fb032df0b03d"
      },
      "outputs": [
        {
          "output_type": "stream",
          "name": "stdout",
          "text": [
            "- Observations:\n",
            "  - Version A: = [1 0 0 1 1 1 1 0 0 0 1 0 0 1 1]\n",
            "  - Version B: = [0 0 0 0 0 1 0 0 0 0 1 0 0 0 0 1 0 0 1]\n",
            "\n",
            "- Contingency table:\n"
          ]
        },
        {
          "output_type": "display_data",
          "data": {
            "text/plain": [
              "           A  B\n",
              "click      7  8\n",
              "no click  15  4"
            ],
            "text/html": [
              "\n",
              "  <div id=\"df-60316a56-8fd2-4cf8-9628-b93b1353988e\" class=\"colab-df-container\">\n",
              "    <div>\n",
              "<style scoped>\n",
              "    .dataframe tbody tr th:only-of-type {\n",
              "        vertical-align: middle;\n",
              "    }\n",
              "\n",
              "    .dataframe tbody tr th {\n",
              "        vertical-align: top;\n",
              "    }\n",
              "\n",
              "    .dataframe thead th {\n",
              "        text-align: right;\n",
              "    }\n",
              "</style>\n",
              "<table border=\"1\" class=\"dataframe\">\n",
              "  <thead>\n",
              "    <tr style=\"text-align: right;\">\n",
              "      <th></th>\n",
              "      <th>A</th>\n",
              "      <th>B</th>\n",
              "    </tr>\n",
              "  </thead>\n",
              "  <tbody>\n",
              "    <tr>\n",
              "      <th>click</th>\n",
              "      <td>7</td>\n",
              "      <td>8</td>\n",
              "    </tr>\n",
              "    <tr>\n",
              "      <th>no click</th>\n",
              "      <td>15</td>\n",
              "      <td>4</td>\n",
              "    </tr>\n",
              "  </tbody>\n",
              "</table>\n",
              "</div>\n",
              "    <div class=\"colab-df-buttons\">\n",
              "\n",
              "  <div class=\"colab-df-container\">\n",
              "    <button class=\"colab-df-convert\" onclick=\"convertToInteractive('df-60316a56-8fd2-4cf8-9628-b93b1353988e')\"\n",
              "            title=\"Convert this dataframe to an interactive table.\"\n",
              "            style=\"display:none;\">\n",
              "\n",
              "  <svg xmlns=\"http://www.w3.org/2000/svg\" height=\"24px\" viewBox=\"0 -960 960 960\">\n",
              "    <path d=\"M120-120v-720h720v720H120Zm60-500h600v-160H180v160Zm220 220h160v-160H400v160Zm0 220h160v-160H400v160ZM180-400h160v-160H180v160Zm440 0h160v-160H620v160ZM180-180h160v-160H180v160Zm440 0h160v-160H620v160Z\"/>\n",
              "  </svg>\n",
              "    </button>\n",
              "\n",
              "  <style>\n",
              "    .colab-df-container {\n",
              "      display:flex;\n",
              "      gap: 12px;\n",
              "    }\n",
              "\n",
              "    .colab-df-convert {\n",
              "      background-color: #E8F0FE;\n",
              "      border: none;\n",
              "      border-radius: 50%;\n",
              "      cursor: pointer;\n",
              "      display: none;\n",
              "      fill: #1967D2;\n",
              "      height: 32px;\n",
              "      padding: 0 0 0 0;\n",
              "      width: 32px;\n",
              "    }\n",
              "\n",
              "    .colab-df-convert:hover {\n",
              "      background-color: #E2EBFA;\n",
              "      box-shadow: 0px 1px 2px rgba(60, 64, 67, 0.3), 0px 1px 3px 1px rgba(60, 64, 67, 0.15);\n",
              "      fill: #174EA6;\n",
              "    }\n",
              "\n",
              "    .colab-df-buttons div {\n",
              "      margin-bottom: 4px;\n",
              "    }\n",
              "\n",
              "    [theme=dark] .colab-df-convert {\n",
              "      background-color: #3B4455;\n",
              "      fill: #D2E3FC;\n",
              "    }\n",
              "\n",
              "    [theme=dark] .colab-df-convert:hover {\n",
              "      background-color: #434B5C;\n",
              "      box-shadow: 0px 1px 3px 1px rgba(0, 0, 0, 0.15);\n",
              "      filter: drop-shadow(0px 1px 2px rgba(0, 0, 0, 0.3));\n",
              "      fill: #FFFFFF;\n",
              "    }\n",
              "  </style>\n",
              "\n",
              "    <script>\n",
              "      const buttonEl =\n",
              "        document.querySelector('#df-60316a56-8fd2-4cf8-9628-b93b1353988e button.colab-df-convert');\n",
              "      buttonEl.style.display =\n",
              "        google.colab.kernel.accessAllowed ? 'block' : 'none';\n",
              "\n",
              "      async function convertToInteractive(key) {\n",
              "        const element = document.querySelector('#df-60316a56-8fd2-4cf8-9628-b93b1353988e');\n",
              "        const dataTable =\n",
              "          await google.colab.kernel.invokeFunction('convertToInteractive',\n",
              "                                                    [key], {});\n",
              "        if (!dataTable) return;\n",
              "\n",
              "        const docLinkHtml = 'Like what you see? Visit the ' +\n",
              "          '<a target=\"_blank\" href=https://colab.research.google.com/notebooks/data_table.ipynb>data table notebook</a>'\n",
              "          + ' to learn more about interactive tables.';\n",
              "        element.innerHTML = '';\n",
              "        dataTable['output_type'] = 'display_data';\n",
              "        await google.colab.output.renderOutput(dataTable, element);\n",
              "        const docLink = document.createElement('div');\n",
              "        docLink.innerHTML = docLinkHtml;\n",
              "        element.appendChild(docLink);\n",
              "      }\n",
              "    </script>\n",
              "  </div>\n",
              "\n",
              "\n",
              "<div id=\"df-86bc290a-b40e-4df6-aa4d-999ecc384963\">\n",
              "  <button class=\"colab-df-quickchart\" onclick=\"quickchart('df-86bc290a-b40e-4df6-aa4d-999ecc384963')\"\n",
              "            title=\"Suggest charts\"\n",
              "            style=\"display:none;\">\n",
              "\n",
              "<svg xmlns=\"http://www.w3.org/2000/svg\" height=\"24px\"viewBox=\"0 0 24 24\"\n",
              "     width=\"24px\">\n",
              "    <g>\n",
              "        <path d=\"M19 3H5c-1.1 0-2 .9-2 2v14c0 1.1.9 2 2 2h14c1.1 0 2-.9 2-2V5c0-1.1-.9-2-2-2zM9 17H7v-7h2v7zm4 0h-2V7h2v10zm4 0h-2v-4h2v4z\"/>\n",
              "    </g>\n",
              "</svg>\n",
              "  </button>\n",
              "\n",
              "<style>\n",
              "  .colab-df-quickchart {\n",
              "      --bg-color: #E8F0FE;\n",
              "      --fill-color: #1967D2;\n",
              "      --hover-bg-color: #E2EBFA;\n",
              "      --hover-fill-color: #174EA6;\n",
              "      --disabled-fill-color: #AAA;\n",
              "      --disabled-bg-color: #DDD;\n",
              "  }\n",
              "\n",
              "  [theme=dark] .colab-df-quickchart {\n",
              "      --bg-color: #3B4455;\n",
              "      --fill-color: #D2E3FC;\n",
              "      --hover-bg-color: #434B5C;\n",
              "      --hover-fill-color: #FFFFFF;\n",
              "      --disabled-bg-color: #3B4455;\n",
              "      --disabled-fill-color: #666;\n",
              "  }\n",
              "\n",
              "  .colab-df-quickchart {\n",
              "    background-color: var(--bg-color);\n",
              "    border: none;\n",
              "    border-radius: 50%;\n",
              "    cursor: pointer;\n",
              "    display: none;\n",
              "    fill: var(--fill-color);\n",
              "    height: 32px;\n",
              "    padding: 0;\n",
              "    width: 32px;\n",
              "  }\n",
              "\n",
              "  .colab-df-quickchart:hover {\n",
              "    background-color: var(--hover-bg-color);\n",
              "    box-shadow: 0 1px 2px rgba(60, 64, 67, 0.3), 0 1px 3px 1px rgba(60, 64, 67, 0.15);\n",
              "    fill: var(--button-hover-fill-color);\n",
              "  }\n",
              "\n",
              "  .colab-df-quickchart-complete:disabled,\n",
              "  .colab-df-quickchart-complete:disabled:hover {\n",
              "    background-color: var(--disabled-bg-color);\n",
              "    fill: var(--disabled-fill-color);\n",
              "    box-shadow: none;\n",
              "  }\n",
              "\n",
              "  .colab-df-spinner {\n",
              "    border: 2px solid var(--fill-color);\n",
              "    border-color: transparent;\n",
              "    border-bottom-color: var(--fill-color);\n",
              "    animation:\n",
              "      spin 1s steps(1) infinite;\n",
              "  }\n",
              "\n",
              "  @keyframes spin {\n",
              "    0% {\n",
              "      border-color: transparent;\n",
              "      border-bottom-color: var(--fill-color);\n",
              "      border-left-color: var(--fill-color);\n",
              "    }\n",
              "    20% {\n",
              "      border-color: transparent;\n",
              "      border-left-color: var(--fill-color);\n",
              "      border-top-color: var(--fill-color);\n",
              "    }\n",
              "    30% {\n",
              "      border-color: transparent;\n",
              "      border-left-color: var(--fill-color);\n",
              "      border-top-color: var(--fill-color);\n",
              "      border-right-color: var(--fill-color);\n",
              "    }\n",
              "    40% {\n",
              "      border-color: transparent;\n",
              "      border-right-color: var(--fill-color);\n",
              "      border-top-color: var(--fill-color);\n",
              "    }\n",
              "    60% {\n",
              "      border-color: transparent;\n",
              "      border-right-color: var(--fill-color);\n",
              "    }\n",
              "    80% {\n",
              "      border-color: transparent;\n",
              "      border-right-color: var(--fill-color);\n",
              "      border-bottom-color: var(--fill-color);\n",
              "    }\n",
              "    90% {\n",
              "      border-color: transparent;\n",
              "      border-bottom-color: var(--fill-color);\n",
              "    }\n",
              "  }\n",
              "</style>\n",
              "\n",
              "  <script>\n",
              "    async function quickchart(key) {\n",
              "      const quickchartButtonEl =\n",
              "        document.querySelector('#' + key + ' button');\n",
              "      quickchartButtonEl.disabled = true;  // To prevent multiple clicks.\n",
              "      quickchartButtonEl.classList.add('colab-df-spinner');\n",
              "      try {\n",
              "        const charts = await google.colab.kernel.invokeFunction(\n",
              "            'suggestCharts', [key], {});\n",
              "      } catch (error) {\n",
              "        console.error('Error during call to suggestCharts:', error);\n",
              "      }\n",
              "      quickchartButtonEl.classList.remove('colab-df-spinner');\n",
              "      quickchartButtonEl.classList.add('colab-df-quickchart-complete');\n",
              "    }\n",
              "    (() => {\n",
              "      let quickchartButtonEl =\n",
              "        document.querySelector('#df-86bc290a-b40e-4df6-aa4d-999ecc384963 button');\n",
              "      quickchartButtonEl.style.display =\n",
              "        google.colab.kernel.accessAllowed ? 'block' : 'none';\n",
              "    })();\n",
              "  </script>\n",
              "</div>\n",
              "\n",
              "  <div id=\"id_f063dac5-fffc-419b-9e2b-b1180638479c\">\n",
              "    <style>\n",
              "      .colab-df-generate {\n",
              "        background-color: #E8F0FE;\n",
              "        border: none;\n",
              "        border-radius: 50%;\n",
              "        cursor: pointer;\n",
              "        display: none;\n",
              "        fill: #1967D2;\n",
              "        height: 32px;\n",
              "        padding: 0 0 0 0;\n",
              "        width: 32px;\n",
              "      }\n",
              "\n",
              "      .colab-df-generate:hover {\n",
              "        background-color: #E2EBFA;\n",
              "        box-shadow: 0px 1px 2px rgba(60, 64, 67, 0.3), 0px 1px 3px 1px rgba(60, 64, 67, 0.15);\n",
              "        fill: #174EA6;\n",
              "      }\n",
              "\n",
              "      [theme=dark] .colab-df-generate {\n",
              "        background-color: #3B4455;\n",
              "        fill: #D2E3FC;\n",
              "      }\n",
              "\n",
              "      [theme=dark] .colab-df-generate:hover {\n",
              "        background-color: #434B5C;\n",
              "        box-shadow: 0px 1px 3px 1px rgba(0, 0, 0, 0.15);\n",
              "        filter: drop-shadow(0px 1px 2px rgba(0, 0, 0, 0.3));\n",
              "        fill: #FFFFFF;\n",
              "      }\n",
              "    </style>\n",
              "    <button class=\"colab-df-generate\" onclick=\"generateWithVariable('df')\"\n",
              "            title=\"Generate code using this dataframe.\"\n",
              "            style=\"display:none;\">\n",
              "\n",
              "  <svg xmlns=\"http://www.w3.org/2000/svg\" height=\"24px\"viewBox=\"0 0 24 24\"\n",
              "       width=\"24px\">\n",
              "    <path d=\"M7,19H8.4L18.45,9,17,7.55,7,17.6ZM5,21V16.75L18.45,3.32a2,2,0,0,1,2.83,0l1.4,1.43a1.91,1.91,0,0,1,.58,1.4,1.91,1.91,0,0,1-.58,1.4L9.25,21ZM18.45,9,17,7.55Zm-12,3A5.31,5.31,0,0,0,4.9,8.1,5.31,5.31,0,0,0,1,6.5,5.31,5.31,0,0,0,4.9,4.9,5.31,5.31,0,0,0,6.5,1,5.31,5.31,0,0,0,8.1,4.9,5.31,5.31,0,0,0,12,6.5,5.46,5.46,0,0,0,6.5,12Z\"/>\n",
              "  </svg>\n",
              "    </button>\n",
              "    <script>\n",
              "      (() => {\n",
              "      const buttonEl =\n",
              "        document.querySelector('#id_f063dac5-fffc-419b-9e2b-b1180638479c button.colab-df-generate');\n",
              "      buttonEl.style.display =\n",
              "        google.colab.kernel.accessAllowed ? 'block' : 'none';\n",
              "\n",
              "      buttonEl.onclick = () => {\n",
              "        google.colab.notebook.generateWithVariable('df');\n",
              "      }\n",
              "      })();\n",
              "    </script>\n",
              "  </div>\n",
              "\n",
              "    </div>\n",
              "  </div>\n"
            ],
            "application/vnd.google.colaboratory.intrinsic+json": {
              "type": "dataframe",
              "variable_name": "df",
              "summary": "{\n  \"name\": \"df\",\n  \"rows\": 2,\n  \"fields\": [\n    {\n      \"column\": \"A\",\n      \"properties\": {\n        \"dtype\": \"number\",\n        \"std\": 5,\n        \"min\": 7,\n        \"max\": 15,\n        \"num_unique_values\": 2,\n        \"samples\": [\n          15,\n          7\n        ],\n        \"semantic_type\": \"\",\n        \"description\": \"\"\n      }\n    },\n    {\n      \"column\": \"B\",\n      \"properties\": {\n        \"dtype\": \"number\",\n        \"std\": 2,\n        \"min\": 4,\n        \"max\": 8,\n        \"num_unique_values\": 2,\n        \"samples\": [\n          4,\n          8\n        ],\n        \"semantic_type\": \"\",\n        \"description\": \"\"\n      }\n    }\n  ]\n}"
            }
          },
          "metadata": {}
        }
      ],
      "source": [
        "# Simulate click data\n",
        "\n",
        "np.random.seed(42)\n",
        "\n",
        "# Simulate clicks for version A (15 users, 60% chance of clicking)\n",
        "x = np.random.binomial(n=1, p=0.6, size=15)\n",
        "\n",
        "# Simulate clicks for version B (19 users, 40% chance of clicking)\n",
        "y = np.random.binomial(n=1, p=0.4, size=19)\n",
        "\n",
        "# Count clicks and no-clicks\n",
        "_, (a, b) = np.unique(x, return_counts = True)\n",
        "_, (c, d) = np.unique(y, return_counts = True)\n",
        "\n",
        "# Create a contingency table\n",
        "df = pd.DataFrame(data = [[a, b], [c, d]],\n",
        "                  index = ['click', 'no click'],\n",
        "                  columns = ['A', 'B']\n",
        "                  )\n",
        "\n",
        "m = df.values\n",
        "\n",
        "print(\"- Observations:\")\n",
        "print(f\"  - Version A: = {x}\")\n",
        "print(f\"  - Version B: = {y}\")\n",
        "print(\"\")\n",
        "print(\"- Contingency table:\")\n",
        "display(df)"
      ]
    },
    {
      "cell_type": "code",
      "source": [
        "# Perform a Fisher's exact test (David's way)\n",
        "\n",
        "from scipy.stats import fisher_exact\n",
        "\n",
        "# Perform the test using scipy\n",
        "odds_ratio, p_value = fisher_exact(m)\n",
        "\n",
        "# Display values\n",
        "print(f\"Odds ratio: {odds_ratio}.\")\n",
        "print(f\"p-value: {p_value}.\")\n"
      ],
      "metadata": {
        "colab": {
          "base_uri": "https://localhost:8080/"
        },
        "id": "vAEIy5D-Dww4",
        "outputId": "26a5170a-9f8e-4a27-dd59-2f1c7ed0b113"
      },
      "execution_count": null,
      "outputs": [
        {
          "output_type": "stream",
          "name": "stdout",
          "text": [
            "Odds ratio: 0.23333333333333334.\n",
            "p-value: 0.07516241879060467.\n"
          ]
        }
      ]
    },
    {
      "cell_type": "markdown",
      "source": [
        "p_value > alpha : we can't reject the null hypothesis.\n"
      ],
      "metadata": {
        "id": "V6xtTOygFG3N"
      }
    },
    {
      "cell_type": "code",
      "source": [
        "# Course's way\n",
        "\n",
        "def hypergeom(k, K, n, N):\n",
        "    \"\"\"Probability mass funciton of the hypergeometric distribution.\"\"\"\n",
        "    return binom(K, k) * binom(N-K, n-k) / binom(N, n)\n",
        "\n",
        "\n",
        "def fisher_prob(m):\n",
        "    \"\"\"Probability of a given observed contingency table according to Fisher's exact test.\"\"\"\n",
        "    ((a, b), (c ,d)) = m\n",
        "    k = a\n",
        "    K = a+b\n",
        "    n = a+c\n",
        "    N = a+b+c+d\n",
        "    return hypergeom(k, K, n, N)\n",
        "\n",
        "def fisher_probs_histogram(m):\n",
        "    \"\"\"Computes prob mass function histogram accroding to Fisher's exact test.\"\"\"\n",
        "    neg_val = -min(m[0,0], m[1,1])\n",
        "    pos_val = min(m[1,0], m[1,0])\n",
        "    probs = []\n",
        "    for k in range(neg_val, pos_val+1):\n",
        "        m1 = m + np.array([[1, -1], [-1, 1]]) * k\n",
        "        probs.append(fisher_prob(m1))\n",
        "    return probs\n",
        "\n",
        "bars_h = np.array(fisher_probs_histogram(m))\n",
        "\n",
        "f, ax = plt.subplots(figsize=(6, 3))\n",
        "ii = np.arange(len(bars_h))\n",
        "ax.bar(ii, bars_h)\n",
        "idxs = bars_h <= fisher_prob(m)\n",
        "ax.bar(ii[idxs], bars_h[idxs], color='r')\n",
        "ax.set_ylabel(\"prob density\")\n",
        "p_val = bars_h[idxs].sum()\n",
        "neg_val = -min(m[0,0], m[1,1])\n",
        "pos_val = min(m[1,0], m[1,0])\n",
        "ax.bar(ii[-neg_val], bars_h[-neg_val], color='orange')\n",
        "\n",
        "ax.set_xticks(ii)\n",
        "ax.set_xticklabels(np.arange(neg_val, pos_val+1))\n",
        "f.tight_layout()\n",
        "print(f\"- Fisher's exact test: p-val = {100*p_val:.1f}%\")"
      ],
      "metadata": {
        "colab": {
          "base_uri": "https://localhost:8080/",
          "height": 324
        },
        "id": "9ayuJ0kDFN7-",
        "outputId": "93408fad-089b-4fe6-ce80-92ea26bf2280"
      },
      "execution_count": null,
      "outputs": [
        {
          "output_type": "stream",
          "name": "stdout",
          "text": [
            "- Fisher's exact test: p-val = 7.5%\n"
          ]
        },
        {
          "output_type": "display_data",
          "data": {
            "text/plain": [
              "<Figure size 600x300 with 1 Axes>"
            ],
            "image/png": "[encoded data removed]"
          },
          "metadata": {}
        }
      ]
    },
    {
      "cell_type": "code",
      "source": [
        "# Discrete metric + Large sample size: Pearson\n",
        "\n",
        "# Perform the test\n",
        "chi2_val, p_val = chi2_contingency(m, correction=False)[:2]\n",
        "\n",
        "print(\"- Pearson's chi-squared t-test:\")\n",
        "print(f\"   - χ2 value: {chi2_val:.3f}\")\n",
        "print(f\"   - p-value: {p_val*100:.1f}%\")"
      ],
      "metadata": {
        "colab": {
          "base_uri": "https://localhost:8080/"
        },
        "id": "iwYrPwSsFhnp",
        "outputId": "044d1296-44af-403f-8b1a-33643a933819"
      },
      "execution_count": null,
      "outputs": [
        {
          "output_type": "stream",
          "name": "stdout",
          "text": [
            "- Pearson's chi-squared t-test:\n",
            "   - χ2 value: 3.825\n",
            "   - p-value: 5.1%\n"
          ]
        }
      ]
    },
    {
      "cell_type": "markdown",
      "source": [
        "## Continuous Metrics"
      ],
      "metadata": {
        "id": "Voa5ovDrK_iv"
      }
    },
    {
      "cell_type": "code",
      "source": [
        "# Simulate the values\n",
        "\n",
        "np.random.seed(42)\n",
        "\n",
        "n_x, n_y = 17, 14\n",
        "\n",
        "d1 = norm(loc=200, scale=100)\n",
        "d2 = norm(loc=280, scale=90)\n",
        "\n",
        "disc = 50\n",
        "x = (d1.rvs(size=n_x) / disc).astype(int) * disc\n",
        "y = (d2.rvs(size=n_y) / disc).astype(int) * disc\n",
        "\n",
        "\n",
        "print(\"- Observations:\")\n",
        "print(f\"  - Version A: = {x}\")\n",
        "print(f\"  - Version B: = {y}\")\n",
        "print(\"\")\n",
        "print(f\"- Distribution plot:\")\n",
        "f, ax = plt.subplots(figsize=(6, 3))\n",
        "for i, (x_, l_, c_) in enumerate(zip([x, y], [\"A\", \"B\"], [\"tab:blue\", \"tab:olive\"])):\n",
        "    v, c = np.unique(x_, return_counts=True)\n",
        "    ax.bar(v-5+10*i, c, width=10, label=l_, color=c_)\n",
        "\n",
        "ax.set_xlabel(\"purchase in $\")\n",
        "ax.set_ylabel(\"count\")\n",
        "ax.legend();"
      ],
      "metadata": {
        "colab": {
          "base_uri": "https://localhost:8080/",
          "height": 398
        },
        "id": "UG2kmZSUK4Q8",
        "outputId": "07625489-e3d3-4d08-c313-3e299f455692"
      },
      "execution_count": null,
      "outputs": [
        {
          "output_type": "stream",
          "name": "stdout",
          "text": [
            "- Observations:\n",
            "  - Version A: = [200 150 250 350 150 150 350 250 150 250 150 150 200   0   0 100  50]\n",
            "  - Version B: = [300 150 150 400 250 250 150 200 250 150 300 200 250 200]\n",
            "\n",
            "- Distribution plot:\n"
          ]
        },
        {
          "output_type": "display_data",
          "data": {
            "text/plain": [
              "<Figure size 600x300 with 1 Axes>"
            ],
            "image/png": "[encoded data removed]"
          },
          "metadata": {}
        }
      ]
    },
    {
      "cell_type": "code",
      "source": [
        "# Define a function to plot the probability density functions (pdf)\n",
        "def plot_pval(distribution, t_val, xlims=(-5, 5), ylims=(0, 0.5)):\n",
        "    xxx = np.linspace(*xlims, 1000)\n",
        "    f, ax = plt.subplots(figsize=(4,3))\n",
        "    ax.plot(xxx, distribution.pdf(xxx))\n",
        "    ax.set_ylim(ylims)\n",
        "    ax.vlines(t_val, 0, stat_distrib.pdf(t_val), color='orange')\n",
        "    ax.plot(t_val, stat_distrib.pdf(t_val), 'o', color='orange')\n",
        "    xp = xxx <= t_val\n",
        "    ax.fill_between(xxx[xp], xxx[xp] * 0, stat_distrib.pdf(xxx[xp]), color='r')\n",
        "    xp = xxx >= -t_val\n",
        "    ax.fill_between(xxx[xp], xxx[xp] * 0, stat_distrib.pdf(xxx[xp]), color='r')\n",
        "    ax.set_ylabel(\"prob density\")\n",
        "    f.tight_layout()\n",
        "    return f, ax"
      ],
      "metadata": {
        "id": "XuY7SIzsMHXt"
      },
      "execution_count": null,
      "outputs": []
    },
    {
      "cell_type": "code",
      "source": [
        "# Perfom a Z test\n",
        "\n",
        "# Known standard deviations\n",
        "s_x = 100\n",
        "s_y = 90\n",
        "\n",
        "# Z value\n",
        "z_val = (x.mean() - y.mean()) / np.sqrt(s_x**2/n_x + s_y**2/n_y)\n",
        "\n",
        "# Test statistic distribution under null hypothesis H0\n",
        "stat_distrib = norm(loc=0, scale=1)\n",
        "\n",
        "# p-value\n",
        "p_val = stat_distrib.cdf(z_val) * 2\n",
        "\n",
        "print(\"- Z-test:\")\n",
        "print(f\"   - z value: {z_val:.3f}\")\n",
        "print(f\"   - p-value: {p_val*100:.1f}%\")\n",
        "plot_pval(stat_distrib, z_val);"
      ],
      "metadata": {
        "colab": {
          "base_uri": "https://localhost:8080/",
          "height": 358
        },
        "id": "Q_xMsx5gMpfd",
        "outputId": "1ac7f7f8-e8d1-4b98-9750-92cf554e554a"
      },
      "execution_count": null,
      "outputs": [
        {
          "output_type": "stream",
          "name": "stdout",
          "text": [
            "- Z-test:\n",
            "   - z value: -1.697\n",
            "   - p-value: 9.0%\n"
          ]
        },
        {
          "output_type": "display_data",
          "data": {
            "text/plain": [
              "<Figure size 400x300 with 1 Axes>"
            ],
            "image/png": "[encoded data removed]"
          },
          "metadata": {}
        }
      ]
    },
    {
      "cell_type": "code",
      "source": [
        "# Perform a Student’s t-test\n",
        "\n",
        "# Sample variances (w. Bessel correction)\n",
        "s_x = np.sqrt(np.var(x, ddof=1))\n",
        "s_y = np.sqrt(np.var(y, ddof=1))\n",
        "\n",
        "# Pooled variance\n",
        "s_p = np.sqrt(((n_x-1) * s_x**2 +\n",
        "               (n_y-1) * s_y**2)\n",
        "              / (n_x + n_y - 2))\n",
        "\n",
        "# Test statistic distribution under null hypothesis H0\n",
        "dofs = n_x + n_y - 2\n",
        "stat_distrib = t(df=dofs, loc=0, scale=1)\n",
        "\n",
        "# t value\n",
        "t_val = (x.mean() - y.mean()) / (s_p * np.sqrt(1/n_x + 1/n_y))\n",
        "\n",
        "# p-value\n",
        "p_val = stat_distrib.cdf(t_val) * 2\n",
        "\n",
        "print(\"- Student's t-test:\")\n",
        "print(f\"   - nu: {dofs:.3f}\")\n",
        "print(f\"   - t value: {t_val:.3f}\")\n",
        "print(f\"   - p-value: {p_val*100:.1f}%\")\n",
        "plot_pval(stat_distrib, z_val);"
      ],
      "metadata": {
        "colab": {
          "base_uri": "https://localhost:8080/",
          "height": 375
        },
        "id": "FxAmtRfXNEfY",
        "outputId": "1f83e014-6a91-4fcf-acad-1d0418cef59b"
      },
      "execution_count": null,
      "outputs": [
        {
          "output_type": "stream",
          "name": "stdout",
          "text": [
            "- Student's t-test:\n",
            "   - nu: 29.000\n",
            "   - t value: -1.789\n",
            "   - p-value: 8.4%\n"
          ]
        },
        {
          "output_type": "display_data",
          "data": {
            "text/plain": [
              "<Figure size 400x300 with 1 Axes>"
            ],
            "image/png": "[encoded data removed]"
          },
          "metadata": {}
        }
      ]
    },
    {
      "cell_type": "code",
      "source": [
        "# Perform a Welsh's t test\n",
        "\n",
        "# Sample variances (w. Bessel correction)\n",
        "s_x = np.sqrt(np.var(x, ddof=1))\n",
        "s_y = np.sqrt(np.var(y, ddof=1))\n",
        "\n",
        "# Denominator (not a pooled variance!)\n",
        "s_d = np.sqrt(s_x**2/n_x + s_y**2/n_y)\n",
        "\n",
        "\n",
        "# Test statistic distribution under null hypothesis H0\n",
        "dofs = s_d**4 / ((s_x**2/n_x)**2/(n_x-1) +\n",
        "                 (s_y**2/n_y)**2/(n_y-1))\n",
        "stat_distrib = t(df=dofs, loc=0, scale=1)\n",
        "\n",
        "# t value\n",
        "t_val = (x.mean() - y.mean()) / s_d\n",
        "\n",
        "# p-value\n",
        "p_val = stat_distrib.cdf(t_val) * 2\n",
        "\n",
        "print(\"- Welch' t-test:\")\n",
        "print(f\"   - nu: {dofs:.3f}\")\n",
        "print(f\"   - t value: {t_val:.3f}\")\n",
        "print(f\"   - p-value: {p_val*100:.1f}%\")\n",
        "plot_pval(stat_distrib, z_val);\n"
      ],
      "metadata": {
        "colab": {
          "base_uri": "https://localhost:8080/",
          "height": 375
        },
        "id": "6JeRwHXzN5Lv",
        "outputId": "51b6ab75-1e72-4299-ab3e-c25a2c3d4cde"
      },
      "execution_count": null,
      "outputs": [
        {
          "output_type": "stream",
          "name": "stdout",
          "text": [
            "- Welch' t-test:\n",
            "   - nu: 28.505\n",
            "   - t value: -1.848\n",
            "   - p-value: 7.5%\n"
          ]
        },
        {
          "output_type": "display_data",
          "data": {
            "text/plain": [
              "<Figure size 400x300 with 1 Axes>"
            ],
            "image/png": "[encoded data removed]"
          },
          "metadata": {}
        }
      ]
    },
    {
      "cell_type": "code",
      "source": [
        "# Perform Mann-Whitney U test\n",
        "\n",
        "mwu = mannwhitneyu(x, y, use_continuity=False, alternative=\"two-sided\")\n",
        "\n",
        "print(\"- Mann-Whitney U test:\")\n",
        "print(f\"   - U value: {mwu.statistic:.3f}\")\n",
        "print(f\"   - p-value: {mwu.pvalue*100:.1f}%\")"
      ],
      "metadata": {
        "colab": {
          "base_uri": "https://localhost:8080/"
        },
        "id": "JxtFS45OOiLw",
        "outputId": "b519f31b-a14a-4b51-aa03-d2f6b5b64d30"
      },
      "execution_count": null,
      "outputs": [
        {
          "output_type": "stream",
          "name": "stdout",
          "text": [
            "- Mann-Whitney U test:\n",
            "   - U value: 76.000\n",
            "   - p-value: 8.0%\n"
          ]
        }
      ]
    },
    {
      "cell_type": "markdown",
      "source": [
        "# More"
      ],
      "metadata": {
        "id": "NXG1Kf1xXLRf"
      }
    },
    {
      "cell_type": "markdown",
      "source": [
        "## MVT\n",
        "\n"
      ],
      "metadata": {
        "id": "zV-A0KIoXNQe"
      }
    },
    {
      "cell_type": "code",
      "source": [
        "import pandas as pd\n",
        "import statsmodels.api as sm\n",
        "\n",
        "# Load data\n",
        "df = pd.read_csv('mvt_data.csv')\n",
        "\n",
        "# Convert categorical variables to dummy variables\n",
        "df_dummies = pd.get_dummies(df[['button_color', 'header_version', 'converted']], drop_first=True)\n",
        "\n",
        "# Logistic Regression\n",
        "X = df_dummies.drop('converted', axis=1)\n",
        "y = df_dummies['converted']\n",
        "X = sm.add_constant(X)  # Adds a constant term to the predictor\n",
        "\n",
        "model = sm.Logit(y, X)\n",
        "result = model.fit()\n",
        "print(result.summary())"
      ],
      "metadata": {
        "id": "5evw9odSXQyE"
      },
      "execution_count": null,
      "outputs": []
    }
  ]
}