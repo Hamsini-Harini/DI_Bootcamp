{
  "metadata": {
    "kernelspec": {
      "language": "python",
      "display_name": "Python 3",
      "name": "python3"
    },
    "language_info": {
      "pygments_lexer": "ipython3",
      "nbconvert_exporter": "python",
      "version": "3.6.4",
      "file_extension": ".py",
      "codemirror_mode": {
        "name": "ipython",
        "version": 3
      },
      "name": "python",
      "mimetype": "text/x-python"
    },
    "kaggle": {
      "accelerator": "none",
      "dataSources": [
        {
          "sourceId": 4213024,
          "sourceType": "datasetVersion",
          "datasetId": 2479030
        }
      ],
      "dockerImageVersionId": 30235,
      "isInternetEnabled": false,
      "language": "python",
      "sourceType": "notebook",
      "isGpuEnabled": false
    },
    "colab": {
      "provenance": []
    }
  },
  "nbformat_minor": 0,
  "nbformat": 4,
  "cells": [
    {
      "cell_type": "markdown",
      "source": [
        "The AB test is a randomized experiment that is used by most large companies to evaluate the launch of new functionality. Various difficulties may arise in the analysis and conduct of the experiment. Several typical problematic cases from real life are given in this dataset and analysis."
      ],
      "metadata": {
        "id": "DeHt0ZK0kkpI"
      }
    },
    {
      "cell_type": "markdown",
      "source": [
        "### Content\n",
        "1. [Loading and processing data](#Loading)\n",
        "2. [Statistical Analysis](#Statistical)\n",
        "3. [Conclusions](#Conclusions)"
      ],
      "metadata": {
        "id": "Zm0ogtm1kkpI"
      }
    },
    {
      "cell_type": "markdown",
      "source": [
        "### Loading and processing data <a name=\"Loading\"/>"
      ],
      "metadata": {
        "id": "bn40N7ilkkpJ"
      }
    },
    {
      "cell_type": "markdown",
      "source": [
        "Let's import the necessary libraries and load the data"
      ],
      "metadata": {
        "id": "fh03NWZxkkpJ"
      }
    },
    {
      "cell_type": "code",
      "source": [
        "import numpy as np\n",
        "import pandas as pd\n",
        "from scipy.stats import mannwhitneyu\n",
        "from scipy.stats import ttest_ind\n",
        "from scipy.stats import norm\n",
        "import matplotlib.pyplot as plt\n",
        "import seaborn as sns\n",
        "from tqdm.auto import tqdm\n",
        "import seaborn as sns\n",
        "from scipy.stats import pearsonr\n",
        "from scipy.stats import shapiro"
      ],
      "metadata": {
        "execution": {
          "iopub.status.busy": "2022-09-16T18:23:22.571234Z",
          "iopub.execute_input": "2022-09-16T18:23:22.571662Z",
          "iopub.status.idle": "2022-09-16T18:23:22.579386Z",
          "shell.execute_reply.started": "2022-09-16T18:23:22.571624Z",
          "shell.execute_reply": "2022-09-16T18:23:22.577863Z"
        },
        "trusted": true,
        "id": "jKi9SDP2kkpJ"
      },
      "execution_count": 37,
      "outputs": []
    },
    {
      "cell_type": "code",
      "source": [
        "# TODO : import the dataset\n",
        "\n",
        "# Load the dataset using the correct file path from the uploaded file\n",
        "file_path = \"/content/AB_Test_Results.csv\"\n",
        "\n",
        "# Read the CSV file into a pandas DataFrame\n",
        "df = pd.read_csv(file_path)\n",
        "\n"
      ],
      "metadata": {
        "execution": {
          "iopub.status.busy": "2022-09-16T18:23:22.582829Z",
          "iopub.execute_input": "2022-09-16T18:23:22.584216Z",
          "iopub.status.idle": "2022-09-16T18:23:22.604701Z",
          "shell.execute_reply.started": "2022-09-16T18:23:22.584166Z",
          "shell.execute_reply": "2022-09-16T18:23:22.603788Z"
        },
        "trusted": true,
        "id": "5CAgSuFlkkpJ"
      },
      "execution_count": 38,
      "outputs": []
    },
    {
      "cell_type": "code",
      "source": [
        "# TODO : take a quick look at the data\n",
        "\n",
        "df.head()"
      ],
      "metadata": {
        "execution": {
          "iopub.status.busy": "2022-09-16T18:23:22.606556Z",
          "iopub.execute_input": "2022-09-16T18:23:22.607393Z",
          "iopub.status.idle": "2022-09-16T18:23:22.621022Z",
          "shell.execute_reply.started": "2022-09-16T18:23:22.607349Z",
          "shell.execute_reply": "2022-09-16T18:23:22.619749Z"
        },
        "trusted": true,
        "id": "1nvLy1dIkkpK",
        "colab": {
          "base_uri": "https://localhost:8080/",
          "height": 206
        },
        "outputId": "7a684ad6-224f-4fdd-b61f-fcf9f3aad1cc"
      },
      "execution_count": 39,
      "outputs": [
        {
          "output_type": "execute_result",
          "data": {
            "text/plain": [
              "   USER_ID VARIANT_NAME  REVENUE\n",
              "0      737      variant      0.0\n",
              "1     2423      control      0.0\n",
              "2     9411      control      0.0\n",
              "3     7311      control      0.0\n",
              "4     6174      variant      0.0"
            ],
            "text/html": [
              "\n",
              "  <div id=\"df-602c54a5-0e3a-4a28-b5bf-164e9e9c4abf\" class=\"colab-df-container\">\n",
              "    <div>\n",
              "<style scoped>\n",
              "    .dataframe tbody tr th:only-of-type {\n",
              "        vertical-align: middle;\n",
              "    }\n",
              "\n",
              "    .dataframe tbody tr th {\n",
              "        vertical-align: top;\n",
              "    }\n",
              "\n",
              "    .dataframe thead th {\n",
              "        text-align: right;\n",
              "    }\n",
              "</style>\n",
              "<table border=\"1\" class=\"dataframe\">\n",
              "  <thead>\n",
              "    <tr style=\"text-align: right;\">\n",
              "      <th></th>\n",
              "      <th>USER_ID</th>\n",
              "      <th>VARIANT_NAME</th>\n",
              "      <th>REVENUE</th>\n",
              "    </tr>\n",
              "  </thead>\n",
              "  <tbody>\n",
              "    <tr>\n",
              "      <th>0</th>\n",
              "      <td>737</td>\n",
              "      <td>variant</td>\n",
              "      <td>0.0</td>\n",
              "    </tr>\n",
              "    <tr>\n",
              "      <th>1</th>\n",
              "      <td>2423</td>\n",
              "      <td>control</td>\n",
              "      <td>0.0</td>\n",
              "    </tr>\n",
              "    <tr>\n",
              "      <th>2</th>\n",
              "      <td>9411</td>\n",
              "      <td>control</td>\n",
              "      <td>0.0</td>\n",
              "    </tr>\n",
              "    <tr>\n",
              "      <th>3</th>\n",
              "      <td>7311</td>\n",
              "      <td>control</td>\n",
              "      <td>0.0</td>\n",
              "    </tr>\n",
              "    <tr>\n",
              "      <th>4</th>\n",
              "      <td>6174</td>\n",
              "      <td>variant</td>\n",
              "      <td>0.0</td>\n",
              "    </tr>\n",
              "  </tbody>\n",
              "</table>\n",
              "</div>\n",
              "    <div class=\"colab-df-buttons\">\n",
              "\n",
              "  <div class=\"colab-df-container\">\n",
              "    <button class=\"colab-df-convert\" onclick=\"convertToInteractive('df-602c54a5-0e3a-4a28-b5bf-164e9e9c4abf')\"\n",
              "            title=\"Convert this dataframe to an interactive table.\"\n",
              "            style=\"display:none;\">\n",
              "\n",
              "  <svg xmlns=\"http://www.w3.org/2000/svg\" height=\"24px\" viewBox=\"0 -960 960 960\">\n",
              "    <path d=\"M120-120v-720h720v720H120Zm60-500h600v-160H180v160Zm220 220h160v-160H400v160Zm0 220h160v-160H400v160ZM180-400h160v-160H180v160Zm440 0h160v-160H620v160ZM180-180h160v-160H180v160Zm440 0h160v-160H620v160Z\"/>\n",
              "  </svg>\n",
              "    </button>\n",
              "\n",
              "  <style>\n",
              "    .colab-df-container {\n",
              "      display:flex;\n",
              "      gap: 12px;\n",
              "    }\n",
              "\n",
              "    .colab-df-convert {\n",
              "      background-color: #E8F0FE;\n",
              "      border: none;\n",
              "      border-radius: 50%;\n",
              "      cursor: pointer;\n",
              "      display: none;\n",
              "      fill: #1967D2;\n",
              "      height: 32px;\n",
              "      padding: 0 0 0 0;\n",
              "      width: 32px;\n",
              "    }\n",
              "\n",
              "    .colab-df-convert:hover {\n",
              "      background-color: #E2EBFA;\n",
              "      box-shadow: 0px 1px 2px rgba(60, 64, 67, 0.3), 0px 1px 3px 1px rgba(60, 64, 67, 0.15);\n",
              "      fill: #174EA6;\n",
              "    }\n",
              "\n",
              "    .colab-df-buttons div {\n",
              "      margin-bottom: 4px;\n",
              "    }\n",
              "\n",
              "    [theme=dark] .colab-df-convert {\n",
              "      background-color: #3B4455;\n",
              "      fill: #D2E3FC;\n",
              "    }\n",
              "\n",
              "    [theme=dark] .colab-df-convert:hover {\n",
              "      background-color: #434B5C;\n",
              "      box-shadow: 0px 1px 3px 1px rgba(0, 0, 0, 0.15);\n",
              "      filter: drop-shadow(0px 1px 2px rgba(0, 0, 0, 0.3));\n",
              "      fill: #FFFFFF;\n",
              "    }\n",
              "  </style>\n",
              "\n",
              "    <script>\n",
              "      const buttonEl =\n",
              "        document.querySelector('#df-602c54a5-0e3a-4a28-b5bf-164e9e9c4abf button.colab-df-convert');\n",
              "      buttonEl.style.display =\n",
              "        google.colab.kernel.accessAllowed ? 'block' : 'none';\n",
              "\n",
              "      async function convertToInteractive(key) {\n",
              "        const element = document.querySelector('#df-602c54a5-0e3a-4a28-b5bf-164e9e9c4abf');\n",
              "        const dataTable =\n",
              "          await google.colab.kernel.invokeFunction('convertToInteractive',\n",
              "                                                    [key], {});\n",
              "        if (!dataTable) return;\n",
              "\n",
              "        const docLinkHtml = 'Like what you see? Visit the ' +\n",
              "          '<a target=\"_blank\" href=https://colab.research.google.com/notebooks/data_table.ipynb>data table notebook</a>'\n",
              "          + ' to learn more about interactive tables.';\n",
              "        element.innerHTML = '';\n",
              "        dataTable['output_type'] = 'display_data';\n",
              "        await google.colab.output.renderOutput(dataTable, element);\n",
              "        const docLink = document.createElement('div');\n",
              "        docLink.innerHTML = docLinkHtml;\n",
              "        element.appendChild(docLink);\n",
              "      }\n",
              "    </script>\n",
              "  </div>\n",
              "\n",
              "\n",
              "<div id=\"df-68d48342-3f03-4c2e-84ec-93ecf4685313\">\n",
              "  <button class=\"colab-df-quickchart\" onclick=\"quickchart('df-68d48342-3f03-4c2e-84ec-93ecf4685313')\"\n",
              "            title=\"Suggest charts\"\n",
              "            style=\"display:none;\">\n",
              "\n",
              "<svg xmlns=\"http://www.w3.org/2000/svg\" height=\"24px\"viewBox=\"0 0 24 24\"\n",
              "     width=\"24px\">\n",
              "    <g>\n",
              "        <path d=\"M19 3H5c-1.1 0-2 .9-2 2v14c0 1.1.9 2 2 2h14c1.1 0 2-.9 2-2V5c0-1.1-.9-2-2-2zM9 17H7v-7h2v7zm4 0h-2V7h2v10zm4 0h-2v-4h2v4z\"/>\n",
              "    </g>\n",
              "</svg>\n",
              "  </button>\n",
              "\n",
              "<style>\n",
              "  .colab-df-quickchart {\n",
              "      --bg-color: #E8F0FE;\n",
              "      --fill-color: #1967D2;\n",
              "      --hover-bg-color: #E2EBFA;\n",
              "      --hover-fill-color: #174EA6;\n",
              "      --disabled-fill-color: #AAA;\n",
              "      --disabled-bg-color: #DDD;\n",
              "  }\n",
              "\n",
              "  [theme=dark] .colab-df-quickchart {\n",
              "      --bg-color: #3B4455;\n",
              "      --fill-color: #D2E3FC;\n",
              "      --hover-bg-color: #434B5C;\n",
              "      --hover-fill-color: #FFFFFF;\n",
              "      --disabled-bg-color: #3B4455;\n",
              "      --disabled-fill-color: #666;\n",
              "  }\n",
              "\n",
              "  .colab-df-quickchart {\n",
              "    background-color: var(--bg-color);\n",
              "    border: none;\n",
              "    border-radius: 50%;\n",
              "    cursor: pointer;\n",
              "    display: none;\n",
              "    fill: var(--fill-color);\n",
              "    height: 32px;\n",
              "    padding: 0;\n",
              "    width: 32px;\n",
              "  }\n",
              "\n",
              "  .colab-df-quickchart:hover {\n",
              "    background-color: var(--hover-bg-color);\n",
              "    box-shadow: 0 1px 2px rgba(60, 64, 67, 0.3), 0 1px 3px 1px rgba(60, 64, 67, 0.15);\n",
              "    fill: var(--button-hover-fill-color);\n",
              "  }\n",
              "\n",
              "  .colab-df-quickchart-complete:disabled,\n",
              "  .colab-df-quickchart-complete:disabled:hover {\n",
              "    background-color: var(--disabled-bg-color);\n",
              "    fill: var(--disabled-fill-color);\n",
              "    box-shadow: none;\n",
              "  }\n",
              "\n",
              "  .colab-df-spinner {\n",
              "    border: 2px solid var(--fill-color);\n",
              "    border-color: transparent;\n",
              "    border-bottom-color: var(--fill-color);\n",
              "    animation:\n",
              "      spin 1s steps(1) infinite;\n",
              "  }\n",
              "\n",
              "  @keyframes spin {\n",
              "    0% {\n",
              "      border-color: transparent;\n",
              "      border-bottom-color: var(--fill-color);\n",
              "      border-left-color: var(--fill-color);\n",
              "    }\n",
              "    20% {\n",
              "      border-color: transparent;\n",
              "      border-left-color: var(--fill-color);\n",
              "      border-top-color: var(--fill-color);\n",
              "    }\n",
              "    30% {\n",
              "      border-color: transparent;\n",
              "      border-left-color: var(--fill-color);\n",
              "      border-top-color: var(--fill-color);\n",
              "      border-right-color: var(--fill-color);\n",
              "    }\n",
              "    40% {\n",
              "      border-color: transparent;\n",
              "      border-right-color: var(--fill-color);\n",
              "      border-top-color: var(--fill-color);\n",
              "    }\n",
              "    60% {\n",
              "      border-color: transparent;\n",
              "      border-right-color: var(--fill-color);\n",
              "    }\n",
              "    80% {\n",
              "      border-color: transparent;\n",
              "      border-right-color: var(--fill-color);\n",
              "      border-bottom-color: var(--fill-color);\n",
              "    }\n",
              "    90% {\n",
              "      border-color: transparent;\n",
              "      border-bottom-color: var(--fill-color);\n",
              "    }\n",
              "  }\n",
              "</style>\n",
              "\n",
              "  <script>\n",
              "    async function quickchart(key) {\n",
              "      const quickchartButtonEl =\n",
              "        document.querySelector('#' + key + ' button');\n",
              "      quickchartButtonEl.disabled = true;  // To prevent multiple clicks.\n",
              "      quickchartButtonEl.classList.add('colab-df-spinner');\n",
              "      try {\n",
              "        const charts = await google.colab.kernel.invokeFunction(\n",
              "            'suggestCharts', [key], {});\n",
              "      } catch (error) {\n",
              "        console.error('Error during call to suggestCharts:', error);\n",
              "      }\n",
              "      quickchartButtonEl.classList.remove('colab-df-spinner');\n",
              "      quickchartButtonEl.classList.add('colab-df-quickchart-complete');\n",
              "    }\n",
              "    (() => {\n",
              "      let quickchartButtonEl =\n",
              "        document.querySelector('#df-68d48342-3f03-4c2e-84ec-93ecf4685313 button');\n",
              "      quickchartButtonEl.style.display =\n",
              "        google.colab.kernel.accessAllowed ? 'block' : 'none';\n",
              "    })();\n",
              "  </script>\n",
              "</div>\n",
              "    </div>\n",
              "  </div>\n"
            ],
            "application/vnd.google.colaboratory.intrinsic+json": {
              "type": "dataframe",
              "variable_name": "df",
              "summary": "{\n  \"name\": \"df\",\n  \"rows\": 10000,\n  \"fields\": [\n    {\n      \"column\": \"USER_ID\",\n      \"properties\": {\n        \"dtype\": \"number\",\n        \"std\": 2890,\n        \"min\": 2,\n        \"max\": 10000,\n        \"num_unique_values\": 6324,\n        \"samples\": [\n          2159,\n          5040,\n          418\n        ],\n        \"semantic_type\": \"\",\n        \"description\": \"\"\n      }\n    },\n    {\n      \"column\": \"VARIANT_NAME\",\n      \"properties\": {\n        \"dtype\": \"category\",\n        \"num_unique_values\": 2,\n        \"samples\": [\n          \"control\",\n          \"variant\"\n        ],\n        \"semantic_type\": \"\",\n        \"description\": \"\"\n      }\n    },\n    {\n      \"column\": \"REVENUE\",\n      \"properties\": {\n        \"dtype\": \"number\",\n        \"std\": 2.3185286544931945,\n        \"min\": 0.0,\n        \"max\": 196.01,\n        \"num_unique_values\": 101,\n        \"samples\": [\n          1.3,\n          3.97\n        ],\n        \"semantic_type\": \"\",\n        \"description\": \"\"\n      }\n    }\n  ]\n}"
            }
          },
          "metadata": {},
          "execution_count": 39
        }
      ]
    },
    {
      "cell_type": "markdown",
      "source": [
        "Let's see if there are users who have two A/B test groups"
      ],
      "metadata": {
        "id": "gvcmP9L5kkpL"
      }
    },
    {
      "cell_type": "code",
      "source": [
        "# TODO : Look at the distribution of the number of unique groups for each user\n",
        "\n",
        "# Group by 'USER_ID' and count the number of unique 'VARIANT_NAME' values each user has\n",
        "unique_group_counts = df.groupby('USER_ID')['VARIANT_NAME'].nunique()\n",
        "\n",
        "# Display the distribution of the number of unique groups per user\n",
        "unique_group_distribution = unique_group_counts.value_counts()\n",
        "\n",
        "# Print the result for easy readability\n",
        "print(\"\\nDistribution of number of unique groups each user is part of:\")\n",
        "print(unique_group_distribution)"
      ],
      "metadata": {
        "execution": {
          "iopub.status.busy": "2022-09-16T18:23:22.659897Z",
          "iopub.execute_input": "2022-09-16T18:23:22.660468Z",
          "iopub.status.idle": "2022-09-16T18:23:22.673751Z",
          "shell.execute_reply.started": "2022-09-16T18:23:22.660438Z",
          "shell.execute_reply": "2022-09-16T18:23:22.672845Z"
        },
        "trusted": true,
        "id": "sQfYwAcWkkpL",
        "colab": {
          "base_uri": "https://localhost:8080/"
        },
        "outputId": "570a5848-f33a-4144-f728-83a57c99bbcb"
      },
      "execution_count": 40,
      "outputs": [
        {
          "output_type": "stream",
          "name": "stdout",
          "text": [
            "\n",
            "Distribution of number of unique groups each user is part of:\n",
            "VARIANT_NAME\n",
            "1    4783\n",
            "2    1541\n",
            "Name: count, dtype: int64\n"
          ]
        }
      ]
    },
    {
      "cell_type": "markdown",
      "source": [
        "4783 users belong to only one group (either the control or the variant group).\n",
        "\n",
        "1541 users belong to two groups (both control and variant).\n",
        "\n",
        "What Does This Mean?\n",
        "This indicates that some users were exposed to both versions of the experiment, which can create bias and affect the validity of the A/B test results. It’s generally not recommended for users to be in multiple groups, as it compromises the independence of the test groups."
      ],
      "metadata": {
        "id": "ZQl2UFfeQ4_E"
      }
    },
    {
      "cell_type": "code",
      "source": [
        "# TODO : Look at the distribution of the number of unique groups for each user in relative terms\n",
        "\n",
        "# MY ADDITION - we want to see what proportion of users fall into one group, and what proportion fall into multiple groups.\n",
        "\n",
        "# Calculate the distribution of these counts\n",
        "unique_group_distribution = unique_group_counts.value_counts(normalize=True) * 100  # Convert to percentage\n",
        "\n",
        "# Visualize the distribution using a bar plot\n",
        "plt.figure(figsize=(8, 5))\n",
        "unique_group_distribution.plot(kind='bar', color=['skyblue', 'orange'])\n",
        "plt.title(\"% of users in one group vs both groups\")\n",
        "plt.xlabel(\"Number of Unique Groups\")\n",
        "plt.ylabel(\"Percentage of Users\")\n",
        "plt.xticks(rotation=0)\n",
        "plt.show()\n",
        "\n",
        "unique_group_distribution"
      ],
      "metadata": {
        "execution": {
          "iopub.status.busy": "2022-09-16T18:23:22.675099Z",
          "iopub.execute_input": "2022-09-16T18:23:22.675698Z",
          "iopub.status.idle": "2022-09-16T18:23:22.683077Z",
          "shell.execute_reply.started": "2022-09-16T18:23:22.675666Z",
          "shell.execute_reply": "2022-09-16T18:23:22.682019Z"
        },
        "trusted": true,
        "id": "X7D5HpjdkkpM",
        "colab": {
          "base_uri": "https://localhost:8080/",
          "height": 648
        },
        "outputId": "bb9d6d71-9c49-43cc-f0e3-0a9ce9e6264b"
      },
      "execution_count": 41,
      "outputs": [
        {
          "output_type": "display_data",
          "data": {
            "text/plain": [
              "<Figure size 800x500 with 1 Axes>"
            ],
            "image/png": "[encoded data removed]"
          },
          "metadata": {}
        },
        {
          "output_type": "execute_result",
          "data": {
            "text/plain": [
              "VARIANT_NAME\n",
              "1    75.632511\n",
              "2    24.367489\n",
              "Name: proportion, dtype: float64"
            ],
            "text/html": [
              "<div>\n",
              "<style scoped>\n",
              "    .dataframe tbody tr th:only-of-type {\n",
              "        vertical-align: middle;\n",
              "    }\n",
              "\n",
              "    .dataframe tbody tr th {\n",
              "        vertical-align: top;\n",
              "    }\n",
              "\n",
              "    .dataframe thead th {\n",
              "        text-align: right;\n",
              "    }\n",
              "</style>\n",
              "<table border=\"1\" class=\"dataframe\">\n",
              "  <thead>\n",
              "    <tr style=\"text-align: right;\">\n",
              "      <th></th>\n",
              "      <th>proportion</th>\n",
              "    </tr>\n",
              "    <tr>\n",
              "      <th>VARIANT_NAME</th>\n",
              "      <th></th>\n",
              "    </tr>\n",
              "  </thead>\n",
              "  <tbody>\n",
              "    <tr>\n",
              "      <th>1</th>\n",
              "      <td>75.632511</td>\n",
              "    </tr>\n",
              "    <tr>\n",
              "      <th>2</th>\n",
              "      <td>24.367489</td>\n",
              "    </tr>\n",
              "  </tbody>\n",
              "</table>\n",
              "</div><br><label><b>dtype:</b> float64</label>"
            ]
          },
          "metadata": {},
          "execution_count": 41
        }
      ]
    },
    {
      "cell_type": "markdown",
      "source": [
        "What can you observe ? Should we exclude these users ? Why ?"
      ],
      "metadata": {
        "id": "gyhapbJkkkpM"
      }
    },
    {
      "cell_type": "markdown",
      "source": [
        "Yes exclude them - there is 24% overlap - those people violates the independece of 2 groups and their behavior may be influenced by seeing both versions, leading to biased results."
      ],
      "metadata": {
        "id": "fjEcbQa3TigY"
      }
    },
    {
      "cell_type": "code",
      "source": [
        "# TODO : filter the dataset and only keep users\n",
        "# who are assigned to one A/B test group (either control or variant)\n",
        "# = remove users participated in both groups\n",
        "\n",
        "# Step 1: Calculate the number of unique groups for each user\n",
        "unique_group_counts = df.groupby('USER_ID')['VARIANT_NAME'].nunique()\n",
        "# Step 2: Filter users who are assigned to only one A/B test group\n",
        "single_group_users = unique_group_counts[unique_group_counts == 1].index\n",
        "filtered_df = df[df['USER_ID'].isin(single_group_users)]\n",
        "\n",
        "filtered_df.nunique()"
      ],
      "metadata": {
        "execution": {
          "iopub.status.busy": "2022-09-16T18:23:22.684621Z",
          "iopub.execute_input": "2022-09-16T18:23:22.68523Z",
          "iopub.status.idle": "2022-09-16T18:23:22.704635Z",
          "shell.execute_reply.started": "2022-09-16T18:23:22.685198Z",
          "shell.execute_reply": "2022-09-16T18:23:22.70344Z"
        },
        "trusted": true,
        "id": "MNRylCuikkpM",
        "colab": {
          "base_uri": "https://localhost:8080/",
          "height": 178
        },
        "outputId": "a01d1274-83b2-4f45-941b-2845a2ee6b65"
      },
      "execution_count": 42,
      "outputs": [
        {
          "output_type": "execute_result",
          "data": {
            "text/plain": [
              "USER_ID         4783\n",
              "VARIANT_NAME       2\n",
              "REVENUE           70\n",
              "dtype: int64"
            ],
            "text/html": [
              "<div>\n",
              "<style scoped>\n",
              "    .dataframe tbody tr th:only-of-type {\n",
              "        vertical-align: middle;\n",
              "    }\n",
              "\n",
              "    .dataframe tbody tr th {\n",
              "        vertical-align: top;\n",
              "    }\n",
              "\n",
              "    .dataframe thead th {\n",
              "        text-align: right;\n",
              "    }\n",
              "</style>\n",
              "<table border=\"1\" class=\"dataframe\">\n",
              "  <thead>\n",
              "    <tr style=\"text-align: right;\">\n",
              "      <th></th>\n",
              "      <th>0</th>\n",
              "    </tr>\n",
              "  </thead>\n",
              "  <tbody>\n",
              "    <tr>\n",
              "      <th>USER_ID</th>\n",
              "      <td>4783</td>\n",
              "    </tr>\n",
              "    <tr>\n",
              "      <th>VARIANT_NAME</th>\n",
              "      <td>2</td>\n",
              "    </tr>\n",
              "    <tr>\n",
              "      <th>REVENUE</th>\n",
              "      <td>70</td>\n",
              "    </tr>\n",
              "  </tbody>\n",
              "</table>\n",
              "</div><br><label><b>dtype:</b> int64</label>"
            ]
          },
          "metadata": {},
          "execution_count": 42
        }
      ]
    },
    {
      "cell_type": "code",
      "source": [
        "# TODO : Leave only records with users with the 1st ab test group\n",
        "# TODO : Check that the number of users matches what it was before the exception\n",
        "\n",
        "# Assuming \"control\" is the 1st group (adjust if needed based on your data)\n",
        "first_group = filtered_df['VARIANT_NAME'].unique()[0]  # Get the first unique group name\n",
        "first_group_df = filtered_df[filtered_df['VARIANT_NAME'] == first_group]\n",
        "\n",
        "# Step 4: Check if the number of users matches the expected value before excluding other groups\n",
        "final_user_count = first_group_df['USER_ID'].nunique()\n",
        "\n",
        "print(f\"Number of users in the first group after filtering: {final_user_count}\")"
      ],
      "metadata": {
        "execution": {
          "iopub.status.busy": "2022-09-16T18:23:22.706067Z",
          "iopub.execute_input": "2022-09-16T18:23:22.707214Z",
          "iopub.status.idle": "2022-09-16T18:23:22.721546Z",
          "shell.execute_reply.started": "2022-09-16T18:23:22.70718Z",
          "shell.execute_reply": "2022-09-16T18:23:22.720237Z"
        },
        "trusted": true,
        "id": "4XvAx6ZtkkpM",
        "colab": {
          "base_uri": "https://localhost:8080/"
        },
        "outputId": "a757e049-c5ac-4a83-bdce-2faed321af0c"
      },
      "execution_count": 43,
      "outputs": [
        {
          "output_type": "stream",
          "name": "stdout",
          "text": [
            "Number of users in the first group after filtering: 2393\n"
          ]
        }
      ]
    },
    {
      "cell_type": "markdown",
      "source": [
        "Let's see how the data is distributed"
      ],
      "metadata": {
        "id": "Vpvcse3pkkpM"
      }
    },
    {
      "cell_type": "code",
      "source": [
        "# TODO : Check how the data is distributed using a box plot\n",
        "\n",
        "plt.figure(figsize=(10, 6))\n",
        "sns.boxplot(x='VARIANT_NAME', y='REVENUE', data=df)\n",
        "plt.title('Revenue Distribution Across Different Test Groups')\n",
        "plt.xlabel('Test Group')\n",
        "plt.ylabel('Revenue')\n",
        "plt.show()"
      ],
      "metadata": {
        "execution": {
          "iopub.status.busy": "2022-09-16T18:23:22.722862Z",
          "iopub.execute_input": "2022-09-16T18:23:22.723766Z",
          "iopub.status.idle": "2022-09-16T18:23:22.98119Z",
          "shell.execute_reply.started": "2022-09-16T18:23:22.723732Z",
          "shell.execute_reply": "2022-09-16T18:23:22.980008Z"
        },
        "trusted": true,
        "id": "EW1ZGmsukkpN",
        "colab": {
          "base_uri": "https://localhost:8080/",
          "height": 555
        },
        "outputId": "9df7418e-edb3-424c-ad44-7fa3ee106723"
      },
      "execution_count": 44,
      "outputs": [
        {
          "output_type": "stream",
          "name": "stderr",
          "text": [
            "/usr/local/lib/python3.10/dist-packages/seaborn/categorical.py:640: FutureWarning: SeriesGroupBy.grouper is deprecated and will be removed in a future version of pandas.\n",
            "  positions = grouped.grouper.result_index.to_numpy(dtype=float)\n"
          ]
        },
        {
          "output_type": "display_data",
          "data": {
            "text/plain": [
              "<Figure size 1000x600 with 1 Axes>"
            ],
            "image/png": "[encoded data removed]"
          },
          "metadata": {}
        }
      ]
    },
    {
      "cell_type": "markdown",
      "source": [
        "It can be seen that there is a strong outlier in the data - we will find it by sorting these revenue values in descending order"
      ],
      "metadata": {
        "id": "Hlp3psWykkpN"
      }
    },
    {
      "cell_type": "code",
      "source": [
        "# TODO : Sort these revenue values in descending order\n",
        "\n",
        "sorted_revenue = df.sort_values(by='REVENUE', ascending=False)\n",
        "sorted_revenue.head(10)"
      ],
      "metadata": {
        "execution": {
          "iopub.status.busy": "2022-09-16T18:23:22.986753Z",
          "iopub.execute_input": "2022-09-16T18:23:22.987116Z",
          "iopub.status.idle": "2022-09-16T18:23:23.005356Z",
          "shell.execute_reply.started": "2022-09-16T18:23:22.987087Z",
          "shell.execute_reply": "2022-09-16T18:23:23.004381Z"
        },
        "trusted": true,
        "id": "9O6xaJmOkkpN",
        "colab": {
          "base_uri": "https://localhost:8080/",
          "height": 363
        },
        "outputId": "0b586eaf-983c-43aa-ad3e-99010ec94023"
      },
      "execution_count": 45,
      "outputs": [
        {
          "output_type": "execute_result",
          "data": {
            "text/plain": [
              "      USER_ID VARIANT_NAME  REVENUE\n",
              "1437     3342      control   196.01\n",
              "6447     2881      variant    58.63\n",
              "7642     7206      variant    57.46\n",
              "9421     6792      control    41.53\n",
              "8168     2166      control    29.32\n",
              "9125      831      control    25.98\n",
              "2482     7356      variant    23.04\n",
              "6412     1053      control    20.07\n",
              "5217     3684      variant    19.47\n",
              "5530      282      control    18.56"
            ],
            "text/html": [
              "\n",
              "  <div id=\"df-a0c8fc55-f333-4fd4-915a-ea09f3fe29c8\" class=\"colab-df-container\">\n",
              "    <div>\n",
              "<style scoped>\n",
              "    .dataframe tbody tr th:only-of-type {\n",
              "        vertical-align: middle;\n",
              "    }\n",
              "\n",
              "    .dataframe tbody tr th {\n",
              "        vertical-align: top;\n",
              "    }\n",
              "\n",
              "    .dataframe thead th {\n",
              "        text-align: right;\n",
              "    }\n",
              "</style>\n",
              "<table border=\"1\" class=\"dataframe\">\n",
              "  <thead>\n",
              "    <tr style=\"text-align: right;\">\n",
              "      <th></th>\n",
              "      <th>USER_ID</th>\n",
              "      <th>VARIANT_NAME</th>\n",
              "      <th>REVENUE</th>\n",
              "    </tr>\n",
              "  </thead>\n",
              "  <tbody>\n",
              "    <tr>\n",
              "      <th>1437</th>\n",
              "      <td>3342</td>\n",
              "      <td>control</td>\n",
              "      <td>196.01</td>\n",
              "    </tr>\n",
              "    <tr>\n",
              "      <th>6447</th>\n",
              "      <td>2881</td>\n",
              "      <td>variant</td>\n",
              "      <td>58.63</td>\n",
              "    </tr>\n",
              "    <tr>\n",
              "      <th>7642</th>\n",
              "      <td>7206</td>\n",
              "      <td>variant</td>\n",
              "      <td>57.46</td>\n",
              "    </tr>\n",
              "    <tr>\n",
              "      <th>9421</th>\n",
              "      <td>6792</td>\n",
              "      <td>control</td>\n",
              "      <td>41.53</td>\n",
              "    </tr>\n",
              "    <tr>\n",
              "      <th>8168</th>\n",
              "      <td>2166</td>\n",
              "      <td>control</td>\n",
              "      <td>29.32</td>\n",
              "    </tr>\n",
              "    <tr>\n",
              "      <th>9125</th>\n",
              "      <td>831</td>\n",
              "      <td>control</td>\n",
              "      <td>25.98</td>\n",
              "    </tr>\n",
              "    <tr>\n",
              "      <th>2482</th>\n",
              "      <td>7356</td>\n",
              "      <td>variant</td>\n",
              "      <td>23.04</td>\n",
              "    </tr>\n",
              "    <tr>\n",
              "      <th>6412</th>\n",
              "      <td>1053</td>\n",
              "      <td>control</td>\n",
              "      <td>20.07</td>\n",
              "    </tr>\n",
              "    <tr>\n",
              "      <th>5217</th>\n",
              "      <td>3684</td>\n",
              "      <td>variant</td>\n",
              "      <td>19.47</td>\n",
              "    </tr>\n",
              "    <tr>\n",
              "      <th>5530</th>\n",
              "      <td>282</td>\n",
              "      <td>control</td>\n",
              "      <td>18.56</td>\n",
              "    </tr>\n",
              "  </tbody>\n",
              "</table>\n",
              "</div>\n",
              "    <div class=\"colab-df-buttons\">\n",
              "\n",
              "  <div class=\"colab-df-container\">\n",
              "    <button class=\"colab-df-convert\" onclick=\"convertToInteractive('df-a0c8fc55-f333-4fd4-915a-ea09f3fe29c8')\"\n",
              "            title=\"Convert this dataframe to an interactive table.\"\n",
              "            style=\"display:none;\">\n",
              "\n",
              "  <svg xmlns=\"http://www.w3.org/2000/svg\" height=\"24px\" viewBox=\"0 -960 960 960\">\n",
              "    <path d=\"M120-120v-720h720v720H120Zm60-500h600v-160H180v160Zm220 220h160v-160H400v160Zm0 220h160v-160H400v160ZM180-400h160v-160H180v160Zm440 0h160v-160H620v160ZM180-180h160v-160H180v160Zm440 0h160v-160H620v160Z\"/>\n",
              "  </svg>\n",
              "    </button>\n",
              "\n",
              "  <style>\n",
              "    .colab-df-container {\n",
              "      display:flex;\n",
              "      gap: 12px;\n",
              "    }\n",
              "\n",
              "    .colab-df-convert {\n",
              "      background-color: #E8F0FE;\n",
              "      border: none;\n",
              "      border-radius: 50%;\n",
              "      cursor: pointer;\n",
              "      display: none;\n",
              "      fill: #1967D2;\n",
              "      height: 32px;\n",
              "      padding: 0 0 0 0;\n",
              "      width: 32px;\n",
              "    }\n",
              "\n",
              "    .colab-df-convert:hover {\n",
              "      background-color: #E2EBFA;\n",
              "      box-shadow: 0px 1px 2px rgba(60, 64, 67, 0.3), 0px 1px 3px 1px rgba(60, 64, 67, 0.15);\n",
              "      fill: #174EA6;\n",
              "    }\n",
              "\n",
              "    .colab-df-buttons div {\n",
              "      margin-bottom: 4px;\n",
              "    }\n",
              "\n",
              "    [theme=dark] .colab-df-convert {\n",
              "      background-color: #3B4455;\n",
              "      fill: #D2E3FC;\n",
              "    }\n",
              "\n",
              "    [theme=dark] .colab-df-convert:hover {\n",
              "      background-color: #434B5C;\n",
              "      box-shadow: 0px 1px 3px 1px rgba(0, 0, 0, 0.15);\n",
              "      filter: drop-shadow(0px 1px 2px rgba(0, 0, 0, 0.3));\n",
              "      fill: #FFFFFF;\n",
              "    }\n",
              "  </style>\n",
              "\n",
              "    <script>\n",
              "      const buttonEl =\n",
              "        document.querySelector('#df-a0c8fc55-f333-4fd4-915a-ea09f3fe29c8 button.colab-df-convert');\n",
              "      buttonEl.style.display =\n",
              "        google.colab.kernel.accessAllowed ? 'block' : 'none';\n",
              "\n",
              "      async function convertToInteractive(key) {\n",
              "        const element = document.querySelector('#df-a0c8fc55-f333-4fd4-915a-ea09f3fe29c8');\n",
              "        const dataTable =\n",
              "          await google.colab.kernel.invokeFunction('convertToInteractive',\n",
              "                                                    [key], {});\n",
              "        if (!dataTable) return;\n",
              "\n",
              "        const docLinkHtml = 'Like what you see? Visit the ' +\n",
              "          '<a target=\"_blank\" href=https://colab.research.google.com/notebooks/data_table.ipynb>data table notebook</a>'\n",
              "          + ' to learn more about interactive tables.';\n",
              "        element.innerHTML = '';\n",
              "        dataTable['output_type'] = 'display_data';\n",
              "        await google.colab.output.renderOutput(dataTable, element);\n",
              "        const docLink = document.createElement('div');\n",
              "        docLink.innerHTML = docLinkHtml;\n",
              "        element.appendChild(docLink);\n",
              "      }\n",
              "    </script>\n",
              "  </div>\n",
              "\n",
              "\n",
              "<div id=\"df-5085ae65-52b4-4fa3-bdf2-ccc333e10d4e\">\n",
              "  <button class=\"colab-df-quickchart\" onclick=\"quickchart('df-5085ae65-52b4-4fa3-bdf2-ccc333e10d4e')\"\n",
              "            title=\"Suggest charts\"\n",
              "            style=\"display:none;\">\n",
              "\n",
              "<svg xmlns=\"http://www.w3.org/2000/svg\" height=\"24px\"viewBox=\"0 0 24 24\"\n",
              "     width=\"24px\">\n",
              "    <g>\n",
              "        <path d=\"M19 3H5c-1.1 0-2 .9-2 2v14c0 1.1.9 2 2 2h14c1.1 0 2-.9 2-2V5c0-1.1-.9-2-2-2zM9 17H7v-7h2v7zm4 0h-2V7h2v10zm4 0h-2v-4h2v4z\"/>\n",
              "    </g>\n",
              "</svg>\n",
              "  </button>\n",
              "\n",
              "<style>\n",
              "  .colab-df-quickchart {\n",
              "      --bg-color: #E8F0FE;\n",
              "      --fill-color: #1967D2;\n",
              "      --hover-bg-color: #E2EBFA;\n",
              "      --hover-fill-color: #174EA6;\n",
              "      --disabled-fill-color: #AAA;\n",
              "      --disabled-bg-color: #DDD;\n",
              "  }\n",
              "\n",
              "  [theme=dark] .colab-df-quickchart {\n",
              "      --bg-color: #3B4455;\n",
              "      --fill-color: #D2E3FC;\n",
              "      --hover-bg-color: #434B5C;\n",
              "      --hover-fill-color: #FFFFFF;\n",
              "      --disabled-bg-color: #3B4455;\n",
              "      --disabled-fill-color: #666;\n",
              "  }\n",
              "\n",
              "  .colab-df-quickchart {\n",
              "    background-color: var(--bg-color);\n",
              "    border: none;\n",
              "    border-radius: 50%;\n",
              "    cursor: pointer;\n",
              "    display: none;\n",
              "    fill: var(--fill-color);\n",
              "    height: 32px;\n",
              "    padding: 0;\n",
              "    width: 32px;\n",
              "  }\n",
              "\n",
              "  .colab-df-quickchart:hover {\n",
              "    background-color: var(--hover-bg-color);\n",
              "    box-shadow: 0 1px 2px rgba(60, 64, 67, 0.3), 0 1px 3px 1px rgba(60, 64, 67, 0.15);\n",
              "    fill: var(--button-hover-fill-color);\n",
              "  }\n",
              "\n",
              "  .colab-df-quickchart-complete:disabled,\n",
              "  .colab-df-quickchart-complete:disabled:hover {\n",
              "    background-color: var(--disabled-bg-color);\n",
              "    fill: var(--disabled-fill-color);\n",
              "    box-shadow: none;\n",
              "  }\n",
              "\n",
              "  .colab-df-spinner {\n",
              "    border: 2px solid var(--fill-color);\n",
              "    border-color: transparent;\n",
              "    border-bottom-color: var(--fill-color);\n",
              "    animation:\n",
              "      spin 1s steps(1) infinite;\n",
              "  }\n",
              "\n",
              "  @keyframes spin {\n",
              "    0% {\n",
              "      border-color: transparent;\n",
              "      border-bottom-color: var(--fill-color);\n",
              "      border-left-color: var(--fill-color);\n",
              "    }\n",
              "    20% {\n",
              "      border-color: transparent;\n",
              "      border-left-color: var(--fill-color);\n",
              "      border-top-color: var(--fill-color);\n",
              "    }\n",
              "    30% {\n",
              "      border-color: transparent;\n",
              "      border-left-color: var(--fill-color);\n",
              "      border-top-color: var(--fill-color);\n",
              "      border-right-color: var(--fill-color);\n",
              "    }\n",
              "    40% {\n",
              "      border-color: transparent;\n",
              "      border-right-color: var(--fill-color);\n",
              "      border-top-color: var(--fill-color);\n",
              "    }\n",
              "    60% {\n",
              "      border-color: transparent;\n",
              "      border-right-color: var(--fill-color);\n",
              "    }\n",
              "    80% {\n",
              "      border-color: transparent;\n",
              "      border-right-color: var(--fill-color);\n",
              "      border-bottom-color: var(--fill-color);\n",
              "    }\n",
              "    90% {\n",
              "      border-color: transparent;\n",
              "      border-bottom-color: var(--fill-color);\n",
              "    }\n",
              "  }\n",
              "</style>\n",
              "\n",
              "  <script>\n",
              "    async function quickchart(key) {\n",
              "      const quickchartButtonEl =\n",
              "        document.querySelector('#' + key + ' button');\n",
              "      quickchartButtonEl.disabled = true;  // To prevent multiple clicks.\n",
              "      quickchartButtonEl.classList.add('colab-df-spinner');\n",
              "      try {\n",
              "        const charts = await google.colab.kernel.invokeFunction(\n",
              "            'suggestCharts', [key], {});\n",
              "      } catch (error) {\n",
              "        console.error('Error during call to suggestCharts:', error);\n",
              "      }\n",
              "      quickchartButtonEl.classList.remove('colab-df-spinner');\n",
              "      quickchartButtonEl.classList.add('colab-df-quickchart-complete');\n",
              "    }\n",
              "    (() => {\n",
              "      let quickchartButtonEl =\n",
              "        document.querySelector('#df-5085ae65-52b4-4fa3-bdf2-ccc333e10d4e button');\n",
              "      quickchartButtonEl.style.display =\n",
              "        google.colab.kernel.accessAllowed ? 'block' : 'none';\n",
              "    })();\n",
              "  </script>\n",
              "</div>\n",
              "    </div>\n",
              "  </div>\n"
            ],
            "application/vnd.google.colaboratory.intrinsic+json": {
              "type": "dataframe",
              "variable_name": "sorted_revenue",
              "summary": "{\n  \"name\": \"sorted_revenue\",\n  \"rows\": 10000,\n  \"fields\": [\n    {\n      \"column\": \"USER_ID\",\n      \"properties\": {\n        \"dtype\": \"number\",\n        \"std\": 2890,\n        \"min\": 2,\n        \"max\": 10000,\n        \"num_unique_values\": 6324,\n        \"samples\": [\n          9737,\n          4390,\n          1242\n        ],\n        \"semantic_type\": \"\",\n        \"description\": \"\"\n      }\n    },\n    {\n      \"column\": \"VARIANT_NAME\",\n      \"properties\": {\n        \"dtype\": \"category\",\n        \"num_unique_values\": 2,\n        \"samples\": [\n          \"variant\",\n          \"control\"\n        ],\n        \"semantic_type\": \"\",\n        \"description\": \"\"\n      }\n    },\n    {\n      \"column\": \"REVENUE\",\n      \"properties\": {\n        \"dtype\": \"number\",\n        \"std\": 2.318528654493299,\n        \"min\": 0.0,\n        \"max\": 196.01,\n        \"num_unique_values\": 101,\n        \"samples\": [\n          1.29,\n          2.72\n        ],\n        \"semantic_type\": \"\",\n        \"description\": \"\"\n      }\n    }\n  ]\n}"
            }
          },
          "metadata": {},
          "execution_count": 45
        }
      ]
    },
    {
      "cell_type": "code",
      "source": [
        "# TODO : See if user with ID 3342 had other events with a strong outlier\n",
        "\n",
        "# I don't understand this task - this user only has one value for revenue, what other outliers could he have?"
      ],
      "metadata": {
        "execution": {
          "iopub.status.busy": "2022-09-16T18:23:23.009204Z",
          "iopub.execute_input": "2022-09-16T18:23:23.009563Z",
          "iopub.status.idle": "2022-09-16T18:23:23.022364Z",
          "shell.execute_reply.started": "2022-09-16T18:23:23.009514Z",
          "shell.execute_reply": "2022-09-16T18:23:23.020814Z"
        },
        "trusted": true,
        "id": "zzX8JJiIkkpN"
      },
      "execution_count": 46,
      "outputs": []
    },
    {
      "cell_type": "markdown",
      "source": [
        "We see that there is only one outlier - in conditions of limited information, we will remove this entry and look at the distribution of data again"
      ],
      "metadata": {
        "id": "rvfqeZW6kkpN"
      }
    },
    {
      "cell_type": "code",
      "source": [
        "# TODO : We see that there is only one outlier - in conditions of limited information, remove this entry and visualize the distribution of data again.\n",
        "\n",
        "# Creates a new DataFrame excluding all rows where USER_ID is 3342.\n",
        "filtered_df = df[df['USER_ID'] != 3342]\n",
        "\n",
        "plt.figure(figsize=(10, 6))\n",
        "sns.boxplot(x='VARIANT_NAME', y='REVENUE', data=filtered_df, palette='Set2')\n",
        "plt.title('Revenue Distribution Across Different Test Groups (After Outlier Removal)')\n",
        "plt.xlabel('Test Group')\n",
        "plt.ylabel('Revenue')\n",
        "plt.show()"
      ],
      "metadata": {
        "execution": {
          "iopub.status.busy": "2022-09-16T18:23:23.024282Z",
          "iopub.execute_input": "2022-09-16T18:23:23.024763Z",
          "iopub.status.idle": "2022-09-16T18:23:23.031917Z",
          "shell.execute_reply.started": "2022-09-16T18:23:23.024711Z",
          "shell.execute_reply": "2022-09-16T18:23:23.030566Z"
        },
        "trusted": true,
        "id": "9VHXOhaVkkpO",
        "colab": {
          "base_uri": "https://localhost:8080/",
          "height": 761
        },
        "outputId": "e3a88490-be74-4726-bfe4-48eb72c3f432"
      },
      "execution_count": 47,
      "outputs": [
        {
          "output_type": "stream",
          "name": "stderr",
          "text": [
            "<ipython-input-47-9e8a5a105090>:7: FutureWarning: \n",
            "\n",
            "Passing `palette` without assigning `hue` is deprecated and will be removed in v0.14.0. Assign the `x` variable to `hue` and set `legend=False` for the same effect.\n",
            "\n",
            "  sns.boxplot(x='VARIANT_NAME', y='REVENUE', data=filtered_df, palette='Set2')\n",
            "/usr/local/lib/python3.10/dist-packages/seaborn/_base.py:949: FutureWarning: When grouping with a length-1 list-like, you will need to pass a length-1 tuple to get_group in a future version of pandas. Pass `(name,)` instead of `name` to silence this warning.\n",
            "  data_subset = grouped_data.get_group(pd_key)\n",
            "/usr/local/lib/python3.10/dist-packages/seaborn/categorical.py:640: FutureWarning: SeriesGroupBy.grouper is deprecated and will be removed in a future version of pandas.\n",
            "  positions = grouped.grouper.result_index.to_numpy(dtype=float)\n",
            "/usr/local/lib/python3.10/dist-packages/seaborn/_base.py:949: FutureWarning: When grouping with a length-1 list-like, you will need to pass a length-1 tuple to get_group in a future version of pandas. Pass `(name,)` instead of `name` to silence this warning.\n",
            "  data_subset = grouped_data.get_group(pd_key)\n",
            "/usr/local/lib/python3.10/dist-packages/seaborn/categorical.py:640: FutureWarning: SeriesGroupBy.grouper is deprecated and will be removed in a future version of pandas.\n",
            "  positions = grouped.grouper.result_index.to_numpy(dtype=float)\n"
          ]
        },
        {
          "output_type": "display_data",
          "data": {
            "text/plain": [
              "<Figure size 1000x600 with 1 Axes>"
            ],
            "image/png": "[encoded data removed]"
          },
          "metadata": {}
        }
      ]
    },
    {
      "cell_type": "markdown",
      "source": [
        "\n",
        "What can you say about the users and their purchases ?"
      ],
      "metadata": {
        "id": "r8pN_6oekkpO"
      }
    },
    {
      "cell_type": "code",
      "source": [
        "# TODO : Check if there are users who have records with zero and positive revenue\n",
        "\n",
        "# Step 1: Group by 'USER_ID' and check if users have both zero and positive revenue values\n",
        "mixed_revenue_users = df.groupby('USER_ID')['REVENUE'].apply(lambda x: (0 in x.values) and (x.max() > 0))\n",
        "\n",
        "# Step 2: Filter the users who have both zero and positive revenue values\n",
        "users_with_mixed_revenue = mixed_revenue_users[mixed_revenue_users].index\n",
        "\n",
        "# Step 3: Display the list of these users\n",
        "print(f\"Users with both zero and positive revenue records: {list(users_with_mixed_revenue)}\")\n",
        "\n",
        "# Step 4: Display the count of these users\n",
        "print(f\"Number of users with both zero and positive revenue: {len(users_with_mixed_revenue)}\")"
      ],
      "metadata": {
        "execution": {
          "iopub.status.busy": "2022-09-16T18:23:23.396475Z",
          "iopub.execute_input": "2022-09-16T18:23:23.397266Z",
          "iopub.status.idle": "2022-09-16T18:23:23.4091Z",
          "shell.execute_reply.started": "2022-09-16T18:23:23.397231Z",
          "shell.execute_reply": "2022-09-16T18:23:23.407843Z"
        },
        "trusted": true,
        "id": "VZ3v8TeekkpO",
        "colab": {
          "base_uri": "https://localhost:8080/"
        },
        "outputId": "c649a104-45e7-42c2-82f4-c265b04d1a8b"
      },
      "execution_count": 48,
      "outputs": [
        {
          "output_type": "stream",
          "name": "stdout",
          "text": [
            "Users with both zero and positive revenue records: [124, 169, 282, 403, 443, 487, 618, 701, 702, 708, 828, 831, 839, 868, 1035, 1053, 1106, 1252, 1254, 1339, 1883, 1939, 2166, 2181, 2182, 2252, 2364, 2489, 2529, 2767, 2881, 3028, 3198, 3326, 3331, 3566, 3699, 3797, 4113, 4209, 4724, 4858, 4870, 4918, 5046, 5053, 5134, 5205, 5270, 5461, 5597, 5769, 5845, 5900, 6207, 6214, 6271, 6391, 6429, 6430, 6492, 6497, 6614, 6678, 6792, 7206, 7238, 7358, 7613, 7915, 7930, 8020, 8175, 8471, 8479, 8536, 8583, 8700, 8863, 8886, 8920, 8927, 8984, 9150, 9526, 9661, 9669, 9766, 9928, 9942, 9996]\n",
            "Number of users with both zero and positive revenue: 91\n"
          ]
        }
      ]
    },
    {
      "cell_type": "markdown",
      "source": [
        "Can a user have records with both zero and positive revenue ?\n",
        "\n",
        "Let's make the assumption that the records are user visits to the service, and the experimental unit is users.\n"
      ],
      "metadata": {
        "id": "u_G7PRphkkpO"
      }
    },
    {
      "cell_type": "code",
      "source": [
        "# TODO : Group the data for each user and sum the revenue for each to get one record per user\n",
        "# My explanation of the task: group the data by each user (USER_ID) and sum up the total revenue for each user, resulting in a single record per user. This is based on the assumption that each record currently represents a user’s visit to the service (e.g., viewing the website or making a purchase), but the experimental unit we want to analyze is at the user level rather than the visit level.\n",
        "\n",
        "#After this aggregation, we will have a new dataset where each row corresponds to a single user with their total revenue value.\n",
        "# This makes it easier to perform user-level comparisons between test groups.\n",
        "\n",
        "#vGroup by 'USER_ID' and sum the 'REVENUE' for each user\n",
        "user_level_data = df.groupby('USER_ID').agg(\n",
        "    total_revenue=('REVENUE', 'sum'),   # Sum up the revenue for each user\n",
        "    variant_group=('VARIANT_NAME', 'first')  # Keep the group each user belongs to (assuming no duplicates)\n",
        ").reset_index()\n",
        "\n",
        "user_level_data.head()"
      ],
      "metadata": {
        "execution": {
          "iopub.status.busy": "2022-09-16T18:23:23.410519Z",
          "iopub.execute_input": "2022-09-16T18:23:23.411317Z",
          "iopub.status.idle": "2022-09-16T18:23:23.425157Z",
          "shell.execute_reply.started": "2022-09-16T18:23:23.411275Z",
          "shell.execute_reply": "2022-09-16T18:23:23.423982Z"
        },
        "trusted": true,
        "id": "R5GdAtTXkkpP",
        "colab": {
          "base_uri": "https://localhost:8080/",
          "height": 206
        },
        "outputId": "22ade67f-91b1-452b-d5de-cddb95a93e44"
      },
      "execution_count": 49,
      "outputs": [
        {
          "output_type": "execute_result",
          "data": {
            "text/plain": [
              "   USER_ID  total_revenue variant_group\n",
              "0        2            0.0       control\n",
              "1        3            0.0       variant\n",
              "2        4            0.0       variant\n",
              "3        5            0.0       variant\n",
              "4        6            0.0       variant"
            ],
            "text/html": [
              "\n",
              "  <div id=\"df-d082d1d3-1567-4166-9d66-c123d040cd2a\" class=\"colab-df-container\">\n",
              "    <div>\n",
              "<style scoped>\n",
              "    .dataframe tbody tr th:only-of-type {\n",
              "        vertical-align: middle;\n",
              "    }\n",
              "\n",
              "    .dataframe tbody tr th {\n",
              "        vertical-align: top;\n",
              "    }\n",
              "\n",
              "    .dataframe thead th {\n",
              "        text-align: right;\n",
              "    }\n",
              "</style>\n",
              "<table border=\"1\" class=\"dataframe\">\n",
              "  <thead>\n",
              "    <tr style=\"text-align: right;\">\n",
              "      <th></th>\n",
              "      <th>USER_ID</th>\n",
              "      <th>total_revenue</th>\n",
              "      <th>variant_group</th>\n",
              "    </tr>\n",
              "  </thead>\n",
              "  <tbody>\n",
              "    <tr>\n",
              "      <th>0</th>\n",
              "      <td>2</td>\n",
              "      <td>0.0</td>\n",
              "      <td>control</td>\n",
              "    </tr>\n",
              "    <tr>\n",
              "      <th>1</th>\n",
              "      <td>3</td>\n",
              "      <td>0.0</td>\n",
              "      <td>variant</td>\n",
              "    </tr>\n",
              "    <tr>\n",
              "      <th>2</th>\n",
              "      <td>4</td>\n",
              "      <td>0.0</td>\n",
              "      <td>variant</td>\n",
              "    </tr>\n",
              "    <tr>\n",
              "      <th>3</th>\n",
              "      <td>5</td>\n",
              "      <td>0.0</td>\n",
              "      <td>variant</td>\n",
              "    </tr>\n",
              "    <tr>\n",
              "      <th>4</th>\n",
              "      <td>6</td>\n",
              "      <td>0.0</td>\n",
              "      <td>variant</td>\n",
              "    </tr>\n",
              "  </tbody>\n",
              "</table>\n",
              "</div>\n",
              "    <div class=\"colab-df-buttons\">\n",
              "\n",
              "  <div class=\"colab-df-container\">\n",
              "    <button class=\"colab-df-convert\" onclick=\"convertToInteractive('df-d082d1d3-1567-4166-9d66-c123d040cd2a')\"\n",
              "            title=\"Convert this dataframe to an interactive table.\"\n",
              "            style=\"display:none;\">\n",
              "\n",
              "  <svg xmlns=\"http://www.w3.org/2000/svg\" height=\"24px\" viewBox=\"0 -960 960 960\">\n",
              "    <path d=\"M120-120v-720h720v720H120Zm60-500h600v-160H180v160Zm220 220h160v-160H400v160Zm0 220h160v-160H400v160ZM180-400h160v-160H180v160Zm440 0h160v-160H620v160ZM180-180h160v-160H180v160Zm440 0h160v-160H620v160Z\"/>\n",
              "  </svg>\n",
              "    </button>\n",
              "\n",
              "  <style>\n",
              "    .colab-df-container {\n",
              "      display:flex;\n",
              "      gap: 12px;\n",
              "    }\n",
              "\n",
              "    .colab-df-convert {\n",
              "      background-color: #E8F0FE;\n",
              "      border: none;\n",
              "      border-radius: 50%;\n",
              "      cursor: pointer;\n",
              "      display: none;\n",
              "      fill: #1967D2;\n",
              "      height: 32px;\n",
              "      padding: 0 0 0 0;\n",
              "      width: 32px;\n",
              "    }\n",
              "\n",
              "    .colab-df-convert:hover {\n",
              "      background-color: #E2EBFA;\n",
              "      box-shadow: 0px 1px 2px rgba(60, 64, 67, 0.3), 0px 1px 3px 1px rgba(60, 64, 67, 0.15);\n",
              "      fill: #174EA6;\n",
              "    }\n",
              "\n",
              "    .colab-df-buttons div {\n",
              "      margin-bottom: 4px;\n",
              "    }\n",
              "\n",
              "    [theme=dark] .colab-df-convert {\n",
              "      background-color: #3B4455;\n",
              "      fill: #D2E3FC;\n",
              "    }\n",
              "\n",
              "    [theme=dark] .colab-df-convert:hover {\n",
              "      background-color: #434B5C;\n",
              "      box-shadow: 0px 1px 3px 1px rgba(0, 0, 0, 0.15);\n",
              "      filter: drop-shadow(0px 1px 2px rgba(0, 0, 0, 0.3));\n",
              "      fill: #FFFFFF;\n",
              "    }\n",
              "  </style>\n",
              "\n",
              "    <script>\n",
              "      const buttonEl =\n",
              "        document.querySelector('#df-d082d1d3-1567-4166-9d66-c123d040cd2a button.colab-df-convert');\n",
              "      buttonEl.style.display =\n",
              "        google.colab.kernel.accessAllowed ? 'block' : 'none';\n",
              "\n",
              "      async function convertToInteractive(key) {\n",
              "        const element = document.querySelector('#df-d082d1d3-1567-4166-9d66-c123d040cd2a');\n",
              "        const dataTable =\n",
              "          await google.colab.kernel.invokeFunction('convertToInteractive',\n",
              "                                                    [key], {});\n",
              "        if (!dataTable) return;\n",
              "\n",
              "        const docLinkHtml = 'Like what you see? Visit the ' +\n",
              "          '<a target=\"_blank\" href=https://colab.research.google.com/notebooks/data_table.ipynb>data table notebook</a>'\n",
              "          + ' to learn more about interactive tables.';\n",
              "        element.innerHTML = '';\n",
              "        dataTable['output_type'] = 'display_data';\n",
              "        await google.colab.output.renderOutput(dataTable, element);\n",
              "        const docLink = document.createElement('div');\n",
              "        docLink.innerHTML = docLinkHtml;\n",
              "        element.appendChild(docLink);\n",
              "      }\n",
              "    </script>\n",
              "  </div>\n",
              "\n",
              "\n",
              "<div id=\"df-640b3736-3c66-4810-bbe7-08cfbc8576d2\">\n",
              "  <button class=\"colab-df-quickchart\" onclick=\"quickchart('df-640b3736-3c66-4810-bbe7-08cfbc8576d2')\"\n",
              "            title=\"Suggest charts\"\n",
              "            style=\"display:none;\">\n",
              "\n",
              "<svg xmlns=\"http://www.w3.org/2000/svg\" height=\"24px\"viewBox=\"0 0 24 24\"\n",
              "     width=\"24px\">\n",
              "    <g>\n",
              "        <path d=\"M19 3H5c-1.1 0-2 .9-2 2v14c0 1.1.9 2 2 2h14c1.1 0 2-.9 2-2V5c0-1.1-.9-2-2-2zM9 17H7v-7h2v7zm4 0h-2V7h2v10zm4 0h-2v-4h2v4z\"/>\n",
              "    </g>\n",
              "</svg>\n",
              "  </button>\n",
              "\n",
              "<style>\n",
              "  .colab-df-quickchart {\n",
              "      --bg-color: #E8F0FE;\n",
              "      --fill-color: #1967D2;\n",
              "      --hover-bg-color: #E2EBFA;\n",
              "      --hover-fill-color: #174EA6;\n",
              "      --disabled-fill-color: #AAA;\n",
              "      --disabled-bg-color: #DDD;\n",
              "  }\n",
              "\n",
              "  [theme=dark] .colab-df-quickchart {\n",
              "      --bg-color: #3B4455;\n",
              "      --fill-color: #D2E3FC;\n",
              "      --hover-bg-color: #434B5C;\n",
              "      --hover-fill-color: #FFFFFF;\n",
              "      --disabled-bg-color: #3B4455;\n",
              "      --disabled-fill-color: #666;\n",
              "  }\n",
              "\n",
              "  .colab-df-quickchart {\n",
              "    background-color: var(--bg-color);\n",
              "    border: none;\n",
              "    border-radius: 50%;\n",
              "    cursor: pointer;\n",
              "    display: none;\n",
              "    fill: var(--fill-color);\n",
              "    height: 32px;\n",
              "    padding: 0;\n",
              "    width: 32px;\n",
              "  }\n",
              "\n",
              "  .colab-df-quickchart:hover {\n",
              "    background-color: var(--hover-bg-color);\n",
              "    box-shadow: 0 1px 2px rgba(60, 64, 67, 0.3), 0 1px 3px 1px rgba(60, 64, 67, 0.15);\n",
              "    fill: var(--button-hover-fill-color);\n",
              "  }\n",
              "\n",
              "  .colab-df-quickchart-complete:disabled,\n",
              "  .colab-df-quickchart-complete:disabled:hover {\n",
              "    background-color: var(--disabled-bg-color);\n",
              "    fill: var(--disabled-fill-color);\n",
              "    box-shadow: none;\n",
              "  }\n",
              "\n",
              "  .colab-df-spinner {\n",
              "    border: 2px solid var(--fill-color);\n",
              "    border-color: transparent;\n",
              "    border-bottom-color: var(--fill-color);\n",
              "    animation:\n",
              "      spin 1s steps(1) infinite;\n",
              "  }\n",
              "\n",
              "  @keyframes spin {\n",
              "    0% {\n",
              "      border-color: transparent;\n",
              "      border-bottom-color: var(--fill-color);\n",
              "      border-left-color: var(--fill-color);\n",
              "    }\n",
              "    20% {\n",
              "      border-color: transparent;\n",
              "      border-left-color: var(--fill-color);\n",
              "      border-top-color: var(--fill-color);\n",
              "    }\n",
              "    30% {\n",
              "      border-color: transparent;\n",
              "      border-left-color: var(--fill-color);\n",
              "      border-top-color: var(--fill-color);\n",
              "      border-right-color: var(--fill-color);\n",
              "    }\n",
              "    40% {\n",
              "      border-color: transparent;\n",
              "      border-right-color: var(--fill-color);\n",
              "      border-top-color: var(--fill-color);\n",
              "    }\n",
              "    60% {\n",
              "      border-color: transparent;\n",
              "      border-right-color: var(--fill-color);\n",
              "    }\n",
              "    80% {\n",
              "      border-color: transparent;\n",
              "      border-right-color: var(--fill-color);\n",
              "      border-bottom-color: var(--fill-color);\n",
              "    }\n",
              "    90% {\n",
              "      border-color: transparent;\n",
              "      border-bottom-color: var(--fill-color);\n",
              "    }\n",
              "  }\n",
              "</style>\n",
              "\n",
              "  <script>\n",
              "    async function quickchart(key) {\n",
              "      const quickchartButtonEl =\n",
              "        document.querySelector('#' + key + ' button');\n",
              "      quickchartButtonEl.disabled = true;  // To prevent multiple clicks.\n",
              "      quickchartButtonEl.classList.add('colab-df-spinner');\n",
              "      try {\n",
              "        const charts = await google.colab.kernel.invokeFunction(\n",
              "            'suggestCharts', [key], {});\n",
              "      } catch (error) {\n",
              "        console.error('Error during call to suggestCharts:', error);\n",
              "      }\n",
              "      quickchartButtonEl.classList.remove('colab-df-spinner');\n",
              "      quickchartButtonEl.classList.add('colab-df-quickchart-complete');\n",
              "    }\n",
              "    (() => {\n",
              "      let quickchartButtonEl =\n",
              "        document.querySelector('#df-640b3736-3c66-4810-bbe7-08cfbc8576d2 button');\n",
              "      quickchartButtonEl.style.display =\n",
              "        google.colab.kernel.accessAllowed ? 'block' : 'none';\n",
              "    })();\n",
              "  </script>\n",
              "</div>\n",
              "    </div>\n",
              "  </div>\n"
            ],
            "application/vnd.google.colaboratory.intrinsic+json": {
              "type": "dataframe",
              "variable_name": "user_level_data",
              "summary": "{\n  \"name\": \"user_level_data\",\n  \"rows\": 6324,\n  \"fields\": [\n    {\n      \"column\": \"USER_ID\",\n      \"properties\": {\n        \"dtype\": \"number\",\n        \"std\": 2893,\n        \"min\": 2,\n        \"max\": 10000,\n        \"num_unique_values\": 6324,\n        \"samples\": [\n          4858,\n          320,\n          6198\n        ],\n        \"semantic_type\": \"\",\n        \"description\": \"\"\n      }\n    },\n    {\n      \"column\": \"total_revenue\",\n      \"properties\": {\n        \"dtype\": \"number\",\n        \"std\": 2.9142806366237104,\n        \"min\": 0.0,\n        \"max\": 196.01,\n        \"num_unique_values\": 103,\n        \"samples\": [\n          14.24,\n          6.35,\n          0.5\n        ],\n        \"semantic_type\": \"\",\n        \"description\": \"\"\n      }\n    },\n    {\n      \"column\": \"variant_group\",\n      \"properties\": {\n        \"dtype\": \"category\",\n        \"num_unique_values\": 2,\n        \"samples\": [\n          \"variant\",\n          \"control\"\n        ],\n        \"semantic_type\": \"\",\n        \"description\": \"\"\n      }\n    }\n  ]\n}"
            }
          },
          "metadata": {},
          "execution_count": 49
        }
      ]
    },
    {
      "cell_type": "code",
      "source": [
        "# TODO : Visualize the resulting distribution of the data again.\n",
        "\n",
        "plt.figure(figsize=(12, 6))\n",
        "sns.boxplot(x='variant_group', y='total_revenue', data=user_level_data, palette='Set2')\n",
        "plt.title('Total Revenue Distribution Across Variant Groups (User-Level Data)')\n",
        "plt.xlabel('Test Group')\n",
        "plt.ylabel('Total Revenue')\n",
        "plt.show()"
      ],
      "metadata": {
        "execution": {
          "iopub.status.busy": "2022-09-16T18:23:23.428689Z",
          "iopub.execute_input": "2022-09-16T18:23:23.428999Z",
          "iopub.status.idle": "2022-09-16T18:23:23.783807Z",
          "shell.execute_reply.started": "2022-09-16T18:23:23.428972Z",
          "shell.execute_reply": "2022-09-16T18:23:23.782679Z"
        },
        "trusted": true,
        "id": "Q7H93ZwNkkpP",
        "colab": {
          "base_uri": "https://localhost:8080/",
          "height": 681
        },
        "outputId": "060a5edd-334c-4f34-c154-6b2a489d8b80"
      },
      "execution_count": 50,
      "outputs": [
        {
          "output_type": "stream",
          "name": "stderr",
          "text": [
            "<ipython-input-50-e5d64d32427c>:4: FutureWarning: \n",
            "\n",
            "Passing `palette` without assigning `hue` is deprecated and will be removed in v0.14.0. Assign the `x` variable to `hue` and set `legend=False` for the same effect.\n",
            "\n",
            "  sns.boxplot(x='variant_group', y='total_revenue', data=user_level_data, palette='Set2')\n",
            "/usr/local/lib/python3.10/dist-packages/seaborn/_base.py:949: FutureWarning: When grouping with a length-1 list-like, you will need to pass a length-1 tuple to get_group in a future version of pandas. Pass `(name,)` instead of `name` to silence this warning.\n",
            "  data_subset = grouped_data.get_group(pd_key)\n",
            "/usr/local/lib/python3.10/dist-packages/seaborn/categorical.py:640: FutureWarning: SeriesGroupBy.grouper is deprecated and will be removed in a future version of pandas.\n",
            "  positions = grouped.grouper.result_index.to_numpy(dtype=float)\n",
            "/usr/local/lib/python3.10/dist-packages/seaborn/_base.py:949: FutureWarning: When grouping with a length-1 list-like, you will need to pass a length-1 tuple to get_group in a future version of pandas. Pass `(name,)` instead of `name` to silence this warning.\n",
            "  data_subset = grouped_data.get_group(pd_key)\n",
            "/usr/local/lib/python3.10/dist-packages/seaborn/categorical.py:640: FutureWarning: SeriesGroupBy.grouper is deprecated and will be removed in a future version of pandas.\n",
            "  positions = grouped.grouper.result_index.to_numpy(dtype=float)\n"
          ]
        },
        {
          "output_type": "display_data",
          "data": {
            "text/plain": [
              "<Figure size 1200x600 with 1 Axes>"
            ],
            "image/png": "[encoded data removed]"
          },
          "metadata": {}
        }
      ]
    },
    {
      "cell_type": "markdown",
      "source": [
        "It should be noted that during the transformation, the quantiles in the test group increased\n",
        "\n",
        "It can be seen that in the test group, almost all quantile statistics, except for the minimum, are at a slightly lower level.\n",
        "\n",
        "Let's look at various statistics in the context of AB test groups for all users"
      ],
      "metadata": {
        "id": "_NTyRweHkkpP"
      }
    },
    {
      "cell_type": "code",
      "source": [
        "# Step 1: Aggregate user-level data again to get total revenue per user\n",
        "user_level_data = df.groupby('USER_ID').agg(\n",
        "    total_revenue=('REVENUE', 'sum'),\n",
        "    variant_group=('VARIANT_NAME', 'first')\n",
        ").reset_index()\n",
        "\n",
        "# Step 2: Calculate basic metrics for each variant group\n",
        "group_metrics = user_level_data.groupby('variant_group')['total_revenue'].agg(\n",
        "    mean_revenue='mean',\n",
        "    median_revenue='median',\n",
        "    sum_revenue='sum',\n",
        "    user_count='count'\n",
        ").reset_index()\n",
        "\n",
        "# Step 3: Print the group metrics to confirm\n",
        "print(\"Group Metrics DataFrame:\")\n",
        "print(group_metrics)\n",
        "\n",
        "# Step 4: Use the correct group names: 'control' and 'variant'\n",
        "control_metrics = group_metrics[group_metrics['variant_group'] == 'control'].iloc[0]\n",
        "variant_metrics = group_metrics[group_metrics['variant_group'] == 'variant'].iloc[0]\n",
        "\n",
        "# Step 5: Calculate percentage changes between control and variant groups\n",
        "relative_mean_change = ((variant_metrics['mean_revenue'] - control_metrics['mean_revenue']) / control_metrics['mean_revenue']) * 100\n",
        "relative_median_change = ((variant_metrics['median_revenue'] - control_metrics['median_revenue']) / control_metrics['median_revenue']) * 100\n",
        "\n",
        "# Step 6: Create a separate DataFrame for relative metrics\n",
        "relative_metrics = pd.DataFrame({\n",
        "    'metric': ['relative_mean_change', 'relative_median_change'],\n",
        "    'value': [relative_mean_change, relative_median_change]\n",
        "})\n",
        "\n",
        "# Display the main group metrics and relative metrics\n",
        "print(\"\\nMetrics by Group:\")\n",
        "print(group_metrics)\n",
        "\n",
        "print(\"\\nRelative Metrics between Control and Variant Groups:\")\n",
        "print(relative_metrics)"
      ],
      "metadata": {
        "execution": {
          "iopub.status.busy": "2022-09-16T18:23:23.785212Z",
          "iopub.execute_input": "2022-09-16T18:23:23.78594Z",
          "iopub.status.idle": "2022-09-16T18:23:23.813162Z",
          "shell.execute_reply.started": "2022-09-16T18:23:23.785905Z",
          "shell.execute_reply": "2022-09-16T18:23:23.812388Z"
        },
        "trusted": true,
        "id": "9QF5FZTAkkpP",
        "colab": {
          "base_uri": "https://localhost:8080/"
        },
        "outputId": "80c39833-54cc-42cd-911d-3f40f8c3a639"
      },
      "execution_count": 51,
      "outputs": [
        {
          "output_type": "stream",
          "name": "stdout",
          "text": [
            "Group Metrics DataFrame:\n",
            "  variant_group  mean_revenue  median_revenue  sum_revenue  user_count\n",
            "0       control      0.207340             0.0       649.39        3132\n",
            "1       variant      0.108108             0.0       345.08        3192\n",
            "\n",
            "Metrics by Group:\n",
            "  variant_group  mean_revenue  median_revenue  sum_revenue  user_count\n",
            "0       control      0.207340             0.0       649.39        3132\n",
            "1       variant      0.108108             0.0       345.08        3192\n",
            "\n",
            "Relative Metrics between Control and Variant Groups:\n",
            "                   metric      value\n",
            "0    relative_mean_change -47.859755\n",
            "1  relative_median_change        NaN\n"
          ]
        },
        {
          "output_type": "stream",
          "name": "stderr",
          "text": [
            "<ipython-input-51-3c578f38b290>:25: RuntimeWarning: invalid value encountered in scalar divide\n",
            "  relative_median_change = ((variant_metrics['median_revenue'] - control_metrics['median_revenue']) / control_metrics['median_revenue']) * 100\n"
          ]
        }
      ]
    },
    {
      "cell_type": "markdown",
      "source": [
        "What can you see in the test group about the total amount of revenue, the average check per user, and the number of orders per user slightly increased ?\n",
        "\n",
        "Let's also see how paying users behave :"
      ],
      "metadata": {
        "id": "-FEgWEXckkpP"
      }
    },
    {
      "cell_type": "markdown",
      "source": [
        "ME added:\n",
        "This analysis helps to understand if the variant group is impacting paying users in a different way compared to the overall user base.\n",
        "If there’s a drop in mean revenue or median revenue for paying users in the variant group, it’s a strong signal that the test variant is negatively affecting high-value users."
      ],
      "metadata": {
        "id": "UW7cfHp-yluo"
      }
    },
    {
      "cell_type": "code",
      "source": [
        "# TODO : get metrics by groups\n",
        "# TODO : create two additional metrics to see relative changes\n",
        "# TODO : add them to the rest of the metrics in a separate group\n",
        "\n",
        "# Step 1: Filter to keep only paying users (users with REVENUE > 0)\n",
        "paying_users_df = df[df['REVENUE'] > 0]\n",
        "\n",
        "# Step 2: Aggregate user-level data for paying users\n",
        "user_level_paying_data = paying_users_df.groupby('USER_ID').agg(\n",
        "    total_revenue=('REVENUE', 'sum'),\n",
        "    variant_group=('VARIANT_NAME', 'first')\n",
        ").reset_index()\n",
        "\n",
        "# Step 3: Calculate metrics for each group\n",
        "paying_group_metrics = user_level_paying_data.groupby('variant_group')['total_revenue'].agg(\n",
        "    mean_revenue='mean',\n",
        "    median_revenue='median',\n",
        "    sum_revenue='sum',\n",
        "    user_count='count'\n",
        ").reset_index()\n",
        "\n",
        "# Step 4: Display the paying group metrics\n",
        "print(\"Paying Group Metrics DataFrame:\")\n",
        "print(paying_group_metrics)\n",
        "\n",
        "# Step 5: Calculate relative metrics for paying users\n",
        "control_paying_metrics = paying_group_metrics[paying_group_metrics['variant_group'] == 'control'].iloc[0]\n",
        "variant_paying_metrics = paying_group_metrics[paying_group_metrics['variant_group'] == 'variant'].iloc[0]\n",
        "\n",
        "# Calculate percentage changes between control and variant for paying users\n",
        "relative_mean_change_paying = ((variant_paying_metrics['mean_revenue'] - control_paying_metrics['mean_revenue']) / control_paying_metrics['mean_revenue']) * 100\n",
        "relative_median_change_paying = ((variant_paying_metrics['median_revenue'] - control_paying_metrics['median_revenue']) / control_paying_metrics['median_revenue']) * 100\n",
        "\n",
        "# Step 6: Create a DataFrame to store the relative changes for paying users\n",
        "relative_paying_metrics = pd.DataFrame({\n",
        "    'metric': ['relative_mean_change_paying', 'relative_median_change_paying'],\n",
        "    'value': [relative_mean_change_paying, relative_median_change_paying]\n",
        "})\n",
        "\n",
        "# Step 7: Display the final metrics\n",
        "print(\"\\nMetrics for Paying Users by Group:\")\n",
        "print(paying_group_metrics)\n",
        "\n",
        "print(\"\\nRelative Metrics between Control and Variant Groups for Paying Users:\")\n",
        "print(relative_paying_metrics)\n"
      ],
      "metadata": {
        "execution": {
          "iopub.status.busy": "2022-09-16T18:23:23.814201Z",
          "iopub.execute_input": "2022-09-16T18:23:23.814781Z",
          "iopub.status.idle": "2022-09-16T18:23:23.842362Z",
          "shell.execute_reply.started": "2022-09-16T18:23:23.814749Z",
          "shell.execute_reply": "2022-09-16T18:23:23.841593Z"
        },
        "trusted": true,
        "id": "ZM1LQ1VrkkpQ",
        "colab": {
          "base_uri": "https://localhost:8080/"
        },
        "outputId": "458f8079-2e14-4101-fede-88d250b06763"
      },
      "execution_count": 53,
      "outputs": [
        {
          "output_type": "stream",
          "name": "stdout",
          "text": [
            "Paying Group Metrics DataFrame:\n",
            "  variant_group  mean_revenue  median_revenue  sum_revenue  user_count\n",
            "0       control      8.123291            2.99       641.74          79\n",
            "1       variant      4.968028            2.27       352.73          71\n",
            "\n",
            "Metrics for Paying Users by Group:\n",
            "  variant_group  mean_revenue  median_revenue  sum_revenue  user_count\n",
            "0       control      8.123291            2.99       641.74          79\n",
            "1       variant      4.968028            2.27       352.73          71\n",
            "\n",
            "Relative Metrics between Control and Variant Groups for Paying Users:\n",
            "                          metric      value\n",
            "0    relative_mean_change_paying -38.842175\n",
            "1  relative_median_change_paying -24.080268\n"
          ]
        }
      ]
    },
    {
      "cell_type": "markdown",
      "source": [
        "Let's look at the distributions of all and only paying users"
      ],
      "metadata": {
        "id": "RozYt1eZkkpQ"
      }
    },
    {
      "cell_type": "code",
      "source": [
        "f, axes = plt.subplots(2, figsize=(10,8))\n",
        "# build graphs of distributions of all users\n",
        "sns.distplot(df.loc[df['VARIANT_NAME'] == 'control', 'REVENUE'], ax = axes[0], label='control')\n",
        "sns.distplot(df.loc[df['VARIANT_NAME'] == 'variant', 'REVENUE'], ax = axes[0], label='variant')\n",
        "axes[0].set_title('Distribution of revenue of all users')\n",
        "\n",
        "# build graphs of distributions of paying users\n",
        "sns.distplot(df.loc[(df['VARIANT_NAME'] == 'control') & (df['REVENUE'] > 0), 'REVENUE'], ax = axes[1], label='control' )\n",
        "sns.distplot(df.loc[(df['VARIANT_NAME'] == 'variant') & (df['REVENUE'] > 0), 'REVENUE'], ax = axes[1], label='variant' )\n",
        "axes[1].set_title('Paying user revenue distribution')\n",
        "plt.legend()\n",
        "plt.subplots_adjust(hspace = 0.3)"
      ],
      "metadata": {
        "execution": {
          "iopub.status.busy": "2022-09-16T18:23:23.843826Z",
          "iopub.execute_input": "2022-09-16T18:23:23.844477Z",
          "iopub.status.idle": "2022-09-16T18:23:24.587221Z",
          "shell.execute_reply.started": "2022-09-16T18:23:23.844435Z",
          "shell.execute_reply": "2022-09-16T18:23:24.585887Z"
        },
        "trusted": true,
        "id": "Xmm-HM-ZkkpQ",
        "colab": {
          "base_uri": "https://localhost:8080/",
          "height": 1000
        },
        "outputId": "16968cc9-5fea-48cd-e168-c6b9b40ae614"
      },
      "execution_count": 54,
      "outputs": [
        {
          "output_type": "stream",
          "name": "stderr",
          "text": [
            "<ipython-input-54-6823f3e6b917>:3: UserWarning: \n",
            "\n",
            "`distplot` is a deprecated function and will be removed in seaborn v0.14.0.\n",
            "\n",
            "Please adapt your code to use either `displot` (a figure-level function with\n",
            "similar flexibility) or `histplot` (an axes-level function for histograms).\n",
            "\n",
            "For a guide to updating your code to use the new functions, please see\n",
            "https://gist.github.com/mwaskom/de44147ed2974457ad6372750bbe5751\n",
            "\n",
            "  sns.distplot(df.loc[df['VARIANT_NAME'] == 'control', 'REVENUE'], ax = axes[0], label='control')\n",
            "<ipython-input-54-6823f3e6b917>:4: UserWarning: \n",
            "\n",
            "`distplot` is a deprecated function and will be removed in seaborn v0.14.0.\n",
            "\n",
            "Please adapt your code to use either `displot` (a figure-level function with\n",
            "similar flexibility) or `histplot` (an axes-level function for histograms).\n",
            "\n",
            "For a guide to updating your code to use the new functions, please see\n",
            "https://gist.github.com/mwaskom/de44147ed2974457ad6372750bbe5751\n",
            "\n",
            "  sns.distplot(df.loc[df['VARIANT_NAME'] == 'variant', 'REVENUE'], ax = axes[0], label='variant')\n",
            "<ipython-input-54-6823f3e6b917>:8: UserWarning: \n",
            "\n",
            "`distplot` is a deprecated function and will be removed in seaborn v0.14.0.\n",
            "\n",
            "Please adapt your code to use either `displot` (a figure-level function with\n",
            "similar flexibility) or `histplot` (an axes-level function for histograms).\n",
            "\n",
            "For a guide to updating your code to use the new functions, please see\n",
            "https://gist.github.com/mwaskom/de44147ed2974457ad6372750bbe5751\n",
            "\n",
            "  sns.distplot(df.loc[(df['VARIANT_NAME'] == 'control') & (df['REVENUE'] > 0), 'REVENUE'], ax = axes[1], label='control' )\n",
            "<ipython-input-54-6823f3e6b917>:9: UserWarning: \n",
            "\n",
            "`distplot` is a deprecated function and will be removed in seaborn v0.14.0.\n",
            "\n",
            "Please adapt your code to use either `displot` (a figure-level function with\n",
            "similar flexibility) or `histplot` (an axes-level function for histograms).\n",
            "\n",
            "For a guide to updating your code to use the new functions, please see\n",
            "https://gist.github.com/mwaskom/de44147ed2974457ad6372750bbe5751\n",
            "\n",
            "  sns.distplot(df.loc[(df['VARIANT_NAME'] == 'variant') & (df['REVENUE'] > 0), 'REVENUE'], ax = axes[1], label='variant' )\n"
          ]
        },
        {
          "output_type": "display_data",
          "data": {
            "text/plain": [
              "<Figure size 1000x800 with 2 Axes>"
            ],
            "image/png": "[encoded data removed]"
          },
          "metadata": {}
        }
      ]
    },
    {
      "cell_type": "markdown",
      "source": [
        "### Statistical Analysis <a name=\"Statistical\"/>"
      ],
      "metadata": {
        "id": "5vwsQSeVkkpQ"
      }
    },
    {
      "cell_type": "markdown",
      "source": [
        "#### Checking if the distribution is normal"
      ],
      "metadata": {
        "id": "lJP78Hc_kkpQ"
      }
    },
    {
      "cell_type": "markdown",
      "source": [
        "Based on their previous graph, we see that the data is not normally distributed."
      ],
      "metadata": {
        "id": "BVRKdz3WkkpQ"
      }
    },
    {
      "cell_type": "code",
      "source": [
        "# TODO : Use the Shapiro-Wilk criterion to confirm it\n",
        "\n",
        "\n",
        "# Step 1: Filter only paying users (REVENUE > 0)\n",
        "paying_users_df = df[df['REVENUE'] > 0]\n",
        "\n",
        "# Step 2: Separate revenue values by group\n",
        "control_revenue = paying_users_df[paying_users_df['VARIANT_NAME'] == 'control']['REVENUE']\n",
        "variant_revenue = paying_users_df[paying_users_df['VARIANT_NAME'] == 'variant']['REVENUE']\n",
        "\n",
        "# Step 3: Apply the Shapiro-Wilk test for normality for both groups\n",
        "control_stat, control_p_value = shapiro(control_revenue)\n",
        "variant_stat, variant_p_value = shapiro(variant_revenue)\n",
        "\n",
        "# Step 4: Display the results\n",
        "print(f\"Shapiro-Wilk Test for Control Group: W-Statistic = {control_stat:.4f}, p-value = {control_p_value:.4f}\")\n",
        "print(f\"Shapiro-Wilk Test for Variant Group: W-Statistic = {variant_stat:.4f}, p-value = {variant_p_value:.4f}\")\n",
        "\n",
        "# Step 5: Interpret the results\n",
        "if control_p_value < 0.05:\n",
        "    print(\"The control group revenue distribution is NOT normal (reject H0).\")\n",
        "else:\n",
        "    print(\"The control group revenue distribution is normal (fail to reject H0).\")\n",
        "\n",
        "if variant_p_value < 0.05:\n",
        "    print(\"The variant group revenue distribution is NOT normal (reject H0).\")\n",
        "else:\n",
        "    print(\"The variant group revenue distribution is normal (fail to reject H0).\")"
      ],
      "metadata": {
        "execution": {
          "iopub.status.busy": "2022-09-16T18:23:24.588685Z",
          "iopub.execute_input": "2022-09-16T18:23:24.589024Z",
          "iopub.status.idle": "2022-09-16T18:23:24.597871Z",
          "shell.execute_reply.started": "2022-09-16T18:23:24.588995Z",
          "shell.execute_reply": "2022-09-16T18:23:24.596794Z"
        },
        "trusted": true,
        "id": "je2NXscMkkpQ",
        "colab": {
          "base_uri": "https://localhost:8080/"
        },
        "outputId": "0fed32aa-1c04-47e2-afa2-f96047782fa2"
      },
      "execution_count": 55,
      "outputs": [
        {
          "output_type": "stream",
          "name": "stdout",
          "text": [
            "Shapiro-Wilk Test for Control Group: W-Statistic = 0.2808, p-value = 0.0000\n",
            "Shapiro-Wilk Test for Variant Group: W-Statistic = 0.4171, p-value = 0.0000\n",
            "The control group revenue distribution is NOT normal (reject H0).\n",
            "The variant group revenue distribution is NOT normal (reject H0).\n"
          ]
        }
      ]
    },
    {
      "cell_type": "markdown",
      "source": [
        "Is the null hypothesis about the normal distribution of the data rejected ?"
      ],
      "metadata": {
        "id": "Pq-RbAERkkpR"
      }
    },
    {
      "cell_type": "markdown",
      "source": [
        "#### Mann-Whitney test"
      ],
      "metadata": {
        "id": "nYxHXTxpkkpR"
      }
    },
    {
      "cell_type": "markdown",
      "source": [
        "Let's check the value of the statistics of the Mann-Whitney test. Some sources have a limitation of applicability in case of duplicate data. There are a lot of repetitions in our sample, and especially a lot of zero values, so in this case we need to be careful about this criterion."
      ],
      "metadata": {
        "id": "eGKBrlFnkkpR"
      }
    },
    {
      "cell_type": "markdown",
      "source": [
        "ME ADDED\n",
        "\n",
        "Why Use the Mann-Whitney U Test?\n",
        "Non-Normal Data: Based on the Shapiro-Wilk test results, we confirmed that the data is not normally distributed. This makes the Mann-Whitney U test (a non-parametric test) more appropriate than a t-test, which assumes normality.\n",
        "\n",
        "Checking for Differences: The Mann-Whitney U test compares the medians of two groups to see if they are significantly different. It is useful when we have skewed distributions or outliers, as it doesn’t require the same assumptions as parametric tests.\n",
        "\n",
        "Handling Zero Values and Duplicates: The comment mentions that duplicate values and zero revenue values are common in the dataset. The Mann-Whitney test can handle ties and duplicates but requires careful interpretation when there are many zero values. Zero values might distort the results because they represent non-paying users or users without revenue."
      ],
      "metadata": {
        "id": "Phx08bqh1ZP8"
      }
    },
    {
      "cell_type": "code",
      "source": [
        "(df['REVENUE'] == 0).value_counts()"
      ],
      "metadata": {
        "execution": {
          "iopub.status.busy": "2022-09-16T18:23:24.599408Z",
          "iopub.execute_input": "2022-09-16T18:23:24.600052Z",
          "iopub.status.idle": "2022-09-16T18:23:24.609697Z",
          "shell.execute_reply.started": "2022-09-16T18:23:24.600019Z",
          "shell.execute_reply": "2022-09-16T18:23:24.608442Z"
        },
        "trusted": true,
        "id": "ftj_LlaZkkpR"
      },
      "execution_count": null,
      "outputs": []
    },
    {
      "cell_type": "code",
      "source": [
        "# TODO : Check on the data of all users the value of the statistics of the Mann-Whitney test\n",
        "\n",
        "# Step 1: Separate the revenue values for control and variant groups\n",
        "control_revenue = df[df['VARIANT_NAME'] == 'control']['REVENUE']\n",
        "variant_revenue = df[df['VARIANT_NAME'] == 'variant']['REVENUE']\n",
        "\n",
        "# Step 2: Perform the Mann-Whitney U test\n",
        "stat, p_value = mannwhitneyu(control_revenue, variant_revenue, alternative='two-sided')\n",
        "\n",
        "# Step 3: Display the results\n",
        "print(f\"Mann-Whitney U Test Statistic: {stat:.4f}, p-value: {p_value:.4f}\")\n",
        "\n",
        "# Step 4: Interpret the results\n",
        "if p_value < 0.05:\n",
        "    print(\"The difference in revenue distribution between control and variant groups is statistically significant (reject H0).\")\n",
        "else:\n",
        "    print(\"The difference in revenue distribution between control and variant groups is not statistically significant (fail to reject H0).\")"
      ],
      "metadata": {
        "execution": {
          "iopub.status.busy": "2022-09-16T18:23:24.611079Z",
          "iopub.execute_input": "2022-09-16T18:23:24.611478Z",
          "iopub.status.idle": "2022-09-16T18:23:24.627499Z",
          "shell.execute_reply.started": "2022-09-16T18:23:24.611448Z",
          "shell.execute_reply": "2022-09-16T18:23:24.626266Z"
        },
        "trusted": true,
        "id": "liLsCl00kkpR",
        "colab": {
          "base_uri": "https://localhost:8080/"
        },
        "outputId": "5d468824-f927-4cc2-982f-d0f10a63f0c7"
      },
      "execution_count": 56,
      "outputs": [
        {
          "output_type": "stream",
          "name": "stdout",
          "text": [
            "Mann-Whitney U Test Statistic: 12521564.0000, p-value: 0.4783\n",
            "The difference in revenue distribution between control and variant groups is not statistically significant (fail to reject H0).\n"
          ]
        }
      ]
    },
    {
      "cell_type": "code",
      "source": [
        "# TODO : Check on the data of only the users that pay, the value of the statistics of the Mann-Whitney test"
      ],
      "metadata": {
        "execution": {
          "iopub.status.busy": "2022-09-16T18:23:24.632144Z",
          "iopub.execute_input": "2022-09-16T18:23:24.632496Z",
          "iopub.status.idle": "2022-09-16T18:23:24.644752Z",
          "shell.execute_reply.started": "2022-09-16T18:23:24.632466Z",
          "shell.execute_reply": "2022-09-16T18:23:24.643569Z"
        },
        "trusted": true,
        "id": "tCCcVEM4kkpS"
      },
      "execution_count": null,
      "outputs": []
    },
    {
      "cell_type": "code",
      "source": [
        "# Step 1: Filter only paying users (REVENUE > 0)\n",
        "paying_users_df = df[df['REVENUE'] > 0]\n",
        "\n",
        "# Step 2: Separate the revenue values for control and variant groups\n",
        "control_revenue_paying = paying_users_df[paying_users_df['VARIANT_NAME'] == 'control']['REVENUE']\n",
        "variant_revenue_paying = paying_users_df[paying_users_df['VARIANT_NAME'] == 'variant']['REVENUE']\n",
        "\n",
        "# Step 3: Perform the Mann-Whitney U test for paying users\n",
        "stat_paying, p_value_paying = mannwhitneyu(control_revenue_paying, variant_revenue_paying, alternative='two-sided')\n",
        "\n",
        "# Step 4: Display the results for paying users\n",
        "print(f\"Mann-Whitney U Test for Paying Users: Statistic = {stat_paying:.4f}, p-value = {p_value_paying:.4f}\")\n",
        "\n",
        "# Step 5: Interpret the results\n",
        "if p_value_paying < 0.05:\n",
        "    print(\"The difference in revenue distribution between control and variant groups (for paying users) is statistically significant (reject H0).\")\n",
        "else:\n",
        "    print(\"The difference in revenue distribution between control and variant groups (for paying users) is not statistically significant (fail to reject H0).\")"
      ],
      "metadata": {
        "colab": {
          "base_uri": "https://localhost:8080/"
        },
        "id": "mki_66925Bdx",
        "outputId": "47c2002a-8967-431a-d006-534748cc4637"
      },
      "execution_count": 58,
      "outputs": [
        {
          "output_type": "stream",
          "name": "stdout",
          "text": [
            "Mann-Whitney U Test for Paying Users: Statistic = 3356.0000, p-value = 0.0792\n",
            "The difference in revenue distribution between control and variant groups (for paying users) is not statistically significant (fail to reject H0).\n"
          ]
        }
      ]
    },
    {
      "cell_type": "markdown",
      "source": [
        "#### Bootstrap"
      ],
      "metadata": {
        "execution": {
          "iopub.status.busy": "2022-09-16T17:49:10.3638Z",
          "iopub.execute_input": "2022-09-16T17:49:10.365079Z",
          "iopub.status.idle": "2022-09-16T17:49:10.369587Z",
          "shell.execute_reply.started": "2022-09-16T17:49:10.365037Z",
          "shell.execute_reply": "2022-09-16T17:49:10.368719Z"
        },
        "id": "XBp259a8kkpS"
      }
    },
    {
      "cell_type": "markdown",
      "source": [
        "In order to get more complete information about the differences between the average values of the ab test groups, we will use bootstap.\n",
        "\n",
        "Let's create a function to get back samples and get a confidence interval, and then look at the sample statistics"
      ],
      "metadata": {
        "id": "0xpO-CmekkpS"
      }
    },
    {
      "cell_type": "code",
      "source": [
        "def get_bootstrap_samples(data, n_samples=1000):\n",
        "    indices = np.random.randint(0, len(data), (n_samples, len(data)))\n",
        "    samples = data[indices]\n",
        "    return samples\n",
        "\n",
        "def stat_intervals(stat, alpha=0.05):\n",
        "    boundaries = np.percentile(stat, [100 * alpha / 2., 100 * (1 - alpha / 2.)])\n",
        "    return boundaries"
      ],
      "metadata": {
        "execution": {
          "iopub.status.busy": "2022-09-16T18:23:24.645844Z",
          "iopub.execute_input": "2022-09-16T18:23:24.646134Z",
          "iopub.status.idle": "2022-09-16T18:23:24.653955Z",
          "shell.execute_reply.started": "2022-09-16T18:23:24.646108Z",
          "shell.execute_reply": "2022-09-16T18:23:24.652612Z"
        },
        "trusted": true,
        "id": "3yLh1toVkkpS"
      },
      "execution_count": null,
      "outputs": []
    },
    {
      "cell_type": "code",
      "source": [
        "# TODO : Generate samples for all users"
      ],
      "metadata": {
        "execution": {
          "iopub.status.busy": "2022-09-16T18:23:24.656318Z",
          "iopub.execute_input": "2022-09-16T18:23:24.656775Z",
          "iopub.status.idle": "2022-09-16T18:23:25.935543Z",
          "shell.execute_reply.started": "2022-09-16T18:23:24.656733Z",
          "shell.execute_reply": "2022-09-16T18:23:25.934505Z"
        },
        "trusted": true,
        "id": "vAgJqb7lkkpS"
      },
      "execution_count": null,
      "outputs": []
    },
    {
      "cell_type": "code",
      "source": [
        "# TODO : Generate samples for only paying users"
      ],
      "metadata": {
        "execution": {
          "iopub.status.busy": "2022-09-16T18:23:25.936759Z",
          "iopub.execute_input": "2022-09-16T18:23:25.937087Z",
          "iopub.status.idle": "2022-09-16T18:23:25.964331Z",
          "shell.execute_reply.started": "2022-09-16T18:23:25.937057Z",
          "shell.execute_reply": "2022-09-16T18:23:25.96321Z"
        },
        "trusted": true,
        "id": "pwXNe9H4kkpS"
      },
      "execution_count": null,
      "outputs": []
    },
    {
      "cell_type": "markdown",
      "source": [
        "Let's look at the distribution of means in the ab test groups"
      ],
      "metadata": {
        "id": "7OsUPGxnkkpT"
      }
    },
    {
      "cell_type": "code",
      "source": [
        "f, ax = plt.subplots()\n",
        "# plt.figure(figsize=(20,5))\n",
        "sns.kdeplot(np.mean(control, axis=1), shade=True, label='control')\n",
        "sns.kdeplot(np.mean(variant, axis=1), shade=True, label='variant')\n",
        "plt.title('Sample mean distribution for all users')"
      ],
      "metadata": {
        "execution": {
          "iopub.status.busy": "2022-09-16T18:23:25.965453Z",
          "iopub.execute_input": "2022-09-16T18:23:25.96576Z",
          "iopub.status.idle": "2022-09-16T18:23:26.299852Z",
          "shell.execute_reply.started": "2022-09-16T18:23:25.965732Z",
          "shell.execute_reply": "2022-09-16T18:23:26.298725Z"
        },
        "trusted": true,
        "id": "CvNnX2ALkkpT"
      },
      "execution_count": null,
      "outputs": []
    },
    {
      "cell_type": "code",
      "source": [
        "f, ax = plt.subplots()\n",
        "# plt.figure(figsize=(20,5))\n",
        "sns.kdeplot(np.mean(control_paid, axis=1), shade=True, label='control')\n",
        "sns.kdeplot(np.mean(variant_paid, axis=1), shade=True, label='variant')\n",
        "plt.title('Sample mean distribution for paying users')"
      ],
      "metadata": {
        "execution": {
          "iopub.status.busy": "2022-09-16T18:23:26.301272Z",
          "iopub.execute_input": "2022-09-16T18:23:26.301641Z",
          "iopub.status.idle": "2022-09-16T18:23:26.62483Z",
          "shell.execute_reply.started": "2022-09-16T18:23:26.301609Z",
          "shell.execute_reply": "2022-09-16T18:23:26.623431Z"
        },
        "trusted": true,
        "id": "v4_qUms4kkpT"
      },
      "execution_count": null,
      "outputs": []
    },
    {
      "cell_type": "markdown",
      "source": [
        "Do you see any difference ? What about the confidence intervals ? Conclude.\n",
        "\n",
        "Let's evaluate the difference between the groups: look at the distribution of the mean difference and build confidence intervals for it. To do this, we will create a function for visualization"
      ],
      "metadata": {
        "id": "8MXUz0CEkkpT"
      }
    },
    {
      "cell_type": "code",
      "source": [
        "def plot_distribution_and_stat_intervals(variant, control, title, alpha=0.05):\n",
        "    \"\"\" Plot the distribution of the mean difference and return the confidence intervals \"\"\"\n",
        "    f, ax = plt.subplots()\n",
        "    # get data for coloring confidence intervals\n",
        "    points = sns.kdeplot(variant - control, shade=True).get_lines()[0].get_data()\n",
        "    x = points[0]\n",
        "    y = points[1]\n",
        "    ymin, ymax = plt.ylim()\n",
        "    # highlight the zero value and the bounds of the confidence interval\n",
        "    plt.vlines(0, 0, ymax, label='0', color='gray')\n",
        "    plt.vlines(stat_intervals(variant - control, alpha)[0], 0, ymax, linestyles=\"dashed\")\n",
        "    plt.vlines(stat_intervals(variant - control, alpha)[1], 0, ymax, linestyles=\"dashed\")\n",
        "    # color the confidence interval and zones outside it\n",
        "    plt.fill_between(x,y,\n",
        "                     where = (x >= stat_intervals(variant - control, alpha)[1]),\n",
        "                     color='gainsboro')\n",
        "    plt.fill_between(x,y,\n",
        "                     where = (x <= stat_intervals(variant - control, alpha)[0]),\n",
        "                     color='gainsboro')\n",
        "    plt.fill_between(x,y,\n",
        "                     where = ((x >= stat_intervals(variant - control, alpha)[0])\n",
        "                              & (x <= stat_intervals(variant - control, alpha)[1])),\n",
        "                     color='red',\n",
        "                     label = '95% confidence interval')\n",
        "    plt.title(f'Distribution of difference between means (variant - control) {title}; {100*(1-alpha)}% Confidence interval for difference of means: {stat_intervals(variant - control, alpha)}')\n",
        "    plt.legend(prop={'size':13})\n",
        "    # return confidence interval data\n",
        "    return stat_intervals(variant - control)"
      ],
      "metadata": {
        "execution": {
          "iopub.status.busy": "2022-09-16T18:23:26.62643Z",
          "iopub.execute_input": "2022-09-16T18:23:26.628052Z",
          "iopub.status.idle": "2022-09-16T18:23:26.639469Z",
          "shell.execute_reply.started": "2022-09-16T18:23:26.628017Z",
          "shell.execute_reply": "2022-09-16T18:23:26.638694Z"
        },
        "trusted": true,
        "id": "bBIz3jkCkkpT"
      },
      "execution_count": null,
      "outputs": []
    },
    {
      "cell_type": "markdown",
      "source": [
        "Let's build a graph of the distribution of the difference in the means and get a confidence interval\n",
        "\n",
        "For all users"
      ],
      "metadata": {
        "id": "ZIUmqXtHkkpT"
      }
    },
    {
      "cell_type": "code",
      "source": [
        "plot_distribution_and_stat_intervals(np.mean(variant, axis=1),\n",
        "                                     np.mean(control, axis=1),\n",
        "                                     title='all users')"
      ],
      "metadata": {
        "execution": {
          "iopub.status.busy": "2022-09-16T18:23:26.640692Z",
          "iopub.execute_input": "2022-09-16T18:23:26.641004Z",
          "iopub.status.idle": "2022-09-16T18:23:26.655336Z",
          "shell.execute_reply.started": "2022-09-16T18:23:26.640977Z",
          "shell.execute_reply": "2022-09-16T18:23:26.654163Z"
        },
        "trusted": true,
        "id": "eQq8UewNkkpT"
      },
      "execution_count": null,
      "outputs": []
    },
    {
      "cell_type": "code",
      "source": [
        "plot_distribution_and_stat_intervals(np.mean(variant_paid, axis=1),\n",
        "                                     np.mean(control_paid, axis=1),\n",
        "                                     title='paying users')"
      ],
      "metadata": {
        "execution": {
          "iopub.status.busy": "2022-09-16T18:23:26.656914Z",
          "iopub.execute_input": "2022-09-16T18:23:26.657231Z",
          "iopub.status.idle": "2022-09-16T18:23:26.666176Z",
          "shell.execute_reply.started": "2022-09-16T18:23:26.65719Z",
          "shell.execute_reply": "2022-09-16T18:23:26.664922Z"
        },
        "trusted": true,
        "id": "mOb8VkPAkkpT"
      },
      "execution_count": null,
      "outputs": []
    },
    {
      "cell_type": "markdown",
      "source": [
        "What can you observe ? Conclude about the statistical change in average revenue between A/B test groups.\n"
      ],
      "metadata": {
        "id": "5KFSGNjOkkpU"
      }
    }
  ]
}