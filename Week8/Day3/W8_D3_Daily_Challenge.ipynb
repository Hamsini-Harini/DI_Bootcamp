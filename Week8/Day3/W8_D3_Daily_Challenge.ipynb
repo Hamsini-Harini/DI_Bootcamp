{
  "metadata": {
    "kernelspec": {
      "language": "python",
      "display_name": "Python 3",
      "name": "python3"
    },
    "language_info": {
      "pygments_lexer": "ipython3",
      "nbconvert_exporter": "python",
      "version": "3.6.4",
      "file_extension": ".py",
      "codemirror_mode": {
        "name": "ipython",
        "version": 3
      },
      "name": "python",
      "mimetype": "text/x-python"
    },
    "kaggle": {
      "accelerator": "none",
      "dataSources": [
        {
          "sourceId": 4213024,
          "sourceType": "datasetVersion",
          "datasetId": 2479030
        }
      ],
      "dockerImageVersionId": 30558,
      "isInternetEnabled": false,
      "language": "python",
      "sourceType": "notebook",
      "isGpuEnabled": false
    },
    "colab": {
      "provenance": []
    }
  },
  "nbformat_minor": 0,
  "nbformat": 4,
  "cells": [
    {
      "cell_type": "code",
      "source": [
        "import numpy as np\n",
        "import pandas as pd\n",
        "import matplotlib.pyplot as plt\n",
        "import seaborn as sns\n",
        "import itertools\n",
        "import statsmodels.stats.api as sms\n",
        "from scipy.stats import (ttest_1samp, shapiro, levene, ttest_ind, mannwhitneyu,\n",
        "                         pearsonr, spearmanr, kendalltau, f_oneway, kruskal)\n",
        "from statsmodels.stats.proportion import proportions_ztest\n",
        "from statsmodels.stats.multicomp import MultiComparison\n"
      ],
      "metadata": {
        "_uuid": "8f2839f25d086af736a60e9eeb907d3b93b6e0e5",
        "_cell_guid": "b1076dfc-b9ad-4769-8c92-a6c4dae69d19",
        "execution": {
          "iopub.status.busy": "2023-11-06T18:15:49.893535Z",
          "iopub.execute_input": "2023-11-06T18:15:49.894197Z",
          "iopub.status.idle": "2023-11-06T18:15:49.925697Z",
          "shell.execute_reply.started": "2023-11-06T18:15:49.894137Z",
          "shell.execute_reply": "2023-11-06T18:15:49.924613Z"
        },
        "trusted": true,
        "id": "NxVVGK3Ervuh"
      },
      "execution_count": null,
      "outputs": []
    },
    {
      "cell_type": "code",
      "source": [
        "# TODO : Import the Data from the kaggle API"
      ],
      "metadata": {
        "id": "3tOTF5-JoVbY"
      },
      "execution_count": null,
      "outputs": []
    },
    {
      "cell_type": "code",
      "source": [
        "\n",
        "from google.colab import files\n",
        "\n",
        "# This will prompt you to upload the kaggle.json file\n",
        "uploaded = files.upload()\n",
        "\n",
        "# Step 3: Create the Kaggle directory and move the kaggle.json file\n",
        "!mkdir -p ~/.kaggle\n",
        "!cp kaggle.json ~/.kaggle/\n",
        "\n",
        "# Step 4: Set the permissions for the Kaggle API token\n",
        "!chmod 600 ~/.kaggle/kaggle.json\n",
        "\n",
        "# Step 5: Download the dataset using the Kaggle API\n",
        "# The command format is: kaggle datasets download -d <dataset-owner>/<dataset-name>\n",
        "# Replace with the specific dataset path from Kaggle\n",
        "\n",
        "!kaggle datasets download -d umutberkekoc/ab-test-example\n",
        "\n",
        "# Step 6: Unzip the downloaded file\n",
        "!unzip ab-test-example.zip\n"
      ],
      "metadata": {
        "colab": {
          "base_uri": "https://localhost:8080/",
          "height": 129
        },
        "id": "0_EEOQvmnfZv",
        "outputId": "c3807fbb-e7f3-4119-95af-7b6e5c0c4a9c"
      },
      "execution_count": 2,
      "outputs": [
        {
          "output_type": "display_data",
          "data": {
            "text/plain": [
              "<IPython.core.display.HTML object>"
            ],
            "text/html": [
              "\n",
              "     <input type=\"file\" id=\"files-2515004f-abf2-46f1-a91a-b5fc2a80e5ef\" name=\"files[]\" multiple disabled\n",
              "        style=\"border:none\" />\n",
              "     <output id=\"result-2515004f-abf2-46f1-a91a-b5fc2a80e5ef\">\n",
              "      Upload widget is only available when the cell has been executed in the\n",
              "      current browser session. Please rerun this cell to enable.\n",
              "      </output>\n",
              "      <script>// Copyright 2017 Google LLC\n",
              "//\n",
              "// Licensed under the Apache License, Version 2.0 (the \"License\");\n",
              "// you may not use this file except in compliance with the License.\n",
              "// You may obtain a copy of the License at\n",
              "//\n",
              "//      http://www.apache.org/licenses/LICENSE-2.0\n",
              "//\n",
              "// Unless required by applicable law or agreed to in writing, software\n",
              "// distributed under the License is distributed on an \"AS IS\" BASIS,\n",
              "// WITHOUT WARRANTIES OR CONDITIONS OF ANY KIND, either express or implied.\n",
              "// See the License for the specific language governing permissions and\n",
              "// limitations under the License.\n",
              "\n",
              "/**\n",
              " * @fileoverview Helpers for google.colab Python module.\n",
              " */\n",
              "(function(scope) {\n",
              "function span(text, styleAttributes = {}) {\n",
              "  const element = document.createElement('span');\n",
              "  element.textContent = text;\n",
              "  for (const key of Object.keys(styleAttributes)) {\n",
              "    element.style[key] = styleAttributes[key];\n",
              "  }\n",
              "  return element;\n",
              "}\n",
              "\n",
              "// Max number of bytes which will be uploaded at a time.\n",
              "const MAX_PAYLOAD_SIZE = 100 * 1024;\n",
              "\n",
              "function _uploadFiles(inputId, outputId) {\n",
              "  const steps = uploadFilesStep(inputId, outputId);\n",
              "  const outputElement = document.getElementById(outputId);\n",
              "  // Cache steps on the outputElement to make it available for the next call\n",
              "  // to uploadFilesContinue from Python.\n",
              "  outputElement.steps = steps;\n",
              "\n",
              "  return _uploadFilesContinue(outputId);\n",
              "}\n",
              "\n",
              "// This is roughly an async generator (not supported in the browser yet),\n",
              "// where there are multiple asynchronous steps and the Python side is going\n",
              "// to poll for completion of each step.\n",
              "// This uses a Promise to block the python side on completion of each step,\n",
              "// then passes the result of the previous step as the input to the next step.\n",
              "function _uploadFilesContinue(outputId) {\n",
              "  const outputElement = document.getElementById(outputId);\n",
              "  const steps = outputElement.steps;\n",
              "\n",
              "  const next = steps.next(outputElement.lastPromiseValue);\n",
              "  return Promise.resolve(next.value.promise).then((value) => {\n",
              "    // Cache the last promise value to make it available to the next\n",
              "    // step of the generator.\n",
              "    outputElement.lastPromiseValue = value;\n",
              "    return next.value.response;\n",
              "  });\n",
              "}\n",
              "\n",
              "/**\n",
              " * Generator function which is called between each async step of the upload\n",
              " * process.\n",
              " * @param {string} inputId Element ID of the input file picker element.\n",
              " * @param {string} outputId Element ID of the output display.\n",
              " * @return {!Iterable<!Object>} Iterable of next steps.\n",
              " */\n",
              "function* uploadFilesStep(inputId, outputId) {\n",
              "  const inputElement = document.getElementById(inputId);\n",
              "  inputElement.disabled = false;\n",
              "\n",
              "  const outputElement = document.getElementById(outputId);\n",
              "  outputElement.innerHTML = '';\n",
              "\n",
              "  const pickedPromise = new Promise((resolve) => {\n",
              "    inputElement.addEventListener('change', (e) => {\n",
              "      resolve(e.target.files);\n",
              "    });\n",
              "  });\n",
              "\n",
              "  const cancel = document.createElement('button');\n",
              "  inputElement.parentElement.appendChild(cancel);\n",
              "  cancel.textContent = 'Cancel upload';\n",
              "  const cancelPromise = new Promise((resolve) => {\n",
              "    cancel.onclick = () => {\n",
              "      resolve(null);\n",
              "    };\n",
              "  });\n",
              "\n",
              "  // Wait for the user to pick the files.\n",
              "  const files = yield {\n",
              "    promise: Promise.race([pickedPromise, cancelPromise]),\n",
              "    response: {\n",
              "      action: 'starting',\n",
              "    }\n",
              "  };\n",
              "\n",
              "  cancel.remove();\n",
              "\n",
              "  // Disable the input element since further picks are not allowed.\n",
              "  inputElement.disabled = true;\n",
              "\n",
              "  if (!files) {\n",
              "    return {\n",
              "      response: {\n",
              "        action: 'complete',\n",
              "      }\n",
              "    };\n",
              "  }\n",
              "\n",
              "  for (const file of files) {\n",
              "    const li = document.createElement('li');\n",
              "    li.append(span(file.name, {fontWeight: 'bold'}));\n",
              "    li.append(span(\n",
              "        `(${file.type || 'n/a'}) - ${file.size} bytes, ` +\n",
              "        `last modified: ${\n",
              "            file.lastModifiedDate ? file.lastModifiedDate.toLocaleDateString() :\n",
              "                                    'n/a'} - `));\n",
              "    const percent = span('0% done');\n",
              "    li.appendChild(percent);\n",
              "\n",
              "    outputElement.appendChild(li);\n",
              "\n",
              "    const fileDataPromise = new Promise((resolve) => {\n",
              "      const reader = new FileReader();\n",
              "      reader.onload = (e) => {\n",
              "        resolve(e.target.result);\n",
              "      };\n",
              "      reader.readAsArrayBuffer(file);\n",
              "    });\n",
              "    // Wait for the data to be ready.\n",
              "    let fileData = yield {\n",
              "      promise: fileDataPromise,\n",
              "      response: {\n",
              "        action: 'continue',\n",
              "      }\n",
              "    };\n",
              "\n",
              "    // Use a chunked sending to avoid message size limits. See b/62115660.\n",
              "    let position = 0;\n",
              "    do {\n",
              "      const length = Math.min(fileData.byteLength - position, MAX_PAYLOAD_SIZE);\n",
              "      const chunk = new Uint8Array(fileData, position, length);\n",
              "      position += length;\n",
              "\n",
              "      const base64 = btoa(String.fromCharCode.apply(null, chunk));\n",
              "      yield {\n",
              "        response: {\n",
              "          action: 'append',\n",
              "          file: file.name,\n",
              "          data: base64,\n",
              "        },\n",
              "      };\n",
              "\n",
              "      let percentDone = fileData.byteLength === 0 ?\n",
              "          100 :\n",
              "          Math.round((position / fileData.byteLength) * 100);\n",
              "      percent.textContent = `${percentDone}% done`;\n",
              "\n",
              "    } while (position < fileData.byteLength);\n",
              "  }\n",
              "\n",
              "  // All done.\n",
              "  yield {\n",
              "    response: {\n",
              "      action: 'complete',\n",
              "    }\n",
              "  };\n",
              "}\n",
              "\n",
              "scope.google = scope.google || {};\n",
              "scope.google.colab = scope.google.colab || {};\n",
              "scope.google.colab._files = {\n",
              "  _uploadFiles,\n",
              "  _uploadFilesContinue,\n",
              "};\n",
              "})(self);\n",
              "</script> "
            ]
          },
          "metadata": {}
        },
        {
          "output_type": "stream",
          "name": "stdout",
          "text": [
            "Saving kaggle.json to kaggle (1).json\n",
            "403 - Forbidden - Permission 'datasets.get' was denied\n",
            "unzip:  cannot find or open ab-test-example.zip, ab-test-example.zip.zip or ab-test-example.zip.ZIP.\n"
          ]
        }
      ]
    },
    {
      "cell_type": "markdown",
      "source": [
        "WHY DID I GET THIS ERROR?"
      ],
      "metadata": {
        "id": "nYSu7KOwoJoW"
      }
    },
    {
      "cell_type": "code",
      "source": [
        "# Step 1: Import necessary libraries\n",
        "import pandas as pd  # Pandas for data manipulation\n",
        "import numpy as np   # Numpy for numerical operations (optional)\n",
        "\n",
        "# Step 2: Load the local CSV file into a DataFrame\n",
        "file_path = \"/content/AB_Test_Results_Challenge.csv\"  # Local file path\n",
        "data = pd.read_csv(file_path)  # Read the CSV file\n",
        "\n",
        "# Step 3: Display the first 5 rows\n",
        "data.head()  # Show the first few rows of the dataset"
      ],
      "metadata": {
        "colab": {
          "base_uri": "https://localhost:8080/",
          "height": 206
        },
        "id": "22Bc0BAroMwU",
        "outputId": "e6dd942a-8d45-4f92-82a8-16e0e31a41f7"
      },
      "execution_count": 3,
      "outputs": [
        {
          "output_type": "execute_result",
          "data": {
            "text/plain": [
              "   USER_ID VARIANT_NAME  REVENUE\n",
              "0      737      variant      0.0\n",
              "1     2423      control      0.0\n",
              "2     9411      control      0.0\n",
              "3     7311      control      0.0\n",
              "4     6174      variant      0.0"
            ],
            "text/html": [
              "\n",
              "  <div id=\"df-3fb41126-1997-45cb-8482-bc9d5a8598ab\" class=\"colab-df-container\">\n",
              "    <div>\n",
              "<style scoped>\n",
              "    .dataframe tbody tr th:only-of-type {\n",
              "        vertical-align: middle;\n",
              "    }\n",
              "\n",
              "    .dataframe tbody tr th {\n",
              "        vertical-align: top;\n",
              "    }\n",
              "\n",
              "    .dataframe thead th {\n",
              "        text-align: right;\n",
              "    }\n",
              "</style>\n",
              "<table border=\"1\" class=\"dataframe\">\n",
              "  <thead>\n",
              "    <tr style=\"text-align: right;\">\n",
              "      <th></th>\n",
              "      <th>USER_ID</th>\n",
              "      <th>VARIANT_NAME</th>\n",
              "      <th>REVENUE</th>\n",
              "    </tr>\n",
              "  </thead>\n",
              "  <tbody>\n",
              "    <tr>\n",
              "      <th>0</th>\n",
              "      <td>737</td>\n",
              "      <td>variant</td>\n",
              "      <td>0.0</td>\n",
              "    </tr>\n",
              "    <tr>\n",
              "      <th>1</th>\n",
              "      <td>2423</td>\n",
              "      <td>control</td>\n",
              "      <td>0.0</td>\n",
              "    </tr>\n",
              "    <tr>\n",
              "      <th>2</th>\n",
              "      <td>9411</td>\n",
              "      <td>control</td>\n",
              "      <td>0.0</td>\n",
              "    </tr>\n",
              "    <tr>\n",
              "      <th>3</th>\n",
              "      <td>7311</td>\n",
              "      <td>control</td>\n",
              "      <td>0.0</td>\n",
              "    </tr>\n",
              "    <tr>\n",
              "      <th>4</th>\n",
              "      <td>6174</td>\n",
              "      <td>variant</td>\n",
              "      <td>0.0</td>\n",
              "    </tr>\n",
              "  </tbody>\n",
              "</table>\n",
              "</div>\n",
              "    <div class=\"colab-df-buttons\">\n",
              "\n",
              "  <div class=\"colab-df-container\">\n",
              "    <button class=\"colab-df-convert\" onclick=\"convertToInteractive('df-3fb41126-1997-45cb-8482-bc9d5a8598ab')\"\n",
              "            title=\"Convert this dataframe to an interactive table.\"\n",
              "            style=\"display:none;\">\n",
              "\n",
              "  <svg xmlns=\"http://www.w3.org/2000/svg\" height=\"24px\" viewBox=\"0 -960 960 960\">\n",
              "    <path d=\"M120-120v-720h720v720H120Zm60-500h600v-160H180v160Zm220 220h160v-160H400v160Zm0 220h160v-160H400v160ZM180-400h160v-160H180v160Zm440 0h160v-160H620v160ZM180-180h160v-160H180v160Zm440 0h160v-160H620v160Z\"/>\n",
              "  </svg>\n",
              "    </button>\n",
              "\n",
              "  <style>\n",
              "    .colab-df-container {\n",
              "      display:flex;\n",
              "      gap: 12px;\n",
              "    }\n",
              "\n",
              "    .colab-df-convert {\n",
              "      background-color: #E8F0FE;\n",
              "      border: none;\n",
              "      border-radius: 50%;\n",
              "      cursor: pointer;\n",
              "      display: none;\n",
              "      fill: #1967D2;\n",
              "      height: 32px;\n",
              "      padding: 0 0 0 0;\n",
              "      width: 32px;\n",
              "    }\n",
              "\n",
              "    .colab-df-convert:hover {\n",
              "      background-color: #E2EBFA;\n",
              "      box-shadow: 0px 1px 2px rgba(60, 64, 67, 0.3), 0px 1px 3px 1px rgba(60, 64, 67, 0.15);\n",
              "      fill: #174EA6;\n",
              "    }\n",
              "\n",
              "    .colab-df-buttons div {\n",
              "      margin-bottom: 4px;\n",
              "    }\n",
              "\n",
              "    [theme=dark] .colab-df-convert {\n",
              "      background-color: #3B4455;\n",
              "      fill: #D2E3FC;\n",
              "    }\n",
              "\n",
              "    [theme=dark] .colab-df-convert:hover {\n",
              "      background-color: #434B5C;\n",
              "      box-shadow: 0px 1px 3px 1px rgba(0, 0, 0, 0.15);\n",
              "      filter: drop-shadow(0px 1px 2px rgba(0, 0, 0, 0.3));\n",
              "      fill: #FFFFFF;\n",
              "    }\n",
              "  </style>\n",
              "\n",
              "    <script>\n",
              "      const buttonEl =\n",
              "        document.querySelector('#df-3fb41126-1997-45cb-8482-bc9d5a8598ab button.colab-df-convert');\n",
              "      buttonEl.style.display =\n",
              "        google.colab.kernel.accessAllowed ? 'block' : 'none';\n",
              "\n",
              "      async function convertToInteractive(key) {\n",
              "        const element = document.querySelector('#df-3fb41126-1997-45cb-8482-bc9d5a8598ab');\n",
              "        const dataTable =\n",
              "          await google.colab.kernel.invokeFunction('convertToInteractive',\n",
              "                                                    [key], {});\n",
              "        if (!dataTable) return;\n",
              "\n",
              "        const docLinkHtml = 'Like what you see? Visit the ' +\n",
              "          '<a target=\"_blank\" href=https://colab.research.google.com/notebooks/data_table.ipynb>data table notebook</a>'\n",
              "          + ' to learn more about interactive tables.';\n",
              "        element.innerHTML = '';\n",
              "        dataTable['output_type'] = 'display_data';\n",
              "        await google.colab.output.renderOutput(dataTable, element);\n",
              "        const docLink = document.createElement('div');\n",
              "        docLink.innerHTML = docLinkHtml;\n",
              "        element.appendChild(docLink);\n",
              "      }\n",
              "    </script>\n",
              "  </div>\n",
              "\n",
              "\n",
              "<div id=\"df-a3a37a81-b501-46da-ab18-c36a15ef8e61\">\n",
              "  <button class=\"colab-df-quickchart\" onclick=\"quickchart('df-a3a37a81-b501-46da-ab18-c36a15ef8e61')\"\n",
              "            title=\"Suggest charts\"\n",
              "            style=\"display:none;\">\n",
              "\n",
              "<svg xmlns=\"http://www.w3.org/2000/svg\" height=\"24px\"viewBox=\"0 0 24 24\"\n",
              "     width=\"24px\">\n",
              "    <g>\n",
              "        <path d=\"M19 3H5c-1.1 0-2 .9-2 2v14c0 1.1.9 2 2 2h14c1.1 0 2-.9 2-2V5c0-1.1-.9-2-2-2zM9 17H7v-7h2v7zm4 0h-2V7h2v10zm4 0h-2v-4h2v4z\"/>\n",
              "    </g>\n",
              "</svg>\n",
              "  </button>\n",
              "\n",
              "<style>\n",
              "  .colab-df-quickchart {\n",
              "      --bg-color: #E8F0FE;\n",
              "      --fill-color: #1967D2;\n",
              "      --hover-bg-color: #E2EBFA;\n",
              "      --hover-fill-color: #174EA6;\n",
              "      --disabled-fill-color: #AAA;\n",
              "      --disabled-bg-color: #DDD;\n",
              "  }\n",
              "\n",
              "  [theme=dark] .colab-df-quickchart {\n",
              "      --bg-color: #3B4455;\n",
              "      --fill-color: #D2E3FC;\n",
              "      --hover-bg-color: #434B5C;\n",
              "      --hover-fill-color: #FFFFFF;\n",
              "      --disabled-bg-color: #3B4455;\n",
              "      --disabled-fill-color: #666;\n",
              "  }\n",
              "\n",
              "  .colab-df-quickchart {\n",
              "    background-color: var(--bg-color);\n",
              "    border: none;\n",
              "    border-radius: 50%;\n",
              "    cursor: pointer;\n",
              "    display: none;\n",
              "    fill: var(--fill-color);\n",
              "    height: 32px;\n",
              "    padding: 0;\n",
              "    width: 32px;\n",
              "  }\n",
              "\n",
              "  .colab-df-quickchart:hover {\n",
              "    background-color: var(--hover-bg-color);\n",
              "    box-shadow: 0 1px 2px rgba(60, 64, 67, 0.3), 0 1px 3px 1px rgba(60, 64, 67, 0.15);\n",
              "    fill: var(--button-hover-fill-color);\n",
              "  }\n",
              "\n",
              "  .colab-df-quickchart-complete:disabled,\n",
              "  .colab-df-quickchart-complete:disabled:hover {\n",
              "    background-color: var(--disabled-bg-color);\n",
              "    fill: var(--disabled-fill-color);\n",
              "    box-shadow: none;\n",
              "  }\n",
              "\n",
              "  .colab-df-spinner {\n",
              "    border: 2px solid var(--fill-color);\n",
              "    border-color: transparent;\n",
              "    border-bottom-color: var(--fill-color);\n",
              "    animation:\n",
              "      spin 1s steps(1) infinite;\n",
              "  }\n",
              "\n",
              "  @keyframes spin {\n",
              "    0% {\n",
              "      border-color: transparent;\n",
              "      border-bottom-color: var(--fill-color);\n",
              "      border-left-color: var(--fill-color);\n",
              "    }\n",
              "    20% {\n",
              "      border-color: transparent;\n",
              "      border-left-color: var(--fill-color);\n",
              "      border-top-color: var(--fill-color);\n",
              "    }\n",
              "    30% {\n",
              "      border-color: transparent;\n",
              "      border-left-color: var(--fill-color);\n",
              "      border-top-color: var(--fill-color);\n",
              "      border-right-color: var(--fill-color);\n",
              "    }\n",
              "    40% {\n",
              "      border-color: transparent;\n",
              "      border-right-color: var(--fill-color);\n",
              "      border-top-color: var(--fill-color);\n",
              "    }\n",
              "    60% {\n",
              "      border-color: transparent;\n",
              "      border-right-color: var(--fill-color);\n",
              "    }\n",
              "    80% {\n",
              "      border-color: transparent;\n",
              "      border-right-color: var(--fill-color);\n",
              "      border-bottom-color: var(--fill-color);\n",
              "    }\n",
              "    90% {\n",
              "      border-color: transparent;\n",
              "      border-bottom-color: var(--fill-color);\n",
              "    }\n",
              "  }\n",
              "</style>\n",
              "\n",
              "  <script>\n",
              "    async function quickchart(key) {\n",
              "      const quickchartButtonEl =\n",
              "        document.querySelector('#' + key + ' button');\n",
              "      quickchartButtonEl.disabled = true;  // To prevent multiple clicks.\n",
              "      quickchartButtonEl.classList.add('colab-df-spinner');\n",
              "      try {\n",
              "        const charts = await google.colab.kernel.invokeFunction(\n",
              "            'suggestCharts', [key], {});\n",
              "      } catch (error) {\n",
              "        console.error('Error during call to suggestCharts:', error);\n",
              "      }\n",
              "      quickchartButtonEl.classList.remove('colab-df-spinner');\n",
              "      quickchartButtonEl.classList.add('colab-df-quickchart-complete');\n",
              "    }\n",
              "    (() => {\n",
              "      let quickchartButtonEl =\n",
              "        document.querySelector('#df-a3a37a81-b501-46da-ab18-c36a15ef8e61 button');\n",
              "      quickchartButtonEl.style.display =\n",
              "        google.colab.kernel.accessAllowed ? 'block' : 'none';\n",
              "    })();\n",
              "  </script>\n",
              "</div>\n",
              "    </div>\n",
              "  </div>\n"
            ],
            "application/vnd.google.colaboratory.intrinsic+json": {
              "type": "dataframe",
              "variable_name": "data",
              "summary": "{\n  \"name\": \"data\",\n  \"rows\": 10000,\n  \"fields\": [\n    {\n      \"column\": \"USER_ID\",\n      \"properties\": {\n        \"dtype\": \"number\",\n        \"std\": 2890,\n        \"min\": 2,\n        \"max\": 10000,\n        \"num_unique_values\": 6324,\n        \"samples\": [\n          2159,\n          5040,\n          418\n        ],\n        \"semantic_type\": \"\",\n        \"description\": \"\"\n      }\n    },\n    {\n      \"column\": \"VARIANT_NAME\",\n      \"properties\": {\n        \"dtype\": \"category\",\n        \"num_unique_values\": 2,\n        \"samples\": [\n          \"control\",\n          \"variant\"\n        ],\n        \"semantic_type\": \"\",\n        \"description\": \"\"\n      }\n    },\n    {\n      \"column\": \"REVENUE\",\n      \"properties\": {\n        \"dtype\": \"number\",\n        \"std\": 2.3185286544931945,\n        \"min\": 0.0,\n        \"max\": 196.01,\n        \"num_unique_values\": 101,\n        \"samples\": [\n          1.3,\n          3.97\n        ],\n        \"semantic_type\": \"\",\n        \"description\": \"\"\n      }\n    }\n  ]\n}"
            }
          },
          "metadata": {},
          "execution_count": 3
        }
      ]
    },
    {
      "cell_type": "markdown",
      "source": [
        "# Data Understanding"
      ],
      "metadata": {
        "id": "x4TkAvmHrvuk"
      }
    },
    {
      "cell_type": "code",
      "source": [
        "#TODO : compute the following : DataFrame Information, Columns in DataFrame, Counting Missing Values, Descriptive Statistics, Value Counts for VARIANT_NAME, Counting Unique Users in USER_ID\n",
        "# 1. DataFrame Information\n",
        "print(\"### DataFrame Information ###\")\n",
        "data.info()  # Provides information about data types, non-null counts, memory usage\n",
        "\n",
        "# 2. Columns in the DataFrame\n",
        "print(\"\\n### Columns in DataFrame ###\")\n",
        "print(data.columns)  # Displays the list of column names in the DataFrame\n",
        "\n",
        "# 3. Counting Missing Values\n",
        "print(\"\\n### Counting Missing Values ###\")\n",
        "print(data.isnull().sum())  # Counts the number of missing values in each column\n",
        "\n",
        "# 4. Descriptive Statistics\n",
        "print(\"\\n### Descriptive Statistics ###\")\n",
        "print(data.describe())  # Provides descriptive statistics like mean, median, etc., for numerical columns\n",
        "\n",
        "# 5. Value Counts for 'VARIANT_NAME'\n",
        "print(\"\\n### Value Counts for VARIANT_NAME ###\")\n",
        "print(data['VARIANT_NAME'].value_counts())  # Shows the count of unique values in 'VARIANT_NAME' column\n",
        "\n",
        "# 6. Counting Unique Users in 'USER_ID'\n",
        "print(\"\\n### Counting Unique Users in USER_ID ###\")\n",
        "unique_users = data['USER_ID'].nunique()  # Count of unique USER_ID values\n",
        "print(f\"Number of unique users: {unique_users}\")"
      ],
      "metadata": {
        "execution": {
          "iopub.status.busy": "2023-11-06T18:17:34.663181Z",
          "iopub.execute_input": "2023-11-06T18:17:34.663604Z",
          "iopub.status.idle": "2023-11-06T18:17:34.698452Z",
          "shell.execute_reply.started": "2023-11-06T18:17:34.66357Z",
          "shell.execute_reply": "2023-11-06T18:17:34.697253Z"
        },
        "trusted": true,
        "id": "4hquSCDYrvun",
        "colab": {
          "base_uri": "https://localhost:8080/"
        },
        "outputId": "9b8ae519-68da-4b76-bf08-68dc5db77f41"
      },
      "execution_count": 4,
      "outputs": [
        {
          "output_type": "stream",
          "name": "stdout",
          "text": [
            "### DataFrame Information ###\n",
            "<class 'pandas.core.frame.DataFrame'>\n",
            "RangeIndex: 10000 entries, 0 to 9999\n",
            "Data columns (total 3 columns):\n",
            " #   Column        Non-Null Count  Dtype  \n",
            "---  ------        --------------  -----  \n",
            " 0   USER_ID       10000 non-null  int64  \n",
            " 1   VARIANT_NAME  10000 non-null  object \n",
            " 2   REVENUE       10000 non-null  float64\n",
            "dtypes: float64(1), int64(1), object(1)\n",
            "memory usage: 234.5+ KB\n",
            "\n",
            "### Columns in DataFrame ###\n",
            "Index(['USER_ID', 'VARIANT_NAME', 'REVENUE'], dtype='object')\n",
            "\n",
            "### Counting Missing Values ###\n",
            "USER_ID         0\n",
            "VARIANT_NAME    0\n",
            "REVENUE         0\n",
            "dtype: int64\n",
            "\n",
            "### Descriptive Statistics ###\n",
            "            USER_ID       REVENUE\n",
            "count  10000.000000  10000.000000\n",
            "mean    4981.080200      0.099447\n",
            "std     2890.590115      2.318529\n",
            "min        2.000000      0.000000\n",
            "25%     2468.750000      0.000000\n",
            "50%     4962.000000      0.000000\n",
            "75%     7511.500000      0.000000\n",
            "max    10000.000000    196.010000\n",
            "\n",
            "### Value Counts for VARIANT_NAME ###\n",
            "VARIANT_NAME\n",
            "variant    5016\n",
            "control    4984\n",
            "Name: count, dtype: int64\n",
            "\n",
            "### Counting Unique Users in USER_ID ###\n",
            "Number of unique users: 6324\n"
          ]
        }
      ]
    },
    {
      "cell_type": "markdown",
      "source": [
        "My conclusion - some users must be duplicated across the two groups."
      ],
      "metadata": {
        "id": "AaZ0yfLUqQsz"
      }
    },
    {
      "cell_type": "markdown",
      "source": [
        "# Average Revenue by VARIANT_NAME"
      ],
      "metadata": {
        "id": "1UJ0wnvyrvup"
      }
    },
    {
      "cell_type": "code",
      "source": [
        "#TODO\n",
        "\n",
        "# Step 2: Group by 'VARIANT_NAME' and calculate average revenue\n",
        "# Assuming the revenue column is named 'Revenue' (adjust if the column name is different)\n",
        "average_revenue = data.groupby('VARIANT_NAME')['REVENUE'].mean()\n",
        "\n",
        "# Step 3: Display the results\n",
        "print(\"\\n### Average Revenue by VARIANT_NAME ###\")\n",
        "print(average_revenue)"
      ],
      "metadata": {
        "execution": {
          "iopub.status.busy": "2023-11-06T18:18:57.601805Z",
          "iopub.execute_input": "2023-11-06T18:18:57.602256Z",
          "iopub.status.idle": "2023-11-06T18:18:57.619241Z",
          "shell.execute_reply.started": "2023-11-06T18:18:57.602219Z",
          "shell.execute_reply": "2023-11-06T18:18:57.618008Z"
        },
        "trusted": true,
        "id": "FEl4TOdKrvuq",
        "colab": {
          "base_uri": "https://localhost:8080/"
        },
        "outputId": "e4daf9bd-cc60-405c-894c-de2927664a12"
      },
      "execution_count": 6,
      "outputs": [
        {
          "output_type": "stream",
          "name": "stdout",
          "text": [
            "\n",
            "### Average Revenue by VARIANT_NAME ###\n",
            "VARIANT_NAME\n",
            "control    0.129013\n",
            "variant    0.070070\n",
            "Name: REVENUE, dtype: float64\n"
          ]
        }
      ]
    },
    {
      "cell_type": "markdown",
      "source": [
        "What if H0: M1 = M2 ?\n",
        "What about H1: M1 1= M2 ?"
      ],
      "metadata": {
        "id": "VI4aeoclrvur"
      }
    },
    {
      "cell_type": "markdown",
      "source": [
        "# Assumptions Control:\n",
        "*# 1- Normality Assumptions*\n",
        "*# 2- Homogeneity of Variances Assumption*"
      ],
      "metadata": {
        "id": "9nwdJ5OPrvus"
      }
    },
    {
      "cell_type": "code",
      "source": [
        "# TODO : test the normality of revenue data in two groups (variant and control) within your DataFrame df using the Shapiro-Wilk test, what can you conclude ?\n",
        "# Import the necessary library for the Shapiro-Wilk test\n",
        "from scipy.stats import shapiro\n",
        "\n",
        "# Step 1: Separate the data into two groups: control and variant\n",
        "control_group = data[data['VARIANT_NAME'] == 'control']['REVENUE']  # Revenue data for control group\n",
        "variant_group = data[data['VARIANT_NAME'] == 'variant']['REVENUE']  # Revenue data for variant group\n",
        "\n",
        "# Step 2: Perform the Shapiro-Wilk test for the control group\n",
        "stat_control, p_control = shapiro(control_group)\n",
        "print(f\"Control Group: Test Statistic = {stat_control}, p-value = {p_control}\")\n",
        "\n",
        "# Step 3: Perform the Shapiro-Wilk test for the variant group\n",
        "stat_variant, p_variant = shapiro(variant_group)\n",
        "print(f\"Variant Group: Test Statistic = {stat_variant}, p-value = {p_variant}\")\n",
        "\n",
        "# Step 4: Interpretation based on p-values\n",
        "if p_control < 0.05:\n",
        "    print(\"Conclusion for Control Group: The null hypothesis is rejected. The revenue data is not normally distributed.\")\n",
        "else:\n",
        "    print(\"Conclusion for Control Group: The null hypothesis is not rejected. The revenue data is normally distributed.\")\n",
        "\n",
        "if p_variant < 0.05:\n",
        "    print(\"Conclusion for Variant Group: The null hypothesis is rejected. The revenue data is not normally distributed.\")\n",
        "else:\n",
        "    print(\"Conclusion for Variant Group: The null hypothesis is not rejected. The revenue data is normally distributed.\")\n"
      ],
      "metadata": {
        "execution": {
          "iopub.status.busy": "2023-11-06T18:33:49.418255Z",
          "iopub.execute_input": "2023-11-06T18:33:49.419188Z",
          "iopub.status.idle": "2023-11-06T18:33:49.439409Z",
          "shell.execute_reply.started": "2023-11-06T18:33:49.41913Z",
          "shell.execute_reply": "2023-11-06T18:33:49.438008Z"
        },
        "trusted": true,
        "id": "TT2sJwFprvut",
        "colab": {
          "base_uri": "https://localhost:8080/"
        },
        "outputId": "8f4e7bf6-1c8a-4fd0-8192-89bc8fe29fd5"
      },
      "execution_count": 8,
      "outputs": [
        {
          "output_type": "stream",
          "name": "stdout",
          "text": [
            "Control Group: Test Statistic = 0.01833147442513483, p-value = 2.4983285100057203e-95\n",
            "Variant Group: Test Statistic = 0.027033073451830147, p-value = 2.7310104028899288e-95\n",
            "Conclusion for Control Group: The null hypothesis is rejected. The revenue data is not normally distributed.\n",
            "Conclusion for Variant Group: The null hypothesis is rejected. The revenue data is not normally distributed.\n"
          ]
        },
        {
          "output_type": "stream",
          "name": "stderr",
          "text": [
            "/usr/local/lib/python3.10/dist-packages/scipy/stats/_axis_nan_policy.py:531: UserWarning: scipy.stats.shapiro: For N > 5000, computed p-value may not be accurate. Current N is 5016.\n",
            "  res = hypotest_fun_out(*samples, **kwds)\n"
          ]
        }
      ]
    },
    {
      "cell_type": "code",
      "source": [
        "# TODO : test for the homogeneity of variances between two groups (variant and control) within your DataFrame df using the Levene's test,  what can you conclude ?\n",
        "# Import the necessary library for Levene's test\n",
        "from scipy.stats import levene\n",
        "\n",
        "# Step 1: Separate the revenue data into two groups: control and variant\n",
        "control_group = data[data['VARIANT_NAME'] == 'control']['REVENUE']  # Revenue data for control group\n",
        "variant_group = data[data['VARIANT_NAME'] == 'variant']['REVENUE']  # Revenue data for variant group\n",
        "\n",
        "# Step 2: Perform Levene's Test for homogeneity of variances\n",
        "stat, p_value = levene(control_group, variant_group)\n",
        "print(f\"Levene's Test Statistic = {stat}, p-value = {p_value}\")\n",
        "\n",
        "# Step 3: Interpret the results\n",
        "if p_value < 0.05:\n",
        "    print(\"Conclusion: The null hypothesis is rejected. The variances are significantly different between the two groups (not homogeneous).\")\n",
        "else:\n",
        "    print(\"Conclusion: The null hypothesis is not rejected. The variances are not significantly different (homogeneous).\")\n"
      ],
      "metadata": {
        "execution": {
          "iopub.status.busy": "2023-11-06T18:36:19.230691Z",
          "iopub.execute_input": "2023-11-06T18:36:19.231134Z",
          "iopub.status.idle": "2023-11-06T18:36:19.251023Z",
          "shell.execute_reply.started": "2023-11-06T18:36:19.231103Z",
          "shell.execute_reply": "2023-11-06T18:36:19.249467Z"
        },
        "trusted": true,
        "id": "n_X3_fU2rvuv",
        "colab": {
          "base_uri": "https://localhost:8080/"
        },
        "outputId": "19a2c5bd-0e2c-4e38-8481-a8f7e2cb7156"
      },
      "execution_count": 10,
      "outputs": [
        {
          "output_type": "stream",
          "name": "stdout",
          "text": [
            "Levene's Test Statistic = 1.6158565214488871, p-value = 0.2037000785338918\n",
            "Conclusion: The null hypothesis is not rejected. The variances are not significantly different (homogeneous).\n"
          ]
        }
      ]
    },
    {
      "cell_type": "markdown",
      "source": [
        "# Non-Parametric Test (mannwhitneyu Test)"
      ],
      "metadata": {
        "id": "thz0Mml0rvuw"
      }
    },
    {
      "cell_type": "code",
      "source": [
        "# TODO : perform the Mann-Whitney U test for comparing the average revenue between the variant and control groups in your DataFrame, what can you conclude ?"
      ],
      "metadata": {
        "execution": {
          "iopub.status.busy": "2023-11-06T18:38:28.694822Z",
          "iopub.execute_input": "2023-11-06T18:38:28.695244Z",
          "iopub.status.idle": "2023-11-06T18:38:28.727682Z",
          "shell.execute_reply.started": "2023-11-06T18:38:28.695212Z",
          "shell.execute_reply": "2023-11-06T18:38:28.726189Z"
        },
        "trusted": true,
        "id": "HGcWTyuUrvuw"
      },
      "execution_count": null,
      "outputs": []
    },
    {
      "cell_type": "code",
      "source": [
        "# Import the necessary library for Mann-Whitney U test\n",
        "from scipy.stats import mannwhitneyu\n",
        "\n",
        "# Step 1: Separate the revenue data into two groups: control and variant\n",
        "control_group = data[data['VARIANT_NAME'] == 'control']['REVENUE']  # Revenue data for control group\n",
        "variant_group = data[data['VARIANT_NAME'] == 'variant']['REVENUE']  # Revenue data for variant group\n",
        "\n",
        "# Step 2: Perform the Mann-Whitney U Test\n",
        "stat, p_value = mannwhitneyu(control_group, variant_group, alternative='two-sided')\n",
        "\n",
        "# Step 3: Display the results\n",
        "print(f\"Mann-Whitney U Test Statistic = {stat}, p-value = {p_value}\")\n",
        "\n",
        "# Step 4: Interpretation based on p-value\n",
        "if p_value < 0.05:\n",
        "    print(\"Conclusion: The null hypothesis is rejected. There is a significant difference in revenue distributions between the control and variant groups.\")\n",
        "else:\n",
        "    print(\"Conclusion: The null hypothesis is not rejected. There is no significant difference in revenue distributions between the control and variant groups.\")\n"
      ],
      "metadata": {
        "colab": {
          "base_uri": "https://localhost:8080/"
        },
        "id": "12lBnHoluhdT",
        "outputId": "789dda49-fe78-47ad-9180-cdb0ab8ad6c6"
      },
      "execution_count": 12,
      "outputs": [
        {
          "output_type": "stream",
          "name": "stdout",
          "text": [
            "Mann-Whitney U Test Statistic = 12521564.0, p-value = 0.47825247965294926\n",
            "Conclusion: The null hypothesis is not rejected. There is no significant difference in revenue distributions between the control and variant groups.\n"
          ]
        }
      ]
    },
    {
      "cell_type": "code",
      "source": [
        "# TODO : create a bar plot showing the average revenues by variant names using the seaborn library\n",
        "import seaborn as sns\n",
        "import matplotlib.pyplot as plt\n",
        "\n",
        "# Step 1: Calculate the average revenue for each variant group\n",
        "average_revenue_df = data.groupby('VARIANT_NAME', as_index=False)['REVENUE'].mean()\n",
        "\n",
        "# Step 2: Create a bar plot using seaborn (without the palette argument)\n",
        "plt.figure(figsize=(8, 6))  # Set the figure size\n",
        "sns.barplot(x='VARIANT_NAME', y='REVENUE', data=average_revenue_df)\n",
        "\n",
        "# Step 3: Add labels and title to the plot\n",
        "plt.title('Average Revenue by Variant Group')\n",
        "plt.xlabel('Variant Group')\n",
        "plt.ylabel('Average Revenue')\n",
        "\n",
        "plt.show()\n",
        "\n"
      ],
      "metadata": {
        "execution": {
          "iopub.status.busy": "2023-11-06T18:45:29.181657Z",
          "iopub.execute_input": "2023-11-06T18:45:29.18208Z",
          "iopub.status.idle": "2023-11-06T18:45:29.640026Z",
          "shell.execute_reply.started": "2023-11-06T18:45:29.182049Z",
          "shell.execute_reply": "2023-11-06T18:45:29.638846Z"
        },
        "trusted": true,
        "id": "jtjQGGsDrvux",
        "colab": {
          "base_uri": "https://localhost:8080/",
          "height": 564
        },
        "outputId": "85d911cb-bc5a-4096-94f8-aaa5e9bd5db4"
      },
      "execution_count": 16,
      "outputs": [
        {
          "output_type": "display_data",
          "data": {
            "text/plain": [
              "<Figure size 800x600 with 1 Axes>"
            ],
            "image/png": "[encoded data removed]"
          },
          "metadata": {}
        }
      ]
    }
  ]
}