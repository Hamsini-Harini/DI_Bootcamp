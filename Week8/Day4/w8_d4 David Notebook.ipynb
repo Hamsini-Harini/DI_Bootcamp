{
  "nbformat": 4,
  "nbformat_minor": 0,
  "metadata": {
    "colab": {
      "provenance": []
    },
    "kernelspec": {
      "name": "python3",
      "display_name": "Python 3"
    },
    "language_info": {
      "name": "python"
    }
  },
  "cells": [
    {
      "cell_type": "markdown",
      "source": [
        "# Power Analysis in A/B Testing"
      ],
      "metadata": {
        "id": "73aCtkZMr5ki"
      }
    },
    {
      "cell_type": "markdown",
      "source": [
        "## Example 1: Determining Sample Size"
      ],
      "metadata": {
        "id": "qhQVMhvQr_Sm"
      }
    },
    {
      "cell_type": "code",
      "execution_count": null,
      "metadata": {
        "colab": {
          "base_uri": "https://localhost:8080/"
        },
        "id": "hTYgpXoqiDk7",
        "outputId": "f7ec87ac-d3a7-4e48-b5d8-bfa96a4648b6"
      },
      "outputs": [
        {
          "output_type": "stream",
          "name": "stdout",
          "text": [
            "Required sample size: 63.77\n"
          ]
        }
      ],
      "source": [
        "# Import\n",
        "from statsmodels.stats.power import TTestIndPower\n",
        "\n",
        "# Define parameters\n",
        "effect_size = 0.5\n",
        "alpha = 0.05\n",
        "power = 0.8\n",
        "\n",
        "# Create an instance of TTestIndPower\n",
        "power_analysis = TTestIndPower()\n",
        "\n",
        "# Calculate the sample size for each group to achieve the defined power\n",
        "sample_size = power_analysis.solve_power(effect_size = effect_size, alpha = alpha, power = power)\n",
        "\n",
        "# Display the result\n",
        "print(f\"Required sample size: {sample_size:.2f}\")"
      ]
    },
    {
      "cell_type": "markdown",
      "source": [
        "# Overcoming Common A/B Testing Challenges"
      ],
      "metadata": {
        "id": "mVESaBFcEXzu"
      }
    },
    {
      "cell_type": "markdown",
      "source": [
        "## Exercise 1: Implementing Bootstrapping\n"
      ],
      "metadata": {
        "id": "RK4qgU5fEcNP"
      }
    },
    {
      "cell_type": "code",
      "source": [
        "# Simulate some data for our 2 versions\n",
        "\n",
        "# import\n",
        "import numpy as np\n",
        "\n",
        "# Set a random seed for reproducibility\n",
        "np.random.seed(37)\n",
        "\n",
        "# Simulate data for version A with 30% CTR\n",
        "version_A = np.random.choice([0, 1], size = 40, p = [0.7, 0.3])\n",
        "\n",
        "# Simulate data for version B with 60% CTR\n",
        "version_B = np.random.choice([0, 1], size = 40, p = [0.4, 0.6])\n",
        "\n",
        "# Display our data:\n",
        "print(f\"Data for version A (0: no click, 1: click): {version_A}\")\n",
        "print(f\"Data for version B (0: no click, 1: click): {version_B}\")"
      ],
      "metadata": {
        "colab": {
          "base_uri": "https://localhost:8080/"
        },
        "id": "pGxE61o9tbBd",
        "outputId": "e67c2cad-a56d-42a4-9958-6ea18d503e5b"
      },
      "execution_count": null,
      "outputs": [
        {
          "output_type": "stream",
          "name": "stdout",
          "text": [
            "Data for version A (0: no click, 1: click): [1 0 0 0 0 0 0 1 0 1 1 0 0 1 1 0 0 0 1 1 0 0 0 0 1 1 0 0 0 1 1 0 0 0 0 1 0\n",
            " 0 1 0]\n",
            "Data for version B (0: no click, 1: click): [0 1 0 1 1 1 1 1 1 0 1 1 1 1 1 1 1 1 0 1 1 1 1 1 0 1 1 0 0 1 1 1 1 1 1 1 1\n",
            " 0 1 1]\n"
          ]
        }
      ]
    },
    {
      "cell_type": "code",
      "source": [
        "# Bootstrapping\n",
        "\n",
        "# Define a bootstrapping function\n",
        "def bootstrap_diff(version_A, version_B, num_resamples = 1000):\n",
        "  # Store the differences between the mean differences\n",
        "  mean_diffs = []\n",
        "\n",
        "  # Perform boostrapping\n",
        "  for _ in range(num_resamples):\n",
        "    # Resample with replacement\n",
        "    resample_A = np.random.choice(version_A, size = len(version_A), replace = True)\n",
        "    resample_B = np.random.choice(version_B, size = len(version_B), replace = True)\n",
        "\n",
        "    # Calculate the mean of the resamples\n",
        "    mean_A = np.mean(resample_A)\n",
        "    mean_B = np.mean(resample_B)\n",
        "\n",
        "    # Calculate the difference in means\n",
        "    mean_diffs.append(mean_B - mean_A)\n",
        "\n",
        "  # Calculate the 95% confidence interval (2.5th and 97.5th percentiles)\n",
        "  conf_interval = np.percentile(mean_diffs, [2.5, 97.5])\n",
        "\n",
        "  return np.mean(mean_diffs), conf_interval\n",
        "\n",
        "# Run the boostrapping function\n",
        "mean_diff, conf_interval = bootstrap_diff(version_A, version_B)\n",
        "\n",
        "# Display the results\n",
        "print(f\"Mean difference in CTR: {mean_diff:.4f}\")\n",
        "print(f\"95% confidence interval for the difference: {conf_interval}\")\n"
      ],
      "metadata": {
        "colab": {
          "base_uri": "https://localhost:8080/"
        },
        "id": "LiddMJCTGB9a",
        "outputId": "f320ba05-d221-4750-ab7f-c80408d37e48"
      },
      "execution_count": null,
      "outputs": [
        {
          "output_type": "stream",
          "name": "stdout",
          "text": [
            "Mean difference in CTR: 0.4431\n",
            "95% confidence interval for the difference: [0.249375 0.625   ]\n"
          ]
        }
      ]
    }
  ]
}