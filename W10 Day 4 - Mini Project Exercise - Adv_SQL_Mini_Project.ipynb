{
  "nbformat": 4,
  "nbformat_minor": 0,
  "metadata": {
    "colab": {
      "provenance": [],
      "authorship_tag": "ABX9TyMFw71+2tVeQBnRPkGvnKaJ",
      "include_colab_link": true
    },
    "kernelspec": {
      "name": "python3",
      "display_name": "Python 3"
    },
    "language_info": {
      "name": "python"
    }
  },
  "cells": [
    {
      "cell_type": "markdown",
      "metadata": {
        "id": "view-in-github",
        "colab_type": "text"
      },
      "source": [
        "<a href=\"https://colab.research.google.com/github/Hamsini-Harini/DI_Bootcamp/blob/main/W10%20Day%204%20-%20Mini%20Project%20Exercise%20-%20Adv_SQL_Mini_Project.ipynb\" target=\"_parent\"><img src=\"https://colab.research.google.com/assets/colab-badge.svg\" alt=\"Open In Colab\"/></a>"
      ]
    },
    {
      "cell_type": "code",
      "execution_count": 9,
      "metadata": {
        "colab": {
          "base_uri": "https://localhost:8080/",
          "height": 226
        },
        "id": "2YiOSTDJG9cX",
        "outputId": "9f0c2af1-2546-4e89-b949-a2986025fe06"
      },
      "outputs": [
        {
          "output_type": "execute_result",
          "data": {
            "text/plain": [
              "                           order_id  payment_sequential payment_type  \\\n",
              "0  b81ef226f3fe1789b1e8b2acac839d17                   1  credit_card   \n",
              "1  a9810da82917af2d9aefd1278f1dcfa0                   1  credit_card   \n",
              "2  25e8ea4e93396b6fa0d3dd708e76c1bd                   1  credit_card   \n",
              "3  ba78997921bbcdc1373bb41e913ab953                   1  credit_card   \n",
              "4  42fdf880ba16b47b59251dd489d4441a                   1  credit_card   \n",
              "\n",
              "   payment_installments  payment_value  \n",
              "0                     8          99.33  \n",
              "1                     1          24.39  \n",
              "2                     1          65.71  \n",
              "3                     8         107.78  \n",
              "4                     2         128.45  "
            ],
            "text/html": [
              "\n",
              "  <div id=\"df-7e34ed21-5834-4de7-81ea-b6b6436b36b6\" class=\"colab-df-container\">\n",
              "    <div>\n",
              "<style scoped>\n",
              "    .dataframe tbody tr th:only-of-type {\n",
              "        vertical-align: middle;\n",
              "    }\n",
              "\n",
              "    .dataframe tbody tr th {\n",
              "        vertical-align: top;\n",
              "    }\n",
              "\n",
              "    .dataframe thead th {\n",
              "        text-align: right;\n",
              "    }\n",
              "</style>\n",
              "<table border=\"1\" class=\"dataframe\">\n",
              "  <thead>\n",
              "    <tr style=\"text-align: right;\">\n",
              "      <th></th>\n",
              "      <th>order_id</th>\n",
              "      <th>payment_sequential</th>\n",
              "      <th>payment_type</th>\n",
              "      <th>payment_installments</th>\n",
              "      <th>payment_value</th>\n",
              "    </tr>\n",
              "  </thead>\n",
              "  <tbody>\n",
              "    <tr>\n",
              "      <th>0</th>\n",
              "      <td>b81ef226f3fe1789b1e8b2acac839d17</td>\n",
              "      <td>1</td>\n",
              "      <td>credit_card</td>\n",
              "      <td>8</td>\n",
              "      <td>99.33</td>\n",
              "    </tr>\n",
              "    <tr>\n",
              "      <th>1</th>\n",
              "      <td>a9810da82917af2d9aefd1278f1dcfa0</td>\n",
              "      <td>1</td>\n",
              "      <td>credit_card</td>\n",
              "      <td>1</td>\n",
              "      <td>24.39</td>\n",
              "    </tr>\n",
              "    <tr>\n",
              "      <th>2</th>\n",
              "      <td>25e8ea4e93396b6fa0d3dd708e76c1bd</td>\n",
              "      <td>1</td>\n",
              "      <td>credit_card</td>\n",
              "      <td>1</td>\n",
              "      <td>65.71</td>\n",
              "    </tr>\n",
              "    <tr>\n",
              "      <th>3</th>\n",
              "      <td>ba78997921bbcdc1373bb41e913ab953</td>\n",
              "      <td>1</td>\n",
              "      <td>credit_card</td>\n",
              "      <td>8</td>\n",
              "      <td>107.78</td>\n",
              "    </tr>\n",
              "    <tr>\n",
              "      <th>4</th>\n",
              "      <td>42fdf880ba16b47b59251dd489d4441a</td>\n",
              "      <td>1</td>\n",
              "      <td>credit_card</td>\n",
              "      <td>2</td>\n",
              "      <td>128.45</td>\n",
              "    </tr>\n",
              "  </tbody>\n",
              "</table>\n",
              "</div>\n",
              "    <div class=\"colab-df-buttons\">\n",
              "      \n",
              "  <div class=\"colab-df-container\">\n",
              "    <button class=\"colab-df-convert\" onclick=\"convertToInteractive('df-7e34ed21-5834-4de7-81ea-b6b6436b36b6')\"\n",
              "            title=\"Convert this dataframe to an interactive table.\"\n",
              "            style=\"display:none;\">\n",
              "      \n",
              "  <svg xmlns=\"http://www.w3.org/2000/svg\" height=\"24px\" viewBox=\"0 -960 960 960\">\n",
              "    <path d=\"M120-120v-720h720v720H120Zm60-500h600v-160H180v160Zm220 220h160v-160H400v160Zm0 220h160v-160H400v160ZM180-400h160v-160H180v160Zm440 0h160v-160H620v160ZM180-180h160v-160H180v160Zm440 0h160v-160H620v160Z\"/>\n",
              "  </svg>\n",
              "    </button>\n",
              "    \n",
              "  <style>\n",
              "    .colab-df-container {\n",
              "      display:flex;\n",
              "      gap: 12px;\n",
              "    }\n",
              "\n",
              "    .colab-df-convert {\n",
              "      background-color: #E8F0FE;\n",
              "      border: none;\n",
              "      border-radius: 50%;\n",
              "      cursor: pointer;\n",
              "      display: none;\n",
              "      fill: #1967D2;\n",
              "      height: 32px;\n",
              "      padding: 0 0 0 0;\n",
              "      width: 32px;\n",
              "    }\n",
              "\n",
              "    .colab-df-convert:hover {\n",
              "      background-color: #E2EBFA;\n",
              "      box-shadow: 0px 1px 2px rgba(60, 64, 67, 0.3), 0px 1px 3px 1px rgba(60, 64, 67, 0.15);\n",
              "      fill: #174EA6;\n",
              "    }\n",
              "\n",
              "    .colab-df-buttons div {\n",
              "      margin-bottom: 4px;\n",
              "    }\n",
              "\n",
              "    [theme=dark] .colab-df-convert {\n",
              "      background-color: #3B4455;\n",
              "      fill: #D2E3FC;\n",
              "    }\n",
              "\n",
              "    [theme=dark] .colab-df-convert:hover {\n",
              "      background-color: #434B5C;\n",
              "      box-shadow: 0px 1px 3px 1px rgba(0, 0, 0, 0.15);\n",
              "      filter: drop-shadow(0px 1px 2px rgba(0, 0, 0, 0.3));\n",
              "      fill: #FFFFFF;\n",
              "    }\n",
              "  </style>\n",
              "\n",
              "    <script>\n",
              "      const buttonEl =\n",
              "        document.querySelector('#df-7e34ed21-5834-4de7-81ea-b6b6436b36b6 button.colab-df-convert');\n",
              "      buttonEl.style.display =\n",
              "        google.colab.kernel.accessAllowed ? 'block' : 'none';\n",
              "\n",
              "      async function convertToInteractive(key) {\n",
              "        const element = document.querySelector('#df-7e34ed21-5834-4de7-81ea-b6b6436b36b6');\n",
              "        const dataTable =\n",
              "          await google.colab.kernel.invokeFunction('convertToInteractive',\n",
              "                                                    [key], {});\n",
              "        if (!dataTable) return;\n",
              "\n",
              "        const docLinkHtml = 'Like what you see? Visit the ' +\n",
              "          '<a target=\"_blank\" href=https://colab.research.google.com/notebooks/data_table.ipynb>data table notebook</a>'\n",
              "          + ' to learn more about interactive tables.';\n",
              "        element.innerHTML = '';\n",
              "        dataTable['output_type'] = 'display_data';\n",
              "        await google.colab.output.renderOutput(dataTable, element);\n",
              "        const docLink = document.createElement('div');\n",
              "        docLink.innerHTML = docLinkHtml;\n",
              "        element.appendChild(docLink);\n",
              "      }\n",
              "    </script>\n",
              "  </div>\n",
              "  \n",
              "    </div>\n",
              "  </div>\n",
              "  "
            ],
            "application/vnd.google.colaboratory.intrinsic+json": {
              "type": "dataframe",
              "variable_name": "df_olist_order_payments"
            }
          },
          "metadata": {},
          "execution_count": 9
        }
      ],
      "source": [
        "import numpy as np # linear algebra\n",
        "import pandas as pd\n",
        "import sqlite3\n",
        "\n",
        "df_olist_customers = pd.read_csv('/content/olist_customers_dataset.csv')\n",
        "df_olist_sellers = pd.read_csv('/content/olist_sellers_dataset.csv')\n",
        "df_olist_order_reviews= pd.read_csv('/content/olist_order_reviews_dataset.csv')\n",
        "df_olist_order_items= pd.read_csv('/content/olist_order_items_dataset.csv')\n",
        "df_olist_products= pd.read_csv('/content/olist_products_dataset.csv')\n",
        "df_olist_geolocation= pd.read_csv('/content/olist_geolocation_dataset.csv')\n",
        "df_product_category_name_translation= pd.read_csv('/content/product_category_name_translation.csv')\n",
        "df_olist_orders = pd.read_csv('/content/olist_orders_dataset.csv')\n",
        "df_olist_order_payments= pd.read_csv('/content/olist_order_payments_dataset.csv')\n",
        "\n",
        "df_olist_customers.head()\n",
        "\n",
        "from sqlalchemy import create_engine\n",
        "engine = create_engine('sqlite://', echo=False)\n",
        "\n",
        "# export the dataframe as a table 'playstore' to the sqlite engine\n",
        "df_olist_customers.to_sql(\"olist_customers\", con =engine)\n",
        "df_olist_sellers.to_sql(\"olist_sellers\", con =engine)\n",
        "df_olist_order_reviews.to_sql(\"olist_order_reviews\", con =engine)\n",
        "df_olist_order_items.to_sql(\"olist_order_items\", con =engine)\n",
        "df_olist_products.to_sql(\"olist_products_dataset\", con =engine)\n",
        "df_olist_geolocation.to_sql(\"olist_geolocation\", con =engine)\n",
        "df_product_category_name_translation.to_sql(\"product_category_name_translation\", con =engine)\n",
        "df_olist_orders.to_sql(\"olist_orders\", con =engine)\n",
        "df_olist_order_payments.to_sql(\"olist_order_payments\", con =engine)\n",
        "df_olist_order_payments.head()"
      ]
    },
    {
      "cell_type": "code",
      "source": [
        "# TEST\n",
        "sql='''\n",
        "Select * from olist_customers\n",
        "limit 5\n",
        "''';\n",
        "\n",
        "\n",
        "df_sql = pd.read_sql_query(sql,con=engine)\n",
        "df_sql.head()"
      ],
      "metadata": {
        "colab": {
          "base_uri": "https://localhost:8080/",
          "height": 261
        },
        "id": "2wSM-pzHR5df",
        "outputId": "12a791fe-eb14-498b-b5fa-7d2646af1197"
      },
      "execution_count": 10,
      "outputs": [
        {
          "output_type": "execute_result",
          "data": {
            "text/plain": [
              "   index                       customer_id                customer_unique_id  \\\n",
              "0      0  06b8999e2fba1a1fbc88172c00ba8bc7  861eff4711a542e4b93843c6dd7febb0   \n",
              "1      1  18955e83d337fd6b2def6b18a428ac77  290c77bc529b7ac935b93aa66c333dc3   \n",
              "2      2  4e7b3e00288586ebd08712fdd0374a03  060e732b5b29e8181a18229c7b0b2b5e   \n",
              "3      3  b2b6027bc5c5109e529d4dc6358b12c3  259dac757896d24d7702b9acbbff3f3c   \n",
              "4      4  4f2d8ab171c80ec8364f7c12e35b23ad  345ecd01c38d18a9036ed96c73b8d066   \n",
              "\n",
              "   customer_zip_code_prefix          customer_city customer_state  \n",
              "0                     14409                 franca             SP  \n",
              "1                      9790  sao bernardo do campo             SP  \n",
              "2                      1151              sao paulo             SP  \n",
              "3                      8775        mogi das cruzes             SP  \n",
              "4                     13056               campinas             SP  "
            ],
            "text/html": [
              "\n",
              "  <div id=\"df-25beb0f4-fcb5-4af2-a118-597621d0f60f\" class=\"colab-df-container\">\n",
              "    <div>\n",
              "<style scoped>\n",
              "    .dataframe tbody tr th:only-of-type {\n",
              "        vertical-align: middle;\n",
              "    }\n",
              "\n",
              "    .dataframe tbody tr th {\n",
              "        vertical-align: top;\n",
              "    }\n",
              "\n",
              "    .dataframe thead th {\n",
              "        text-align: right;\n",
              "    }\n",
              "</style>\n",
              "<table border=\"1\" class=\"dataframe\">\n",
              "  <thead>\n",
              "    <tr style=\"text-align: right;\">\n",
              "      <th></th>\n",
              "      <th>index</th>\n",
              "      <th>customer_id</th>\n",
              "      <th>customer_unique_id</th>\n",
              "      <th>customer_zip_code_prefix</th>\n",
              "      <th>customer_city</th>\n",
              "      <th>customer_state</th>\n",
              "    </tr>\n",
              "  </thead>\n",
              "  <tbody>\n",
              "    <tr>\n",
              "      <th>0</th>\n",
              "      <td>0</td>\n",
              "      <td>06b8999e2fba1a1fbc88172c00ba8bc7</td>\n",
              "      <td>861eff4711a542e4b93843c6dd7febb0</td>\n",
              "      <td>14409</td>\n",
              "      <td>franca</td>\n",
              "      <td>SP</td>\n",
              "    </tr>\n",
              "    <tr>\n",
              "      <th>1</th>\n",
              "      <td>1</td>\n",
              "      <td>18955e83d337fd6b2def6b18a428ac77</td>\n",
              "      <td>290c77bc529b7ac935b93aa66c333dc3</td>\n",
              "      <td>9790</td>\n",
              "      <td>sao bernardo do campo</td>\n",
              "      <td>SP</td>\n",
              "    </tr>\n",
              "    <tr>\n",
              "      <th>2</th>\n",
              "      <td>2</td>\n",
              "      <td>4e7b3e00288586ebd08712fdd0374a03</td>\n",
              "      <td>060e732b5b29e8181a18229c7b0b2b5e</td>\n",
              "      <td>1151</td>\n",
              "      <td>sao paulo</td>\n",
              "      <td>SP</td>\n",
              "    </tr>\n",
              "    <tr>\n",
              "      <th>3</th>\n",
              "      <td>3</td>\n",
              "      <td>b2b6027bc5c5109e529d4dc6358b12c3</td>\n",
              "      <td>259dac757896d24d7702b9acbbff3f3c</td>\n",
              "      <td>8775</td>\n",
              "      <td>mogi das cruzes</td>\n",
              "      <td>SP</td>\n",
              "    </tr>\n",
              "    <tr>\n",
              "      <th>4</th>\n",
              "      <td>4</td>\n",
              "      <td>4f2d8ab171c80ec8364f7c12e35b23ad</td>\n",
              "      <td>345ecd01c38d18a9036ed96c73b8d066</td>\n",
              "      <td>13056</td>\n",
              "      <td>campinas</td>\n",
              "      <td>SP</td>\n",
              "    </tr>\n",
              "  </tbody>\n",
              "</table>\n",
              "</div>\n",
              "    <div class=\"colab-df-buttons\">\n",
              "      \n",
              "  <div class=\"colab-df-container\">\n",
              "    <button class=\"colab-df-convert\" onclick=\"convertToInteractive('df-25beb0f4-fcb5-4af2-a118-597621d0f60f')\"\n",
              "            title=\"Convert this dataframe to an interactive table.\"\n",
              "            style=\"display:none;\">\n",
              "      \n",
              "  <svg xmlns=\"http://www.w3.org/2000/svg\" height=\"24px\" viewBox=\"0 -960 960 960\">\n",
              "    <path d=\"M120-120v-720h720v720H120Zm60-500h600v-160H180v160Zm220 220h160v-160H400v160Zm0 220h160v-160H400v160ZM180-400h160v-160H180v160Zm440 0h160v-160H620v160ZM180-180h160v-160H180v160Zm440 0h160v-160H620v160Z\"/>\n",
              "  </svg>\n",
              "    </button>\n",
              "    \n",
              "  <style>\n",
              "    .colab-df-container {\n",
              "      display:flex;\n",
              "      gap: 12px;\n",
              "    }\n",
              "\n",
              "    .colab-df-convert {\n",
              "      background-color: #E8F0FE;\n",
              "      border: none;\n",
              "      border-radius: 50%;\n",
              "      cursor: pointer;\n",
              "      display: none;\n",
              "      fill: #1967D2;\n",
              "      height: 32px;\n",
              "      padding: 0 0 0 0;\n",
              "      width: 32px;\n",
              "    }\n",
              "\n",
              "    .colab-df-convert:hover {\n",
              "      background-color: #E2EBFA;\n",
              "      box-shadow: 0px 1px 2px rgba(60, 64, 67, 0.3), 0px 1px 3px 1px rgba(60, 64, 67, 0.15);\n",
              "      fill: #174EA6;\n",
              "    }\n",
              "\n",
              "    .colab-df-buttons div {\n",
              "      margin-bottom: 4px;\n",
              "    }\n",
              "\n",
              "    [theme=dark] .colab-df-convert {\n",
              "      background-color: #3B4455;\n",
              "      fill: #D2E3FC;\n",
              "    }\n",
              "\n",
              "    [theme=dark] .colab-df-convert:hover {\n",
              "      background-color: #434B5C;\n",
              "      box-shadow: 0px 1px 3px 1px rgba(0, 0, 0, 0.15);\n",
              "      filter: drop-shadow(0px 1px 2px rgba(0, 0, 0, 0.3));\n",
              "      fill: #FFFFFF;\n",
              "    }\n",
              "  </style>\n",
              "\n",
              "    <script>\n",
              "      const buttonEl =\n",
              "        document.querySelector('#df-25beb0f4-fcb5-4af2-a118-597621d0f60f button.colab-df-convert');\n",
              "      buttonEl.style.display =\n",
              "        google.colab.kernel.accessAllowed ? 'block' : 'none';\n",
              "\n",
              "      async function convertToInteractive(key) {\n",
              "        const element = document.querySelector('#df-25beb0f4-fcb5-4af2-a118-597621d0f60f');\n",
              "        const dataTable =\n",
              "          await google.colab.kernel.invokeFunction('convertToInteractive',\n",
              "                                                    [key], {});\n",
              "        if (!dataTable) return;\n",
              "\n",
              "        const docLinkHtml = 'Like what you see? Visit the ' +\n",
              "          '<a target=\"_blank\" href=https://colab.research.google.com/notebooks/data_table.ipynb>data table notebook</a>'\n",
              "          + ' to learn more about interactive tables.';\n",
              "        element.innerHTML = '';\n",
              "        dataTable['output_type'] = 'display_data';\n",
              "        await google.colab.output.renderOutput(dataTable, element);\n",
              "        const docLink = document.createElement('div');\n",
              "        docLink.innerHTML = docLinkHtml;\n",
              "        element.appendChild(docLink);\n",
              "      }\n",
              "    </script>\n",
              "  </div>\n",
              "  \n",
              "    </div>\n",
              "  </div>\n",
              "  "
            ],
            "application/vnd.google.colaboratory.intrinsic+json": {
              "type": "dataframe",
              "variable_name": "df_sql",
              "summary": "{\n  \"name\": \"df_sql\",\n  \"rows\": 5,\n  \"fields\": [\n    {\n      \"column\": \"index\",\n      \"properties\": {\n        \"dtype\": \"number\",\n        \"std\": 1,\n        \"min\": 0,\n        \"max\": 4,\n        \"num_unique_values\": 5,\n        \"samples\": [\n          1,\n          4,\n          2\n        ],\n        \"semantic_type\": \"\",\n        \"description\": \"\"\n      }\n    },\n    {\n      \"column\": \"customer_id\",\n      \"properties\": {\n        \"dtype\": \"string\",\n        \"num_unique_values\": 5,\n        \"samples\": [\n          \"18955e83d337fd6b2def6b18a428ac77\",\n          \"4f2d8ab171c80ec8364f7c12e35b23ad\",\n          \"4e7b3e00288586ebd08712fdd0374a03\"\n        ],\n        \"semantic_type\": \"\",\n        \"description\": \"\"\n      }\n    },\n    {\n      \"column\": \"customer_unique_id\",\n      \"properties\": {\n        \"dtype\": \"string\",\n        \"num_unique_values\": 5,\n        \"samples\": [\n          \"290c77bc529b7ac935b93aa66c333dc3\",\n          \"345ecd01c38d18a9036ed96c73b8d066\",\n          \"060e732b5b29e8181a18229c7b0b2b5e\"\n        ],\n        \"semantic_type\": \"\",\n        \"description\": \"\"\n      }\n    },\n    {\n      \"column\": \"customer_zip_code_prefix\",\n      \"properties\": {\n        \"dtype\": \"number\",\n        \"std\": 5172,\n        \"min\": 1151,\n        \"max\": 14409,\n        \"num_unique_values\": 5,\n        \"samples\": [\n          9790,\n          13056,\n          1151\n        ],\n        \"semantic_type\": \"\",\n        \"description\": \"\"\n      }\n    },\n    {\n      \"column\": \"customer_city\",\n      \"properties\": {\n        \"dtype\": \"string\",\n        \"num_unique_values\": 5,\n        \"samples\": [\n          \"sao bernardo do campo\",\n          \"campinas\",\n          \"sao paulo\"\n        ],\n        \"semantic_type\": \"\",\n        \"description\": \"\"\n      }\n    },\n    {\n      \"column\": \"customer_state\",\n      \"properties\": {\n        \"dtype\": \"category\",\n        \"num_unique_values\": 1,\n        \"samples\": [\n          \"SP\"\n        ],\n        \"semantic_type\": \"\",\n        \"description\": \"\"\n      }\n    }\n  ]\n}"
            }
          },
          "metadata": {},
          "execution_count": 10
        }
      ]
    },
    {
      "cell_type": "markdown",
      "source": [
        "Create a SQLite database using SQLAlchemy."
      ],
      "metadata": {
        "id": "ajdZi7U4kPym"
      }
    },
    {
      "cell_type": "code",
      "source": [
        "# Import necessary libraries\n",
        "from sqlalchemy import create_engine\n",
        "\n",
        "# Step 1: Create an SQLite engine\n",
        "# The SQLite database file will be saved in the current working directory\n",
        "# 'sqlite:///your_database_name.db' means SQLite will create a file with the name 'your_database_name.db'\n",
        "engine = create_engine('sqlite:///my_new_database.db', echo=True)\n",
        "\n",
        "# Step 2: Check if the engine is working by creating a connection\n",
        "connection = engine.connect()\n",
        "\n",
        "# Now the database 'my_new_database.db' is created and stored in the file system.\n",
        "# You can use the engine to execute SQL queries or load tables (as we've already done with your dataframes).\n"
      ],
      "metadata": {
        "id": "l2D2Rcn0kRA8"
      },
      "execution_count": 11,
      "outputs": []
    },
    {
      "cell_type": "markdown",
      "source": [
        "Export each dataframe as a table to the SQLite database."
      ],
      "metadata": {
        "id": "nQCmyhjOxdI3"
      }
    },
    {
      "cell_type": "code",
      "source": [
        "from sqlalchemy import create_engine, inspect\n",
        "# Step 2: Export the dataframes as tables in the SQLite database\n",
        "# Assuming you already have the following dataframes loaded in memory\n",
        "\n",
        "# Export each dataframe as a table in the SQLite database\n",
        "df_olist_customers.to_sql(\"olist_customers\", con=engine, if_exists='replace', index=False)\n",
        "df_olist_sellers.to_sql(\"olist_sellers\", con=engine, if_exists='replace', index=False)\n",
        "df_olist_order_reviews.to_sql(\"olist_order_reviews\", con=engine, if_exists='replace', index=False)\n",
        "df_olist_order_items.to_sql(\"olist_order_items\", con=engine, if_exists='replace', index=False)\n",
        "df_olist_products.to_sql(\"olist_products\", con=engine, if_exists='replace', index=False)\n",
        "df_olist_geolocation.to_sql(\"olist_geolocation\", con=engine, if_exists='replace', index=False)\n",
        "df_product_category_name_translation.to_sql(\"product_category_name_translation\", con=engine, if_exists='replace', index=False)\n",
        "df_olist_orders.to_sql(\"olist_orders\", con=engine, if_exists='replace', index=False)\n",
        "df_olist_order_payments.to_sql(\"olist_order_payments\", con=engine, if_exists='replace', index=False)\n",
        "\n",
        "# Step 3: Use the inspect function to list all table names\n",
        "inspector = inspect(engine)\n",
        "table_list = inspector.get_table_names()\n",
        "print(\"Tables in the database:\", table_list)"
      ],
      "metadata": {
        "colab": {
          "base_uri": "https://localhost:8080/"
        },
        "id": "y1RclrbOxiDm",
        "outputId": "b6373a5b-73bf-405e-c8b0-efa2240289ba"
      },
      "execution_count": 12,
      "outputs": [
        {
          "output_type": "stream",
          "name": "stdout",
          "text": [
            "2024-10-29 17:10:11,415 INFO sqlalchemy.engine.Engine BEGIN (implicit)\n"
          ]
        },
        {
          "output_type": "stream",
          "name": "stderr",
          "text": [
            "INFO:sqlalchemy.engine.Engine:BEGIN (implicit)\n"
          ]
        },
        {
          "output_type": "stream",
          "name": "stdout",
          "text": [
            "2024-10-29 17:10:11,430 INFO sqlalchemy.engine.Engine PRAGMA main.table_info(\"olist_customers\")\n"
          ]
        },
        {
          "output_type": "stream",
          "name": "stderr",
          "text": [
            "INFO:sqlalchemy.engine.Engine:PRAGMA main.table_info(\"olist_customers\")\n"
          ]
        },
        {
          "output_type": "stream",
          "name": "stdout",
          "text": [
            "2024-10-29 17:10:11,434 INFO sqlalchemy.engine.Engine [raw sql] ()\n"
          ]
        },
        {
          "output_type": "stream",
          "name": "stderr",
          "text": [
            "INFO:sqlalchemy.engine.Engine:[raw sql] ()\n"
          ]
        },
        {
          "output_type": "stream",
          "name": "stdout",
          "text": [
            "2024-10-29 17:10:11,437 INFO sqlalchemy.engine.Engine PRAGMA main.table_info(\"olist_customers\")\n"
          ]
        },
        {
          "output_type": "stream",
          "name": "stderr",
          "text": [
            "INFO:sqlalchemy.engine.Engine:PRAGMA main.table_info(\"olist_customers\")\n"
          ]
        },
        {
          "output_type": "stream",
          "name": "stdout",
          "text": [
            "2024-10-29 17:10:11,439 INFO sqlalchemy.engine.Engine [raw sql] ()\n"
          ]
        },
        {
          "output_type": "stream",
          "name": "stderr",
          "text": [
            "INFO:sqlalchemy.engine.Engine:[raw sql] ()\n"
          ]
        },
        {
          "output_type": "stream",
          "name": "stdout",
          "text": [
            "2024-10-29 17:10:11,442 INFO sqlalchemy.engine.Engine SELECT name FROM sqlite_master WHERE type='table' AND name NOT LIKE 'sqlite~_%' ESCAPE '~' ORDER BY name\n"
          ]
        },
        {
          "output_type": "stream",
          "name": "stderr",
          "text": [
            "INFO:sqlalchemy.engine.Engine:SELECT name FROM sqlite_master WHERE type='table' AND name NOT LIKE 'sqlite~_%' ESCAPE '~' ORDER BY name\n"
          ]
        },
        {
          "output_type": "stream",
          "name": "stdout",
          "text": [
            "2024-10-29 17:10:11,444 INFO sqlalchemy.engine.Engine [raw sql] ()\n"
          ]
        },
        {
          "output_type": "stream",
          "name": "stderr",
          "text": [
            "INFO:sqlalchemy.engine.Engine:[raw sql] ()\n"
          ]
        },
        {
          "output_type": "stream",
          "name": "stdout",
          "text": [
            "2024-10-29 17:10:11,447 INFO sqlalchemy.engine.Engine SELECT name FROM sqlite_master WHERE type='view' AND name NOT LIKE 'sqlite~_%' ESCAPE '~' ORDER BY name\n"
          ]
        },
        {
          "output_type": "stream",
          "name": "stderr",
          "text": [
            "INFO:sqlalchemy.engine.Engine:SELECT name FROM sqlite_master WHERE type='view' AND name NOT LIKE 'sqlite~_%' ESCAPE '~' ORDER BY name\n"
          ]
        },
        {
          "output_type": "stream",
          "name": "stdout",
          "text": [
            "2024-10-29 17:10:11,449 INFO sqlalchemy.engine.Engine [raw sql] ()\n"
          ]
        },
        {
          "output_type": "stream",
          "name": "stderr",
          "text": [
            "INFO:sqlalchemy.engine.Engine:[raw sql] ()\n"
          ]
        },
        {
          "output_type": "stream",
          "name": "stdout",
          "text": [
            "2024-10-29 17:10:11,452 INFO sqlalchemy.engine.Engine PRAGMA main.table_xinfo(\"olist_customers\")\n"
          ]
        },
        {
          "output_type": "stream",
          "name": "stderr",
          "text": [
            "INFO:sqlalchemy.engine.Engine:PRAGMA main.table_xinfo(\"olist_customers\")\n"
          ]
        },
        {
          "output_type": "stream",
          "name": "stdout",
          "text": [
            "2024-10-29 17:10:11,455 INFO sqlalchemy.engine.Engine [raw sql] ()\n"
          ]
        },
        {
          "output_type": "stream",
          "name": "stderr",
          "text": [
            "INFO:sqlalchemy.engine.Engine:[raw sql] ()\n"
          ]
        },
        {
          "output_type": "stream",
          "name": "stdout",
          "text": [
            "2024-10-29 17:10:11,457 INFO sqlalchemy.engine.Engine SELECT sql FROM  (SELECT * FROM sqlite_master UNION ALL   SELECT * FROM sqlite_temp_master) WHERE name = ? AND type in ('table', 'view')\n"
          ]
        },
        {
          "output_type": "stream",
          "name": "stderr",
          "text": [
            "INFO:sqlalchemy.engine.Engine:SELECT sql FROM  (SELECT * FROM sqlite_master UNION ALL   SELECT * FROM sqlite_temp_master) WHERE name = ? AND type in ('table', 'view')\n"
          ]
        },
        {
          "output_type": "stream",
          "name": "stdout",
          "text": [
            "2024-10-29 17:10:11,459 INFO sqlalchemy.engine.Engine [raw sql] ('olist_customers',)\n"
          ]
        },
        {
          "output_type": "stream",
          "name": "stderr",
          "text": [
            "INFO:sqlalchemy.engine.Engine:[raw sql] ('olist_customers',)\n"
          ]
        },
        {
          "output_type": "stream",
          "name": "stdout",
          "text": [
            "2024-10-29 17:10:11,462 INFO sqlalchemy.engine.Engine PRAGMA main.foreign_key_list(\"olist_customers\")\n"
          ]
        },
        {
          "output_type": "stream",
          "name": "stderr",
          "text": [
            "INFO:sqlalchemy.engine.Engine:PRAGMA main.foreign_key_list(\"olist_customers\")\n"
          ]
        },
        {
          "output_type": "stream",
          "name": "stdout",
          "text": [
            "2024-10-29 17:10:11,464 INFO sqlalchemy.engine.Engine [raw sql] ()\n"
          ]
        },
        {
          "output_type": "stream",
          "name": "stderr",
          "text": [
            "INFO:sqlalchemy.engine.Engine:[raw sql] ()\n"
          ]
        },
        {
          "output_type": "stream",
          "name": "stdout",
          "text": [
            "2024-10-29 17:10:11,467 INFO sqlalchemy.engine.Engine PRAGMA temp.foreign_key_list(\"olist_customers\")\n"
          ]
        },
        {
          "output_type": "stream",
          "name": "stderr",
          "text": [
            "INFO:sqlalchemy.engine.Engine:PRAGMA temp.foreign_key_list(\"olist_customers\")\n"
          ]
        },
        {
          "output_type": "stream",
          "name": "stdout",
          "text": [
            "2024-10-29 17:10:11,469 INFO sqlalchemy.engine.Engine [raw sql] ()\n"
          ]
        },
        {
          "output_type": "stream",
          "name": "stderr",
          "text": [
            "INFO:sqlalchemy.engine.Engine:[raw sql] ()\n"
          ]
        },
        {
          "output_type": "stream",
          "name": "stdout",
          "text": [
            "2024-10-29 17:10:11,471 INFO sqlalchemy.engine.Engine SELECT sql FROM  (SELECT * FROM sqlite_master UNION ALL   SELECT * FROM sqlite_temp_master) WHERE name = ? AND type in ('table', 'view')\n"
          ]
        },
        {
          "output_type": "stream",
          "name": "stderr",
          "text": [
            "INFO:sqlalchemy.engine.Engine:SELECT sql FROM  (SELECT * FROM sqlite_master UNION ALL   SELECT * FROM sqlite_temp_master) WHERE name = ? AND type in ('table', 'view')\n"
          ]
        },
        {
          "output_type": "stream",
          "name": "stdout",
          "text": [
            "2024-10-29 17:10:11,473 INFO sqlalchemy.engine.Engine [raw sql] ('olist_customers',)\n"
          ]
        },
        {
          "output_type": "stream",
          "name": "stderr",
          "text": [
            "INFO:sqlalchemy.engine.Engine:[raw sql] ('olist_customers',)\n"
          ]
        },
        {
          "output_type": "stream",
          "name": "stdout",
          "text": [
            "2024-10-29 17:10:11,476 INFO sqlalchemy.engine.Engine PRAGMA main.index_list(\"olist_customers\")\n"
          ]
        },
        {
          "output_type": "stream",
          "name": "stderr",
          "text": [
            "INFO:sqlalchemy.engine.Engine:PRAGMA main.index_list(\"olist_customers\")\n"
          ]
        },
        {
          "output_type": "stream",
          "name": "stdout",
          "text": [
            "2024-10-29 17:10:11,478 INFO sqlalchemy.engine.Engine [raw sql] ()\n"
          ]
        },
        {
          "output_type": "stream",
          "name": "stderr",
          "text": [
            "INFO:sqlalchemy.engine.Engine:[raw sql] ()\n"
          ]
        },
        {
          "output_type": "stream",
          "name": "stdout",
          "text": [
            "2024-10-29 17:10:11,480 INFO sqlalchemy.engine.Engine PRAGMA temp.index_list(\"olist_customers\")\n"
          ]
        },
        {
          "output_type": "stream",
          "name": "stderr",
          "text": [
            "INFO:sqlalchemy.engine.Engine:PRAGMA temp.index_list(\"olist_customers\")\n"
          ]
        },
        {
          "output_type": "stream",
          "name": "stdout",
          "text": [
            "2024-10-29 17:10:11,482 INFO sqlalchemy.engine.Engine [raw sql] ()\n"
          ]
        },
        {
          "output_type": "stream",
          "name": "stderr",
          "text": [
            "INFO:sqlalchemy.engine.Engine:[raw sql] ()\n"
          ]
        },
        {
          "output_type": "stream",
          "name": "stdout",
          "text": [
            "2024-10-29 17:10:11,485 INFO sqlalchemy.engine.Engine PRAGMA main.table_info(\"olist_customers\")\n"
          ]
        },
        {
          "output_type": "stream",
          "name": "stderr",
          "text": [
            "INFO:sqlalchemy.engine.Engine:PRAGMA main.table_info(\"olist_customers\")\n"
          ]
        },
        {
          "output_type": "stream",
          "name": "stdout",
          "text": [
            "2024-10-29 17:10:11,487 INFO sqlalchemy.engine.Engine [raw sql] ()\n"
          ]
        },
        {
          "output_type": "stream",
          "name": "stderr",
          "text": [
            "INFO:sqlalchemy.engine.Engine:[raw sql] ()\n"
          ]
        },
        {
          "output_type": "stream",
          "name": "stdout",
          "text": [
            "2024-10-29 17:10:11,494 INFO sqlalchemy.engine.Engine PRAGMA main.index_list(\"olist_customers\")\n"
          ]
        },
        {
          "output_type": "stream",
          "name": "stderr",
          "text": [
            "INFO:sqlalchemy.engine.Engine:PRAGMA main.index_list(\"olist_customers\")\n"
          ]
        },
        {
          "output_type": "stream",
          "name": "stdout",
          "text": [
            "2024-10-29 17:10:11,498 INFO sqlalchemy.engine.Engine [raw sql] ()\n"
          ]
        },
        {
          "output_type": "stream",
          "name": "stderr",
          "text": [
            "INFO:sqlalchemy.engine.Engine:[raw sql] ()\n"
          ]
        },
        {
          "output_type": "stream",
          "name": "stdout",
          "text": [
            "2024-10-29 17:10:11,500 INFO sqlalchemy.engine.Engine PRAGMA temp.index_list(\"olist_customers\")\n"
          ]
        },
        {
          "output_type": "stream",
          "name": "stderr",
          "text": [
            "INFO:sqlalchemy.engine.Engine:PRAGMA temp.index_list(\"olist_customers\")\n"
          ]
        },
        {
          "output_type": "stream",
          "name": "stdout",
          "text": [
            "2024-10-29 17:10:11,504 INFO sqlalchemy.engine.Engine [raw sql] ()\n"
          ]
        },
        {
          "output_type": "stream",
          "name": "stderr",
          "text": [
            "INFO:sqlalchemy.engine.Engine:[raw sql] ()\n"
          ]
        },
        {
          "output_type": "stream",
          "name": "stdout",
          "text": [
            "2024-10-29 17:10:11,509 INFO sqlalchemy.engine.Engine PRAGMA main.table_info(\"olist_customers\")\n"
          ]
        },
        {
          "output_type": "stream",
          "name": "stderr",
          "text": [
            "INFO:sqlalchemy.engine.Engine:PRAGMA main.table_info(\"olist_customers\")\n"
          ]
        },
        {
          "output_type": "stream",
          "name": "stdout",
          "text": [
            "2024-10-29 17:10:11,511 INFO sqlalchemy.engine.Engine [raw sql] ()\n"
          ]
        },
        {
          "output_type": "stream",
          "name": "stderr",
          "text": [
            "INFO:sqlalchemy.engine.Engine:[raw sql] ()\n"
          ]
        },
        {
          "output_type": "stream",
          "name": "stdout",
          "text": [
            "2024-10-29 17:10:11,515 INFO sqlalchemy.engine.Engine SELECT sql FROM  (SELECT * FROM sqlite_master UNION ALL   SELECT * FROM sqlite_temp_master) WHERE name = ? AND type in ('table', 'view')\n"
          ]
        },
        {
          "output_type": "stream",
          "name": "stderr",
          "text": [
            "INFO:sqlalchemy.engine.Engine:SELECT sql FROM  (SELECT * FROM sqlite_master UNION ALL   SELECT * FROM sqlite_temp_master) WHERE name = ? AND type in ('table', 'view')\n"
          ]
        },
        {
          "output_type": "stream",
          "name": "stdout",
          "text": [
            "2024-10-29 17:10:11,520 INFO sqlalchemy.engine.Engine [raw sql] ('olist_customers',)\n"
          ]
        },
        {
          "output_type": "stream",
          "name": "stderr",
          "text": [
            "INFO:sqlalchemy.engine.Engine:[raw sql] ('olist_customers',)\n"
          ]
        },
        {
          "output_type": "stream",
          "name": "stdout",
          "text": [
            "2024-10-29 17:10:11,527 INFO sqlalchemy.engine.Engine \n",
            "DROP TABLE olist_customers\n"
          ]
        },
        {
          "output_type": "stream",
          "name": "stderr",
          "text": [
            "INFO:sqlalchemy.engine.Engine:\n",
            "DROP TABLE olist_customers\n"
          ]
        },
        {
          "output_type": "stream",
          "name": "stdout",
          "text": [
            "2024-10-29 17:10:11,532 INFO sqlalchemy.engine.Engine [no key 0.00493s] ()\n"
          ]
        },
        {
          "output_type": "stream",
          "name": "stderr",
          "text": [
            "INFO:sqlalchemy.engine.Engine:[no key 0.00493s] ()\n"
          ]
        },
        {
          "output_type": "stream",
          "name": "stdout",
          "text": [
            "2024-10-29 17:10:11,704 INFO sqlalchemy.engine.Engine \n",
            "CREATE TABLE olist_customers (\n",
            "\tcustomer_id TEXT, \n",
            "\tcustomer_unique_id TEXT, \n",
            "\tcustomer_zip_code_prefix BIGINT, \n",
            "\tcustomer_city TEXT, \n",
            "\tcustomer_state TEXT\n",
            ")\n",
            "\n",
            "\n"
          ]
        },
        {
          "output_type": "stream",
          "name": "stderr",
          "text": [
            "INFO:sqlalchemy.engine.Engine:\n",
            "CREATE TABLE olist_customers (\n",
            "\tcustomer_id TEXT, \n",
            "\tcustomer_unique_id TEXT, \n",
            "\tcustomer_zip_code_prefix BIGINT, \n",
            "\tcustomer_city TEXT, \n",
            "\tcustomer_state TEXT\n",
            ")\n",
            "\n",
            "\n"
          ]
        },
        {
          "output_type": "stream",
          "name": "stdout",
          "text": [
            "2024-10-29 17:10:11,710 INFO sqlalchemy.engine.Engine [no key 0.00606s] ()\n"
          ]
        },
        {
          "output_type": "stream",
          "name": "stderr",
          "text": [
            "INFO:sqlalchemy.engine.Engine:[no key 0.00606s] ()\n"
          ]
        },
        {
          "output_type": "stream",
          "name": "stdout",
          "text": [
            "2024-10-29 17:10:12,316 INFO sqlalchemy.engine.Engine INSERT INTO olist_customers (customer_id, customer_unique_id, customer_zip_code_prefix, customer_city, customer_state) VALUES (?, ?, ?, ?, ?)\n"
          ]
        },
        {
          "output_type": "stream",
          "name": "stderr",
          "text": [
            "INFO:sqlalchemy.engine.Engine:INSERT INTO olist_customers (customer_id, customer_unique_id, customer_zip_code_prefix, customer_city, customer_state) VALUES (?, ?, ?, ?, ?)\n"
          ]
        },
        {
          "output_type": "stream",
          "name": "stdout",
          "text": [
            "2024-10-29 17:10:12,320 INFO sqlalchemy.engine.Engine [generated in 0.46419s] [('06b8999e2fba1a1fbc88172c00ba8bc7', '861eff4711a542e4b93843c6dd7febb0', 14409, 'franca', 'SP'), ('18955e83d337fd6b2def6b18a428ac77', '290c77bc529b7ac935b93aa66c333dc3', 9790, 'sao bernardo do campo', 'SP'), ('4e7b3e00288586ebd08712fdd0374a03', '060e732b5b29e8181a18229c7b0b2b5e', 1151, 'sao paulo', 'SP'), ('b2b6027bc5c5109e529d4dc6358b12c3', '259dac757896d24d7702b9acbbff3f3c', 8775, 'mogi das cruzes', 'SP'), ('4f2d8ab171c80ec8364f7c12e35b23ad', '345ecd01c38d18a9036ed96c73b8d066', 13056, 'campinas', 'SP'), ('879864dab9bc3047522c92c82e1212b8', '4c93744516667ad3b8f1fb645a3116a4', 89254, 'jaragua do sul', 'SC'), ('fd826e7cf63160e536e0908c76c3f441', 'addec96d2e059c80c30fe6871d30d177', 4534, 'sao paulo', 'SP'), ('5e274e7a0c3809e14aba7ad5aae0d407', '57b2a98a409812fe9618067b6b8ebe4f', 35182, 'timoteo', 'MG')  ... displaying 10 of 99441 total bound parameter sets ...  ('56b18e2166679b8a959d72dd06da27f9', '73c2643a0a458b49f58cea58833b192e', 92120, 'canoas', 'RS'), ('274fa6071e5e17fe303b9748641082c8', '84732c5050c01db9b23e19ba39899398', 6703, 'cotia', 'SP')]\n"
          ]
        },
        {
          "output_type": "stream",
          "name": "stderr",
          "text": [
            "INFO:sqlalchemy.engine.Engine:[generated in 0.46419s] [('06b8999e2fba1a1fbc88172c00ba8bc7', '861eff4711a542e4b93843c6dd7febb0', 14409, 'franca', 'SP'), ('18955e83d337fd6b2def6b18a428ac77', '290c77bc529b7ac935b93aa66c333dc3', 9790, 'sao bernardo do campo', 'SP'), ('4e7b3e00288586ebd08712fdd0374a03', '060e732b5b29e8181a18229c7b0b2b5e', 1151, 'sao paulo', 'SP'), ('b2b6027bc5c5109e529d4dc6358b12c3', '259dac757896d24d7702b9acbbff3f3c', 8775, 'mogi das cruzes', 'SP'), ('4f2d8ab171c80ec8364f7c12e35b23ad', '345ecd01c38d18a9036ed96c73b8d066', 13056, 'campinas', 'SP'), ('879864dab9bc3047522c92c82e1212b8', '4c93744516667ad3b8f1fb645a3116a4', 89254, 'jaragua do sul', 'SC'), ('fd826e7cf63160e536e0908c76c3f441', 'addec96d2e059c80c30fe6871d30d177', 4534, 'sao paulo', 'SP'), ('5e274e7a0c3809e14aba7ad5aae0d407', '57b2a98a409812fe9618067b6b8ebe4f', 35182, 'timoteo', 'MG')  ... displaying 10 of 99441 total bound parameter sets ...  ('56b18e2166679b8a959d72dd06da27f9', '73c2643a0a458b49f58cea58833b192e', 92120, 'canoas', 'RS'), ('274fa6071e5e17fe303b9748641082c8', '84732c5050c01db9b23e19ba39899398', 6703, 'cotia', 'SP')]\n"
          ]
        },
        {
          "output_type": "stream",
          "name": "stdout",
          "text": [
            "2024-10-29 17:10:12,574 INFO sqlalchemy.engine.Engine COMMIT\n"
          ]
        },
        {
          "output_type": "stream",
          "name": "stderr",
          "text": [
            "INFO:sqlalchemy.engine.Engine:COMMIT\n"
          ]
        },
        {
          "output_type": "stream",
          "name": "stdout",
          "text": [
            "2024-10-29 17:10:12,606 INFO sqlalchemy.engine.Engine BEGIN (implicit)\n"
          ]
        },
        {
          "output_type": "stream",
          "name": "stderr",
          "text": [
            "INFO:sqlalchemy.engine.Engine:BEGIN (implicit)\n"
          ]
        },
        {
          "output_type": "stream",
          "name": "stdout",
          "text": [
            "2024-10-29 17:10:12,614 INFO sqlalchemy.engine.Engine PRAGMA main.table_info(\"olist_sellers\")\n"
          ]
        },
        {
          "output_type": "stream",
          "name": "stderr",
          "text": [
            "INFO:sqlalchemy.engine.Engine:PRAGMA main.table_info(\"olist_sellers\")\n"
          ]
        },
        {
          "output_type": "stream",
          "name": "stdout",
          "text": [
            "2024-10-29 17:10:12,617 INFO sqlalchemy.engine.Engine [raw sql] ()\n"
          ]
        },
        {
          "output_type": "stream",
          "name": "stderr",
          "text": [
            "INFO:sqlalchemy.engine.Engine:[raw sql] ()\n"
          ]
        },
        {
          "output_type": "stream",
          "name": "stdout",
          "text": [
            "2024-10-29 17:10:12,622 INFO sqlalchemy.engine.Engine PRAGMA main.table_info(\"olist_sellers\")\n"
          ]
        },
        {
          "output_type": "stream",
          "name": "stderr",
          "text": [
            "INFO:sqlalchemy.engine.Engine:PRAGMA main.table_info(\"olist_sellers\")\n"
          ]
        },
        {
          "output_type": "stream",
          "name": "stdout",
          "text": [
            "2024-10-29 17:10:12,625 INFO sqlalchemy.engine.Engine [raw sql] ()\n"
          ]
        },
        {
          "output_type": "stream",
          "name": "stderr",
          "text": [
            "INFO:sqlalchemy.engine.Engine:[raw sql] ()\n"
          ]
        },
        {
          "output_type": "stream",
          "name": "stdout",
          "text": [
            "2024-10-29 17:10:12,628 INFO sqlalchemy.engine.Engine SELECT name FROM sqlite_master WHERE type='table' AND name NOT LIKE 'sqlite~_%' ESCAPE '~' ORDER BY name\n"
          ]
        },
        {
          "output_type": "stream",
          "name": "stderr",
          "text": [
            "INFO:sqlalchemy.engine.Engine:SELECT name FROM sqlite_master WHERE type='table' AND name NOT LIKE 'sqlite~_%' ESCAPE '~' ORDER BY name\n"
          ]
        },
        {
          "output_type": "stream",
          "name": "stdout",
          "text": [
            "2024-10-29 17:10:12,630 INFO sqlalchemy.engine.Engine [raw sql] ()\n"
          ]
        },
        {
          "output_type": "stream",
          "name": "stderr",
          "text": [
            "INFO:sqlalchemy.engine.Engine:[raw sql] ()\n"
          ]
        },
        {
          "output_type": "stream",
          "name": "stdout",
          "text": [
            "2024-10-29 17:10:12,633 INFO sqlalchemy.engine.Engine SELECT name FROM sqlite_master WHERE type='view' AND name NOT LIKE 'sqlite~_%' ESCAPE '~' ORDER BY name\n"
          ]
        },
        {
          "output_type": "stream",
          "name": "stderr",
          "text": [
            "INFO:sqlalchemy.engine.Engine:SELECT name FROM sqlite_master WHERE type='view' AND name NOT LIKE 'sqlite~_%' ESCAPE '~' ORDER BY name\n"
          ]
        },
        {
          "output_type": "stream",
          "name": "stdout",
          "text": [
            "2024-10-29 17:10:12,636 INFO sqlalchemy.engine.Engine [raw sql] ()\n"
          ]
        },
        {
          "output_type": "stream",
          "name": "stderr",
          "text": [
            "INFO:sqlalchemy.engine.Engine:[raw sql] ()\n"
          ]
        },
        {
          "output_type": "stream",
          "name": "stdout",
          "text": [
            "2024-10-29 17:10:12,639 INFO sqlalchemy.engine.Engine PRAGMA main.table_xinfo(\"olist_sellers\")\n"
          ]
        },
        {
          "output_type": "stream",
          "name": "stderr",
          "text": [
            "INFO:sqlalchemy.engine.Engine:PRAGMA main.table_xinfo(\"olist_sellers\")\n"
          ]
        },
        {
          "output_type": "stream",
          "name": "stdout",
          "text": [
            "2024-10-29 17:10:12,641 INFO sqlalchemy.engine.Engine [raw sql] ()\n"
          ]
        },
        {
          "output_type": "stream",
          "name": "stderr",
          "text": [
            "INFO:sqlalchemy.engine.Engine:[raw sql] ()\n"
          ]
        },
        {
          "output_type": "stream",
          "name": "stdout",
          "text": [
            "2024-10-29 17:10:12,644 INFO sqlalchemy.engine.Engine SELECT sql FROM  (SELECT * FROM sqlite_master UNION ALL   SELECT * FROM sqlite_temp_master) WHERE name = ? AND type in ('table', 'view')\n"
          ]
        },
        {
          "output_type": "stream",
          "name": "stderr",
          "text": [
            "INFO:sqlalchemy.engine.Engine:SELECT sql FROM  (SELECT * FROM sqlite_master UNION ALL   SELECT * FROM sqlite_temp_master) WHERE name = ? AND type in ('table', 'view')\n"
          ]
        },
        {
          "output_type": "stream",
          "name": "stdout",
          "text": [
            "2024-10-29 17:10:12,646 INFO sqlalchemy.engine.Engine [raw sql] ('olist_sellers',)\n"
          ]
        },
        {
          "output_type": "stream",
          "name": "stderr",
          "text": [
            "INFO:sqlalchemy.engine.Engine:[raw sql] ('olist_sellers',)\n"
          ]
        },
        {
          "output_type": "stream",
          "name": "stdout",
          "text": [
            "2024-10-29 17:10:12,649 INFO sqlalchemy.engine.Engine PRAGMA main.foreign_key_list(\"olist_sellers\")\n"
          ]
        },
        {
          "output_type": "stream",
          "name": "stderr",
          "text": [
            "INFO:sqlalchemy.engine.Engine:PRAGMA main.foreign_key_list(\"olist_sellers\")\n"
          ]
        },
        {
          "output_type": "stream",
          "name": "stdout",
          "text": [
            "2024-10-29 17:10:12,651 INFO sqlalchemy.engine.Engine [raw sql] ()\n"
          ]
        },
        {
          "output_type": "stream",
          "name": "stderr",
          "text": [
            "INFO:sqlalchemy.engine.Engine:[raw sql] ()\n"
          ]
        },
        {
          "output_type": "stream",
          "name": "stdout",
          "text": [
            "2024-10-29 17:10:12,654 INFO sqlalchemy.engine.Engine PRAGMA temp.foreign_key_list(\"olist_sellers\")\n"
          ]
        },
        {
          "output_type": "stream",
          "name": "stderr",
          "text": [
            "INFO:sqlalchemy.engine.Engine:PRAGMA temp.foreign_key_list(\"olist_sellers\")\n"
          ]
        },
        {
          "output_type": "stream",
          "name": "stdout",
          "text": [
            "2024-10-29 17:10:12,656 INFO sqlalchemy.engine.Engine [raw sql] ()\n"
          ]
        },
        {
          "output_type": "stream",
          "name": "stderr",
          "text": [
            "INFO:sqlalchemy.engine.Engine:[raw sql] ()\n"
          ]
        },
        {
          "output_type": "stream",
          "name": "stdout",
          "text": [
            "2024-10-29 17:10:12,659 INFO sqlalchemy.engine.Engine SELECT sql FROM  (SELECT * FROM sqlite_master UNION ALL   SELECT * FROM sqlite_temp_master) WHERE name = ? AND type in ('table', 'view')\n"
          ]
        },
        {
          "output_type": "stream",
          "name": "stderr",
          "text": [
            "INFO:sqlalchemy.engine.Engine:SELECT sql FROM  (SELECT * FROM sqlite_master UNION ALL   SELECT * FROM sqlite_temp_master) WHERE name = ? AND type in ('table', 'view')\n"
          ]
        },
        {
          "output_type": "stream",
          "name": "stdout",
          "text": [
            "2024-10-29 17:10:12,661 INFO sqlalchemy.engine.Engine [raw sql] ('olist_sellers',)\n"
          ]
        },
        {
          "output_type": "stream",
          "name": "stderr",
          "text": [
            "INFO:sqlalchemy.engine.Engine:[raw sql] ('olist_sellers',)\n"
          ]
        },
        {
          "output_type": "stream",
          "name": "stdout",
          "text": [
            "2024-10-29 17:10:12,663 INFO sqlalchemy.engine.Engine PRAGMA main.index_list(\"olist_sellers\")\n"
          ]
        },
        {
          "output_type": "stream",
          "name": "stderr",
          "text": [
            "INFO:sqlalchemy.engine.Engine:PRAGMA main.index_list(\"olist_sellers\")\n"
          ]
        },
        {
          "output_type": "stream",
          "name": "stdout",
          "text": [
            "2024-10-29 17:10:12,666 INFO sqlalchemy.engine.Engine [raw sql] ()\n"
          ]
        },
        {
          "output_type": "stream",
          "name": "stderr",
          "text": [
            "INFO:sqlalchemy.engine.Engine:[raw sql] ()\n"
          ]
        },
        {
          "output_type": "stream",
          "name": "stdout",
          "text": [
            "2024-10-29 17:10:12,673 INFO sqlalchemy.engine.Engine PRAGMA temp.index_list(\"olist_sellers\")\n"
          ]
        },
        {
          "output_type": "stream",
          "name": "stderr",
          "text": [
            "INFO:sqlalchemy.engine.Engine:PRAGMA temp.index_list(\"olist_sellers\")\n"
          ]
        },
        {
          "output_type": "stream",
          "name": "stdout",
          "text": [
            "2024-10-29 17:10:12,675 INFO sqlalchemy.engine.Engine [raw sql] ()\n"
          ]
        },
        {
          "output_type": "stream",
          "name": "stderr",
          "text": [
            "INFO:sqlalchemy.engine.Engine:[raw sql] ()\n"
          ]
        },
        {
          "output_type": "stream",
          "name": "stdout",
          "text": [
            "2024-10-29 17:10:12,678 INFO sqlalchemy.engine.Engine PRAGMA main.table_info(\"olist_sellers\")\n"
          ]
        },
        {
          "output_type": "stream",
          "name": "stderr",
          "text": [
            "INFO:sqlalchemy.engine.Engine:PRAGMA main.table_info(\"olist_sellers\")\n"
          ]
        },
        {
          "output_type": "stream",
          "name": "stdout",
          "text": [
            "2024-10-29 17:10:12,683 INFO sqlalchemy.engine.Engine [raw sql] ()\n"
          ]
        },
        {
          "output_type": "stream",
          "name": "stderr",
          "text": [
            "INFO:sqlalchemy.engine.Engine:[raw sql] ()\n"
          ]
        },
        {
          "output_type": "stream",
          "name": "stdout",
          "text": [
            "2024-10-29 17:10:12,685 INFO sqlalchemy.engine.Engine PRAGMA main.index_list(\"olist_sellers\")\n"
          ]
        },
        {
          "output_type": "stream",
          "name": "stderr",
          "text": [
            "INFO:sqlalchemy.engine.Engine:PRAGMA main.index_list(\"olist_sellers\")\n"
          ]
        },
        {
          "output_type": "stream",
          "name": "stdout",
          "text": [
            "2024-10-29 17:10:12,688 INFO sqlalchemy.engine.Engine [raw sql] ()\n"
          ]
        },
        {
          "output_type": "stream",
          "name": "stderr",
          "text": [
            "INFO:sqlalchemy.engine.Engine:[raw sql] ()\n"
          ]
        },
        {
          "output_type": "stream",
          "name": "stdout",
          "text": [
            "2024-10-29 17:10:12,712 INFO sqlalchemy.engine.Engine PRAGMA temp.index_list(\"olist_sellers\")\n"
          ]
        },
        {
          "output_type": "stream",
          "name": "stderr",
          "text": [
            "INFO:sqlalchemy.engine.Engine:PRAGMA temp.index_list(\"olist_sellers\")\n"
          ]
        },
        {
          "output_type": "stream",
          "name": "stdout",
          "text": [
            "2024-10-29 17:10:12,714 INFO sqlalchemy.engine.Engine [raw sql] ()\n"
          ]
        },
        {
          "output_type": "stream",
          "name": "stderr",
          "text": [
            "INFO:sqlalchemy.engine.Engine:[raw sql] ()\n"
          ]
        },
        {
          "output_type": "stream",
          "name": "stdout",
          "text": [
            "2024-10-29 17:10:12,716 INFO sqlalchemy.engine.Engine PRAGMA main.table_info(\"olist_sellers\")\n"
          ]
        },
        {
          "output_type": "stream",
          "name": "stderr",
          "text": [
            "INFO:sqlalchemy.engine.Engine:PRAGMA main.table_info(\"olist_sellers\")\n"
          ]
        },
        {
          "output_type": "stream",
          "name": "stdout",
          "text": [
            "2024-10-29 17:10:12,719 INFO sqlalchemy.engine.Engine [raw sql] ()\n"
          ]
        },
        {
          "output_type": "stream",
          "name": "stderr",
          "text": [
            "INFO:sqlalchemy.engine.Engine:[raw sql] ()\n"
          ]
        },
        {
          "output_type": "stream",
          "name": "stdout",
          "text": [
            "2024-10-29 17:10:12,722 INFO sqlalchemy.engine.Engine SELECT sql FROM  (SELECT * FROM sqlite_master UNION ALL   SELECT * FROM sqlite_temp_master) WHERE name = ? AND type in ('table', 'view')\n"
          ]
        },
        {
          "output_type": "stream",
          "name": "stderr",
          "text": [
            "INFO:sqlalchemy.engine.Engine:SELECT sql FROM  (SELECT * FROM sqlite_master UNION ALL   SELECT * FROM sqlite_temp_master) WHERE name = ? AND type in ('table', 'view')\n"
          ]
        },
        {
          "output_type": "stream",
          "name": "stdout",
          "text": [
            "2024-10-29 17:10:12,726 INFO sqlalchemy.engine.Engine [raw sql] ('olist_sellers',)\n"
          ]
        },
        {
          "output_type": "stream",
          "name": "stderr",
          "text": [
            "INFO:sqlalchemy.engine.Engine:[raw sql] ('olist_sellers',)\n"
          ]
        },
        {
          "output_type": "stream",
          "name": "stdout",
          "text": [
            "2024-10-29 17:10:12,731 INFO sqlalchemy.engine.Engine \n",
            "DROP TABLE olist_sellers\n"
          ]
        },
        {
          "output_type": "stream",
          "name": "stderr",
          "text": [
            "INFO:sqlalchemy.engine.Engine:\n",
            "DROP TABLE olist_sellers\n"
          ]
        },
        {
          "output_type": "stream",
          "name": "stdout",
          "text": [
            "2024-10-29 17:10:12,734 INFO sqlalchemy.engine.Engine [no key 0.00252s] ()\n"
          ]
        },
        {
          "output_type": "stream",
          "name": "stderr",
          "text": [
            "INFO:sqlalchemy.engine.Engine:[no key 0.00252s] ()\n"
          ]
        },
        {
          "output_type": "stream",
          "name": "stdout",
          "text": [
            "2024-10-29 17:10:12,754 INFO sqlalchemy.engine.Engine \n",
            "CREATE TABLE olist_sellers (\n",
            "\tseller_id TEXT, \n",
            "\tseller_zip_code_prefix BIGINT, \n",
            "\tseller_city TEXT, \n",
            "\tseller_state TEXT\n",
            ")\n",
            "\n",
            "\n"
          ]
        },
        {
          "output_type": "stream",
          "name": "stderr",
          "text": [
            "INFO:sqlalchemy.engine.Engine:\n",
            "CREATE TABLE olist_sellers (\n",
            "\tseller_id TEXT, \n",
            "\tseller_zip_code_prefix BIGINT, \n",
            "\tseller_city TEXT, \n",
            "\tseller_state TEXT\n",
            ")\n",
            "\n",
            "\n"
          ]
        },
        {
          "output_type": "stream",
          "name": "stdout",
          "text": [
            "2024-10-29 17:10:12,757 INFO sqlalchemy.engine.Engine [no key 0.00297s] ()\n"
          ]
        },
        {
          "output_type": "stream",
          "name": "stderr",
          "text": [
            "INFO:sqlalchemy.engine.Engine:[no key 0.00297s] ()\n"
          ]
        },
        {
          "output_type": "stream",
          "name": "stdout",
          "text": [
            "2024-10-29 17:10:12,818 INFO sqlalchemy.engine.Engine INSERT INTO olist_sellers (seller_id, seller_zip_code_prefix, seller_city, seller_state) VALUES (?, ?, ?, ?)\n"
          ]
        },
        {
          "output_type": "stream",
          "name": "stderr",
          "text": [
            "INFO:sqlalchemy.engine.Engine:INSERT INTO olist_sellers (seller_id, seller_zip_code_prefix, seller_city, seller_state) VALUES (?, ?, ?, ?)\n"
          ]
        },
        {
          "output_type": "stream",
          "name": "stdout",
          "text": [
            "2024-10-29 17:10:12,824 INFO sqlalchemy.engine.Engine [generated in 0.04397s] [('3442f8959a84dea7ee197c632cb2df15', 13023, 'campinas', 'SP'), ('d1b65fc7debc3361ea86b5f14c68d2e2', 13844, 'mogi guacu', 'SP'), ('ce3ad9de960102d0677a81f5d0bb7b2d', 20031, 'rio de janeiro', 'RJ'), ('c0f3eea2e14555b6faeea3dd58c1b1c3', 4195, 'sao paulo', 'SP'), ('51a04a8a6bdcb23deccc82b0b80742cf', 12914, 'braganca paulista', 'SP'), ('c240c4061717ac1806ae6ee72be3533b', 20920, 'rio de janeiro', 'RJ'), ('e49c26c3edfa46d227d5121a6b6e4d37', 55325, 'brejao', 'PE'), ('1b938a7ec6ac5061a66a3766e0e75f90', 16304, 'penapolis', 'SP')  ... displaying 10 of 3095 total bound parameter sets ...  ('e603cf3fec55f8697c9059638d6c8eb5', 96080, 'pelotas', 'RS'), ('9e25199f6ef7e7c347120ff175652c3b', 12051, 'taubate', 'SP')]\n"
          ]
        },
        {
          "output_type": "stream",
          "name": "stderr",
          "text": [
            "INFO:sqlalchemy.engine.Engine:[generated in 0.04397s] [('3442f8959a84dea7ee197c632cb2df15', 13023, 'campinas', 'SP'), ('d1b65fc7debc3361ea86b5f14c68d2e2', 13844, 'mogi guacu', 'SP'), ('ce3ad9de960102d0677a81f5d0bb7b2d', 20031, 'rio de janeiro', 'RJ'), ('c0f3eea2e14555b6faeea3dd58c1b1c3', 4195, 'sao paulo', 'SP'), ('51a04a8a6bdcb23deccc82b0b80742cf', 12914, 'braganca paulista', 'SP'), ('c240c4061717ac1806ae6ee72be3533b', 20920, 'rio de janeiro', 'RJ'), ('e49c26c3edfa46d227d5121a6b6e4d37', 55325, 'brejao', 'PE'), ('1b938a7ec6ac5061a66a3766e0e75f90', 16304, 'penapolis', 'SP')  ... displaying 10 of 3095 total bound parameter sets ...  ('e603cf3fec55f8697c9059638d6c8eb5', 96080, 'pelotas', 'RS'), ('9e25199f6ef7e7c347120ff175652c3b', 12051, 'taubate', 'SP')]\n"
          ]
        },
        {
          "output_type": "stream",
          "name": "stdout",
          "text": [
            "2024-10-29 17:10:12,839 INFO sqlalchemy.engine.Engine COMMIT\n"
          ]
        },
        {
          "output_type": "stream",
          "name": "stderr",
          "text": [
            "INFO:sqlalchemy.engine.Engine:COMMIT\n"
          ]
        },
        {
          "output_type": "stream",
          "name": "stdout",
          "text": [
            "2024-10-29 17:10:12,854 INFO sqlalchemy.engine.Engine BEGIN (implicit)\n"
          ]
        },
        {
          "output_type": "stream",
          "name": "stderr",
          "text": [
            "INFO:sqlalchemy.engine.Engine:BEGIN (implicit)\n"
          ]
        },
        {
          "output_type": "stream",
          "name": "stdout",
          "text": [
            "2024-10-29 17:10:12,875 INFO sqlalchemy.engine.Engine PRAGMA main.table_info(\"olist_order_reviews\")\n"
          ]
        },
        {
          "output_type": "stream",
          "name": "stderr",
          "text": [
            "INFO:sqlalchemy.engine.Engine:PRAGMA main.table_info(\"olist_order_reviews\")\n"
          ]
        },
        {
          "output_type": "stream",
          "name": "stdout",
          "text": [
            "2024-10-29 17:10:12,879 INFO sqlalchemy.engine.Engine [raw sql] ()\n"
          ]
        },
        {
          "output_type": "stream",
          "name": "stderr",
          "text": [
            "INFO:sqlalchemy.engine.Engine:[raw sql] ()\n"
          ]
        },
        {
          "output_type": "stream",
          "name": "stdout",
          "text": [
            "2024-10-29 17:10:12,883 INFO sqlalchemy.engine.Engine PRAGMA main.table_info(\"olist_order_reviews\")\n"
          ]
        },
        {
          "output_type": "stream",
          "name": "stderr",
          "text": [
            "INFO:sqlalchemy.engine.Engine:PRAGMA main.table_info(\"olist_order_reviews\")\n"
          ]
        },
        {
          "output_type": "stream",
          "name": "stdout",
          "text": [
            "2024-10-29 17:10:12,890 INFO sqlalchemy.engine.Engine [raw sql] ()\n"
          ]
        },
        {
          "output_type": "stream",
          "name": "stderr",
          "text": [
            "INFO:sqlalchemy.engine.Engine:[raw sql] ()\n"
          ]
        },
        {
          "output_type": "stream",
          "name": "stdout",
          "text": [
            "2024-10-29 17:10:12,893 INFO sqlalchemy.engine.Engine SELECT name FROM sqlite_master WHERE type='table' AND name NOT LIKE 'sqlite~_%' ESCAPE '~' ORDER BY name\n"
          ]
        },
        {
          "output_type": "stream",
          "name": "stderr",
          "text": [
            "INFO:sqlalchemy.engine.Engine:SELECT name FROM sqlite_master WHERE type='table' AND name NOT LIKE 'sqlite~_%' ESCAPE '~' ORDER BY name\n"
          ]
        },
        {
          "output_type": "stream",
          "name": "stdout",
          "text": [
            "2024-10-29 17:10:12,896 INFO sqlalchemy.engine.Engine [raw sql] ()\n"
          ]
        },
        {
          "output_type": "stream",
          "name": "stderr",
          "text": [
            "INFO:sqlalchemy.engine.Engine:[raw sql] ()\n"
          ]
        },
        {
          "output_type": "stream",
          "name": "stdout",
          "text": [
            "2024-10-29 17:10:12,902 INFO sqlalchemy.engine.Engine SELECT name FROM sqlite_master WHERE type='view' AND name NOT LIKE 'sqlite~_%' ESCAPE '~' ORDER BY name\n"
          ]
        },
        {
          "output_type": "stream",
          "name": "stderr",
          "text": [
            "INFO:sqlalchemy.engine.Engine:SELECT name FROM sqlite_master WHERE type='view' AND name NOT LIKE 'sqlite~_%' ESCAPE '~' ORDER BY name\n"
          ]
        },
        {
          "output_type": "stream",
          "name": "stdout",
          "text": [
            "2024-10-29 17:10:12,905 INFO sqlalchemy.engine.Engine [raw sql] ()\n"
          ]
        },
        {
          "output_type": "stream",
          "name": "stderr",
          "text": [
            "INFO:sqlalchemy.engine.Engine:[raw sql] ()\n"
          ]
        },
        {
          "output_type": "stream",
          "name": "stdout",
          "text": [
            "2024-10-29 17:10:12,911 INFO sqlalchemy.engine.Engine PRAGMA main.table_xinfo(\"olist_order_reviews\")\n"
          ]
        },
        {
          "output_type": "stream",
          "name": "stderr",
          "text": [
            "INFO:sqlalchemy.engine.Engine:PRAGMA main.table_xinfo(\"olist_order_reviews\")\n"
          ]
        },
        {
          "output_type": "stream",
          "name": "stdout",
          "text": [
            "2024-10-29 17:10:12,915 INFO sqlalchemy.engine.Engine [raw sql] ()\n"
          ]
        },
        {
          "output_type": "stream",
          "name": "stderr",
          "text": [
            "INFO:sqlalchemy.engine.Engine:[raw sql] ()\n"
          ]
        },
        {
          "output_type": "stream",
          "name": "stdout",
          "text": [
            "2024-10-29 17:10:12,917 INFO sqlalchemy.engine.Engine SELECT sql FROM  (SELECT * FROM sqlite_master UNION ALL   SELECT * FROM sqlite_temp_master) WHERE name = ? AND type in ('table', 'view')\n"
          ]
        },
        {
          "output_type": "stream",
          "name": "stderr",
          "text": [
            "INFO:sqlalchemy.engine.Engine:SELECT sql FROM  (SELECT * FROM sqlite_master UNION ALL   SELECT * FROM sqlite_temp_master) WHERE name = ? AND type in ('table', 'view')\n"
          ]
        },
        {
          "output_type": "stream",
          "name": "stdout",
          "text": [
            "2024-10-29 17:10:12,920 INFO sqlalchemy.engine.Engine [raw sql] ('olist_order_reviews',)\n"
          ]
        },
        {
          "output_type": "stream",
          "name": "stderr",
          "text": [
            "INFO:sqlalchemy.engine.Engine:[raw sql] ('olist_order_reviews',)\n"
          ]
        },
        {
          "output_type": "stream",
          "name": "stdout",
          "text": [
            "2024-10-29 17:10:12,922 INFO sqlalchemy.engine.Engine PRAGMA main.foreign_key_list(\"olist_order_reviews\")\n"
          ]
        },
        {
          "output_type": "stream",
          "name": "stderr",
          "text": [
            "INFO:sqlalchemy.engine.Engine:PRAGMA main.foreign_key_list(\"olist_order_reviews\")\n"
          ]
        },
        {
          "output_type": "stream",
          "name": "stdout",
          "text": [
            "2024-10-29 17:10:12,924 INFO sqlalchemy.engine.Engine [raw sql] ()\n"
          ]
        },
        {
          "output_type": "stream",
          "name": "stderr",
          "text": [
            "INFO:sqlalchemy.engine.Engine:[raw sql] ()\n"
          ]
        },
        {
          "output_type": "stream",
          "name": "stdout",
          "text": [
            "2024-10-29 17:10:12,926 INFO sqlalchemy.engine.Engine PRAGMA temp.foreign_key_list(\"olist_order_reviews\")\n"
          ]
        },
        {
          "output_type": "stream",
          "name": "stderr",
          "text": [
            "INFO:sqlalchemy.engine.Engine:PRAGMA temp.foreign_key_list(\"olist_order_reviews\")\n"
          ]
        },
        {
          "output_type": "stream",
          "name": "stdout",
          "text": [
            "2024-10-29 17:10:12,928 INFO sqlalchemy.engine.Engine [raw sql] ()\n"
          ]
        },
        {
          "output_type": "stream",
          "name": "stderr",
          "text": [
            "INFO:sqlalchemy.engine.Engine:[raw sql] ()\n"
          ]
        },
        {
          "output_type": "stream",
          "name": "stdout",
          "text": [
            "2024-10-29 17:10:12,931 INFO sqlalchemy.engine.Engine SELECT sql FROM  (SELECT * FROM sqlite_master UNION ALL   SELECT * FROM sqlite_temp_master) WHERE name = ? AND type in ('table', 'view')\n"
          ]
        },
        {
          "output_type": "stream",
          "name": "stderr",
          "text": [
            "INFO:sqlalchemy.engine.Engine:SELECT sql FROM  (SELECT * FROM sqlite_master UNION ALL   SELECT * FROM sqlite_temp_master) WHERE name = ? AND type in ('table', 'view')\n"
          ]
        },
        {
          "output_type": "stream",
          "name": "stdout",
          "text": [
            "2024-10-29 17:10:12,933 INFO sqlalchemy.engine.Engine [raw sql] ('olist_order_reviews',)\n"
          ]
        },
        {
          "output_type": "stream",
          "name": "stderr",
          "text": [
            "INFO:sqlalchemy.engine.Engine:[raw sql] ('olist_order_reviews',)\n"
          ]
        },
        {
          "output_type": "stream",
          "name": "stdout",
          "text": [
            "2024-10-29 17:10:12,935 INFO sqlalchemy.engine.Engine PRAGMA main.index_list(\"olist_order_reviews\")\n"
          ]
        },
        {
          "output_type": "stream",
          "name": "stderr",
          "text": [
            "INFO:sqlalchemy.engine.Engine:PRAGMA main.index_list(\"olist_order_reviews\")\n"
          ]
        },
        {
          "output_type": "stream",
          "name": "stdout",
          "text": [
            "2024-10-29 17:10:12,938 INFO sqlalchemy.engine.Engine [raw sql] ()\n"
          ]
        },
        {
          "output_type": "stream",
          "name": "stderr",
          "text": [
            "INFO:sqlalchemy.engine.Engine:[raw sql] ()\n"
          ]
        },
        {
          "output_type": "stream",
          "name": "stdout",
          "text": [
            "2024-10-29 17:10:12,940 INFO sqlalchemy.engine.Engine PRAGMA temp.index_list(\"olist_order_reviews\")\n"
          ]
        },
        {
          "output_type": "stream",
          "name": "stderr",
          "text": [
            "INFO:sqlalchemy.engine.Engine:PRAGMA temp.index_list(\"olist_order_reviews\")\n"
          ]
        },
        {
          "output_type": "stream",
          "name": "stdout",
          "text": [
            "2024-10-29 17:10:12,942 INFO sqlalchemy.engine.Engine [raw sql] ()\n"
          ]
        },
        {
          "output_type": "stream",
          "name": "stderr",
          "text": [
            "INFO:sqlalchemy.engine.Engine:[raw sql] ()\n"
          ]
        },
        {
          "output_type": "stream",
          "name": "stdout",
          "text": [
            "2024-10-29 17:10:12,945 INFO sqlalchemy.engine.Engine PRAGMA main.table_info(\"olist_order_reviews\")\n"
          ]
        },
        {
          "output_type": "stream",
          "name": "stderr",
          "text": [
            "INFO:sqlalchemy.engine.Engine:PRAGMA main.table_info(\"olist_order_reviews\")\n"
          ]
        },
        {
          "output_type": "stream",
          "name": "stdout",
          "text": [
            "2024-10-29 17:10:12,947 INFO sqlalchemy.engine.Engine [raw sql] ()\n"
          ]
        },
        {
          "output_type": "stream",
          "name": "stderr",
          "text": [
            "INFO:sqlalchemy.engine.Engine:[raw sql] ()\n"
          ]
        },
        {
          "output_type": "stream",
          "name": "stdout",
          "text": [
            "2024-10-29 17:10:12,949 INFO sqlalchemy.engine.Engine PRAGMA main.index_list(\"olist_order_reviews\")\n"
          ]
        },
        {
          "output_type": "stream",
          "name": "stderr",
          "text": [
            "INFO:sqlalchemy.engine.Engine:PRAGMA main.index_list(\"olist_order_reviews\")\n"
          ]
        },
        {
          "output_type": "stream",
          "name": "stdout",
          "text": [
            "2024-10-29 17:10:12,952 INFO sqlalchemy.engine.Engine [raw sql] ()\n"
          ]
        },
        {
          "output_type": "stream",
          "name": "stderr",
          "text": [
            "INFO:sqlalchemy.engine.Engine:[raw sql] ()\n"
          ]
        },
        {
          "output_type": "stream",
          "name": "stdout",
          "text": [
            "2024-10-29 17:10:12,954 INFO sqlalchemy.engine.Engine PRAGMA temp.index_list(\"olist_order_reviews\")\n"
          ]
        },
        {
          "output_type": "stream",
          "name": "stderr",
          "text": [
            "INFO:sqlalchemy.engine.Engine:PRAGMA temp.index_list(\"olist_order_reviews\")\n"
          ]
        },
        {
          "output_type": "stream",
          "name": "stdout",
          "text": [
            "2024-10-29 17:10:12,956 INFO sqlalchemy.engine.Engine [raw sql] ()\n"
          ]
        },
        {
          "output_type": "stream",
          "name": "stderr",
          "text": [
            "INFO:sqlalchemy.engine.Engine:[raw sql] ()\n"
          ]
        },
        {
          "output_type": "stream",
          "name": "stdout",
          "text": [
            "2024-10-29 17:10:12,959 INFO sqlalchemy.engine.Engine PRAGMA main.table_info(\"olist_order_reviews\")\n"
          ]
        },
        {
          "output_type": "stream",
          "name": "stderr",
          "text": [
            "INFO:sqlalchemy.engine.Engine:PRAGMA main.table_info(\"olist_order_reviews\")\n"
          ]
        },
        {
          "output_type": "stream",
          "name": "stdout",
          "text": [
            "2024-10-29 17:10:12,961 INFO sqlalchemy.engine.Engine [raw sql] ()\n"
          ]
        },
        {
          "output_type": "stream",
          "name": "stderr",
          "text": [
            "INFO:sqlalchemy.engine.Engine:[raw sql] ()\n"
          ]
        },
        {
          "output_type": "stream",
          "name": "stdout",
          "text": [
            "2024-10-29 17:10:12,963 INFO sqlalchemy.engine.Engine SELECT sql FROM  (SELECT * FROM sqlite_master UNION ALL   SELECT * FROM sqlite_temp_master) WHERE name = ? AND type in ('table', 'view')\n"
          ]
        },
        {
          "output_type": "stream",
          "name": "stderr",
          "text": [
            "INFO:sqlalchemy.engine.Engine:SELECT sql FROM  (SELECT * FROM sqlite_master UNION ALL   SELECT * FROM sqlite_temp_master) WHERE name = ? AND type in ('table', 'view')\n"
          ]
        },
        {
          "output_type": "stream",
          "name": "stdout",
          "text": [
            "2024-10-29 17:10:12,966 INFO sqlalchemy.engine.Engine [raw sql] ('olist_order_reviews',)\n"
          ]
        },
        {
          "output_type": "stream",
          "name": "stderr",
          "text": [
            "INFO:sqlalchemy.engine.Engine:[raw sql] ('olist_order_reviews',)\n"
          ]
        },
        {
          "output_type": "stream",
          "name": "stdout",
          "text": [
            "2024-10-29 17:10:12,970 INFO sqlalchemy.engine.Engine \n",
            "DROP TABLE olist_order_reviews\n"
          ]
        },
        {
          "output_type": "stream",
          "name": "stderr",
          "text": [
            "INFO:sqlalchemy.engine.Engine:\n",
            "DROP TABLE olist_order_reviews\n"
          ]
        },
        {
          "output_type": "stream",
          "name": "stdout",
          "text": [
            "2024-10-29 17:10:12,972 INFO sqlalchemy.engine.Engine [no key 0.00245s] ()\n"
          ]
        },
        {
          "output_type": "stream",
          "name": "stderr",
          "text": [
            "INFO:sqlalchemy.engine.Engine:[no key 0.00245s] ()\n"
          ]
        },
        {
          "output_type": "stream",
          "name": "stdout",
          "text": [
            "2024-10-29 17:10:13,222 INFO sqlalchemy.engine.Engine \n",
            "CREATE TABLE olist_order_reviews (\n",
            "\treview_id TEXT, \n",
            "\torder_id TEXT, \n",
            "\treview_score BIGINT, \n",
            "\treview_comment_title TEXT, \n",
            "\treview_comment_message TEXT, \n",
            "\treview_creation_date TEXT, \n",
            "\treview_answer_timestamp TEXT\n",
            ")\n",
            "\n",
            "\n"
          ]
        },
        {
          "output_type": "stream",
          "name": "stderr",
          "text": [
            "INFO:sqlalchemy.engine.Engine:\n",
            "CREATE TABLE olist_order_reviews (\n",
            "\treview_id TEXT, \n",
            "\torder_id TEXT, \n",
            "\treview_score BIGINT, \n",
            "\treview_comment_title TEXT, \n",
            "\treview_comment_message TEXT, \n",
            "\treview_creation_date TEXT, \n",
            "\treview_answer_timestamp TEXT\n",
            ")\n",
            "\n",
            "\n"
          ]
        },
        {
          "output_type": "stream",
          "name": "stdout",
          "text": [
            "2024-10-29 17:10:13,228 INFO sqlalchemy.engine.Engine [no key 0.00544s] ()\n"
          ]
        },
        {
          "output_type": "stream",
          "name": "stderr",
          "text": [
            "INFO:sqlalchemy.engine.Engine:[no key 0.00544s] ()\n"
          ]
        },
        {
          "output_type": "stream",
          "name": "stdout",
          "text": [
            "2024-10-29 17:10:14,139 INFO sqlalchemy.engine.Engine INSERT INTO olist_order_reviews (review_id, order_id, review_score, review_comment_title, review_comment_message, review_creation_date, review_answer_timestamp) VALUES (?, ?, ?, ?, ?, ?, ?)\n"
          ]
        },
        {
          "output_type": "stream",
          "name": "stderr",
          "text": [
            "INFO:sqlalchemy.engine.Engine:INSERT INTO olist_order_reviews (review_id, order_id, review_score, review_comment_title, review_comment_message, review_creation_date, review_answer_timestamp) VALUES (?, ?, ?, ?, ?, ?, ?)\n"
          ]
        },
        {
          "output_type": "stream",
          "name": "stdout",
          "text": [
            "2024-10-29 17:10:14,143 INFO sqlalchemy.engine.Engine [generated in 0.76574s] [('7bc2406110b926393aa56f80a40eba40', '73fc7af87114b39712e6da79b0a377eb', 4, None, None, '2018-01-18 00:00:00', '2018-01-18 21:46:59'), ('80e641a11e56f04c1ad469d5645fdfde', 'a548910a1c6147796b98fdf73dbeba33', 5, None, None, '2018-03-10 00:00:00', '2018-03-11 03:05:13'), ('228ce5500dc1d8e020d8d1322874b6f0', 'f9e4b658b201a9f2ecdecbb34bed034b', 5, None, None, '2018-02-17 00:00:00', '2018-02-18 14:36:24'), ('e64fb393e7b32834bb789ff8bb30750e', '658677c97b385a9be170737859d3511b', 5, None, 'Recebi bem antes do prazo estipulado.', '2017-04-21 00:00:00', '2017-04-21 22:02:06'), ('f7c4243c7fe1938f181bec41a392bdeb', '8e6bfb81e283fa7e4f11123a3fb894f1', 5, None, 'Parabéns lojas lannister adorei comprar pela Internet seguro e prático Parabéns a todos feliz Páscoa', '2018-03-01 00:00:00', '2018-03-02 10:26:53'), ('15197aa66ff4d0650b5434f1b46cda19', 'b18dcdf73be66366873cd26c5724d1dc', 1, None, None, '2018-04-13 00:00:00', '2018-04-16 00:39:37'), ('07f9bee5d1b850860defd761afa7ff16', 'e48aa0d2dcec3a2e87348811bcfdf22b', 5, None, None, '2017-07-16 00:00:00', '2017-07-18 19:30:34'), ('7c6400515c67679fbee952a7525281ef', 'c31a859e34e3adac22f376954e19b39d', 5, None, None, '2018-08-14 00:00:00', '2018-08-14 21:36:06')  ... displaying 10 of 99224 total bound parameter sets ...  ('1adeb9d84d72fe4e337617733eb85149', '7725825d039fc1f0ceb7635e3f7d9206', 4, None, None, '2018-07-01 00:00:00', '2018-07-02 12:59:13'), ('efe49f1d6f951dd88b51e6ccd4cc548f', '90531360ecb1eec2a1fbb265a0db0508', 1, None, 'meu produto chegou e ja tenho que devolver, pois está com defeito , não segurar carga', '2017-07-03 00:00:00', '2017-07-03 21:01:49')]\n"
          ]
        },
        {
          "output_type": "stream",
          "name": "stderr",
          "text": [
            "INFO:sqlalchemy.engine.Engine:[generated in 0.76574s] [('7bc2406110b926393aa56f80a40eba40', '73fc7af87114b39712e6da79b0a377eb', 4, None, None, '2018-01-18 00:00:00', '2018-01-18 21:46:59'), ('80e641a11e56f04c1ad469d5645fdfde', 'a548910a1c6147796b98fdf73dbeba33', 5, None, None, '2018-03-10 00:00:00', '2018-03-11 03:05:13'), ('228ce5500dc1d8e020d8d1322874b6f0', 'f9e4b658b201a9f2ecdecbb34bed034b', 5, None, None, '2018-02-17 00:00:00', '2018-02-18 14:36:24'), ('e64fb393e7b32834bb789ff8bb30750e', '658677c97b385a9be170737859d3511b', 5, None, 'Recebi bem antes do prazo estipulado.', '2017-04-21 00:00:00', '2017-04-21 22:02:06'), ('f7c4243c7fe1938f181bec41a392bdeb', '8e6bfb81e283fa7e4f11123a3fb894f1', 5, None, 'Parabéns lojas lannister adorei comprar pela Internet seguro e prático Parabéns a todos feliz Páscoa', '2018-03-01 00:00:00', '2018-03-02 10:26:53'), ('15197aa66ff4d0650b5434f1b46cda19', 'b18dcdf73be66366873cd26c5724d1dc', 1, None, None, '2018-04-13 00:00:00', '2018-04-16 00:39:37'), ('07f9bee5d1b850860defd761afa7ff16', 'e48aa0d2dcec3a2e87348811bcfdf22b', 5, None, None, '2017-07-16 00:00:00', '2017-07-18 19:30:34'), ('7c6400515c67679fbee952a7525281ef', 'c31a859e34e3adac22f376954e19b39d', 5, None, None, '2018-08-14 00:00:00', '2018-08-14 21:36:06')  ... displaying 10 of 99224 total bound parameter sets ...  ('1adeb9d84d72fe4e337617733eb85149', '7725825d039fc1f0ceb7635e3f7d9206', 4, None, None, '2018-07-01 00:00:00', '2018-07-02 12:59:13'), ('efe49f1d6f951dd88b51e6ccd4cc548f', '90531360ecb1eec2a1fbb265a0db0508', 1, None, 'meu produto chegou e ja tenho que devolver, pois está com defeito , não segurar carga', '2017-07-03 00:00:00', '2017-07-03 21:01:49')]\n"
          ]
        },
        {
          "output_type": "stream",
          "name": "stdout",
          "text": [
            "2024-10-29 17:10:14,565 INFO sqlalchemy.engine.Engine COMMIT\n"
          ]
        },
        {
          "output_type": "stream",
          "name": "stderr",
          "text": [
            "INFO:sqlalchemy.engine.Engine:COMMIT\n"
          ]
        },
        {
          "output_type": "stream",
          "name": "stdout",
          "text": [
            "2024-10-29 17:10:14,611 INFO sqlalchemy.engine.Engine BEGIN (implicit)\n"
          ]
        },
        {
          "output_type": "stream",
          "name": "stderr",
          "text": [
            "INFO:sqlalchemy.engine.Engine:BEGIN (implicit)\n"
          ]
        },
        {
          "output_type": "stream",
          "name": "stdout",
          "text": [
            "2024-10-29 17:10:14,631 INFO sqlalchemy.engine.Engine PRAGMA main.table_info(\"olist_order_items\")\n"
          ]
        },
        {
          "output_type": "stream",
          "name": "stderr",
          "text": [
            "INFO:sqlalchemy.engine.Engine:PRAGMA main.table_info(\"olist_order_items\")\n"
          ]
        },
        {
          "output_type": "stream",
          "name": "stdout",
          "text": [
            "2024-10-29 17:10:14,636 INFO sqlalchemy.engine.Engine [raw sql] ()\n"
          ]
        },
        {
          "output_type": "stream",
          "name": "stderr",
          "text": [
            "INFO:sqlalchemy.engine.Engine:[raw sql] ()\n"
          ]
        },
        {
          "output_type": "stream",
          "name": "stdout",
          "text": [
            "2024-10-29 17:10:14,641 INFO sqlalchemy.engine.Engine PRAGMA main.table_info(\"olist_order_items\")\n"
          ]
        },
        {
          "output_type": "stream",
          "name": "stderr",
          "text": [
            "INFO:sqlalchemy.engine.Engine:PRAGMA main.table_info(\"olist_order_items\")\n"
          ]
        },
        {
          "output_type": "stream",
          "name": "stdout",
          "text": [
            "2024-10-29 17:10:14,644 INFO sqlalchemy.engine.Engine [raw sql] ()\n"
          ]
        },
        {
          "output_type": "stream",
          "name": "stderr",
          "text": [
            "INFO:sqlalchemy.engine.Engine:[raw sql] ()\n"
          ]
        },
        {
          "output_type": "stream",
          "name": "stdout",
          "text": [
            "2024-10-29 17:10:14,647 INFO sqlalchemy.engine.Engine SELECT name FROM sqlite_master WHERE type='table' AND name NOT LIKE 'sqlite~_%' ESCAPE '~' ORDER BY name\n"
          ]
        },
        {
          "output_type": "stream",
          "name": "stderr",
          "text": [
            "INFO:sqlalchemy.engine.Engine:SELECT name FROM sqlite_master WHERE type='table' AND name NOT LIKE 'sqlite~_%' ESCAPE '~' ORDER BY name\n"
          ]
        },
        {
          "output_type": "stream",
          "name": "stdout",
          "text": [
            "2024-10-29 17:10:14,651 INFO sqlalchemy.engine.Engine [raw sql] ()\n"
          ]
        },
        {
          "output_type": "stream",
          "name": "stderr",
          "text": [
            "INFO:sqlalchemy.engine.Engine:[raw sql] ()\n"
          ]
        },
        {
          "output_type": "stream",
          "name": "stdout",
          "text": [
            "2024-10-29 17:10:14,655 INFO sqlalchemy.engine.Engine SELECT name FROM sqlite_master WHERE type='view' AND name NOT LIKE 'sqlite~_%' ESCAPE '~' ORDER BY name\n"
          ]
        },
        {
          "output_type": "stream",
          "name": "stderr",
          "text": [
            "INFO:sqlalchemy.engine.Engine:SELECT name FROM sqlite_master WHERE type='view' AND name NOT LIKE 'sqlite~_%' ESCAPE '~' ORDER BY name\n"
          ]
        },
        {
          "output_type": "stream",
          "name": "stdout",
          "text": [
            "2024-10-29 17:10:14,659 INFO sqlalchemy.engine.Engine [raw sql] ()\n"
          ]
        },
        {
          "output_type": "stream",
          "name": "stderr",
          "text": [
            "INFO:sqlalchemy.engine.Engine:[raw sql] ()\n"
          ]
        },
        {
          "output_type": "stream",
          "name": "stdout",
          "text": [
            "2024-10-29 17:10:14,663 INFO sqlalchemy.engine.Engine PRAGMA main.table_xinfo(\"olist_order_items\")\n"
          ]
        },
        {
          "output_type": "stream",
          "name": "stderr",
          "text": [
            "INFO:sqlalchemy.engine.Engine:PRAGMA main.table_xinfo(\"olist_order_items\")\n"
          ]
        },
        {
          "output_type": "stream",
          "name": "stdout",
          "text": [
            "2024-10-29 17:10:14,666 INFO sqlalchemy.engine.Engine [raw sql] ()\n"
          ]
        },
        {
          "output_type": "stream",
          "name": "stderr",
          "text": [
            "INFO:sqlalchemy.engine.Engine:[raw sql] ()\n"
          ]
        },
        {
          "output_type": "stream",
          "name": "stdout",
          "text": [
            "2024-10-29 17:10:14,670 INFO sqlalchemy.engine.Engine SELECT sql FROM  (SELECT * FROM sqlite_master UNION ALL   SELECT * FROM sqlite_temp_master) WHERE name = ? AND type in ('table', 'view')\n"
          ]
        },
        {
          "output_type": "stream",
          "name": "stderr",
          "text": [
            "INFO:sqlalchemy.engine.Engine:SELECT sql FROM  (SELECT * FROM sqlite_master UNION ALL   SELECT * FROM sqlite_temp_master) WHERE name = ? AND type in ('table', 'view')\n"
          ]
        },
        {
          "output_type": "stream",
          "name": "stdout",
          "text": [
            "2024-10-29 17:10:14,673 INFO sqlalchemy.engine.Engine [raw sql] ('olist_order_items',)\n"
          ]
        },
        {
          "output_type": "stream",
          "name": "stderr",
          "text": [
            "INFO:sqlalchemy.engine.Engine:[raw sql] ('olist_order_items',)\n"
          ]
        },
        {
          "output_type": "stream",
          "name": "stdout",
          "text": [
            "2024-10-29 17:10:14,676 INFO sqlalchemy.engine.Engine PRAGMA main.foreign_key_list(\"olist_order_items\")\n"
          ]
        },
        {
          "output_type": "stream",
          "name": "stderr",
          "text": [
            "INFO:sqlalchemy.engine.Engine:PRAGMA main.foreign_key_list(\"olist_order_items\")\n"
          ]
        },
        {
          "output_type": "stream",
          "name": "stdout",
          "text": [
            "2024-10-29 17:10:14,679 INFO sqlalchemy.engine.Engine [raw sql] ()\n"
          ]
        },
        {
          "output_type": "stream",
          "name": "stderr",
          "text": [
            "INFO:sqlalchemy.engine.Engine:[raw sql] ()\n"
          ]
        },
        {
          "output_type": "stream",
          "name": "stdout",
          "text": [
            "2024-10-29 17:10:14,682 INFO sqlalchemy.engine.Engine PRAGMA temp.foreign_key_list(\"olist_order_items\")\n"
          ]
        },
        {
          "output_type": "stream",
          "name": "stderr",
          "text": [
            "INFO:sqlalchemy.engine.Engine:PRAGMA temp.foreign_key_list(\"olist_order_items\")\n"
          ]
        },
        {
          "output_type": "stream",
          "name": "stdout",
          "text": [
            "2024-10-29 17:10:14,684 INFO sqlalchemy.engine.Engine [raw sql] ()\n"
          ]
        },
        {
          "output_type": "stream",
          "name": "stderr",
          "text": [
            "INFO:sqlalchemy.engine.Engine:[raw sql] ()\n"
          ]
        },
        {
          "output_type": "stream",
          "name": "stdout",
          "text": [
            "2024-10-29 17:10:14,688 INFO sqlalchemy.engine.Engine SELECT sql FROM  (SELECT * FROM sqlite_master UNION ALL   SELECT * FROM sqlite_temp_master) WHERE name = ? AND type in ('table', 'view')\n"
          ]
        },
        {
          "output_type": "stream",
          "name": "stderr",
          "text": [
            "INFO:sqlalchemy.engine.Engine:SELECT sql FROM  (SELECT * FROM sqlite_master UNION ALL   SELECT * FROM sqlite_temp_master) WHERE name = ? AND type in ('table', 'view')\n"
          ]
        },
        {
          "output_type": "stream",
          "name": "stdout",
          "text": [
            "2024-10-29 17:10:14,690 INFO sqlalchemy.engine.Engine [raw sql] ('olist_order_items',)\n"
          ]
        },
        {
          "output_type": "stream",
          "name": "stderr",
          "text": [
            "INFO:sqlalchemy.engine.Engine:[raw sql] ('olist_order_items',)\n"
          ]
        },
        {
          "output_type": "stream",
          "name": "stdout",
          "text": [
            "2024-10-29 17:10:14,693 INFO sqlalchemy.engine.Engine PRAGMA main.index_list(\"olist_order_items\")\n"
          ]
        },
        {
          "output_type": "stream",
          "name": "stderr",
          "text": [
            "INFO:sqlalchemy.engine.Engine:PRAGMA main.index_list(\"olist_order_items\")\n"
          ]
        },
        {
          "output_type": "stream",
          "name": "stdout",
          "text": [
            "2024-10-29 17:10:14,696 INFO sqlalchemy.engine.Engine [raw sql] ()\n"
          ]
        },
        {
          "output_type": "stream",
          "name": "stderr",
          "text": [
            "INFO:sqlalchemy.engine.Engine:[raw sql] ()\n"
          ]
        },
        {
          "output_type": "stream",
          "name": "stdout",
          "text": [
            "2024-10-29 17:10:14,698 INFO sqlalchemy.engine.Engine PRAGMA temp.index_list(\"olist_order_items\")\n"
          ]
        },
        {
          "output_type": "stream",
          "name": "stderr",
          "text": [
            "INFO:sqlalchemy.engine.Engine:PRAGMA temp.index_list(\"olist_order_items\")\n"
          ]
        },
        {
          "output_type": "stream",
          "name": "stdout",
          "text": [
            "2024-10-29 17:10:14,700 INFO sqlalchemy.engine.Engine [raw sql] ()\n"
          ]
        },
        {
          "output_type": "stream",
          "name": "stderr",
          "text": [
            "INFO:sqlalchemy.engine.Engine:[raw sql] ()\n"
          ]
        },
        {
          "output_type": "stream",
          "name": "stdout",
          "text": [
            "2024-10-29 17:10:14,702 INFO sqlalchemy.engine.Engine PRAGMA main.table_info(\"olist_order_items\")\n"
          ]
        },
        {
          "output_type": "stream",
          "name": "stderr",
          "text": [
            "INFO:sqlalchemy.engine.Engine:PRAGMA main.table_info(\"olist_order_items\")\n"
          ]
        },
        {
          "output_type": "stream",
          "name": "stdout",
          "text": [
            "2024-10-29 17:10:14,705 INFO sqlalchemy.engine.Engine [raw sql] ()\n"
          ]
        },
        {
          "output_type": "stream",
          "name": "stderr",
          "text": [
            "INFO:sqlalchemy.engine.Engine:[raw sql] ()\n"
          ]
        },
        {
          "output_type": "stream",
          "name": "stdout",
          "text": [
            "2024-10-29 17:10:14,708 INFO sqlalchemy.engine.Engine PRAGMA main.index_list(\"olist_order_items\")\n"
          ]
        },
        {
          "output_type": "stream",
          "name": "stderr",
          "text": [
            "INFO:sqlalchemy.engine.Engine:PRAGMA main.index_list(\"olist_order_items\")\n"
          ]
        },
        {
          "output_type": "stream",
          "name": "stdout",
          "text": [
            "2024-10-29 17:10:14,716 INFO sqlalchemy.engine.Engine [raw sql] ()\n"
          ]
        },
        {
          "output_type": "stream",
          "name": "stderr",
          "text": [
            "INFO:sqlalchemy.engine.Engine:[raw sql] ()\n"
          ]
        },
        {
          "output_type": "stream",
          "name": "stdout",
          "text": [
            "2024-10-29 17:10:14,720 INFO sqlalchemy.engine.Engine PRAGMA temp.index_list(\"olist_order_items\")\n"
          ]
        },
        {
          "output_type": "stream",
          "name": "stderr",
          "text": [
            "INFO:sqlalchemy.engine.Engine:PRAGMA temp.index_list(\"olist_order_items\")\n"
          ]
        },
        {
          "output_type": "stream",
          "name": "stdout",
          "text": [
            "2024-10-29 17:10:14,725 INFO sqlalchemy.engine.Engine [raw sql] ()\n"
          ]
        },
        {
          "output_type": "stream",
          "name": "stderr",
          "text": [
            "INFO:sqlalchemy.engine.Engine:[raw sql] ()\n"
          ]
        },
        {
          "output_type": "stream",
          "name": "stdout",
          "text": [
            "2024-10-29 17:10:14,727 INFO sqlalchemy.engine.Engine PRAGMA main.table_info(\"olist_order_items\")\n"
          ]
        },
        {
          "output_type": "stream",
          "name": "stderr",
          "text": [
            "INFO:sqlalchemy.engine.Engine:PRAGMA main.table_info(\"olist_order_items\")\n"
          ]
        },
        {
          "output_type": "stream",
          "name": "stdout",
          "text": [
            "2024-10-29 17:10:14,730 INFO sqlalchemy.engine.Engine [raw sql] ()\n"
          ]
        },
        {
          "output_type": "stream",
          "name": "stderr",
          "text": [
            "INFO:sqlalchemy.engine.Engine:[raw sql] ()\n"
          ]
        },
        {
          "output_type": "stream",
          "name": "stdout",
          "text": [
            "2024-10-29 17:10:14,735 INFO sqlalchemy.engine.Engine SELECT sql FROM  (SELECT * FROM sqlite_master UNION ALL   SELECT * FROM sqlite_temp_master) WHERE name = ? AND type in ('table', 'view')\n"
          ]
        },
        {
          "output_type": "stream",
          "name": "stderr",
          "text": [
            "INFO:sqlalchemy.engine.Engine:SELECT sql FROM  (SELECT * FROM sqlite_master UNION ALL   SELECT * FROM sqlite_temp_master) WHERE name = ? AND type in ('table', 'view')\n"
          ]
        },
        {
          "output_type": "stream",
          "name": "stdout",
          "text": [
            "2024-10-29 17:10:14,737 INFO sqlalchemy.engine.Engine [raw sql] ('olist_order_items',)\n"
          ]
        },
        {
          "output_type": "stream",
          "name": "stderr",
          "text": [
            "INFO:sqlalchemy.engine.Engine:[raw sql] ('olist_order_items',)\n"
          ]
        },
        {
          "output_type": "stream",
          "name": "stdout",
          "text": [
            "2024-10-29 17:10:14,744 INFO sqlalchemy.engine.Engine \n",
            "DROP TABLE olist_order_items\n"
          ]
        },
        {
          "output_type": "stream",
          "name": "stderr",
          "text": [
            "INFO:sqlalchemy.engine.Engine:\n",
            "DROP TABLE olist_order_items\n"
          ]
        },
        {
          "output_type": "stream",
          "name": "stdout",
          "text": [
            "2024-10-29 17:10:14,750 INFO sqlalchemy.engine.Engine [no key 0.00598s] ()\n"
          ]
        },
        {
          "output_type": "stream",
          "name": "stderr",
          "text": [
            "INFO:sqlalchemy.engine.Engine:[no key 0.00598s] ()\n"
          ]
        },
        {
          "output_type": "stream",
          "name": "stdout",
          "text": [
            "2024-10-29 17:10:15,005 INFO sqlalchemy.engine.Engine \n",
            "CREATE TABLE olist_order_items (\n",
            "\torder_id TEXT, \n",
            "\torder_item_id BIGINT, \n",
            "\tproduct_id TEXT, \n",
            "\tseller_id TEXT, \n",
            "\tshipping_limit_date TEXT, \n",
            "\tprice FLOAT, \n",
            "\tfreight_value FLOAT\n",
            ")\n",
            "\n",
            "\n"
          ]
        },
        {
          "output_type": "stream",
          "name": "stderr",
          "text": [
            "INFO:sqlalchemy.engine.Engine:\n",
            "CREATE TABLE olist_order_items (\n",
            "\torder_id TEXT, \n",
            "\torder_item_id BIGINT, \n",
            "\tproduct_id TEXT, \n",
            "\tseller_id TEXT, \n",
            "\tshipping_limit_date TEXT, \n",
            "\tprice FLOAT, \n",
            "\tfreight_value FLOAT\n",
            ")\n",
            "\n",
            "\n"
          ]
        },
        {
          "output_type": "stream",
          "name": "stdout",
          "text": [
            "2024-10-29 17:10:15,010 INFO sqlalchemy.engine.Engine [no key 0.00436s] ()\n"
          ]
        },
        {
          "output_type": "stream",
          "name": "stderr",
          "text": [
            "INFO:sqlalchemy.engine.Engine:[no key 0.00436s] ()\n"
          ]
        },
        {
          "output_type": "stream",
          "name": "stdout",
          "text": [
            "2024-10-29 17:10:16,139 INFO sqlalchemy.engine.Engine INSERT INTO olist_order_items (order_id, order_item_id, product_id, seller_id, shipping_limit_date, price, freight_value) VALUES (?, ?, ?, ?, ?, ?, ?)\n"
          ]
        },
        {
          "output_type": "stream",
          "name": "stderr",
          "text": [
            "INFO:sqlalchemy.engine.Engine:INSERT INTO olist_order_items (order_id, order_item_id, product_id, seller_id, shipping_limit_date, price, freight_value) VALUES (?, ?, ?, ?, ?, ?, ?)\n"
          ]
        },
        {
          "output_type": "stream",
          "name": "stdout",
          "text": [
            "2024-10-29 17:10:16,143 INFO sqlalchemy.engine.Engine [generated in 0.94808s] [('00010242fe8c5a6d1ba2dd792cb16214', 1, '4244733e06e7ecb4970a6e2683c13e61', '48436dade18ac8b2bce089ec2a041202', '2017-09-19 09:45:35', 58.9, 13.29), ('00018f77f2f0320c557190d7a144bdd3', 1, 'e5f2d52b802189ee658865ca93d83a8f', 'dd7ddc04e1b6c2c614352b383efe2d36', '2017-05-03 11:05:13', 239.9, 19.93), ('000229ec398224ef6ca0657da4fc703e', 1, 'c777355d18b72b67abbeef9df44fd0fd', '5b51032eddd242adc84c38acab88f23d', '2018-01-18 14:48:30', 199.0, 17.87), ('00024acbcdf0a6daa1e931b038114c75', 1, '7634da152a4610f1595efa32f14722fc', '9d7a1d34a5052409006425275ba1c2b4', '2018-08-15 10:10:18', 12.99, 12.79), ('00042b26cf59d7ce69dfabb4e55b4fd9', 1, 'ac6c3623068f30de03045865e4e10089', 'df560393f3a51e74553ab94004ba5c87', '2017-02-13 13:57:51', 199.9, 18.14), ('00048cc3ae777c65dbb7d2a0634bc1ea', 1, 'ef92defde845ab8450f9d70c526ef70f', '6426d21aca402a131fc0a5d0960a3c90', '2017-05-23 03:55:27', 21.9, 12.69), ('00054e8431b9d7675808bcb819fb4a32', 1, '8d4f2bb7e93e6710a28f34fa83ee7d28', '7040e82f899a04d1b434b795a43b4617', '2017-12-14 12:10:31', 19.9, 11.85), ('000576fe39319847cbb9d288c5617fa6', 1, '557d850972a7d6f792fd18ae1400d9b6', '5996cddab893a4652a15592fb58ab8db', '2018-07-10 12:30:45', 810.0, 70.75)  ... displaying 10 of 112650 total bound parameter sets ...  ('fffe18544ffabc95dfada21779c9644f', 1, '9c422a519119dcad7575db5af1ba540e', '2b3e4a2a3ea8e01938cabda2a3e5cc79', '2017-08-21 00:04:32', 55.99, 8.72), ('fffe41c64501cc87c801fd61db3f6244', 1, '350688d9dc1e75ff97be326363655e01', 'f7ccf836d21b2fb1de37564105216cc1', '2018-06-12 17:10:13', 43.0, 12.79)]\n"
          ]
        },
        {
          "output_type": "stream",
          "name": "stderr",
          "text": [
            "INFO:sqlalchemy.engine.Engine:[generated in 0.94808s] [('00010242fe8c5a6d1ba2dd792cb16214', 1, '4244733e06e7ecb4970a6e2683c13e61', '48436dade18ac8b2bce089ec2a041202', '2017-09-19 09:45:35', 58.9, 13.29), ('00018f77f2f0320c557190d7a144bdd3', 1, 'e5f2d52b802189ee658865ca93d83a8f', 'dd7ddc04e1b6c2c614352b383efe2d36', '2017-05-03 11:05:13', 239.9, 19.93), ('000229ec398224ef6ca0657da4fc703e', 1, 'c777355d18b72b67abbeef9df44fd0fd', '5b51032eddd242adc84c38acab88f23d', '2018-01-18 14:48:30', 199.0, 17.87), ('00024acbcdf0a6daa1e931b038114c75', 1, '7634da152a4610f1595efa32f14722fc', '9d7a1d34a5052409006425275ba1c2b4', '2018-08-15 10:10:18', 12.99, 12.79), ('00042b26cf59d7ce69dfabb4e55b4fd9', 1, 'ac6c3623068f30de03045865e4e10089', 'df560393f3a51e74553ab94004ba5c87', '2017-02-13 13:57:51', 199.9, 18.14), ('00048cc3ae777c65dbb7d2a0634bc1ea', 1, 'ef92defde845ab8450f9d70c526ef70f', '6426d21aca402a131fc0a5d0960a3c90', '2017-05-23 03:55:27', 21.9, 12.69), ('00054e8431b9d7675808bcb819fb4a32', 1, '8d4f2bb7e93e6710a28f34fa83ee7d28', '7040e82f899a04d1b434b795a43b4617', '2017-12-14 12:10:31', 19.9, 11.85), ('000576fe39319847cbb9d288c5617fa6', 1, '557d850972a7d6f792fd18ae1400d9b6', '5996cddab893a4652a15592fb58ab8db', '2018-07-10 12:30:45', 810.0, 70.75)  ... displaying 10 of 112650 total bound parameter sets ...  ('fffe18544ffabc95dfada21779c9644f', 1, '9c422a519119dcad7575db5af1ba540e', '2b3e4a2a3ea8e01938cabda2a3e5cc79', '2017-08-21 00:04:32', 55.99, 8.72), ('fffe41c64501cc87c801fd61db3f6244', 1, '350688d9dc1e75ff97be326363655e01', 'f7ccf836d21b2fb1de37564105216cc1', '2018-06-12 17:10:13', 43.0, 12.79)]\n"
          ]
        },
        {
          "output_type": "stream",
          "name": "stdout",
          "text": [
            "2024-10-29 17:10:16,516 INFO sqlalchemy.engine.Engine COMMIT\n"
          ]
        },
        {
          "output_type": "stream",
          "name": "stderr",
          "text": [
            "INFO:sqlalchemy.engine.Engine:COMMIT\n"
          ]
        },
        {
          "output_type": "stream",
          "name": "stdout",
          "text": [
            "2024-10-29 17:10:16,560 INFO sqlalchemy.engine.Engine BEGIN (implicit)\n"
          ]
        },
        {
          "output_type": "stream",
          "name": "stderr",
          "text": [
            "INFO:sqlalchemy.engine.Engine:BEGIN (implicit)\n"
          ]
        },
        {
          "output_type": "stream",
          "name": "stdout",
          "text": [
            "2024-10-29 17:10:16,573 INFO sqlalchemy.engine.Engine PRAGMA main.table_info(\"olist_products\")\n"
          ]
        },
        {
          "output_type": "stream",
          "name": "stderr",
          "text": [
            "INFO:sqlalchemy.engine.Engine:PRAGMA main.table_info(\"olist_products\")\n"
          ]
        },
        {
          "output_type": "stream",
          "name": "stdout",
          "text": [
            "2024-10-29 17:10:16,578 INFO sqlalchemy.engine.Engine [raw sql] ()\n"
          ]
        },
        {
          "output_type": "stream",
          "name": "stderr",
          "text": [
            "INFO:sqlalchemy.engine.Engine:[raw sql] ()\n"
          ]
        },
        {
          "output_type": "stream",
          "name": "stdout",
          "text": [
            "2024-10-29 17:10:16,586 INFO sqlalchemy.engine.Engine PRAGMA main.table_info(\"olist_products\")\n"
          ]
        },
        {
          "output_type": "stream",
          "name": "stderr",
          "text": [
            "INFO:sqlalchemy.engine.Engine:PRAGMA main.table_info(\"olist_products\")\n"
          ]
        },
        {
          "output_type": "stream",
          "name": "stdout",
          "text": [
            "2024-10-29 17:10:16,589 INFO sqlalchemy.engine.Engine [raw sql] ()\n"
          ]
        },
        {
          "output_type": "stream",
          "name": "stderr",
          "text": [
            "INFO:sqlalchemy.engine.Engine:[raw sql] ()\n"
          ]
        },
        {
          "output_type": "stream",
          "name": "stdout",
          "text": [
            "2024-10-29 17:10:16,592 INFO sqlalchemy.engine.Engine SELECT name FROM sqlite_master WHERE type='table' AND name NOT LIKE 'sqlite~_%' ESCAPE '~' ORDER BY name\n"
          ]
        },
        {
          "output_type": "stream",
          "name": "stderr",
          "text": [
            "INFO:sqlalchemy.engine.Engine:SELECT name FROM sqlite_master WHERE type='table' AND name NOT LIKE 'sqlite~_%' ESCAPE '~' ORDER BY name\n"
          ]
        },
        {
          "output_type": "stream",
          "name": "stdout",
          "text": [
            "2024-10-29 17:10:16,594 INFO sqlalchemy.engine.Engine [raw sql] ()\n"
          ]
        },
        {
          "output_type": "stream",
          "name": "stderr",
          "text": [
            "INFO:sqlalchemy.engine.Engine:[raw sql] ()\n"
          ]
        },
        {
          "output_type": "stream",
          "name": "stdout",
          "text": [
            "2024-10-29 17:10:16,597 INFO sqlalchemy.engine.Engine SELECT name FROM sqlite_master WHERE type='view' AND name NOT LIKE 'sqlite~_%' ESCAPE '~' ORDER BY name\n"
          ]
        },
        {
          "output_type": "stream",
          "name": "stderr",
          "text": [
            "INFO:sqlalchemy.engine.Engine:SELECT name FROM sqlite_master WHERE type='view' AND name NOT LIKE 'sqlite~_%' ESCAPE '~' ORDER BY name\n"
          ]
        },
        {
          "output_type": "stream",
          "name": "stdout",
          "text": [
            "2024-10-29 17:10:16,599 INFO sqlalchemy.engine.Engine [raw sql] ()\n"
          ]
        },
        {
          "output_type": "stream",
          "name": "stderr",
          "text": [
            "INFO:sqlalchemy.engine.Engine:[raw sql] ()\n"
          ]
        },
        {
          "output_type": "stream",
          "name": "stdout",
          "text": [
            "2024-10-29 17:10:16,602 INFO sqlalchemy.engine.Engine PRAGMA main.table_xinfo(\"olist_products\")\n"
          ]
        },
        {
          "output_type": "stream",
          "name": "stderr",
          "text": [
            "INFO:sqlalchemy.engine.Engine:PRAGMA main.table_xinfo(\"olist_products\")\n"
          ]
        },
        {
          "output_type": "stream",
          "name": "stdout",
          "text": [
            "2024-10-29 17:10:16,604 INFO sqlalchemy.engine.Engine [raw sql] ()\n"
          ]
        },
        {
          "output_type": "stream",
          "name": "stderr",
          "text": [
            "INFO:sqlalchemy.engine.Engine:[raw sql] ()\n"
          ]
        },
        {
          "output_type": "stream",
          "name": "stdout",
          "text": [
            "2024-10-29 17:10:16,607 INFO sqlalchemy.engine.Engine SELECT sql FROM  (SELECT * FROM sqlite_master UNION ALL   SELECT * FROM sqlite_temp_master) WHERE name = ? AND type in ('table', 'view')\n"
          ]
        },
        {
          "output_type": "stream",
          "name": "stderr",
          "text": [
            "INFO:sqlalchemy.engine.Engine:SELECT sql FROM  (SELECT * FROM sqlite_master UNION ALL   SELECT * FROM sqlite_temp_master) WHERE name = ? AND type in ('table', 'view')\n"
          ]
        },
        {
          "output_type": "stream",
          "name": "stdout",
          "text": [
            "2024-10-29 17:10:16,609 INFO sqlalchemy.engine.Engine [raw sql] ('olist_products',)\n"
          ]
        },
        {
          "output_type": "stream",
          "name": "stderr",
          "text": [
            "INFO:sqlalchemy.engine.Engine:[raw sql] ('olist_products',)\n"
          ]
        },
        {
          "output_type": "stream",
          "name": "stdout",
          "text": [
            "2024-10-29 17:10:16,612 INFO sqlalchemy.engine.Engine PRAGMA main.foreign_key_list(\"olist_products\")\n"
          ]
        },
        {
          "output_type": "stream",
          "name": "stderr",
          "text": [
            "INFO:sqlalchemy.engine.Engine:PRAGMA main.foreign_key_list(\"olist_products\")\n"
          ]
        },
        {
          "output_type": "stream",
          "name": "stdout",
          "text": [
            "2024-10-29 17:10:16,614 INFO sqlalchemy.engine.Engine [raw sql] ()\n"
          ]
        },
        {
          "output_type": "stream",
          "name": "stderr",
          "text": [
            "INFO:sqlalchemy.engine.Engine:[raw sql] ()\n"
          ]
        },
        {
          "output_type": "stream",
          "name": "stdout",
          "text": [
            "2024-10-29 17:10:16,617 INFO sqlalchemy.engine.Engine PRAGMA temp.foreign_key_list(\"olist_products\")\n"
          ]
        },
        {
          "output_type": "stream",
          "name": "stderr",
          "text": [
            "INFO:sqlalchemy.engine.Engine:PRAGMA temp.foreign_key_list(\"olist_products\")\n"
          ]
        },
        {
          "output_type": "stream",
          "name": "stdout",
          "text": [
            "2024-10-29 17:10:16,619 INFO sqlalchemy.engine.Engine [raw sql] ()\n"
          ]
        },
        {
          "output_type": "stream",
          "name": "stderr",
          "text": [
            "INFO:sqlalchemy.engine.Engine:[raw sql] ()\n"
          ]
        },
        {
          "output_type": "stream",
          "name": "stdout",
          "text": [
            "2024-10-29 17:10:16,622 INFO sqlalchemy.engine.Engine SELECT sql FROM  (SELECT * FROM sqlite_master UNION ALL   SELECT * FROM sqlite_temp_master) WHERE name = ? AND type in ('table', 'view')\n"
          ]
        },
        {
          "output_type": "stream",
          "name": "stderr",
          "text": [
            "INFO:sqlalchemy.engine.Engine:SELECT sql FROM  (SELECT * FROM sqlite_master UNION ALL   SELECT * FROM sqlite_temp_master) WHERE name = ? AND type in ('table', 'view')\n"
          ]
        },
        {
          "output_type": "stream",
          "name": "stdout",
          "text": [
            "2024-10-29 17:10:16,624 INFO sqlalchemy.engine.Engine [raw sql] ('olist_products',)\n"
          ]
        },
        {
          "output_type": "stream",
          "name": "stderr",
          "text": [
            "INFO:sqlalchemy.engine.Engine:[raw sql] ('olist_products',)\n"
          ]
        },
        {
          "output_type": "stream",
          "name": "stdout",
          "text": [
            "2024-10-29 17:10:16,626 INFO sqlalchemy.engine.Engine PRAGMA main.index_list(\"olist_products\")\n"
          ]
        },
        {
          "output_type": "stream",
          "name": "stderr",
          "text": [
            "INFO:sqlalchemy.engine.Engine:PRAGMA main.index_list(\"olist_products\")\n"
          ]
        },
        {
          "output_type": "stream",
          "name": "stdout",
          "text": [
            "2024-10-29 17:10:16,628 INFO sqlalchemy.engine.Engine [raw sql] ()\n"
          ]
        },
        {
          "output_type": "stream",
          "name": "stderr",
          "text": [
            "INFO:sqlalchemy.engine.Engine:[raw sql] ()\n"
          ]
        },
        {
          "output_type": "stream",
          "name": "stdout",
          "text": [
            "2024-10-29 17:10:16,631 INFO sqlalchemy.engine.Engine PRAGMA temp.index_list(\"olist_products\")\n"
          ]
        },
        {
          "output_type": "stream",
          "name": "stderr",
          "text": [
            "INFO:sqlalchemy.engine.Engine:PRAGMA temp.index_list(\"olist_products\")\n"
          ]
        },
        {
          "output_type": "stream",
          "name": "stdout",
          "text": [
            "2024-10-29 17:10:16,633 INFO sqlalchemy.engine.Engine [raw sql] ()\n"
          ]
        },
        {
          "output_type": "stream",
          "name": "stderr",
          "text": [
            "INFO:sqlalchemy.engine.Engine:[raw sql] ()\n"
          ]
        },
        {
          "output_type": "stream",
          "name": "stdout",
          "text": [
            "2024-10-29 17:10:16,636 INFO sqlalchemy.engine.Engine PRAGMA main.table_info(\"olist_products\")\n"
          ]
        },
        {
          "output_type": "stream",
          "name": "stderr",
          "text": [
            "INFO:sqlalchemy.engine.Engine:PRAGMA main.table_info(\"olist_products\")\n"
          ]
        },
        {
          "output_type": "stream",
          "name": "stdout",
          "text": [
            "2024-10-29 17:10:16,637 INFO sqlalchemy.engine.Engine [raw sql] ()\n"
          ]
        },
        {
          "output_type": "stream",
          "name": "stderr",
          "text": [
            "INFO:sqlalchemy.engine.Engine:[raw sql] ()\n"
          ]
        },
        {
          "output_type": "stream",
          "name": "stdout",
          "text": [
            "2024-10-29 17:10:16,640 INFO sqlalchemy.engine.Engine PRAGMA main.index_list(\"olist_products\")\n"
          ]
        },
        {
          "output_type": "stream",
          "name": "stderr",
          "text": [
            "INFO:sqlalchemy.engine.Engine:PRAGMA main.index_list(\"olist_products\")\n"
          ]
        },
        {
          "output_type": "stream",
          "name": "stdout",
          "text": [
            "2024-10-29 17:10:16,642 INFO sqlalchemy.engine.Engine [raw sql] ()\n"
          ]
        },
        {
          "output_type": "stream",
          "name": "stderr",
          "text": [
            "INFO:sqlalchemy.engine.Engine:[raw sql] ()\n"
          ]
        },
        {
          "output_type": "stream",
          "name": "stdout",
          "text": [
            "2024-10-29 17:10:16,644 INFO sqlalchemy.engine.Engine PRAGMA temp.index_list(\"olist_products\")\n"
          ]
        },
        {
          "output_type": "stream",
          "name": "stderr",
          "text": [
            "INFO:sqlalchemy.engine.Engine:PRAGMA temp.index_list(\"olist_products\")\n"
          ]
        },
        {
          "output_type": "stream",
          "name": "stdout",
          "text": [
            "2024-10-29 17:10:16,647 INFO sqlalchemy.engine.Engine [raw sql] ()\n"
          ]
        },
        {
          "output_type": "stream",
          "name": "stderr",
          "text": [
            "INFO:sqlalchemy.engine.Engine:[raw sql] ()\n"
          ]
        },
        {
          "output_type": "stream",
          "name": "stdout",
          "text": [
            "2024-10-29 17:10:16,649 INFO sqlalchemy.engine.Engine PRAGMA main.table_info(\"olist_products\")\n"
          ]
        },
        {
          "output_type": "stream",
          "name": "stderr",
          "text": [
            "INFO:sqlalchemy.engine.Engine:PRAGMA main.table_info(\"olist_products\")\n"
          ]
        },
        {
          "output_type": "stream",
          "name": "stdout",
          "text": [
            "2024-10-29 17:10:16,651 INFO sqlalchemy.engine.Engine [raw sql] ()\n"
          ]
        },
        {
          "output_type": "stream",
          "name": "stderr",
          "text": [
            "INFO:sqlalchemy.engine.Engine:[raw sql] ()\n"
          ]
        },
        {
          "output_type": "stream",
          "name": "stdout",
          "text": [
            "2024-10-29 17:10:16,654 INFO sqlalchemy.engine.Engine SELECT sql FROM  (SELECT * FROM sqlite_master UNION ALL   SELECT * FROM sqlite_temp_master) WHERE name = ? AND type in ('table', 'view')\n"
          ]
        },
        {
          "output_type": "stream",
          "name": "stderr",
          "text": [
            "INFO:sqlalchemy.engine.Engine:SELECT sql FROM  (SELECT * FROM sqlite_master UNION ALL   SELECT * FROM sqlite_temp_master) WHERE name = ? AND type in ('table', 'view')\n"
          ]
        },
        {
          "output_type": "stream",
          "name": "stdout",
          "text": [
            "2024-10-29 17:10:16,656 INFO sqlalchemy.engine.Engine [raw sql] ('olist_products',)\n"
          ]
        },
        {
          "output_type": "stream",
          "name": "stderr",
          "text": [
            "INFO:sqlalchemy.engine.Engine:[raw sql] ('olist_products',)\n"
          ]
        },
        {
          "output_type": "stream",
          "name": "stdout",
          "text": [
            "2024-10-29 17:10:16,661 INFO sqlalchemy.engine.Engine \n",
            "DROP TABLE olist_products\n"
          ]
        },
        {
          "output_type": "stream",
          "name": "stderr",
          "text": [
            "INFO:sqlalchemy.engine.Engine:\n",
            "DROP TABLE olist_products\n"
          ]
        },
        {
          "output_type": "stream",
          "name": "stdout",
          "text": [
            "2024-10-29 17:10:16,663 INFO sqlalchemy.engine.Engine [no key 0.00214s] ()\n"
          ]
        },
        {
          "output_type": "stream",
          "name": "stderr",
          "text": [
            "INFO:sqlalchemy.engine.Engine:[no key 0.00214s] ()\n"
          ]
        },
        {
          "output_type": "stream",
          "name": "stdout",
          "text": [
            "2024-10-29 17:10:16,731 INFO sqlalchemy.engine.Engine \n",
            "CREATE TABLE olist_products (\n",
            "\tproduct_id TEXT, \n",
            "\tproduct_category_name TEXT, \n",
            "\tproduct_name_lenght FLOAT, \n",
            "\tproduct_description_lenght FLOAT, \n",
            "\tproduct_photos_qty FLOAT, \n",
            "\tproduct_weight_g FLOAT, \n",
            "\tproduct_length_cm FLOAT, \n",
            "\tproduct_height_cm FLOAT, \n",
            "\tproduct_width_cm FLOAT\n",
            ")\n",
            "\n",
            "\n"
          ]
        },
        {
          "output_type": "stream",
          "name": "stderr",
          "text": [
            "INFO:sqlalchemy.engine.Engine:\n",
            "CREATE TABLE olist_products (\n",
            "\tproduct_id TEXT, \n",
            "\tproduct_category_name TEXT, \n",
            "\tproduct_name_lenght FLOAT, \n",
            "\tproduct_description_lenght FLOAT, \n",
            "\tproduct_photos_qty FLOAT, \n",
            "\tproduct_weight_g FLOAT, \n",
            "\tproduct_length_cm FLOAT, \n",
            "\tproduct_height_cm FLOAT, \n",
            "\tproduct_width_cm FLOAT\n",
            ")\n",
            "\n",
            "\n"
          ]
        },
        {
          "output_type": "stream",
          "name": "stdout",
          "text": [
            "2024-10-29 17:10:16,735 INFO sqlalchemy.engine.Engine [no key 0.00360s] ()\n"
          ]
        },
        {
          "output_type": "stream",
          "name": "stderr",
          "text": [
            "INFO:sqlalchemy.engine.Engine:[no key 0.00360s] ()\n"
          ]
        },
        {
          "output_type": "stream",
          "name": "stdout",
          "text": [
            "2024-10-29 17:10:17,121 INFO sqlalchemy.engine.Engine INSERT INTO olist_products (product_id, product_category_name, product_name_lenght, product_description_lenght, product_photos_qty, product_weight_g, product_length_cm, product_height_cm, product_width_cm) VALUES (?, ?, ?, ?, ?, ?, ?, ?, ?)\n"
          ]
        },
        {
          "output_type": "stream",
          "name": "stderr",
          "text": [
            "INFO:sqlalchemy.engine.Engine:INSERT INTO olist_products (product_id, product_category_name, product_name_lenght, product_description_lenght, product_photos_qty, product_weight_g, product_length_cm, product_height_cm, product_width_cm) VALUES (?, ?, ?, ?, ?, ?, ?, ?, ?)\n"
          ]
        },
        {
          "output_type": "stream",
          "name": "stdout",
          "text": [
            "2024-10-29 17:10:17,126 INFO sqlalchemy.engine.Engine [generated in 0.24112s] [('1e9e8ef04dbcff4541ed26657ea517e5', 'perfumaria', 40.0, 287.0, 1.0, 225.0, 16.0, 10.0, 14.0), ('3aa071139cb16b67ca9e5dea641aaa2f', 'artes', 44.0, 276.0, 1.0, 1000.0, 30.0, 18.0, 20.0), ('96bd76ec8810374ed1b65e291975717f', 'esporte_lazer', 46.0, 250.0, 1.0, 154.0, 18.0, 9.0, 15.0), ('cef67bcfe19066a932b7673e239eb23d', 'bebes', 27.0, 261.0, 1.0, 371.0, 26.0, 4.0, 26.0), ('9dc1a7de274444849c219cff195d0b71', 'utilidades_domesticas', 37.0, 402.0, 4.0, 625.0, 20.0, 17.0, 13.0), ('41d3672d4792049fa1779bb35283ed13', 'instrumentos_musicais', 60.0, 745.0, 1.0, 200.0, 38.0, 5.0, 11.0), ('732bd381ad09e530fe0a5f457d81becb', 'cool_stuff', 56.0, 1272.0, 4.0, 18350.0, 70.0, 24.0, 44.0), ('2548af3e6e77a690cf3eb6368e9ab61e', 'moveis_decoracao', 56.0, 184.0, 2.0, 900.0, 40.0, 8.0, 40.0)  ... displaying 10 of 32951 total bound parameter sets ...  ('83808703fc0706a22e264b9d75f04a2e', 'informatica_acessorios', 60.0, 156.0, 2.0, 700.0, 31.0, 13.0, 20.0), ('106392145fca363410d287a815be6de4', 'cama_mesa_banho', 58.0, 309.0, 1.0, 2083.0, 12.0, 2.0, 7.0)]\n"
          ]
        },
        {
          "output_type": "stream",
          "name": "stderr",
          "text": [
            "INFO:sqlalchemy.engine.Engine:[generated in 0.24112s] [('1e9e8ef04dbcff4541ed26657ea517e5', 'perfumaria', 40.0, 287.0, 1.0, 225.0, 16.0, 10.0, 14.0), ('3aa071139cb16b67ca9e5dea641aaa2f', 'artes', 44.0, 276.0, 1.0, 1000.0, 30.0, 18.0, 20.0), ('96bd76ec8810374ed1b65e291975717f', 'esporte_lazer', 46.0, 250.0, 1.0, 154.0, 18.0, 9.0, 15.0), ('cef67bcfe19066a932b7673e239eb23d', 'bebes', 27.0, 261.0, 1.0, 371.0, 26.0, 4.0, 26.0), ('9dc1a7de274444849c219cff195d0b71', 'utilidades_domesticas', 37.0, 402.0, 4.0, 625.0, 20.0, 17.0, 13.0), ('41d3672d4792049fa1779bb35283ed13', 'instrumentos_musicais', 60.0, 745.0, 1.0, 200.0, 38.0, 5.0, 11.0), ('732bd381ad09e530fe0a5f457d81becb', 'cool_stuff', 56.0, 1272.0, 4.0, 18350.0, 70.0, 24.0, 44.0), ('2548af3e6e77a690cf3eb6368e9ab61e', 'moveis_decoracao', 56.0, 184.0, 2.0, 900.0, 40.0, 8.0, 40.0)  ... displaying 10 of 32951 total bound parameter sets ...  ('83808703fc0706a22e264b9d75f04a2e', 'informatica_acessorios', 60.0, 156.0, 2.0, 700.0, 31.0, 13.0, 20.0), ('106392145fca363410d287a815be6de4', 'cama_mesa_banho', 58.0, 309.0, 1.0, 2083.0, 12.0, 2.0, 7.0)]\n"
          ]
        },
        {
          "output_type": "stream",
          "name": "stdout",
          "text": [
            "2024-10-29 17:10:17,228 INFO sqlalchemy.engine.Engine COMMIT\n"
          ]
        },
        {
          "output_type": "stream",
          "name": "stderr",
          "text": [
            "INFO:sqlalchemy.engine.Engine:COMMIT\n"
          ]
        },
        {
          "output_type": "stream",
          "name": "stdout",
          "text": [
            "2024-10-29 17:10:17,250 INFO sqlalchemy.engine.Engine BEGIN (implicit)\n"
          ]
        },
        {
          "output_type": "stream",
          "name": "stderr",
          "text": [
            "INFO:sqlalchemy.engine.Engine:BEGIN (implicit)\n"
          ]
        },
        {
          "output_type": "stream",
          "name": "stdout",
          "text": [
            "2024-10-29 17:10:17,288 INFO sqlalchemy.engine.Engine PRAGMA main.table_info(\"olist_geolocation\")\n"
          ]
        },
        {
          "output_type": "stream",
          "name": "stderr",
          "text": [
            "INFO:sqlalchemy.engine.Engine:PRAGMA main.table_info(\"olist_geolocation\")\n"
          ]
        },
        {
          "output_type": "stream",
          "name": "stdout",
          "text": [
            "2024-10-29 17:10:17,292 INFO sqlalchemy.engine.Engine [raw sql] ()\n"
          ]
        },
        {
          "output_type": "stream",
          "name": "stderr",
          "text": [
            "INFO:sqlalchemy.engine.Engine:[raw sql] ()\n"
          ]
        },
        {
          "output_type": "stream",
          "name": "stdout",
          "text": [
            "2024-10-29 17:10:17,296 INFO sqlalchemy.engine.Engine PRAGMA main.table_info(\"olist_geolocation\")\n"
          ]
        },
        {
          "output_type": "stream",
          "name": "stderr",
          "text": [
            "INFO:sqlalchemy.engine.Engine:PRAGMA main.table_info(\"olist_geolocation\")\n"
          ]
        },
        {
          "output_type": "stream",
          "name": "stdout",
          "text": [
            "2024-10-29 17:10:17,300 INFO sqlalchemy.engine.Engine [raw sql] ()\n"
          ]
        },
        {
          "output_type": "stream",
          "name": "stderr",
          "text": [
            "INFO:sqlalchemy.engine.Engine:[raw sql] ()\n"
          ]
        },
        {
          "output_type": "stream",
          "name": "stdout",
          "text": [
            "2024-10-29 17:10:17,304 INFO sqlalchemy.engine.Engine SELECT name FROM sqlite_master WHERE type='table' AND name NOT LIKE 'sqlite~_%' ESCAPE '~' ORDER BY name\n"
          ]
        },
        {
          "output_type": "stream",
          "name": "stderr",
          "text": [
            "INFO:sqlalchemy.engine.Engine:SELECT name FROM sqlite_master WHERE type='table' AND name NOT LIKE 'sqlite~_%' ESCAPE '~' ORDER BY name\n"
          ]
        },
        {
          "output_type": "stream",
          "name": "stdout",
          "text": [
            "2024-10-29 17:10:17,307 INFO sqlalchemy.engine.Engine [raw sql] ()\n"
          ]
        },
        {
          "output_type": "stream",
          "name": "stderr",
          "text": [
            "INFO:sqlalchemy.engine.Engine:[raw sql] ()\n"
          ]
        },
        {
          "output_type": "stream",
          "name": "stdout",
          "text": [
            "2024-10-29 17:10:17,309 INFO sqlalchemy.engine.Engine SELECT name FROM sqlite_master WHERE type='view' AND name NOT LIKE 'sqlite~_%' ESCAPE '~' ORDER BY name\n"
          ]
        },
        {
          "output_type": "stream",
          "name": "stderr",
          "text": [
            "INFO:sqlalchemy.engine.Engine:SELECT name FROM sqlite_master WHERE type='view' AND name NOT LIKE 'sqlite~_%' ESCAPE '~' ORDER BY name\n"
          ]
        },
        {
          "output_type": "stream",
          "name": "stdout",
          "text": [
            "2024-10-29 17:10:17,315 INFO sqlalchemy.engine.Engine [raw sql] ()\n"
          ]
        },
        {
          "output_type": "stream",
          "name": "stderr",
          "text": [
            "INFO:sqlalchemy.engine.Engine:[raw sql] ()\n"
          ]
        },
        {
          "output_type": "stream",
          "name": "stdout",
          "text": [
            "2024-10-29 17:10:17,318 INFO sqlalchemy.engine.Engine PRAGMA main.table_xinfo(\"olist_geolocation\")\n"
          ]
        },
        {
          "output_type": "stream",
          "name": "stderr",
          "text": [
            "INFO:sqlalchemy.engine.Engine:PRAGMA main.table_xinfo(\"olist_geolocation\")\n"
          ]
        },
        {
          "output_type": "stream",
          "name": "stdout",
          "text": [
            "2024-10-29 17:10:17,320 INFO sqlalchemy.engine.Engine [raw sql] ()\n"
          ]
        },
        {
          "output_type": "stream",
          "name": "stderr",
          "text": [
            "INFO:sqlalchemy.engine.Engine:[raw sql] ()\n"
          ]
        },
        {
          "output_type": "stream",
          "name": "stdout",
          "text": [
            "2024-10-29 17:10:17,322 INFO sqlalchemy.engine.Engine SELECT sql FROM  (SELECT * FROM sqlite_master UNION ALL   SELECT * FROM sqlite_temp_master) WHERE name = ? AND type in ('table', 'view')\n"
          ]
        },
        {
          "output_type": "stream",
          "name": "stderr",
          "text": [
            "INFO:sqlalchemy.engine.Engine:SELECT sql FROM  (SELECT * FROM sqlite_master UNION ALL   SELECT * FROM sqlite_temp_master) WHERE name = ? AND type in ('table', 'view')\n"
          ]
        },
        {
          "output_type": "stream",
          "name": "stdout",
          "text": [
            "2024-10-29 17:10:17,328 INFO sqlalchemy.engine.Engine [raw sql] ('olist_geolocation',)\n"
          ]
        },
        {
          "output_type": "stream",
          "name": "stderr",
          "text": [
            "INFO:sqlalchemy.engine.Engine:[raw sql] ('olist_geolocation',)\n"
          ]
        },
        {
          "output_type": "stream",
          "name": "stdout",
          "text": [
            "2024-10-29 17:10:17,330 INFO sqlalchemy.engine.Engine PRAGMA main.foreign_key_list(\"olist_geolocation\")\n"
          ]
        },
        {
          "output_type": "stream",
          "name": "stderr",
          "text": [
            "INFO:sqlalchemy.engine.Engine:PRAGMA main.foreign_key_list(\"olist_geolocation\")\n"
          ]
        },
        {
          "output_type": "stream",
          "name": "stdout",
          "text": [
            "2024-10-29 17:10:17,332 INFO sqlalchemy.engine.Engine [raw sql] ()\n"
          ]
        },
        {
          "output_type": "stream",
          "name": "stderr",
          "text": [
            "INFO:sqlalchemy.engine.Engine:[raw sql] ()\n"
          ]
        },
        {
          "output_type": "stream",
          "name": "stdout",
          "text": [
            "2024-10-29 17:10:17,334 INFO sqlalchemy.engine.Engine PRAGMA temp.foreign_key_list(\"olist_geolocation\")\n"
          ]
        },
        {
          "output_type": "stream",
          "name": "stderr",
          "text": [
            "INFO:sqlalchemy.engine.Engine:PRAGMA temp.foreign_key_list(\"olist_geolocation\")\n"
          ]
        },
        {
          "output_type": "stream",
          "name": "stdout",
          "text": [
            "2024-10-29 17:10:17,336 INFO sqlalchemy.engine.Engine [raw sql] ()\n"
          ]
        },
        {
          "output_type": "stream",
          "name": "stderr",
          "text": [
            "INFO:sqlalchemy.engine.Engine:[raw sql] ()\n"
          ]
        },
        {
          "output_type": "stream",
          "name": "stdout",
          "text": [
            "2024-10-29 17:10:17,341 INFO sqlalchemy.engine.Engine SELECT sql FROM  (SELECT * FROM sqlite_master UNION ALL   SELECT * FROM sqlite_temp_master) WHERE name = ? AND type in ('table', 'view')\n"
          ]
        },
        {
          "output_type": "stream",
          "name": "stderr",
          "text": [
            "INFO:sqlalchemy.engine.Engine:SELECT sql FROM  (SELECT * FROM sqlite_master UNION ALL   SELECT * FROM sqlite_temp_master) WHERE name = ? AND type in ('table', 'view')\n"
          ]
        },
        {
          "output_type": "stream",
          "name": "stdout",
          "text": [
            "2024-10-29 17:10:17,343 INFO sqlalchemy.engine.Engine [raw sql] ('olist_geolocation',)\n"
          ]
        },
        {
          "output_type": "stream",
          "name": "stderr",
          "text": [
            "INFO:sqlalchemy.engine.Engine:[raw sql] ('olist_geolocation',)\n"
          ]
        },
        {
          "output_type": "stream",
          "name": "stdout",
          "text": [
            "2024-10-29 17:10:17,346 INFO sqlalchemy.engine.Engine PRAGMA main.index_list(\"olist_geolocation\")\n"
          ]
        },
        {
          "output_type": "stream",
          "name": "stderr",
          "text": [
            "INFO:sqlalchemy.engine.Engine:PRAGMA main.index_list(\"olist_geolocation\")\n"
          ]
        },
        {
          "output_type": "stream",
          "name": "stdout",
          "text": [
            "2024-10-29 17:10:17,350 INFO sqlalchemy.engine.Engine [raw sql] ()\n"
          ]
        },
        {
          "output_type": "stream",
          "name": "stderr",
          "text": [
            "INFO:sqlalchemy.engine.Engine:[raw sql] ()\n"
          ]
        },
        {
          "output_type": "stream",
          "name": "stdout",
          "text": [
            "2024-10-29 17:10:17,353 INFO sqlalchemy.engine.Engine PRAGMA temp.index_list(\"olist_geolocation\")\n"
          ]
        },
        {
          "output_type": "stream",
          "name": "stderr",
          "text": [
            "INFO:sqlalchemy.engine.Engine:PRAGMA temp.index_list(\"olist_geolocation\")\n"
          ]
        },
        {
          "output_type": "stream",
          "name": "stdout",
          "text": [
            "2024-10-29 17:10:17,355 INFO sqlalchemy.engine.Engine [raw sql] ()\n"
          ]
        },
        {
          "output_type": "stream",
          "name": "stderr",
          "text": [
            "INFO:sqlalchemy.engine.Engine:[raw sql] ()\n"
          ]
        },
        {
          "output_type": "stream",
          "name": "stdout",
          "text": [
            "2024-10-29 17:10:17,357 INFO sqlalchemy.engine.Engine PRAGMA main.table_info(\"olist_geolocation\")\n"
          ]
        },
        {
          "output_type": "stream",
          "name": "stderr",
          "text": [
            "INFO:sqlalchemy.engine.Engine:PRAGMA main.table_info(\"olist_geolocation\")\n"
          ]
        },
        {
          "output_type": "stream",
          "name": "stdout",
          "text": [
            "2024-10-29 17:10:17,361 INFO sqlalchemy.engine.Engine [raw sql] ()\n"
          ]
        },
        {
          "output_type": "stream",
          "name": "stderr",
          "text": [
            "INFO:sqlalchemy.engine.Engine:[raw sql] ()\n"
          ]
        },
        {
          "output_type": "stream",
          "name": "stdout",
          "text": [
            "2024-10-29 17:10:17,364 INFO sqlalchemy.engine.Engine PRAGMA main.index_list(\"olist_geolocation\")\n"
          ]
        },
        {
          "output_type": "stream",
          "name": "stderr",
          "text": [
            "INFO:sqlalchemy.engine.Engine:PRAGMA main.index_list(\"olist_geolocation\")\n"
          ]
        },
        {
          "output_type": "stream",
          "name": "stdout",
          "text": [
            "2024-10-29 17:10:17,366 INFO sqlalchemy.engine.Engine [raw sql] ()\n"
          ]
        },
        {
          "output_type": "stream",
          "name": "stderr",
          "text": [
            "INFO:sqlalchemy.engine.Engine:[raw sql] ()\n"
          ]
        },
        {
          "output_type": "stream",
          "name": "stdout",
          "text": [
            "2024-10-29 17:10:17,369 INFO sqlalchemy.engine.Engine PRAGMA temp.index_list(\"olist_geolocation\")\n"
          ]
        },
        {
          "output_type": "stream",
          "name": "stderr",
          "text": [
            "INFO:sqlalchemy.engine.Engine:PRAGMA temp.index_list(\"olist_geolocation\")\n"
          ]
        },
        {
          "output_type": "stream",
          "name": "stdout",
          "text": [
            "2024-10-29 17:10:17,373 INFO sqlalchemy.engine.Engine [raw sql] ()\n"
          ]
        },
        {
          "output_type": "stream",
          "name": "stderr",
          "text": [
            "INFO:sqlalchemy.engine.Engine:[raw sql] ()\n"
          ]
        },
        {
          "output_type": "stream",
          "name": "stdout",
          "text": [
            "2024-10-29 17:10:17,375 INFO sqlalchemy.engine.Engine PRAGMA main.table_info(\"olist_geolocation\")\n"
          ]
        },
        {
          "output_type": "stream",
          "name": "stderr",
          "text": [
            "INFO:sqlalchemy.engine.Engine:PRAGMA main.table_info(\"olist_geolocation\")\n"
          ]
        },
        {
          "output_type": "stream",
          "name": "stdout",
          "text": [
            "2024-10-29 17:10:17,378 INFO sqlalchemy.engine.Engine [raw sql] ()\n"
          ]
        },
        {
          "output_type": "stream",
          "name": "stderr",
          "text": [
            "INFO:sqlalchemy.engine.Engine:[raw sql] ()\n"
          ]
        },
        {
          "output_type": "stream",
          "name": "stdout",
          "text": [
            "2024-10-29 17:10:17,380 INFO sqlalchemy.engine.Engine SELECT sql FROM  (SELECT * FROM sqlite_master UNION ALL   SELECT * FROM sqlite_temp_master) WHERE name = ? AND type in ('table', 'view')\n"
          ]
        },
        {
          "output_type": "stream",
          "name": "stderr",
          "text": [
            "INFO:sqlalchemy.engine.Engine:SELECT sql FROM  (SELECT * FROM sqlite_master UNION ALL   SELECT * FROM sqlite_temp_master) WHERE name = ? AND type in ('table', 'view')\n"
          ]
        },
        {
          "output_type": "stream",
          "name": "stdout",
          "text": [
            "2024-10-29 17:10:17,382 INFO sqlalchemy.engine.Engine [raw sql] ('olist_geolocation',)\n"
          ]
        },
        {
          "output_type": "stream",
          "name": "stderr",
          "text": [
            "INFO:sqlalchemy.engine.Engine:[raw sql] ('olist_geolocation',)\n"
          ]
        },
        {
          "output_type": "stream",
          "name": "stdout",
          "text": [
            "2024-10-29 17:10:17,388 INFO sqlalchemy.engine.Engine \n",
            "DROP TABLE olist_geolocation\n"
          ]
        },
        {
          "output_type": "stream",
          "name": "stderr",
          "text": [
            "INFO:sqlalchemy.engine.Engine:\n",
            "DROP TABLE olist_geolocation\n"
          ]
        },
        {
          "output_type": "stream",
          "name": "stdout",
          "text": [
            "2024-10-29 17:10:17,390 INFO sqlalchemy.engine.Engine [no key 0.00229s] ()\n"
          ]
        },
        {
          "output_type": "stream",
          "name": "stderr",
          "text": [
            "INFO:sqlalchemy.engine.Engine:[no key 0.00229s] ()\n"
          ]
        },
        {
          "output_type": "stream",
          "name": "stdout",
          "text": [
            "2024-10-29 17:10:18,070 INFO sqlalchemy.engine.Engine \n",
            "CREATE TABLE olist_geolocation (\n",
            "\tgeolocation_zip_code_prefix BIGINT, \n",
            "\tgeolocation_lat FLOAT, \n",
            "\tgeolocation_lng FLOAT, \n",
            "\tgeolocation_city TEXT, \n",
            "\tgeolocation_state TEXT\n",
            ")\n",
            "\n",
            "\n"
          ]
        },
        {
          "output_type": "stream",
          "name": "stderr",
          "text": [
            "INFO:sqlalchemy.engine.Engine:\n",
            "CREATE TABLE olist_geolocation (\n",
            "\tgeolocation_zip_code_prefix BIGINT, \n",
            "\tgeolocation_lat FLOAT, \n",
            "\tgeolocation_lng FLOAT, \n",
            "\tgeolocation_city TEXT, \n",
            "\tgeolocation_state TEXT\n",
            ")\n",
            "\n",
            "\n"
          ]
        },
        {
          "output_type": "stream",
          "name": "stdout",
          "text": [
            "2024-10-29 17:10:18,075 INFO sqlalchemy.engine.Engine [no key 0.00548s] ()\n"
          ]
        },
        {
          "output_type": "stream",
          "name": "stderr",
          "text": [
            "INFO:sqlalchemy.engine.Engine:[no key 0.00548s] ()\n"
          ]
        },
        {
          "output_type": "stream",
          "name": "stdout",
          "text": [
            "2024-10-29 17:10:26,010 INFO sqlalchemy.engine.Engine INSERT INTO olist_geolocation (geolocation_zip_code_prefix, geolocation_lat, geolocation_lng, geolocation_city, geolocation_state) VALUES (?, ?, ?, ?, ?)\n"
          ]
        },
        {
          "output_type": "stream",
          "name": "stderr",
          "text": [
            "INFO:sqlalchemy.engine.Engine:INSERT INTO olist_geolocation (geolocation_zip_code_prefix, geolocation_lat, geolocation_lng, geolocation_city, geolocation_state) VALUES (?, ?, ?, ?, ?)\n"
          ]
        },
        {
          "output_type": "stream",
          "name": "stdout",
          "text": [
            "2024-10-29 17:10:26,020 INFO sqlalchemy.engine.Engine [generated in 6.02111s] [(1037, -23.54562128115268, -46.63929204800168, 'sao paulo', 'SP'), (1046, -23.54608112703553, -46.64482029837157, 'sao paulo', 'SP'), (1046, -23.54612896641469, -46.64295148361138, 'sao paulo', 'SP'), (1041, -23.5443921648681, -46.63949930627844, 'sao paulo', 'SP'), (1035, -23.541577961711493, -46.64160722329613, 'sao paulo', 'SP'), (1012, -23.547762303364262, -46.63536053788448, 'são paulo', 'SP'), (1047, -23.54627311241268, -46.64122516971552, 'sao paulo', 'SP'), (1013, -23.546923208436723, -46.6342636964915, 'sao paulo', 'SP')  ... displaying 10 of 1000163 total bound parameter sets ...  (99980, -28.38893187660049, -51.84687132274168, 'david canabarro', 'RS'), (99950, -28.07010363149126, -52.01865772856674, 'tapejara', 'RS')]\n"
          ]
        },
        {
          "output_type": "stream",
          "name": "stderr",
          "text": [
            "INFO:sqlalchemy.engine.Engine:[generated in 6.02111s] [(1037, -23.54562128115268, -46.63929204800168, 'sao paulo', 'SP'), (1046, -23.54608112703553, -46.64482029837157, 'sao paulo', 'SP'), (1046, -23.54612896641469, -46.64295148361138, 'sao paulo', 'SP'), (1041, -23.5443921648681, -46.63949930627844, 'sao paulo', 'SP'), (1035, -23.541577961711493, -46.64160722329613, 'sao paulo', 'SP'), (1012, -23.547762303364262, -46.63536053788448, 'são paulo', 'SP'), (1047, -23.54627311241268, -46.64122516971552, 'sao paulo', 'SP'), (1013, -23.546923208436723, -46.6342636964915, 'sao paulo', 'SP')  ... displaying 10 of 1000163 total bound parameter sets ...  (99980, -28.38893187660049, -51.84687132274168, 'david canabarro', 'RS'), (99950, -28.07010363149126, -52.01865772856674, 'tapejara', 'RS')]\n"
          ]
        },
        {
          "output_type": "stream",
          "name": "stdout",
          "text": [
            "2024-10-29 17:10:27,969 INFO sqlalchemy.engine.Engine COMMIT\n"
          ]
        },
        {
          "output_type": "stream",
          "name": "stderr",
          "text": [
            "INFO:sqlalchemy.engine.Engine:COMMIT\n"
          ]
        },
        {
          "output_type": "stream",
          "name": "stdout",
          "text": [
            "2024-10-29 17:10:28,106 INFO sqlalchemy.engine.Engine BEGIN (implicit)\n"
          ]
        },
        {
          "output_type": "stream",
          "name": "stderr",
          "text": [
            "INFO:sqlalchemy.engine.Engine:BEGIN (implicit)\n"
          ]
        },
        {
          "output_type": "stream",
          "name": "stdout",
          "text": [
            "2024-10-29 17:10:28,114 INFO sqlalchemy.engine.Engine PRAGMA main.table_info(\"product_category_name_translation\")\n"
          ]
        },
        {
          "output_type": "stream",
          "name": "stderr",
          "text": [
            "INFO:sqlalchemy.engine.Engine:PRAGMA main.table_info(\"product_category_name_translation\")\n"
          ]
        },
        {
          "output_type": "stream",
          "name": "stdout",
          "text": [
            "2024-10-29 17:10:28,119 INFO sqlalchemy.engine.Engine [raw sql] ()\n"
          ]
        },
        {
          "output_type": "stream",
          "name": "stderr",
          "text": [
            "INFO:sqlalchemy.engine.Engine:[raw sql] ()\n"
          ]
        },
        {
          "output_type": "stream",
          "name": "stdout",
          "text": [
            "2024-10-29 17:10:28,124 INFO sqlalchemy.engine.Engine PRAGMA main.table_info(\"product_category_name_translation\")\n"
          ]
        },
        {
          "output_type": "stream",
          "name": "stderr",
          "text": [
            "INFO:sqlalchemy.engine.Engine:PRAGMA main.table_info(\"product_category_name_translation\")\n"
          ]
        },
        {
          "output_type": "stream",
          "name": "stdout",
          "text": [
            "2024-10-29 17:10:28,128 INFO sqlalchemy.engine.Engine [raw sql] ()\n"
          ]
        },
        {
          "output_type": "stream",
          "name": "stderr",
          "text": [
            "INFO:sqlalchemy.engine.Engine:[raw sql] ()\n"
          ]
        },
        {
          "output_type": "stream",
          "name": "stdout",
          "text": [
            "2024-10-29 17:10:28,131 INFO sqlalchemy.engine.Engine SELECT name FROM sqlite_master WHERE type='table' AND name NOT LIKE 'sqlite~_%' ESCAPE '~' ORDER BY name\n"
          ]
        },
        {
          "output_type": "stream",
          "name": "stderr",
          "text": [
            "INFO:sqlalchemy.engine.Engine:SELECT name FROM sqlite_master WHERE type='table' AND name NOT LIKE 'sqlite~_%' ESCAPE '~' ORDER BY name\n"
          ]
        },
        {
          "output_type": "stream",
          "name": "stdout",
          "text": [
            "2024-10-29 17:10:28,134 INFO sqlalchemy.engine.Engine [raw sql] ()\n"
          ]
        },
        {
          "output_type": "stream",
          "name": "stderr",
          "text": [
            "INFO:sqlalchemy.engine.Engine:[raw sql] ()\n"
          ]
        },
        {
          "output_type": "stream",
          "name": "stdout",
          "text": [
            "2024-10-29 17:10:28,141 INFO sqlalchemy.engine.Engine SELECT name FROM sqlite_master WHERE type='view' AND name NOT LIKE 'sqlite~_%' ESCAPE '~' ORDER BY name\n"
          ]
        },
        {
          "output_type": "stream",
          "name": "stderr",
          "text": [
            "INFO:sqlalchemy.engine.Engine:SELECT name FROM sqlite_master WHERE type='view' AND name NOT LIKE 'sqlite~_%' ESCAPE '~' ORDER BY name\n"
          ]
        },
        {
          "output_type": "stream",
          "name": "stdout",
          "text": [
            "2024-10-29 17:10:28,144 INFO sqlalchemy.engine.Engine [raw sql] ()\n"
          ]
        },
        {
          "output_type": "stream",
          "name": "stderr",
          "text": [
            "INFO:sqlalchemy.engine.Engine:[raw sql] ()\n"
          ]
        },
        {
          "output_type": "stream",
          "name": "stdout",
          "text": [
            "2024-10-29 17:10:28,147 INFO sqlalchemy.engine.Engine PRAGMA main.table_xinfo(\"product_category_name_translation\")\n"
          ]
        },
        {
          "output_type": "stream",
          "name": "stderr",
          "text": [
            "INFO:sqlalchemy.engine.Engine:PRAGMA main.table_xinfo(\"product_category_name_translation\")\n"
          ]
        },
        {
          "output_type": "stream",
          "name": "stdout",
          "text": [
            "2024-10-29 17:10:28,150 INFO sqlalchemy.engine.Engine [raw sql] ()\n"
          ]
        },
        {
          "output_type": "stream",
          "name": "stderr",
          "text": [
            "INFO:sqlalchemy.engine.Engine:[raw sql] ()\n"
          ]
        },
        {
          "output_type": "stream",
          "name": "stdout",
          "text": [
            "2024-10-29 17:10:28,153 INFO sqlalchemy.engine.Engine SELECT sql FROM  (SELECT * FROM sqlite_master UNION ALL   SELECT * FROM sqlite_temp_master) WHERE name = ? AND type in ('table', 'view')\n"
          ]
        },
        {
          "output_type": "stream",
          "name": "stderr",
          "text": [
            "INFO:sqlalchemy.engine.Engine:SELECT sql FROM  (SELECT * FROM sqlite_master UNION ALL   SELECT * FROM sqlite_temp_master) WHERE name = ? AND type in ('table', 'view')\n"
          ]
        },
        {
          "output_type": "stream",
          "name": "stdout",
          "text": [
            "2024-10-29 17:10:28,157 INFO sqlalchemy.engine.Engine [raw sql] ('product_category_name_translation',)\n"
          ]
        },
        {
          "output_type": "stream",
          "name": "stderr",
          "text": [
            "INFO:sqlalchemy.engine.Engine:[raw sql] ('product_category_name_translation',)\n"
          ]
        },
        {
          "output_type": "stream",
          "name": "stdout",
          "text": [
            "2024-10-29 17:10:28,161 INFO sqlalchemy.engine.Engine PRAGMA main.foreign_key_list(\"product_category_name_translation\")\n"
          ]
        },
        {
          "output_type": "stream",
          "name": "stderr",
          "text": [
            "INFO:sqlalchemy.engine.Engine:PRAGMA main.foreign_key_list(\"product_category_name_translation\")\n"
          ]
        },
        {
          "output_type": "stream",
          "name": "stdout",
          "text": [
            "2024-10-29 17:10:28,166 INFO sqlalchemy.engine.Engine [raw sql] ()\n"
          ]
        },
        {
          "output_type": "stream",
          "name": "stderr",
          "text": [
            "INFO:sqlalchemy.engine.Engine:[raw sql] ()\n"
          ]
        },
        {
          "output_type": "stream",
          "name": "stdout",
          "text": [
            "2024-10-29 17:10:28,169 INFO sqlalchemy.engine.Engine PRAGMA temp.foreign_key_list(\"product_category_name_translation\")\n"
          ]
        },
        {
          "output_type": "stream",
          "name": "stderr",
          "text": [
            "INFO:sqlalchemy.engine.Engine:PRAGMA temp.foreign_key_list(\"product_category_name_translation\")\n"
          ]
        },
        {
          "output_type": "stream",
          "name": "stdout",
          "text": [
            "2024-10-29 17:10:28,171 INFO sqlalchemy.engine.Engine [raw sql] ()\n"
          ]
        },
        {
          "output_type": "stream",
          "name": "stderr",
          "text": [
            "INFO:sqlalchemy.engine.Engine:[raw sql] ()\n"
          ]
        },
        {
          "output_type": "stream",
          "name": "stdout",
          "text": [
            "2024-10-29 17:10:28,174 INFO sqlalchemy.engine.Engine SELECT sql FROM  (SELECT * FROM sqlite_master UNION ALL   SELECT * FROM sqlite_temp_master) WHERE name = ? AND type in ('table', 'view')\n"
          ]
        },
        {
          "output_type": "stream",
          "name": "stderr",
          "text": [
            "INFO:sqlalchemy.engine.Engine:SELECT sql FROM  (SELECT * FROM sqlite_master UNION ALL   SELECT * FROM sqlite_temp_master) WHERE name = ? AND type in ('table', 'view')\n"
          ]
        },
        {
          "output_type": "stream",
          "name": "stdout",
          "text": [
            "2024-10-29 17:10:28,176 INFO sqlalchemy.engine.Engine [raw sql] ('product_category_name_translation',)\n"
          ]
        },
        {
          "output_type": "stream",
          "name": "stderr",
          "text": [
            "INFO:sqlalchemy.engine.Engine:[raw sql] ('product_category_name_translation',)\n"
          ]
        },
        {
          "output_type": "stream",
          "name": "stdout",
          "text": [
            "2024-10-29 17:10:28,179 INFO sqlalchemy.engine.Engine PRAGMA main.index_list(\"product_category_name_translation\")\n"
          ]
        },
        {
          "output_type": "stream",
          "name": "stderr",
          "text": [
            "INFO:sqlalchemy.engine.Engine:PRAGMA main.index_list(\"product_category_name_translation\")\n"
          ]
        },
        {
          "output_type": "stream",
          "name": "stdout",
          "text": [
            "2024-10-29 17:10:28,181 INFO sqlalchemy.engine.Engine [raw sql] ()\n"
          ]
        },
        {
          "output_type": "stream",
          "name": "stderr",
          "text": [
            "INFO:sqlalchemy.engine.Engine:[raw sql] ()\n"
          ]
        },
        {
          "output_type": "stream",
          "name": "stdout",
          "text": [
            "2024-10-29 17:10:28,184 INFO sqlalchemy.engine.Engine PRAGMA temp.index_list(\"product_category_name_translation\")\n"
          ]
        },
        {
          "output_type": "stream",
          "name": "stderr",
          "text": [
            "INFO:sqlalchemy.engine.Engine:PRAGMA temp.index_list(\"product_category_name_translation\")\n"
          ]
        },
        {
          "output_type": "stream",
          "name": "stdout",
          "text": [
            "2024-10-29 17:10:28,187 INFO sqlalchemy.engine.Engine [raw sql] ()\n"
          ]
        },
        {
          "output_type": "stream",
          "name": "stderr",
          "text": [
            "INFO:sqlalchemy.engine.Engine:[raw sql] ()\n"
          ]
        },
        {
          "output_type": "stream",
          "name": "stdout",
          "text": [
            "2024-10-29 17:10:28,189 INFO sqlalchemy.engine.Engine PRAGMA main.table_info(\"product_category_name_translation\")\n"
          ]
        },
        {
          "output_type": "stream",
          "name": "stderr",
          "text": [
            "INFO:sqlalchemy.engine.Engine:PRAGMA main.table_info(\"product_category_name_translation\")\n"
          ]
        },
        {
          "output_type": "stream",
          "name": "stdout",
          "text": [
            "2024-10-29 17:10:28,191 INFO sqlalchemy.engine.Engine [raw sql] ()\n"
          ]
        },
        {
          "output_type": "stream",
          "name": "stderr",
          "text": [
            "INFO:sqlalchemy.engine.Engine:[raw sql] ()\n"
          ]
        },
        {
          "output_type": "stream",
          "name": "stdout",
          "text": [
            "2024-10-29 17:10:28,195 INFO sqlalchemy.engine.Engine PRAGMA main.index_list(\"product_category_name_translation\")\n"
          ]
        },
        {
          "output_type": "stream",
          "name": "stderr",
          "text": [
            "INFO:sqlalchemy.engine.Engine:PRAGMA main.index_list(\"product_category_name_translation\")\n"
          ]
        },
        {
          "output_type": "stream",
          "name": "stdout",
          "text": [
            "2024-10-29 17:10:28,197 INFO sqlalchemy.engine.Engine [raw sql] ()\n"
          ]
        },
        {
          "output_type": "stream",
          "name": "stderr",
          "text": [
            "INFO:sqlalchemy.engine.Engine:[raw sql] ()\n"
          ]
        },
        {
          "output_type": "stream",
          "name": "stdout",
          "text": [
            "2024-10-29 17:10:28,199 INFO sqlalchemy.engine.Engine PRAGMA temp.index_list(\"product_category_name_translation\")\n"
          ]
        },
        {
          "output_type": "stream",
          "name": "stderr",
          "text": [
            "INFO:sqlalchemy.engine.Engine:PRAGMA temp.index_list(\"product_category_name_translation\")\n"
          ]
        },
        {
          "output_type": "stream",
          "name": "stdout",
          "text": [
            "2024-10-29 17:10:28,202 INFO sqlalchemy.engine.Engine [raw sql] ()\n"
          ]
        },
        {
          "output_type": "stream",
          "name": "stderr",
          "text": [
            "INFO:sqlalchemy.engine.Engine:[raw sql] ()\n"
          ]
        },
        {
          "output_type": "stream",
          "name": "stdout",
          "text": [
            "2024-10-29 17:10:28,204 INFO sqlalchemy.engine.Engine PRAGMA main.table_info(\"product_category_name_translation\")\n"
          ]
        },
        {
          "output_type": "stream",
          "name": "stderr",
          "text": [
            "INFO:sqlalchemy.engine.Engine:PRAGMA main.table_info(\"product_category_name_translation\")\n"
          ]
        },
        {
          "output_type": "stream",
          "name": "stdout",
          "text": [
            "2024-10-29 17:10:28,207 INFO sqlalchemy.engine.Engine [raw sql] ()\n"
          ]
        },
        {
          "output_type": "stream",
          "name": "stderr",
          "text": [
            "INFO:sqlalchemy.engine.Engine:[raw sql] ()\n"
          ]
        },
        {
          "output_type": "stream",
          "name": "stdout",
          "text": [
            "2024-10-29 17:10:28,210 INFO sqlalchemy.engine.Engine SELECT sql FROM  (SELECT * FROM sqlite_master UNION ALL   SELECT * FROM sqlite_temp_master) WHERE name = ? AND type in ('table', 'view')\n"
          ]
        },
        {
          "output_type": "stream",
          "name": "stderr",
          "text": [
            "INFO:sqlalchemy.engine.Engine:SELECT sql FROM  (SELECT * FROM sqlite_master UNION ALL   SELECT * FROM sqlite_temp_master) WHERE name = ? AND type in ('table', 'view')\n"
          ]
        },
        {
          "output_type": "stream",
          "name": "stdout",
          "text": [
            "2024-10-29 17:10:28,212 INFO sqlalchemy.engine.Engine [raw sql] ('product_category_name_translation',)\n"
          ]
        },
        {
          "output_type": "stream",
          "name": "stderr",
          "text": [
            "INFO:sqlalchemy.engine.Engine:[raw sql] ('product_category_name_translation',)\n"
          ]
        },
        {
          "output_type": "stream",
          "name": "stdout",
          "text": [
            "2024-10-29 17:10:28,216 INFO sqlalchemy.engine.Engine \n",
            "DROP TABLE product_category_name_translation\n"
          ]
        },
        {
          "output_type": "stream",
          "name": "stderr",
          "text": [
            "INFO:sqlalchemy.engine.Engine:\n",
            "DROP TABLE product_category_name_translation\n"
          ]
        },
        {
          "output_type": "stream",
          "name": "stdout",
          "text": [
            "2024-10-29 17:10:28,218 INFO sqlalchemy.engine.Engine [no key 0.00258s] ()\n"
          ]
        },
        {
          "output_type": "stream",
          "name": "stderr",
          "text": [
            "INFO:sqlalchemy.engine.Engine:[no key 0.00258s] ()\n"
          ]
        },
        {
          "output_type": "stream",
          "name": "stdout",
          "text": [
            "2024-10-29 17:10:28,231 INFO sqlalchemy.engine.Engine \n",
            "CREATE TABLE product_category_name_translation (\n",
            "\tproduct_category_name TEXT, \n",
            "\tproduct_category_name_english TEXT\n",
            ")\n",
            "\n",
            "\n"
          ]
        },
        {
          "output_type": "stream",
          "name": "stderr",
          "text": [
            "INFO:sqlalchemy.engine.Engine:\n",
            "CREATE TABLE product_category_name_translation (\n",
            "\tproduct_category_name TEXT, \n",
            "\tproduct_category_name_english TEXT\n",
            ")\n",
            "\n",
            "\n"
          ]
        },
        {
          "output_type": "stream",
          "name": "stdout",
          "text": [
            "2024-10-29 17:10:28,234 INFO sqlalchemy.engine.Engine [no key 0.00274s] ()\n"
          ]
        },
        {
          "output_type": "stream",
          "name": "stderr",
          "text": [
            "INFO:sqlalchemy.engine.Engine:[no key 0.00274s] ()\n"
          ]
        },
        {
          "output_type": "stream",
          "name": "stdout",
          "text": [
            "2024-10-29 17:10:28,253 INFO sqlalchemy.engine.Engine INSERT INTO product_category_name_translation (product_category_name, product_category_name_english) VALUES (?, ?)\n"
          ]
        },
        {
          "output_type": "stream",
          "name": "stderr",
          "text": [
            "INFO:sqlalchemy.engine.Engine:INSERT INTO product_category_name_translation (product_category_name, product_category_name_english) VALUES (?, ?)\n"
          ]
        },
        {
          "output_type": "stream",
          "name": "stdout",
          "text": [
            "2024-10-29 17:10:28,255 INFO sqlalchemy.engine.Engine [generated in 0.00300s] [('beleza_saude', 'health_beauty'), ('informatica_acessorios', 'computers_accessories'), ('automotivo', 'auto'), ('cama_mesa_banho', 'bed_bath_table'), ('moveis_decoracao', 'furniture_decor'), ('esporte_lazer', 'sports_leisure'), ('perfumaria', 'perfumery'), ('utilidades_domesticas', 'housewares')  ... displaying 10 of 71 total bound parameter sets ...  ('fashion_roupa_infanto_juvenil', 'fashion_childrens_clothes'), ('seguros_e_servicos', 'security_and_services')]\n"
          ]
        },
        {
          "output_type": "stream",
          "name": "stderr",
          "text": [
            "INFO:sqlalchemy.engine.Engine:[generated in 0.00300s] [('beleza_saude', 'health_beauty'), ('informatica_acessorios', 'computers_accessories'), ('automotivo', 'auto'), ('cama_mesa_banho', 'bed_bath_table'), ('moveis_decoracao', 'furniture_decor'), ('esporte_lazer', 'sports_leisure'), ('perfumaria', 'perfumery'), ('utilidades_domesticas', 'housewares')  ... displaying 10 of 71 total bound parameter sets ...  ('fashion_roupa_infanto_juvenil', 'fashion_childrens_clothes'), ('seguros_e_servicos', 'security_and_services')]\n"
          ]
        },
        {
          "output_type": "stream",
          "name": "stdout",
          "text": [
            "2024-10-29 17:10:28,258 INFO sqlalchemy.engine.Engine COMMIT\n"
          ]
        },
        {
          "output_type": "stream",
          "name": "stderr",
          "text": [
            "INFO:sqlalchemy.engine.Engine:COMMIT\n"
          ]
        },
        {
          "output_type": "stream",
          "name": "stdout",
          "text": [
            "2024-10-29 17:10:28,270 INFO sqlalchemy.engine.Engine BEGIN (implicit)\n"
          ]
        },
        {
          "output_type": "stream",
          "name": "stderr",
          "text": [
            "INFO:sqlalchemy.engine.Engine:BEGIN (implicit)\n"
          ]
        },
        {
          "output_type": "stream",
          "name": "stdout",
          "text": [
            "2024-10-29 17:10:28,320 INFO sqlalchemy.engine.Engine PRAGMA main.table_info(\"olist_orders\")\n"
          ]
        },
        {
          "output_type": "stream",
          "name": "stderr",
          "text": [
            "INFO:sqlalchemy.engine.Engine:PRAGMA main.table_info(\"olist_orders\")\n"
          ]
        },
        {
          "output_type": "stream",
          "name": "stdout",
          "text": [
            "2024-10-29 17:10:28,336 INFO sqlalchemy.engine.Engine [raw sql] ()\n"
          ]
        },
        {
          "output_type": "stream",
          "name": "stderr",
          "text": [
            "INFO:sqlalchemy.engine.Engine:[raw sql] ()\n"
          ]
        },
        {
          "output_type": "stream",
          "name": "stdout",
          "text": [
            "2024-10-29 17:10:28,342 INFO sqlalchemy.engine.Engine PRAGMA main.table_info(\"olist_orders\")\n"
          ]
        },
        {
          "output_type": "stream",
          "name": "stderr",
          "text": [
            "INFO:sqlalchemy.engine.Engine:PRAGMA main.table_info(\"olist_orders\")\n"
          ]
        },
        {
          "output_type": "stream",
          "name": "stdout",
          "text": [
            "2024-10-29 17:10:28,344 INFO sqlalchemy.engine.Engine [raw sql] ()\n"
          ]
        },
        {
          "output_type": "stream",
          "name": "stderr",
          "text": [
            "INFO:sqlalchemy.engine.Engine:[raw sql] ()\n"
          ]
        },
        {
          "output_type": "stream",
          "name": "stdout",
          "text": [
            "2024-10-29 17:10:28,349 INFO sqlalchemy.engine.Engine SELECT name FROM sqlite_master WHERE type='table' AND name NOT LIKE 'sqlite~_%' ESCAPE '~' ORDER BY name\n"
          ]
        },
        {
          "output_type": "stream",
          "name": "stderr",
          "text": [
            "INFO:sqlalchemy.engine.Engine:SELECT name FROM sqlite_master WHERE type='table' AND name NOT LIKE 'sqlite~_%' ESCAPE '~' ORDER BY name\n"
          ]
        },
        {
          "output_type": "stream",
          "name": "stdout",
          "text": [
            "2024-10-29 17:10:28,351 INFO sqlalchemy.engine.Engine [raw sql] ()\n"
          ]
        },
        {
          "output_type": "stream",
          "name": "stderr",
          "text": [
            "INFO:sqlalchemy.engine.Engine:[raw sql] ()\n"
          ]
        },
        {
          "output_type": "stream",
          "name": "stdout",
          "text": [
            "2024-10-29 17:10:28,354 INFO sqlalchemy.engine.Engine SELECT name FROM sqlite_master WHERE type='view' AND name NOT LIKE 'sqlite~_%' ESCAPE '~' ORDER BY name\n"
          ]
        },
        {
          "output_type": "stream",
          "name": "stderr",
          "text": [
            "INFO:sqlalchemy.engine.Engine:SELECT name FROM sqlite_master WHERE type='view' AND name NOT LIKE 'sqlite~_%' ESCAPE '~' ORDER BY name\n"
          ]
        },
        {
          "output_type": "stream",
          "name": "stdout",
          "text": [
            "2024-10-29 17:10:28,357 INFO sqlalchemy.engine.Engine [raw sql] ()\n"
          ]
        },
        {
          "output_type": "stream",
          "name": "stderr",
          "text": [
            "INFO:sqlalchemy.engine.Engine:[raw sql] ()\n"
          ]
        },
        {
          "output_type": "stream",
          "name": "stdout",
          "text": [
            "2024-10-29 17:10:28,360 INFO sqlalchemy.engine.Engine PRAGMA main.table_xinfo(\"olist_orders\")\n"
          ]
        },
        {
          "output_type": "stream",
          "name": "stderr",
          "text": [
            "INFO:sqlalchemy.engine.Engine:PRAGMA main.table_xinfo(\"olist_orders\")\n"
          ]
        },
        {
          "output_type": "stream",
          "name": "stdout",
          "text": [
            "2024-10-29 17:10:28,362 INFO sqlalchemy.engine.Engine [raw sql] ()\n"
          ]
        },
        {
          "output_type": "stream",
          "name": "stderr",
          "text": [
            "INFO:sqlalchemy.engine.Engine:[raw sql] ()\n"
          ]
        },
        {
          "output_type": "stream",
          "name": "stdout",
          "text": [
            "2024-10-29 17:10:28,365 INFO sqlalchemy.engine.Engine SELECT sql FROM  (SELECT * FROM sqlite_master UNION ALL   SELECT * FROM sqlite_temp_master) WHERE name = ? AND type in ('table', 'view')\n"
          ]
        },
        {
          "output_type": "stream",
          "name": "stderr",
          "text": [
            "INFO:sqlalchemy.engine.Engine:SELECT sql FROM  (SELECT * FROM sqlite_master UNION ALL   SELECT * FROM sqlite_temp_master) WHERE name = ? AND type in ('table', 'view')\n"
          ]
        },
        {
          "output_type": "stream",
          "name": "stdout",
          "text": [
            "2024-10-29 17:10:28,368 INFO sqlalchemy.engine.Engine [raw sql] ('olist_orders',)\n"
          ]
        },
        {
          "output_type": "stream",
          "name": "stderr",
          "text": [
            "INFO:sqlalchemy.engine.Engine:[raw sql] ('olist_orders',)\n"
          ]
        },
        {
          "output_type": "stream",
          "name": "stdout",
          "text": [
            "2024-10-29 17:10:28,371 INFO sqlalchemy.engine.Engine PRAGMA main.foreign_key_list(\"olist_orders\")\n"
          ]
        },
        {
          "output_type": "stream",
          "name": "stderr",
          "text": [
            "INFO:sqlalchemy.engine.Engine:PRAGMA main.foreign_key_list(\"olist_orders\")\n"
          ]
        },
        {
          "output_type": "stream",
          "name": "stdout",
          "text": [
            "2024-10-29 17:10:28,376 INFO sqlalchemy.engine.Engine [raw sql] ()\n"
          ]
        },
        {
          "output_type": "stream",
          "name": "stderr",
          "text": [
            "INFO:sqlalchemy.engine.Engine:[raw sql] ()\n"
          ]
        },
        {
          "output_type": "stream",
          "name": "stdout",
          "text": [
            "2024-10-29 17:10:28,379 INFO sqlalchemy.engine.Engine PRAGMA temp.foreign_key_list(\"olist_orders\")\n"
          ]
        },
        {
          "output_type": "stream",
          "name": "stderr",
          "text": [
            "INFO:sqlalchemy.engine.Engine:PRAGMA temp.foreign_key_list(\"olist_orders\")\n"
          ]
        },
        {
          "output_type": "stream",
          "name": "stdout",
          "text": [
            "2024-10-29 17:10:28,382 INFO sqlalchemy.engine.Engine [raw sql] ()\n"
          ]
        },
        {
          "output_type": "stream",
          "name": "stderr",
          "text": [
            "INFO:sqlalchemy.engine.Engine:[raw sql] ()\n"
          ]
        },
        {
          "output_type": "stream",
          "name": "stdout",
          "text": [
            "2024-10-29 17:10:28,384 INFO sqlalchemy.engine.Engine SELECT sql FROM  (SELECT * FROM sqlite_master UNION ALL   SELECT * FROM sqlite_temp_master) WHERE name = ? AND type in ('table', 'view')\n"
          ]
        },
        {
          "output_type": "stream",
          "name": "stderr",
          "text": [
            "INFO:sqlalchemy.engine.Engine:SELECT sql FROM  (SELECT * FROM sqlite_master UNION ALL   SELECT * FROM sqlite_temp_master) WHERE name = ? AND type in ('table', 'view')\n"
          ]
        },
        {
          "output_type": "stream",
          "name": "stdout",
          "text": [
            "2024-10-29 17:10:28,386 INFO sqlalchemy.engine.Engine [raw sql] ('olist_orders',)\n"
          ]
        },
        {
          "output_type": "stream",
          "name": "stderr",
          "text": [
            "INFO:sqlalchemy.engine.Engine:[raw sql] ('olist_orders',)\n"
          ]
        },
        {
          "output_type": "stream",
          "name": "stdout",
          "text": [
            "2024-10-29 17:10:28,389 INFO sqlalchemy.engine.Engine PRAGMA main.index_list(\"olist_orders\")\n"
          ]
        },
        {
          "output_type": "stream",
          "name": "stderr",
          "text": [
            "INFO:sqlalchemy.engine.Engine:PRAGMA main.index_list(\"olist_orders\")\n"
          ]
        },
        {
          "output_type": "stream",
          "name": "stdout",
          "text": [
            "2024-10-29 17:10:28,391 INFO sqlalchemy.engine.Engine [raw sql] ()\n"
          ]
        },
        {
          "output_type": "stream",
          "name": "stderr",
          "text": [
            "INFO:sqlalchemy.engine.Engine:[raw sql] ()\n"
          ]
        },
        {
          "output_type": "stream",
          "name": "stdout",
          "text": [
            "2024-10-29 17:10:28,394 INFO sqlalchemy.engine.Engine PRAGMA temp.index_list(\"olist_orders\")\n"
          ]
        },
        {
          "output_type": "stream",
          "name": "stderr",
          "text": [
            "INFO:sqlalchemy.engine.Engine:PRAGMA temp.index_list(\"olist_orders\")\n"
          ]
        },
        {
          "output_type": "stream",
          "name": "stdout",
          "text": [
            "2024-10-29 17:10:28,396 INFO sqlalchemy.engine.Engine [raw sql] ()\n"
          ]
        },
        {
          "output_type": "stream",
          "name": "stderr",
          "text": [
            "INFO:sqlalchemy.engine.Engine:[raw sql] ()\n"
          ]
        },
        {
          "output_type": "stream",
          "name": "stdout",
          "text": [
            "2024-10-29 17:10:28,399 INFO sqlalchemy.engine.Engine PRAGMA main.table_info(\"olist_orders\")\n"
          ]
        },
        {
          "output_type": "stream",
          "name": "stderr",
          "text": [
            "INFO:sqlalchemy.engine.Engine:PRAGMA main.table_info(\"olist_orders\")\n"
          ]
        },
        {
          "output_type": "stream",
          "name": "stdout",
          "text": [
            "2024-10-29 17:10:28,401 INFO sqlalchemy.engine.Engine [raw sql] ()\n"
          ]
        },
        {
          "output_type": "stream",
          "name": "stderr",
          "text": [
            "INFO:sqlalchemy.engine.Engine:[raw sql] ()\n"
          ]
        },
        {
          "output_type": "stream",
          "name": "stdout",
          "text": [
            "2024-10-29 17:10:28,403 INFO sqlalchemy.engine.Engine PRAGMA main.index_list(\"olist_orders\")\n"
          ]
        },
        {
          "output_type": "stream",
          "name": "stderr",
          "text": [
            "INFO:sqlalchemy.engine.Engine:PRAGMA main.index_list(\"olist_orders\")\n"
          ]
        },
        {
          "output_type": "stream",
          "name": "stdout",
          "text": [
            "2024-10-29 17:10:28,405 INFO sqlalchemy.engine.Engine [raw sql] ()\n"
          ]
        },
        {
          "output_type": "stream",
          "name": "stderr",
          "text": [
            "INFO:sqlalchemy.engine.Engine:[raw sql] ()\n"
          ]
        },
        {
          "output_type": "stream",
          "name": "stdout",
          "text": [
            "2024-10-29 17:10:28,408 INFO sqlalchemy.engine.Engine PRAGMA temp.index_list(\"olist_orders\")\n"
          ]
        },
        {
          "output_type": "stream",
          "name": "stderr",
          "text": [
            "INFO:sqlalchemy.engine.Engine:PRAGMA temp.index_list(\"olist_orders\")\n"
          ]
        },
        {
          "output_type": "stream",
          "name": "stdout",
          "text": [
            "2024-10-29 17:10:28,410 INFO sqlalchemy.engine.Engine [raw sql] ()\n"
          ]
        },
        {
          "output_type": "stream",
          "name": "stderr",
          "text": [
            "INFO:sqlalchemy.engine.Engine:[raw sql] ()\n"
          ]
        },
        {
          "output_type": "stream",
          "name": "stdout",
          "text": [
            "2024-10-29 17:10:28,413 INFO sqlalchemy.engine.Engine PRAGMA main.table_info(\"olist_orders\")\n"
          ]
        },
        {
          "output_type": "stream",
          "name": "stderr",
          "text": [
            "INFO:sqlalchemy.engine.Engine:PRAGMA main.table_info(\"olist_orders\")\n"
          ]
        },
        {
          "output_type": "stream",
          "name": "stdout",
          "text": [
            "2024-10-29 17:10:28,415 INFO sqlalchemy.engine.Engine [raw sql] ()\n"
          ]
        },
        {
          "output_type": "stream",
          "name": "stderr",
          "text": [
            "INFO:sqlalchemy.engine.Engine:[raw sql] ()\n"
          ]
        },
        {
          "output_type": "stream",
          "name": "stdout",
          "text": [
            "2024-10-29 17:10:28,418 INFO sqlalchemy.engine.Engine SELECT sql FROM  (SELECT * FROM sqlite_master UNION ALL   SELECT * FROM sqlite_temp_master) WHERE name = ? AND type in ('table', 'view')\n"
          ]
        },
        {
          "output_type": "stream",
          "name": "stderr",
          "text": [
            "INFO:sqlalchemy.engine.Engine:SELECT sql FROM  (SELECT * FROM sqlite_master UNION ALL   SELECT * FROM sqlite_temp_master) WHERE name = ? AND type in ('table', 'view')\n"
          ]
        },
        {
          "output_type": "stream",
          "name": "stdout",
          "text": [
            "2024-10-29 17:10:28,420 INFO sqlalchemy.engine.Engine [raw sql] ('olist_orders',)\n"
          ]
        },
        {
          "output_type": "stream",
          "name": "stderr",
          "text": [
            "INFO:sqlalchemy.engine.Engine:[raw sql] ('olist_orders',)\n"
          ]
        },
        {
          "output_type": "stream",
          "name": "stdout",
          "text": [
            "2024-10-29 17:10:28,425 INFO sqlalchemy.engine.Engine \n",
            "DROP TABLE olist_orders\n"
          ]
        },
        {
          "output_type": "stream",
          "name": "stderr",
          "text": [
            "INFO:sqlalchemy.engine.Engine:\n",
            "DROP TABLE olist_orders\n"
          ]
        },
        {
          "output_type": "stream",
          "name": "stdout",
          "text": [
            "2024-10-29 17:10:28,427 INFO sqlalchemy.engine.Engine [no key 0.00247s] ()\n"
          ]
        },
        {
          "output_type": "stream",
          "name": "stderr",
          "text": [
            "INFO:sqlalchemy.engine.Engine:[no key 0.00247s] ()\n"
          ]
        },
        {
          "output_type": "stream",
          "name": "stdout",
          "text": [
            "2024-10-29 17:10:28,767 INFO sqlalchemy.engine.Engine \n",
            "CREATE TABLE olist_orders (\n",
            "\torder_id TEXT, \n",
            "\tcustomer_id TEXT, \n",
            "\torder_status TEXT, \n",
            "\torder_purchase_timestamp TEXT, \n",
            "\torder_approved_at TEXT, \n",
            "\torder_delivered_carrier_date TEXT, \n",
            "\torder_delivered_customer_date TEXT, \n",
            "\torder_estimated_delivery_date TEXT\n",
            ")\n",
            "\n",
            "\n"
          ]
        },
        {
          "output_type": "stream",
          "name": "stderr",
          "text": [
            "INFO:sqlalchemy.engine.Engine:\n",
            "CREATE TABLE olist_orders (\n",
            "\torder_id TEXT, \n",
            "\tcustomer_id TEXT, \n",
            "\torder_status TEXT, \n",
            "\torder_purchase_timestamp TEXT, \n",
            "\torder_approved_at TEXT, \n",
            "\torder_delivered_carrier_date TEXT, \n",
            "\torder_delivered_customer_date TEXT, \n",
            "\torder_estimated_delivery_date TEXT\n",
            ")\n",
            "\n",
            "\n"
          ]
        },
        {
          "output_type": "stream",
          "name": "stdout",
          "text": [
            "2024-10-29 17:10:28,770 INFO sqlalchemy.engine.Engine [no key 0.00324s] ()\n"
          ]
        },
        {
          "output_type": "stream",
          "name": "stderr",
          "text": [
            "INFO:sqlalchemy.engine.Engine:[no key 0.00324s] ()\n"
          ]
        },
        {
          "output_type": "stream",
          "name": "stdout",
          "text": [
            "2024-10-29 17:10:29,970 INFO sqlalchemy.engine.Engine INSERT INTO olist_orders (order_id, customer_id, order_status, order_purchase_timestamp, order_approved_at, order_delivered_carrier_date, order_delivered_customer_date, order_estimated_delivery_date) VALUES (?, ?, ?, ?, ?, ?, ?, ?)\n"
          ]
        },
        {
          "output_type": "stream",
          "name": "stderr",
          "text": [
            "INFO:sqlalchemy.engine.Engine:INSERT INTO olist_orders (order_id, customer_id, order_status, order_purchase_timestamp, order_approved_at, order_delivered_carrier_date, order_delivered_customer_date, order_estimated_delivery_date) VALUES (?, ?, ?, ?, ?, ?, ?, ?)\n"
          ]
        },
        {
          "output_type": "stream",
          "name": "stdout",
          "text": [
            "2024-10-29 17:10:29,975 INFO sqlalchemy.engine.Engine [generated in 0.78604s] [('e481f51cbdc54678b7cc49136f2d6af7', '9ef432eb6251297304e76186b10a928d', 'delivered', '2017-10-02 10:56:33', '2017-10-02 11:07:15', '2017-10-04 19:55:00', '2017-10-10 21:25:13', '2017-10-18 00:00:00'), ('53cdb2fc8bc7dce0b6741e2150273451', 'b0830fb4747a6c6d20dea0b8c802d7ef', 'delivered', '2018-07-24 20:41:37', '2018-07-26 03:24:27', '2018-07-26 14:31:00', '2018-08-07 15:27:45', '2018-08-13 00:00:00'), ('47770eb9100c2d0c44946d9cf07ec65d', '41ce2a54c0b03bf3443c3d931a367089', 'delivered', '2018-08-08 08:38:49', '2018-08-08 08:55:23', '2018-08-08 13:50:00', '2018-08-17 18:06:29', '2018-09-04 00:00:00'), ('949d5b44dbf5de918fe9c16f97b45f8a', 'f88197465ea7920adcdbec7375364d82', 'delivered', '2017-11-18 19:28:06', '2017-11-18 19:45:59', '2017-11-22 13:39:59', '2017-12-02 00:28:42', '2017-12-15 00:00:00'), ('ad21c59c0840e6cb83a9ceb5573f8159', '8ab97904e6daea8866dbdbc4fb7aad2c', 'delivered', '2018-02-13 21:18:39', '2018-02-13 22:20:29', '2018-02-14 19:46:34', '2018-02-16 18:17:02', '2018-02-26 00:00:00'), ('a4591c265e18cb1dcee52889e2d8acc3', '503740e9ca751ccdda7ba28e9ab8f608', 'delivered', '2017-07-09 21:57:05', '2017-07-09 22:10:13', '2017-07-11 14:58:04', '2017-07-26 10:57:55', '2017-08-01 00:00:00'), ('136cce7faa42fdb2cefd53fdc79a6098', 'ed0271e0b7da060a393796590e7b737a', 'invoiced', '2017-04-11 12:22:08', '2017-04-13 13:25:17', None, None, '2017-05-09 00:00:00'), ('6514b8ad8028c9f2cc2374ded245783f', '9bdf08b4b3b52b5526ff42d37d47f222', 'delivered', '2017-05-16 13:10:30', '2017-05-16 13:22:11', '2017-05-22 10:07:46', '2017-05-26 12:55:51', '2017-06-07 00:00:00')  ... displaying 10 of 99441 total bound parameter sets ...  ('11c177c8e97725db2631073c19f07b62', 'b331b74b18dc79bcdf6532d51e1637c1', 'delivered', '2018-01-08 21:28:27', '2018-01-08 21:36:21', '2018-01-12 15:35:03', '2018-01-25 23:32:54', '2018-02-15 00:00:00'), ('66dea50a8b16d9b4dee7af250b4be1a5', 'edb027a75a1449115f6b43211ae02a24', 'delivered', '2018-03-08 20:57:30', '2018-03-09 11:20:28', '2018-03-09 22:11:59', '2018-03-16 13:08:30', '2018-04-03 00:00:00')]\n"
          ]
        },
        {
          "output_type": "stream",
          "name": "stderr",
          "text": [
            "INFO:sqlalchemy.engine.Engine:[generated in 0.78604s] [('e481f51cbdc54678b7cc49136f2d6af7', '9ef432eb6251297304e76186b10a928d', 'delivered', '2017-10-02 10:56:33', '2017-10-02 11:07:15', '2017-10-04 19:55:00', '2017-10-10 21:25:13', '2017-10-18 00:00:00'), ('53cdb2fc8bc7dce0b6741e2150273451', 'b0830fb4747a6c6d20dea0b8c802d7ef', 'delivered', '2018-07-24 20:41:37', '2018-07-26 03:24:27', '2018-07-26 14:31:00', '2018-08-07 15:27:45', '2018-08-13 00:00:00'), ('47770eb9100c2d0c44946d9cf07ec65d', '41ce2a54c0b03bf3443c3d931a367089', 'delivered', '2018-08-08 08:38:49', '2018-08-08 08:55:23', '2018-08-08 13:50:00', '2018-08-17 18:06:29', '2018-09-04 00:00:00'), ('949d5b44dbf5de918fe9c16f97b45f8a', 'f88197465ea7920adcdbec7375364d82', 'delivered', '2017-11-18 19:28:06', '2017-11-18 19:45:59', '2017-11-22 13:39:59', '2017-12-02 00:28:42', '2017-12-15 00:00:00'), ('ad21c59c0840e6cb83a9ceb5573f8159', '8ab97904e6daea8866dbdbc4fb7aad2c', 'delivered', '2018-02-13 21:18:39', '2018-02-13 22:20:29', '2018-02-14 19:46:34', '2018-02-16 18:17:02', '2018-02-26 00:00:00'), ('a4591c265e18cb1dcee52889e2d8acc3', '503740e9ca751ccdda7ba28e9ab8f608', 'delivered', '2017-07-09 21:57:05', '2017-07-09 22:10:13', '2017-07-11 14:58:04', '2017-07-26 10:57:55', '2017-08-01 00:00:00'), ('136cce7faa42fdb2cefd53fdc79a6098', 'ed0271e0b7da060a393796590e7b737a', 'invoiced', '2017-04-11 12:22:08', '2017-04-13 13:25:17', None, None, '2017-05-09 00:00:00'), ('6514b8ad8028c9f2cc2374ded245783f', '9bdf08b4b3b52b5526ff42d37d47f222', 'delivered', '2017-05-16 13:10:30', '2017-05-16 13:22:11', '2017-05-22 10:07:46', '2017-05-26 12:55:51', '2017-06-07 00:00:00')  ... displaying 10 of 99441 total bound parameter sets ...  ('11c177c8e97725db2631073c19f07b62', 'b331b74b18dc79bcdf6532d51e1637c1', 'delivered', '2018-01-08 21:28:27', '2018-01-08 21:36:21', '2018-01-12 15:35:03', '2018-01-25 23:32:54', '2018-02-15 00:00:00'), ('66dea50a8b16d9b4dee7af250b4be1a5', 'edb027a75a1449115f6b43211ae02a24', 'delivered', '2018-03-08 20:57:30', '2018-03-09 11:20:28', '2018-03-09 22:11:59', '2018-03-16 13:08:30', '2018-04-03 00:00:00')]\n"
          ]
        },
        {
          "output_type": "stream",
          "name": "stdout",
          "text": [
            "2024-10-29 17:10:30,344 INFO sqlalchemy.engine.Engine COMMIT\n"
          ]
        },
        {
          "output_type": "stream",
          "name": "stderr",
          "text": [
            "INFO:sqlalchemy.engine.Engine:COMMIT\n"
          ]
        },
        {
          "output_type": "stream",
          "name": "stdout",
          "text": [
            "2024-10-29 17:10:30,386 INFO sqlalchemy.engine.Engine BEGIN (implicit)\n"
          ]
        },
        {
          "output_type": "stream",
          "name": "stderr",
          "text": [
            "INFO:sqlalchemy.engine.Engine:BEGIN (implicit)\n"
          ]
        },
        {
          "output_type": "stream",
          "name": "stdout",
          "text": [
            "2024-10-29 17:10:30,399 INFO sqlalchemy.engine.Engine PRAGMA main.table_info(\"olist_order_payments\")\n"
          ]
        },
        {
          "output_type": "stream",
          "name": "stderr",
          "text": [
            "INFO:sqlalchemy.engine.Engine:PRAGMA main.table_info(\"olist_order_payments\")\n"
          ]
        },
        {
          "output_type": "stream",
          "name": "stdout",
          "text": [
            "2024-10-29 17:10:30,403 INFO sqlalchemy.engine.Engine [raw sql] ()\n"
          ]
        },
        {
          "output_type": "stream",
          "name": "stderr",
          "text": [
            "INFO:sqlalchemy.engine.Engine:[raw sql] ()\n"
          ]
        },
        {
          "output_type": "stream",
          "name": "stdout",
          "text": [
            "2024-10-29 17:10:30,407 INFO sqlalchemy.engine.Engine PRAGMA main.table_info(\"olist_order_payments\")\n"
          ]
        },
        {
          "output_type": "stream",
          "name": "stderr",
          "text": [
            "INFO:sqlalchemy.engine.Engine:PRAGMA main.table_info(\"olist_order_payments\")\n"
          ]
        },
        {
          "output_type": "stream",
          "name": "stdout",
          "text": [
            "2024-10-29 17:10:30,410 INFO sqlalchemy.engine.Engine [raw sql] ()\n"
          ]
        },
        {
          "output_type": "stream",
          "name": "stderr",
          "text": [
            "INFO:sqlalchemy.engine.Engine:[raw sql] ()\n"
          ]
        },
        {
          "output_type": "stream",
          "name": "stdout",
          "text": [
            "2024-10-29 17:10:30,412 INFO sqlalchemy.engine.Engine SELECT name FROM sqlite_master WHERE type='table' AND name NOT LIKE 'sqlite~_%' ESCAPE '~' ORDER BY name\n"
          ]
        },
        {
          "output_type": "stream",
          "name": "stderr",
          "text": [
            "INFO:sqlalchemy.engine.Engine:SELECT name FROM sqlite_master WHERE type='table' AND name NOT LIKE 'sqlite~_%' ESCAPE '~' ORDER BY name\n"
          ]
        },
        {
          "output_type": "stream",
          "name": "stdout",
          "text": [
            "2024-10-29 17:10:30,414 INFO sqlalchemy.engine.Engine [raw sql] ()\n"
          ]
        },
        {
          "output_type": "stream",
          "name": "stderr",
          "text": [
            "INFO:sqlalchemy.engine.Engine:[raw sql] ()\n"
          ]
        },
        {
          "output_type": "stream",
          "name": "stdout",
          "text": [
            "2024-10-29 17:10:30,417 INFO sqlalchemy.engine.Engine SELECT name FROM sqlite_master WHERE type='view' AND name NOT LIKE 'sqlite~_%' ESCAPE '~' ORDER BY name\n"
          ]
        },
        {
          "output_type": "stream",
          "name": "stderr",
          "text": [
            "INFO:sqlalchemy.engine.Engine:SELECT name FROM sqlite_master WHERE type='view' AND name NOT LIKE 'sqlite~_%' ESCAPE '~' ORDER BY name\n"
          ]
        },
        {
          "output_type": "stream",
          "name": "stdout",
          "text": [
            "2024-10-29 17:10:30,419 INFO sqlalchemy.engine.Engine [raw sql] ()\n"
          ]
        },
        {
          "output_type": "stream",
          "name": "stderr",
          "text": [
            "INFO:sqlalchemy.engine.Engine:[raw sql] ()\n"
          ]
        },
        {
          "output_type": "stream",
          "name": "stdout",
          "text": [
            "2024-10-29 17:10:30,421 INFO sqlalchemy.engine.Engine PRAGMA main.table_xinfo(\"olist_order_payments\")\n"
          ]
        },
        {
          "output_type": "stream",
          "name": "stderr",
          "text": [
            "INFO:sqlalchemy.engine.Engine:PRAGMA main.table_xinfo(\"olist_order_payments\")\n"
          ]
        },
        {
          "output_type": "stream",
          "name": "stdout",
          "text": [
            "2024-10-29 17:10:30,423 INFO sqlalchemy.engine.Engine [raw sql] ()\n"
          ]
        },
        {
          "output_type": "stream",
          "name": "stderr",
          "text": [
            "INFO:sqlalchemy.engine.Engine:[raw sql] ()\n"
          ]
        },
        {
          "output_type": "stream",
          "name": "stdout",
          "text": [
            "2024-10-29 17:10:30,425 INFO sqlalchemy.engine.Engine SELECT sql FROM  (SELECT * FROM sqlite_master UNION ALL   SELECT * FROM sqlite_temp_master) WHERE name = ? AND type in ('table', 'view')\n"
          ]
        },
        {
          "output_type": "stream",
          "name": "stderr",
          "text": [
            "INFO:sqlalchemy.engine.Engine:SELECT sql FROM  (SELECT * FROM sqlite_master UNION ALL   SELECT * FROM sqlite_temp_master) WHERE name = ? AND type in ('table', 'view')\n"
          ]
        },
        {
          "output_type": "stream",
          "name": "stdout",
          "text": [
            "2024-10-29 17:10:30,427 INFO sqlalchemy.engine.Engine [raw sql] ('olist_order_payments',)\n"
          ]
        },
        {
          "output_type": "stream",
          "name": "stderr",
          "text": [
            "INFO:sqlalchemy.engine.Engine:[raw sql] ('olist_order_payments',)\n"
          ]
        },
        {
          "output_type": "stream",
          "name": "stdout",
          "text": [
            "2024-10-29 17:10:30,430 INFO sqlalchemy.engine.Engine PRAGMA main.foreign_key_list(\"olist_order_payments\")\n"
          ]
        },
        {
          "output_type": "stream",
          "name": "stderr",
          "text": [
            "INFO:sqlalchemy.engine.Engine:PRAGMA main.foreign_key_list(\"olist_order_payments\")\n"
          ]
        },
        {
          "output_type": "stream",
          "name": "stdout",
          "text": [
            "2024-10-29 17:10:30,432 INFO sqlalchemy.engine.Engine [raw sql] ()\n"
          ]
        },
        {
          "output_type": "stream",
          "name": "stderr",
          "text": [
            "INFO:sqlalchemy.engine.Engine:[raw sql] ()\n"
          ]
        },
        {
          "output_type": "stream",
          "name": "stdout",
          "text": [
            "2024-10-29 17:10:30,434 INFO sqlalchemy.engine.Engine PRAGMA temp.foreign_key_list(\"olist_order_payments\")\n"
          ]
        },
        {
          "output_type": "stream",
          "name": "stderr",
          "text": [
            "INFO:sqlalchemy.engine.Engine:PRAGMA temp.foreign_key_list(\"olist_order_payments\")\n"
          ]
        },
        {
          "output_type": "stream",
          "name": "stdout",
          "text": [
            "2024-10-29 17:10:30,436 INFO sqlalchemy.engine.Engine [raw sql] ()\n"
          ]
        },
        {
          "output_type": "stream",
          "name": "stderr",
          "text": [
            "INFO:sqlalchemy.engine.Engine:[raw sql] ()\n"
          ]
        },
        {
          "output_type": "stream",
          "name": "stdout",
          "text": [
            "2024-10-29 17:10:30,438 INFO sqlalchemy.engine.Engine SELECT sql FROM  (SELECT * FROM sqlite_master UNION ALL   SELECT * FROM sqlite_temp_master) WHERE name = ? AND type in ('table', 'view')\n"
          ]
        },
        {
          "output_type": "stream",
          "name": "stderr",
          "text": [
            "INFO:sqlalchemy.engine.Engine:SELECT sql FROM  (SELECT * FROM sqlite_master UNION ALL   SELECT * FROM sqlite_temp_master) WHERE name = ? AND type in ('table', 'view')\n"
          ]
        },
        {
          "output_type": "stream",
          "name": "stdout",
          "text": [
            "2024-10-29 17:10:30,440 INFO sqlalchemy.engine.Engine [raw sql] ('olist_order_payments',)\n"
          ]
        },
        {
          "output_type": "stream",
          "name": "stderr",
          "text": [
            "INFO:sqlalchemy.engine.Engine:[raw sql] ('olist_order_payments',)\n"
          ]
        },
        {
          "output_type": "stream",
          "name": "stdout",
          "text": [
            "2024-10-29 17:10:30,444 INFO sqlalchemy.engine.Engine PRAGMA main.index_list(\"olist_order_payments\")\n"
          ]
        },
        {
          "output_type": "stream",
          "name": "stderr",
          "text": [
            "INFO:sqlalchemy.engine.Engine:PRAGMA main.index_list(\"olist_order_payments\")\n"
          ]
        },
        {
          "output_type": "stream",
          "name": "stdout",
          "text": [
            "2024-10-29 17:10:30,446 INFO sqlalchemy.engine.Engine [raw sql] ()\n"
          ]
        },
        {
          "output_type": "stream",
          "name": "stderr",
          "text": [
            "INFO:sqlalchemy.engine.Engine:[raw sql] ()\n"
          ]
        },
        {
          "output_type": "stream",
          "name": "stdout",
          "text": [
            "2024-10-29 17:10:30,451 INFO sqlalchemy.engine.Engine PRAGMA temp.index_list(\"olist_order_payments\")\n"
          ]
        },
        {
          "output_type": "stream",
          "name": "stderr",
          "text": [
            "INFO:sqlalchemy.engine.Engine:PRAGMA temp.index_list(\"olist_order_payments\")\n"
          ]
        },
        {
          "output_type": "stream",
          "name": "stdout",
          "text": [
            "2024-10-29 17:10:30,453 INFO sqlalchemy.engine.Engine [raw sql] ()\n"
          ]
        },
        {
          "output_type": "stream",
          "name": "stderr",
          "text": [
            "INFO:sqlalchemy.engine.Engine:[raw sql] ()\n"
          ]
        },
        {
          "output_type": "stream",
          "name": "stdout",
          "text": [
            "2024-10-29 17:10:30,455 INFO sqlalchemy.engine.Engine PRAGMA main.table_info(\"olist_order_payments\")\n"
          ]
        },
        {
          "output_type": "stream",
          "name": "stderr",
          "text": [
            "INFO:sqlalchemy.engine.Engine:PRAGMA main.table_info(\"olist_order_payments\")\n"
          ]
        },
        {
          "output_type": "stream",
          "name": "stdout",
          "text": [
            "2024-10-29 17:10:30,457 INFO sqlalchemy.engine.Engine [raw sql] ()\n"
          ]
        },
        {
          "output_type": "stream",
          "name": "stderr",
          "text": [
            "INFO:sqlalchemy.engine.Engine:[raw sql] ()\n"
          ]
        },
        {
          "output_type": "stream",
          "name": "stdout",
          "text": [
            "2024-10-29 17:10:30,459 INFO sqlalchemy.engine.Engine PRAGMA main.index_list(\"olist_order_payments\")\n"
          ]
        },
        {
          "output_type": "stream",
          "name": "stderr",
          "text": [
            "INFO:sqlalchemy.engine.Engine:PRAGMA main.index_list(\"olist_order_payments\")\n"
          ]
        },
        {
          "output_type": "stream",
          "name": "stdout",
          "text": [
            "2024-10-29 17:10:30,462 INFO sqlalchemy.engine.Engine [raw sql] ()\n"
          ]
        },
        {
          "output_type": "stream",
          "name": "stderr",
          "text": [
            "INFO:sqlalchemy.engine.Engine:[raw sql] ()\n"
          ]
        },
        {
          "output_type": "stream",
          "name": "stdout",
          "text": [
            "2024-10-29 17:10:30,464 INFO sqlalchemy.engine.Engine PRAGMA temp.index_list(\"olist_order_payments\")\n"
          ]
        },
        {
          "output_type": "stream",
          "name": "stderr",
          "text": [
            "INFO:sqlalchemy.engine.Engine:PRAGMA temp.index_list(\"olist_order_payments\")\n"
          ]
        },
        {
          "output_type": "stream",
          "name": "stdout",
          "text": [
            "2024-10-29 17:10:30,466 INFO sqlalchemy.engine.Engine [raw sql] ()\n"
          ]
        },
        {
          "output_type": "stream",
          "name": "stderr",
          "text": [
            "INFO:sqlalchemy.engine.Engine:[raw sql] ()\n"
          ]
        },
        {
          "output_type": "stream",
          "name": "stdout",
          "text": [
            "2024-10-29 17:10:30,468 INFO sqlalchemy.engine.Engine PRAGMA main.table_info(\"olist_order_payments\")\n"
          ]
        },
        {
          "output_type": "stream",
          "name": "stderr",
          "text": [
            "INFO:sqlalchemy.engine.Engine:PRAGMA main.table_info(\"olist_order_payments\")\n"
          ]
        },
        {
          "output_type": "stream",
          "name": "stdout",
          "text": [
            "2024-10-29 17:10:30,470 INFO sqlalchemy.engine.Engine [raw sql] ()\n"
          ]
        },
        {
          "output_type": "stream",
          "name": "stderr",
          "text": [
            "INFO:sqlalchemy.engine.Engine:[raw sql] ()\n"
          ]
        },
        {
          "output_type": "stream",
          "name": "stdout",
          "text": [
            "2024-10-29 17:10:30,472 INFO sqlalchemy.engine.Engine SELECT sql FROM  (SELECT * FROM sqlite_master UNION ALL   SELECT * FROM sqlite_temp_master) WHERE name = ? AND type in ('table', 'view')\n"
          ]
        },
        {
          "output_type": "stream",
          "name": "stderr",
          "text": [
            "INFO:sqlalchemy.engine.Engine:SELECT sql FROM  (SELECT * FROM sqlite_master UNION ALL   SELECT * FROM sqlite_temp_master) WHERE name = ? AND type in ('table', 'view')\n"
          ]
        },
        {
          "output_type": "stream",
          "name": "stdout",
          "text": [
            "2024-10-29 17:10:30,474 INFO sqlalchemy.engine.Engine [raw sql] ('olist_order_payments',)\n"
          ]
        },
        {
          "output_type": "stream",
          "name": "stderr",
          "text": [
            "INFO:sqlalchemy.engine.Engine:[raw sql] ('olist_order_payments',)\n"
          ]
        },
        {
          "output_type": "stream",
          "name": "stdout",
          "text": [
            "2024-10-29 17:10:30,482 INFO sqlalchemy.engine.Engine \n",
            "DROP TABLE olist_order_payments\n"
          ]
        },
        {
          "output_type": "stream",
          "name": "stderr",
          "text": [
            "INFO:sqlalchemy.engine.Engine:\n",
            "DROP TABLE olist_order_payments\n"
          ]
        },
        {
          "output_type": "stream",
          "name": "stdout",
          "text": [
            "2024-10-29 17:10:30,487 INFO sqlalchemy.engine.Engine [no key 0.00510s] ()\n"
          ]
        },
        {
          "output_type": "stream",
          "name": "stderr",
          "text": [
            "INFO:sqlalchemy.engine.Engine:[no key 0.00510s] ()\n"
          ]
        },
        {
          "output_type": "stream",
          "name": "stdout",
          "text": [
            "2024-10-29 17:10:30,633 INFO sqlalchemy.engine.Engine \n",
            "CREATE TABLE olist_order_payments (\n",
            "\torder_id TEXT, \n",
            "\tpayment_sequential BIGINT, \n",
            "\tpayment_type TEXT, \n",
            "\tpayment_installments BIGINT, \n",
            "\tpayment_value FLOAT\n",
            ")\n",
            "\n",
            "\n"
          ]
        },
        {
          "output_type": "stream",
          "name": "stderr",
          "text": [
            "INFO:sqlalchemy.engine.Engine:\n",
            "CREATE TABLE olist_order_payments (\n",
            "\torder_id TEXT, \n",
            "\tpayment_sequential BIGINT, \n",
            "\tpayment_type TEXT, \n",
            "\tpayment_installments BIGINT, \n",
            "\tpayment_value FLOAT\n",
            ")\n",
            "\n",
            "\n"
          ]
        },
        {
          "output_type": "stream",
          "name": "stdout",
          "text": [
            "2024-10-29 17:10:30,637 INFO sqlalchemy.engine.Engine [no key 0.00372s] ()\n"
          ]
        },
        {
          "output_type": "stream",
          "name": "stderr",
          "text": [
            "INFO:sqlalchemy.engine.Engine:[no key 0.00372s] ()\n"
          ]
        },
        {
          "output_type": "stream",
          "name": "stdout",
          "text": [
            "2024-10-29 17:10:31,568 INFO sqlalchemy.engine.Engine INSERT INTO olist_order_payments (order_id, payment_sequential, payment_type, payment_installments, payment_value) VALUES (?, ?, ?, ?, ?)\n"
          ]
        },
        {
          "output_type": "stream",
          "name": "stderr",
          "text": [
            "INFO:sqlalchemy.engine.Engine:INSERT INTO olist_order_payments (order_id, payment_sequential, payment_type, payment_installments, payment_value) VALUES (?, ?, ?, ?, ?)\n"
          ]
        },
        {
          "output_type": "stream",
          "name": "stdout",
          "text": [
            "2024-10-29 17:10:31,573 INFO sqlalchemy.engine.Engine [generated in 0.69869s] [('b81ef226f3fe1789b1e8b2acac839d17', 1, 'credit_card', 8, 99.33), ('a9810da82917af2d9aefd1278f1dcfa0', 1, 'credit_card', 1, 24.39), ('25e8ea4e93396b6fa0d3dd708e76c1bd', 1, 'credit_card', 1, 65.71), ('ba78997921bbcdc1373bb41e913ab953', 1, 'credit_card', 8, 107.78), ('42fdf880ba16b47b59251dd489d4441a', 1, 'credit_card', 2, 128.45), ('298fcdf1f73eb413e4d26d01b25bc1cd', 1, 'credit_card', 2, 96.12), ('771ee386b001f06208a7419e4fc1bbd7', 1, 'credit_card', 1, 81.16), ('3d7239c394a212faae122962df514ac7', 1, 'credit_card', 3, 51.84)  ... displaying 10 of 103886 total bound parameter sets ...  ('b8b61059626efa996a60be9bb9320e10', 1, 'credit_card', 5, 369.54), ('28bbae6599b09d39ca406b747b6632b1', 1, 'boleto', 1, 191.58)]\n"
          ]
        },
        {
          "output_type": "stream",
          "name": "stderr",
          "text": [
            "INFO:sqlalchemy.engine.Engine:[generated in 0.69869s] [('b81ef226f3fe1789b1e8b2acac839d17', 1, 'credit_card', 8, 99.33), ('a9810da82917af2d9aefd1278f1dcfa0', 1, 'credit_card', 1, 24.39), ('25e8ea4e93396b6fa0d3dd708e76c1bd', 1, 'credit_card', 1, 65.71), ('ba78997921bbcdc1373bb41e913ab953', 1, 'credit_card', 8, 107.78), ('42fdf880ba16b47b59251dd489d4441a', 1, 'credit_card', 2, 128.45), ('298fcdf1f73eb413e4d26d01b25bc1cd', 1, 'credit_card', 2, 96.12), ('771ee386b001f06208a7419e4fc1bbd7', 1, 'credit_card', 1, 81.16), ('3d7239c394a212faae122962df514ac7', 1, 'credit_card', 3, 51.84)  ... displaying 10 of 103886 total bound parameter sets ...  ('b8b61059626efa996a60be9bb9320e10', 1, 'credit_card', 5, 369.54), ('28bbae6599b09d39ca406b747b6632b1', 1, 'boleto', 1, 191.58)]\n"
          ]
        },
        {
          "output_type": "stream",
          "name": "stdout",
          "text": [
            "2024-10-29 17:10:31,794 INFO sqlalchemy.engine.Engine COMMIT\n"
          ]
        },
        {
          "output_type": "stream",
          "name": "stderr",
          "text": [
            "INFO:sqlalchemy.engine.Engine:COMMIT\n"
          ]
        },
        {
          "output_type": "stream",
          "name": "stdout",
          "text": [
            "2024-10-29 17:10:31,824 INFO sqlalchemy.engine.Engine BEGIN (implicit)\n"
          ]
        },
        {
          "output_type": "stream",
          "name": "stderr",
          "text": [
            "INFO:sqlalchemy.engine.Engine:BEGIN (implicit)\n"
          ]
        },
        {
          "output_type": "stream",
          "name": "stdout",
          "text": [
            "2024-10-29 17:10:31,828 INFO sqlalchemy.engine.Engine SELECT name FROM sqlite_master WHERE type='table' AND name NOT LIKE 'sqlite~_%' ESCAPE '~' ORDER BY name\n"
          ]
        },
        {
          "output_type": "stream",
          "name": "stderr",
          "text": [
            "INFO:sqlalchemy.engine.Engine:SELECT name FROM sqlite_master WHERE type='table' AND name NOT LIKE 'sqlite~_%' ESCAPE '~' ORDER BY name\n"
          ]
        },
        {
          "output_type": "stream",
          "name": "stdout",
          "text": [
            "2024-10-29 17:10:31,831 INFO sqlalchemy.engine.Engine [raw sql] ()\n"
          ]
        },
        {
          "output_type": "stream",
          "name": "stderr",
          "text": [
            "INFO:sqlalchemy.engine.Engine:[raw sql] ()\n"
          ]
        },
        {
          "output_type": "stream",
          "name": "stdout",
          "text": [
            "2024-10-29 17:10:31,834 INFO sqlalchemy.engine.Engine ROLLBACK\n"
          ]
        },
        {
          "output_type": "stream",
          "name": "stderr",
          "text": [
            "INFO:sqlalchemy.engine.Engine:ROLLBACK\n"
          ]
        },
        {
          "output_type": "stream",
          "name": "stdout",
          "text": [
            "Tables in the database: ['olist_customers', 'olist_geolocation', 'olist_order_items', 'olist_order_payments', 'olist_order_reviews', 'olist_orders', 'olist_products', 'olist_sellers', 'product_category_name_translation']\n"
          ]
        }
      ]
    },
    {
      "cell_type": "markdown",
      "source": [
        "Write and execute a SQL query to count the number of orders purchased in January 2018 that have a review score of 5 and calculate the percentage of such orders."
      ],
      "metadata": {
        "id": "pCPh9i5pyzOC"
      }
    },
    {
      "cell_type": "code",
      "source": [
        "# The SQL query to count the number of five-star orders in January 2018 and calculate their percentage\n",
        "query = \"\"\"\n",
        "WITH jan_2018_orders AS (\n",
        "    SELECT o.order_id, r.review_score\n",
        "    FROM olist_orders o\n",
        "    JOIN olist_order_reviews r\n",
        "    ON o.order_id = r.order_id\n",
        "    WHERE strftime('%Y-%m', o.order_purchase_timestamp) = '2018-01'\n",
        ")\n",
        "\n",
        "-- Count orders with review score 5 and calculate the percentage\n",
        "SELECT\n",
        "    COUNT(CASE WHEN review_score = 5 THEN 1 END) AS count_five_star_orders,\n",
        "    (COUNT(CASE WHEN review_score = 5 THEN 1 END) * 100.0 / COUNT(*)) AS percentage_five_star_orders\n",
        "FROM jan_2018_orders;\n",
        "\"\"\"\n",
        "\n",
        "# Run the query using pandas\n",
        "result = pd.read_sql_query(query, engine)\n",
        "\n",
        "# Display the result\n",
        "print(result)\n"
      ],
      "metadata": {
        "colab": {
          "base_uri": "https://localhost:8080/"
        },
        "id": "5p4Gev_kzZ9h",
        "outputId": "286ae46f-4363-49df-f7fd-42c4e46d2c53"
      },
      "execution_count": 13,
      "outputs": [
        {
          "output_type": "stream",
          "name": "stdout",
          "text": [
            "2024-10-29 17:10:31,847 INFO sqlalchemy.engine.Engine BEGIN (implicit)\n"
          ]
        },
        {
          "output_type": "stream",
          "name": "stderr",
          "text": [
            "INFO:sqlalchemy.engine.Engine:BEGIN (implicit)\n"
          ]
        },
        {
          "output_type": "stream",
          "name": "stdout",
          "text": [
            "2024-10-29 17:10:31,850 INFO sqlalchemy.engine.Engine \n",
            "WITH jan_2018_orders AS (\n",
            "    SELECT o.order_id, r.review_score\n",
            "    FROM olist_orders o\n",
            "    JOIN olist_order_reviews r\n",
            "    ON o.order_id = r.order_id\n",
            "    WHERE strftime('%Y-%m', o.order_purchase_timestamp) = '2018-01'\n",
            ")\n",
            "\n",
            "-- Count orders with review score 5 and calculate the percentage\n",
            "SELECT \n",
            "    COUNT(CASE WHEN review_score = 5 THEN 1 END) AS count_five_star_orders,\n",
            "    (COUNT(CASE WHEN review_score = 5 THEN 1 END) * 100.0 / COUNT(*)) AS percentage_five_star_orders\n",
            "FROM jan_2018_orders;\n",
            "\n"
          ]
        },
        {
          "output_type": "stream",
          "name": "stderr",
          "text": [
            "INFO:sqlalchemy.engine.Engine:\n",
            "WITH jan_2018_orders AS (\n",
            "    SELECT o.order_id, r.review_score\n",
            "    FROM olist_orders o\n",
            "    JOIN olist_order_reviews r\n",
            "    ON o.order_id = r.order_id\n",
            "    WHERE strftime('%Y-%m', o.order_purchase_timestamp) = '2018-01'\n",
            ")\n",
            "\n",
            "-- Count orders with review score 5 and calculate the percentage\n",
            "SELECT \n",
            "    COUNT(CASE WHEN review_score = 5 THEN 1 END) AS count_five_star_orders,\n",
            "    (COUNT(CASE WHEN review_score = 5 THEN 1 END) * 100.0 / COUNT(*)) AS percentage_five_star_orders\n",
            "FROM jan_2018_orders;\n",
            "\n"
          ]
        },
        {
          "output_type": "stream",
          "name": "stdout",
          "text": [
            "2024-10-29 17:10:31,884 INFO sqlalchemy.engine.Engine [raw sql] ()\n"
          ]
        },
        {
          "output_type": "stream",
          "name": "stderr",
          "text": [
            "INFO:sqlalchemy.engine.Engine:[raw sql] ()\n"
          ]
        },
        {
          "output_type": "stream",
          "name": "stdout",
          "text": [
            "2024-10-29 17:10:32,238 INFO sqlalchemy.engine.Engine ROLLBACK\n"
          ]
        },
        {
          "output_type": "stream",
          "name": "stderr",
          "text": [
            "INFO:sqlalchemy.engine.Engine:ROLLBACK\n"
          ]
        },
        {
          "output_type": "stream",
          "name": "stdout",
          "text": [
            "   count_five_star_orders  percentage_five_star_orders\n",
            "0                    4097                    56.549344\n"
          ]
        }
      ]
    },
    {
      "cell_type": "markdown",
      "source": [
        "Write and execute a SQL query to analyze the customer purchase trend year-on-year."
      ],
      "metadata": {
        "id": "94QlD0a9-eDJ"
      }
    },
    {
      "cell_type": "code",
      "source": [
        "# SQL query to analyze customer purchase trend year-on-year\n",
        "query = \"\"\"\n",
        "SELECT\n",
        "    strftime('%Y', order_purchase_timestamp) AS order_year, -- Extract year\n",
        "    COUNT(order_id) AS total_orders -- Count orders per year\n",
        "FROM\n",
        "    olist_orders\n",
        "GROUP BY\n",
        "    order_year\n",
        "ORDER BY\n",
        "    order_year;\n",
        "\"\"\"\n",
        "\n",
        "# Execute the query\n",
        "result = pd.read_sql_query(query, engine)\n",
        "\n",
        "# Display the result\n",
        "print(result)\n"
      ],
      "metadata": {
        "colab": {
          "base_uri": "https://localhost:8080/"
        },
        "id": "WAWsfRua-kul",
        "outputId": "b9fb18ca-9575-4fa8-e3df-202ee412385b"
      },
      "execution_count": 14,
      "outputs": [
        {
          "output_type": "stream",
          "name": "stdout",
          "text": [
            "2024-10-29 17:10:32,257 INFO sqlalchemy.engine.Engine BEGIN (implicit)\n"
          ]
        },
        {
          "output_type": "stream",
          "name": "stderr",
          "text": [
            "INFO:sqlalchemy.engine.Engine:BEGIN (implicit)\n"
          ]
        },
        {
          "output_type": "stream",
          "name": "stdout",
          "text": [
            "2024-10-29 17:10:32,262 INFO sqlalchemy.engine.Engine \n",
            "SELECT \n",
            "    strftime('%Y', order_purchase_timestamp) AS order_year, -- Extract year\n",
            "    COUNT(order_id) AS total_orders -- Count orders per year\n",
            "FROM \n",
            "    olist_orders\n",
            "GROUP BY \n",
            "    order_year\n",
            "ORDER BY \n",
            "    order_year;\n",
            "\n"
          ]
        },
        {
          "output_type": "stream",
          "name": "stderr",
          "text": [
            "INFO:sqlalchemy.engine.Engine:\n",
            "SELECT \n",
            "    strftime('%Y', order_purchase_timestamp) AS order_year, -- Extract year\n",
            "    COUNT(order_id) AS total_orders -- Count orders per year\n",
            "FROM \n",
            "    olist_orders\n",
            "GROUP BY \n",
            "    order_year\n",
            "ORDER BY \n",
            "    order_year;\n",
            "\n"
          ]
        },
        {
          "output_type": "stream",
          "name": "stdout",
          "text": [
            "2024-10-29 17:10:32,267 INFO sqlalchemy.engine.Engine [raw sql] ()\n"
          ]
        },
        {
          "output_type": "stream",
          "name": "stderr",
          "text": [
            "INFO:sqlalchemy.engine.Engine:[raw sql] ()\n"
          ]
        },
        {
          "output_type": "stream",
          "name": "stdout",
          "text": [
            "2024-10-29 17:10:32,385 INFO sqlalchemy.engine.Engine ROLLBACK\n"
          ]
        },
        {
          "output_type": "stream",
          "name": "stderr",
          "text": [
            "INFO:sqlalchemy.engine.Engine:ROLLBACK\n"
          ]
        },
        {
          "output_type": "stream",
          "name": "stdout",
          "text": [
            "  order_year  total_orders\n",
            "0       2016           329\n",
            "1       2017         45101\n",
            "2       2018         54011\n"
          ]
        }
      ]
    },
    {
      "cell_type": "markdown",
      "source": [
        "Write and execute a SQL query to calculate the average order values of customers."
      ],
      "metadata": {
        "id": "EJMBdq7v_s_y"
      }
    },
    {
      "cell_type": "code",
      "source": [
        "# SQL query to calculate the average order value of customers\n",
        "query = \"\"\"\n",
        "SELECT\n",
        "    o.customer_id, -- Identify the customer\n",
        "    AVG(oi.price + oi.freight_value) AS avg_order_value -- Calculate average order value\n",
        "FROM\n",
        "    olist_orders o\n",
        "JOIN\n",
        "    olist_order_items oi\n",
        "ON\n",
        "    o.order_id = oi.order_id\n",
        "GROUP BY\n",
        "    o.customer_id -- Group by customer to get individual averages\n",
        "ORDER BY\n",
        "    avg_order_value DESC; -- Optional: Sort to see customers with highest average order value\n",
        "\"\"\"\n",
        "\n",
        "# Execute the query\n",
        "result = pd.read_sql_query(query, engine)\n",
        "\n",
        "# Display the result\n",
        "print(result)\n"
      ],
      "metadata": {
        "colab": {
          "base_uri": "https://localhost:8080/"
        },
        "id": "DWHTsT0LAJ3D",
        "outputId": "25537d4e-e20f-4f12-e4db-865da7a0b259"
      },
      "execution_count": 15,
      "outputs": [
        {
          "output_type": "stream",
          "name": "stdout",
          "text": [
            "2024-10-29 17:10:32,401 INFO sqlalchemy.engine.Engine BEGIN (implicit)\n"
          ]
        },
        {
          "output_type": "stream",
          "name": "stderr",
          "text": [
            "INFO:sqlalchemy.engine.Engine:BEGIN (implicit)\n"
          ]
        },
        {
          "output_type": "stream",
          "name": "stdout",
          "text": [
            "2024-10-29 17:10:32,407 INFO sqlalchemy.engine.Engine \n",
            "SELECT \n",
            "    o.customer_id, -- Identify the customer\n",
            "    AVG(oi.price + oi.freight_value) AS avg_order_value -- Calculate average order value\n",
            "FROM \n",
            "    olist_orders o\n",
            "JOIN \n",
            "    olist_order_items oi\n",
            "ON \n",
            "    o.order_id = oi.order_id\n",
            "GROUP BY \n",
            "    o.customer_id -- Group by customer to get individual averages\n",
            "ORDER BY \n",
            "    avg_order_value DESC; -- Optional: Sort to see customers with highest average order value\n",
            "\n"
          ]
        },
        {
          "output_type": "stream",
          "name": "stderr",
          "text": [
            "INFO:sqlalchemy.engine.Engine:\n",
            "SELECT \n",
            "    o.customer_id, -- Identify the customer\n",
            "    AVG(oi.price + oi.freight_value) AS avg_order_value -- Calculate average order value\n",
            "FROM \n",
            "    olist_orders o\n",
            "JOIN \n",
            "    olist_order_items oi\n",
            "ON \n",
            "    o.order_id = oi.order_id\n",
            "GROUP BY \n",
            "    o.customer_id -- Group by customer to get individual averages\n",
            "ORDER BY \n",
            "    avg_order_value DESC; -- Optional: Sort to see customers with highest average order value\n",
            "\n"
          ]
        },
        {
          "output_type": "stream",
          "name": "stdout",
          "text": [
            "2024-10-29 17:10:32,411 INFO sqlalchemy.engine.Engine [raw sql] ()\n"
          ]
        },
        {
          "output_type": "stream",
          "name": "stderr",
          "text": [
            "INFO:sqlalchemy.engine.Engine:[raw sql] ()\n"
          ]
        },
        {
          "output_type": "stream",
          "name": "stdout",
          "text": [
            "2024-10-29 17:10:33,630 INFO sqlalchemy.engine.Engine ROLLBACK\n"
          ]
        },
        {
          "output_type": "stream",
          "name": "stderr",
          "text": [
            "INFO:sqlalchemy.engine.Engine:ROLLBACK\n"
          ]
        },
        {
          "output_type": "stream",
          "name": "stdout",
          "text": [
            "                            customer_id  avg_order_value\n",
            "0      c6e2731c5b391845f6800c97401a43a9      6929.310000\n",
            "1      f48d464a0baaea338cb25f816991ab1f      6922.210000\n",
            "2      3fd6777bbce08a352fddd04e4a7cc8f6      6726.660000\n",
            "3      df55c14d1476a9a3467f131269c2477f      4950.340000\n",
            "4      24bbf5fd2f2e1b359ee7de94defc4a15      4764.340000\n",
            "...                                 ...              ...\n",
            "98661  046f890135acc703faff4c1fc0c2d73c        11.560000\n",
            "98662  8e4bd65db637116b6b68109e4df21b84        10.890000\n",
            "98663  184e8e8e48937145eb96c721ef1f0747        10.070000\n",
            "98664  a790343ca6f3fee08112d678b43aa7c5         9.590000\n",
            "98665  fc3d1daec319d62d49bfb5e1f83123e9         9.341429\n",
            "\n",
            "[98666 rows x 2 columns]\n"
          ]
        }
      ]
    },
    {
      "cell_type": "markdown",
      "source": [
        "Write and execute a SQL query to find the top 5 cities with the highest revenue from 2016 to 2018."
      ],
      "metadata": {
        "id": "zVzaBrzrAaXd"
      }
    },
    {
      "cell_type": "code",
      "source": [
        "# SQL query to find the top 5 cities with the highest revenue from 2016 to 2018\n",
        "query = \"\"\"\n",
        "WITH revenue_data AS (\n",
        "    -- Calculate total revenue for each order and join with customer and order information\n",
        "    SELECT\n",
        "        c.customer_city AS city,\n",
        "        SUM(oi.price + oi.freight_value) AS total_revenue\n",
        "    FROM\n",
        "        olist_orders o\n",
        "    JOIN\n",
        "        olist_order_items oi\n",
        "    ON\n",
        "        o.order_id = oi.order_id\n",
        "    JOIN\n",
        "        olist_customers c\n",
        "    ON\n",
        "        o.customer_id = c.customer_id\n",
        "    WHERE\n",
        "        strftime('%Y', o.order_purchase_timestamp) BETWEEN '2016' AND '2018'\n",
        "    GROUP BY\n",
        "        c.customer_city\n",
        ")\n",
        "-- Select the top 5 cities by revenue\n",
        "SELECT\n",
        "    city,\n",
        "    total_revenue\n",
        "FROM\n",
        "    revenue_data\n",
        "ORDER BY\n",
        "    total_revenue DESC\n",
        "LIMIT 5;\n",
        "\"\"\"\n",
        "\n",
        "# Execute the query\n",
        "result = pd.read_sql_query(query, engine)\n",
        "\n",
        "# Display the result\n",
        "print(result)\n"
      ],
      "metadata": {
        "colab": {
          "base_uri": "https://localhost:8080/"
        },
        "id": "S8NS_nUjQzMm",
        "outputId": "992d964c-1216-4af2-ba46-8fff281c09d2"
      },
      "execution_count": 16,
      "outputs": [
        {
          "output_type": "stream",
          "name": "stdout",
          "text": [
            "2024-10-29 17:11:57,007 INFO sqlalchemy.engine.Engine BEGIN (implicit)\n"
          ]
        },
        {
          "output_type": "stream",
          "name": "stderr",
          "text": [
            "INFO:sqlalchemy.engine.Engine:BEGIN (implicit)\n"
          ]
        },
        {
          "output_type": "stream",
          "name": "stdout",
          "text": [
            "2024-10-29 17:11:57,013 INFO sqlalchemy.engine.Engine \n",
            "WITH revenue_data AS (\n",
            "    -- Calculate total revenue for each order and join with customer and order information\n",
            "    SELECT \n",
            "        c.customer_city AS city, \n",
            "        SUM(oi.price + oi.freight_value) AS total_revenue\n",
            "    FROM \n",
            "        olist_orders o\n",
            "    JOIN \n",
            "        olist_order_items oi\n",
            "    ON \n",
            "        o.order_id = oi.order_id\n",
            "    JOIN \n",
            "        olist_customers c\n",
            "    ON \n",
            "        o.customer_id = c.customer_id\n",
            "    WHERE \n",
            "        strftime('%Y', o.order_purchase_timestamp) BETWEEN '2016' AND '2018'\n",
            "    GROUP BY \n",
            "        c.customer_city\n",
            ")\n",
            "-- Select the top 5 cities by revenue\n",
            "SELECT \n",
            "    city, \n",
            "    total_revenue\n",
            "FROM \n",
            "    revenue_data\n",
            "ORDER BY \n",
            "    total_revenue DESC\n",
            "LIMIT 5;\n",
            "\n"
          ]
        },
        {
          "output_type": "stream",
          "name": "stderr",
          "text": [
            "INFO:sqlalchemy.engine.Engine:\n",
            "WITH revenue_data AS (\n",
            "    -- Calculate total revenue for each order and join with customer and order information\n",
            "    SELECT \n",
            "        c.customer_city AS city, \n",
            "        SUM(oi.price + oi.freight_value) AS total_revenue\n",
            "    FROM \n",
            "        olist_orders o\n",
            "    JOIN \n",
            "        olist_order_items oi\n",
            "    ON \n",
            "        o.order_id = oi.order_id\n",
            "    JOIN \n",
            "        olist_customers c\n",
            "    ON \n",
            "        o.customer_id = c.customer_id\n",
            "    WHERE \n",
            "        strftime('%Y', o.order_purchase_timestamp) BETWEEN '2016' AND '2018'\n",
            "    GROUP BY \n",
            "        c.customer_city\n",
            ")\n",
            "-- Select the top 5 cities by revenue\n",
            "SELECT \n",
            "    city, \n",
            "    total_revenue\n",
            "FROM \n",
            "    revenue_data\n",
            "ORDER BY \n",
            "    total_revenue DESC\n",
            "LIMIT 5;\n",
            "\n"
          ]
        },
        {
          "output_type": "stream",
          "name": "stdout",
          "text": [
            "2024-10-29 17:11:57,019 INFO sqlalchemy.engine.Engine [raw sql] ()\n"
          ]
        },
        {
          "output_type": "stream",
          "name": "stderr",
          "text": [
            "INFO:sqlalchemy.engine.Engine:[raw sql] ()\n"
          ]
        },
        {
          "output_type": "stream",
          "name": "stdout",
          "text": [
            "2024-10-29 17:11:58,095 INFO sqlalchemy.engine.Engine ROLLBACK\n"
          ]
        },
        {
          "output_type": "stream",
          "name": "stderr",
          "text": [
            "INFO:sqlalchemy.engine.Engine:ROLLBACK\n"
          ]
        },
        {
          "output_type": "stream",
          "name": "stdout",
          "text": [
            "             city  total_revenue\n",
            "0       sao paulo     2170227.12\n",
            "1  rio de janeiro     1154234.02\n",
            "2  belo horizonte      416733.39\n",
            "3        brasilia      352305.14\n",
            "4        curitiba      244739.87\n"
          ]
        }
      ]
    },
    {
      "cell_type": "markdown",
      "source": [
        "Write and execute a SQL query to create a state-wise revenue table between 2016 to 2018."
      ],
      "metadata": {
        "id": "A7fPNs6OQ4gG"
      }
    },
    {
      "cell_type": "code",
      "source": [
        "# SQL query to create a state-wise revenue table between 2016 and 2018\n",
        "query = \"\"\"\n",
        "WITH state_wise_revenue AS (\n",
        "    -- Calculate total revenue for each order and join with customer and order information\n",
        "    SELECT\n",
        "        c.customer_state AS state, -- Get the state\n",
        "        SUM(oi.price + oi.freight_value) AS total_revenue -- Calculate total revenue for each order\n",
        "    FROM\n",
        "        olist_orders o\n",
        "    JOIN\n",
        "        olist_order_items oi\n",
        "    ON\n",
        "        o.order_id = oi.order_id\n",
        "    JOIN\n",
        "        olist_customers c\n",
        "    ON\n",
        "        o.customer_id = c.customer_id\n",
        "    WHERE\n",
        "        strftime('%Y', o.order_purchase_timestamp) BETWEEN '2016' AND '2018' -- Filter for 2016-2018\n",
        "    GROUP BY\n",
        "        c.customer_state -- Group by state to get state-wise revenue\n",
        ")\n",
        "-- Select the state and the total revenue\n",
        "SELECT\n",
        "    state,\n",
        "    total_revenue\n",
        "FROM\n",
        "    state_wise_revenue\n",
        "ORDER BY\n",
        "    total_revenue DESC; -- Optional: Sort by revenue to see highest-revenue states first\n",
        "\"\"\"\n",
        "\n",
        "# Execute the query\n",
        "result = pd.read_sql_query(query, engine)\n",
        "\n",
        "# Display the result\n",
        "print(result)\n"
      ],
      "metadata": {
        "colab": {
          "base_uri": "https://localhost:8080/"
        },
        "id": "zW6Q90ixRVxS",
        "outputId": "3cf68138-e478-4298-d314-3a23875d5835"
      },
      "execution_count": 17,
      "outputs": [
        {
          "output_type": "stream",
          "name": "stdout",
          "text": [
            "2024-10-29 17:14:16,547 INFO sqlalchemy.engine.Engine BEGIN (implicit)\n"
          ]
        },
        {
          "output_type": "stream",
          "name": "stderr",
          "text": [
            "INFO:sqlalchemy.engine.Engine:BEGIN (implicit)\n"
          ]
        },
        {
          "output_type": "stream",
          "name": "stdout",
          "text": [
            "2024-10-29 17:14:16,553 INFO sqlalchemy.engine.Engine \n",
            "WITH state_wise_revenue AS (\n",
            "    -- Calculate total revenue for each order and join with customer and order information\n",
            "    SELECT \n",
            "        c.customer_state AS state, -- Get the state\n",
            "        SUM(oi.price + oi.freight_value) AS total_revenue -- Calculate total revenue for each order\n",
            "    FROM \n",
            "        olist_orders o\n",
            "    JOIN \n",
            "        olist_order_items oi\n",
            "    ON \n",
            "        o.order_id = oi.order_id\n",
            "    JOIN \n",
            "        olist_customers c\n",
            "    ON \n",
            "        o.customer_id = c.customer_id\n",
            "    WHERE \n",
            "        strftime('%Y', o.order_purchase_timestamp) BETWEEN '2016' AND '2018' -- Filter for 2016-2018\n",
            "    GROUP BY \n",
            "        c.customer_state -- Group by state to get state-wise revenue\n",
            ")\n",
            "-- Select the state and the total revenue\n",
            "SELECT \n",
            "    state, \n",
            "    total_revenue\n",
            "FROM \n",
            "    state_wise_revenue\n",
            "ORDER BY \n",
            "    total_revenue DESC; -- Optional: Sort by revenue to see highest-revenue states first\n",
            "\n"
          ]
        },
        {
          "output_type": "stream",
          "name": "stderr",
          "text": [
            "INFO:sqlalchemy.engine.Engine:\n",
            "WITH state_wise_revenue AS (\n",
            "    -- Calculate total revenue for each order and join with customer and order information\n",
            "    SELECT \n",
            "        c.customer_state AS state, -- Get the state\n",
            "        SUM(oi.price + oi.freight_value) AS total_revenue -- Calculate total revenue for each order\n",
            "    FROM \n",
            "        olist_orders o\n",
            "    JOIN \n",
            "        olist_order_items oi\n",
            "    ON \n",
            "        o.order_id = oi.order_id\n",
            "    JOIN \n",
            "        olist_customers c\n",
            "    ON \n",
            "        o.customer_id = c.customer_id\n",
            "    WHERE \n",
            "        strftime('%Y', o.order_purchase_timestamp) BETWEEN '2016' AND '2018' -- Filter for 2016-2018\n",
            "    GROUP BY \n",
            "        c.customer_state -- Group by state to get state-wise revenue\n",
            ")\n",
            "-- Select the state and the total revenue\n",
            "SELECT \n",
            "    state, \n",
            "    total_revenue\n",
            "FROM \n",
            "    state_wise_revenue\n",
            "ORDER BY \n",
            "    total_revenue DESC; -- Optional: Sort by revenue to see highest-revenue states first\n",
            "\n"
          ]
        },
        {
          "output_type": "stream",
          "name": "stdout",
          "text": [
            "2024-10-29 17:14:16,557 INFO sqlalchemy.engine.Engine [raw sql] ()\n"
          ]
        },
        {
          "output_type": "stream",
          "name": "stderr",
          "text": [
            "INFO:sqlalchemy.engine.Engine:[raw sql] ()\n"
          ]
        },
        {
          "output_type": "stream",
          "name": "stdout",
          "text": [
            "2024-10-29 17:14:18,181 INFO sqlalchemy.engine.Engine ROLLBACK\n"
          ]
        },
        {
          "output_type": "stream",
          "name": "stderr",
          "text": [
            "INFO:sqlalchemy.engine.Engine:ROLLBACK\n"
          ]
        },
        {
          "output_type": "stream",
          "name": "stdout",
          "text": [
            "   state  total_revenue\n",
            "0     SP     5921678.12\n",
            "1     RJ     2129681.98\n",
            "2     MG     1856161.49\n",
            "3     RS      885826.76\n",
            "4     PR      800935.44\n",
            "5     BA      611506.67\n",
            "6     SC      610213.60\n",
            "7     DF      353229.44\n",
            "8     GO      347706.93\n",
            "9     ES      324801.91\n",
            "10    PE      322237.69\n",
            "11    CE      275606.30\n",
            "12    PA      217647.11\n",
            "13    MT      186168.96\n",
            "14    MA      151171.99\n",
            "15    PB      140987.81\n",
            "16    MS      135956.67\n",
            "17    PI      108132.28\n",
            "18    RN      101895.08\n",
            "19    AL       96229.40\n",
            "20    SE       73032.32\n",
            "21    TO       61354.42\n",
            "22    RO       57558.02\n",
            "23    AM       27835.73\n",
            "24    AC       19669.70\n",
            "25    AP       16262.80\n",
            "26    RR       10064.62\n"
          ]
        }
      ]
    },
    {
      "cell_type": "markdown",
      "source": [
        "Write and execute a SQL query to identify the top successful sellers in terms of the number of goods sold, total revenue, customer count, and sellers with the highest 5-star ratings."
      ],
      "metadata": {
        "id": "UxuX-TcBRj9N"
      }
    },
    {
      "cell_type": "code",
      "source": [
        "# SQL query to identify top successful sellers based on goods sold, revenue, customer count, and 5-star ratings\n",
        "query = \"\"\"\n",
        "WITH seller_performance AS (\n",
        "    -- Join the necessary tables to calculate total revenue, goods sold, customer count, and 5-star reviews\n",
        "    SELECT\n",
        "        s.seller_id, -- Identify seller\n",
        "        COUNT(oi.order_id) AS total_goods_sold, -- Number of goods sold\n",
        "        SUM(oi.price + oi.freight_value) AS total_revenue, -- Total revenue (price + freight)\n",
        "        COUNT(DISTINCT o.customer_id) AS customer_count, -- Unique customers count\n",
        "        COUNT(CASE WHEN r.review_score = 5 THEN 1 END) AS five_star_reviews -- 5-star review count\n",
        "    FROM\n",
        "        olist_sellers s\n",
        "    JOIN\n",
        "        olist_order_items oi ON s.seller_id = oi.seller_id\n",
        "    JOIN\n",
        "        olist_orders o ON oi.order_id = o.order_id\n",
        "    LEFT JOIN\n",
        "        olist_order_reviews r ON o.order_id = r.order_id\n",
        "    GROUP BY\n",
        "        s.seller_id\n",
        ")\n",
        "-- Select top sellers based on various metrics\n",
        "SELECT\n",
        "    seller_id,\n",
        "    total_goods_sold,\n",
        "    total_revenue,\n",
        "    customer_count,\n",
        "    five_star_reviews\n",
        "FROM\n",
        "    seller_performance\n",
        "ORDER BY\n",
        "    total_goods_sold DESC, -- Sort by number of goods sold\n",
        "    total_revenue DESC, -- Sort by total revenue\n",
        "    customer_count DESC, -- Sort by customer count\n",
        "    five_star_reviews DESC -- Sort by 5-star reviews\n",
        "LIMIT 10; -- Get top 10 sellers\n",
        "\"\"\"\n",
        "\n",
        "# Execute the query\n",
        "result = pd.read_sql_query(query, engine)\n",
        "\n",
        "# Display the result\n",
        "print(result)\n"
      ],
      "metadata": {
        "colab": {
          "base_uri": "https://localhost:8080/"
        },
        "id": "E6xybs_PVd8i",
        "outputId": "dfbb166d-871b-4005-a71d-abfa692b6bd2"
      },
      "execution_count": 18,
      "outputs": [
        {
          "output_type": "stream",
          "name": "stdout",
          "text": [
            "2024-10-29 17:32:18,276 INFO sqlalchemy.engine.Engine BEGIN (implicit)\n"
          ]
        },
        {
          "output_type": "stream",
          "name": "stderr",
          "text": [
            "INFO:sqlalchemy.engine.Engine:BEGIN (implicit)\n"
          ]
        },
        {
          "output_type": "stream",
          "name": "stdout",
          "text": [
            "2024-10-29 17:32:18,281 INFO sqlalchemy.engine.Engine \n",
            "WITH seller_performance AS (\n",
            "    -- Join the necessary tables to calculate total revenue, goods sold, customer count, and 5-star reviews\n",
            "    SELECT \n",
            "        s.seller_id, -- Identify seller\n",
            "        COUNT(oi.order_id) AS total_goods_sold, -- Number of goods sold\n",
            "        SUM(oi.price + oi.freight_value) AS total_revenue, -- Total revenue (price + freight)\n",
            "        COUNT(DISTINCT o.customer_id) AS customer_count, -- Unique customers count\n",
            "        COUNT(CASE WHEN r.review_score = 5 THEN 1 END) AS five_star_reviews -- 5-star review count\n",
            "    FROM \n",
            "        olist_sellers s\n",
            "    JOIN \n",
            "        olist_order_items oi ON s.seller_id = oi.seller_id\n",
            "    JOIN \n",
            "        olist_orders o ON oi.order_id = o.order_id\n",
            "    LEFT JOIN \n",
            "        olist_order_reviews r ON o.order_id = r.order_id\n",
            "    GROUP BY \n",
            "        s.seller_id\n",
            ")\n",
            "-- Select top sellers based on various metrics\n",
            "SELECT \n",
            "    seller_id, \n",
            "    total_goods_sold, \n",
            "    total_revenue, \n",
            "    customer_count, \n",
            "    five_star_reviews\n",
            "FROM \n",
            "    seller_performance\n",
            "ORDER BY \n",
            "    total_goods_sold DESC, -- Sort by number of goods sold\n",
            "    total_revenue DESC, -- Sort by total revenue\n",
            "    customer_count DESC, -- Sort by customer count\n",
            "    five_star_reviews DESC -- Sort by 5-star reviews\n",
            "LIMIT 10; -- Get top 10 sellers\n",
            "\n"
          ]
        },
        {
          "output_type": "stream",
          "name": "stderr",
          "text": [
            "INFO:sqlalchemy.engine.Engine:\n",
            "WITH seller_performance AS (\n",
            "    -- Join the necessary tables to calculate total revenue, goods sold, customer count, and 5-star reviews\n",
            "    SELECT \n",
            "        s.seller_id, -- Identify seller\n",
            "        COUNT(oi.order_id) AS total_goods_sold, -- Number of goods sold\n",
            "        SUM(oi.price + oi.freight_value) AS total_revenue, -- Total revenue (price + freight)\n",
            "        COUNT(DISTINCT o.customer_id) AS customer_count, -- Unique customers count\n",
            "        COUNT(CASE WHEN r.review_score = 5 THEN 1 END) AS five_star_reviews -- 5-star review count\n",
            "    FROM \n",
            "        olist_sellers s\n",
            "    JOIN \n",
            "        olist_order_items oi ON s.seller_id = oi.seller_id\n",
            "    JOIN \n",
            "        olist_orders o ON oi.order_id = o.order_id\n",
            "    LEFT JOIN \n",
            "        olist_order_reviews r ON o.order_id = r.order_id\n",
            "    GROUP BY \n",
            "        s.seller_id\n",
            ")\n",
            "-- Select top sellers based on various metrics\n",
            "SELECT \n",
            "    seller_id, \n",
            "    total_goods_sold, \n",
            "    total_revenue, \n",
            "    customer_count, \n",
            "    five_star_reviews\n",
            "FROM \n",
            "    seller_performance\n",
            "ORDER BY \n",
            "    total_goods_sold DESC, -- Sort by number of goods sold\n",
            "    total_revenue DESC, -- Sort by total revenue\n",
            "    customer_count DESC, -- Sort by customer count\n",
            "    five_star_reviews DESC -- Sort by 5-star reviews\n",
            "LIMIT 10; -- Get top 10 sellers\n",
            "\n"
          ]
        },
        {
          "output_type": "stream",
          "name": "stdout",
          "text": [
            "2024-10-29 17:32:18,285 INFO sqlalchemy.engine.Engine [raw sql] ()\n"
          ]
        },
        {
          "output_type": "stream",
          "name": "stderr",
          "text": [
            "INFO:sqlalchemy.engine.Engine:[raw sql] ()\n"
          ]
        },
        {
          "output_type": "stream",
          "name": "stdout",
          "text": [
            "2024-10-29 17:32:19,951 INFO sqlalchemy.engine.Engine ROLLBACK\n"
          ]
        },
        {
          "output_type": "stream",
          "name": "stderr",
          "text": [
            "INFO:sqlalchemy.engine.Engine:ROLLBACK\n"
          ]
        },
        {
          "output_type": "stream",
          "name": "stdout",
          "text": [
            "                          seller_id  total_goods_sold  total_revenue  \\\n",
            "0  6560211a19b47992c3666cc44a7e94c0              2039      151636.13   \n",
            "1  4a3ca9315b744ce9f8e9374361493884              2009      238440.31   \n",
            "2  1f50f920176fa81dab994f9023523100              1940      142757.03   \n",
            "3  cc419e0650a3c5ba77189a1882b7556a              1819      132877.06   \n",
            "4  da8622b14eb17ae2831f4ac5b9dab84a              1574      188062.51   \n",
            "5  955fee9216a65b617aa5c0531780ce60              1501      160694.86   \n",
            "6  1025f0e2d44d7041d6cf58b6550e0bfa              1443      174710.82   \n",
            "7  7c67e1448b00f6e969d365cea6b010ab              1375      241374.82   \n",
            "8  ea8482cd71df3c1969d7b9473ff13abc              1204       54757.67   \n",
            "9  7a67c85e85bb2ce8582c35f2203ad736              1175      163278.78   \n",
            "\n",
            "   customer_count  five_star_reviews  \n",
            "0            1854               1024  \n",
            "1            1806                947  \n",
            "2            1404               1096  \n",
            "3            1706               1053  \n",
            "4            1314                893  \n",
            "5            1287                804  \n",
            "6             915                729  \n",
            "7             982                437  \n",
            "8            1146                620  \n",
            "9            1160                717  \n"
          ]
        }
      ]
    },
    {
      "cell_type": "markdown",
      "source": [
        "Write and execute a SQL query to calculate the delivery success rate across different states.\n"
      ],
      "metadata": {
        "id": "VAtTR_j1WI33"
      }
    },
    {
      "cell_type": "code",
      "source": [
        "# SQL query to calculate the delivery success rate across different states\n",
        "query = \"\"\"\n",
        "WITH state_delivery_data AS (\n",
        "    -- Create a subquery that calculates whether each order was successfully delivered\n",
        "    SELECT\n",
        "        c.customer_state AS state,\n",
        "        CASE\n",
        "            WHEN o.order_delivered_customer_date <= o.order_estimated_delivery_date\n",
        "            THEN 1\n",
        "            ELSE 0\n",
        "        END AS delivery_success -- Check if the order was delivered on or before the estimated date\n",
        "    FROM\n",
        "        olist_orders o\n",
        "    JOIN\n",
        "        olist_customers c ON o.customer_id = c.customer_id\n",
        "    WHERE\n",
        "        o.order_delivered_customer_date IS NOT NULL -- Exclude orders that haven't been delivered yet\n",
        ")\n",
        "\n",
        "-- Calculate the success rate for each state\n",
        "SELECT\n",
        "    state,\n",
        "    SUM(delivery_success) AS successful_deliveries, -- Total successful deliveries\n",
        "    COUNT(*) AS total_deliveries, -- Total deliveries\n",
        "    (SUM(delivery_success) * 100.0 / COUNT(*)) AS success_rate -- Calculate success rate percentage\n",
        "FROM\n",
        "    state_delivery_data\n",
        "GROUP BY\n",
        "    state\n",
        "ORDER BY\n",
        "    success_rate DESC; -- Sort by highest success rate\n",
        "\"\"\"\n",
        "\n",
        "# Execute the query\n",
        "result = pd.read_sql_query(query, engine)\n",
        "\n",
        "# Display the result\n",
        "print(result)\n"
      ],
      "metadata": {
        "colab": {
          "base_uri": "https://localhost:8080/"
        },
        "id": "uNO8riwuWKd-",
        "outputId": "0c39ab40-af02-4761-e679-27e218aebac2"
      },
      "execution_count": 19,
      "outputs": [
        {
          "output_type": "stream",
          "name": "stdout",
          "text": [
            "2024-10-29 17:35:24,807 INFO sqlalchemy.engine.Engine BEGIN (implicit)\n"
          ]
        },
        {
          "output_type": "stream",
          "name": "stderr",
          "text": [
            "INFO:sqlalchemy.engine.Engine:BEGIN (implicit)\n"
          ]
        },
        {
          "output_type": "stream",
          "name": "stdout",
          "text": [
            "2024-10-29 17:35:24,812 INFO sqlalchemy.engine.Engine \n",
            "WITH state_delivery_data AS (\n",
            "    -- Create a subquery that calculates whether each order was successfully delivered\n",
            "    SELECT \n",
            "        c.customer_state AS state, \n",
            "        CASE \n",
            "            WHEN o.order_delivered_customer_date <= o.order_estimated_delivery_date \n",
            "            THEN 1 \n",
            "            ELSE 0 \n",
            "        END AS delivery_success -- Check if the order was delivered on or before the estimated date\n",
            "    FROM \n",
            "        olist_orders o\n",
            "    JOIN \n",
            "        olist_customers c ON o.customer_id = c.customer_id\n",
            "    WHERE \n",
            "        o.order_delivered_customer_date IS NOT NULL -- Exclude orders that haven't been delivered yet\n",
            ")\n",
            "\n",
            "-- Calculate the success rate for each state\n",
            "SELECT \n",
            "    state, \n",
            "    SUM(delivery_success) AS successful_deliveries, -- Total successful deliveries\n",
            "    COUNT(*) AS total_deliveries, -- Total deliveries\n",
            "    (SUM(delivery_success) * 100.0 / COUNT(*)) AS success_rate -- Calculate success rate percentage\n",
            "FROM \n",
            "    state_delivery_data\n",
            "GROUP BY \n",
            "    state\n",
            "ORDER BY \n",
            "    success_rate DESC; -- Sort by highest success rate\n",
            "\n"
          ]
        },
        {
          "output_type": "stream",
          "name": "stderr",
          "text": [
            "INFO:sqlalchemy.engine.Engine:\n",
            "WITH state_delivery_data AS (\n",
            "    -- Create a subquery that calculates whether each order was successfully delivered\n",
            "    SELECT \n",
            "        c.customer_state AS state, \n",
            "        CASE \n",
            "            WHEN o.order_delivered_customer_date <= o.order_estimated_delivery_date \n",
            "            THEN 1 \n",
            "            ELSE 0 \n",
            "        END AS delivery_success -- Check if the order was delivered on or before the estimated date\n",
            "    FROM \n",
            "        olist_orders o\n",
            "    JOIN \n",
            "        olist_customers c ON o.customer_id = c.customer_id\n",
            "    WHERE \n",
            "        o.order_delivered_customer_date IS NOT NULL -- Exclude orders that haven't been delivered yet\n",
            ")\n",
            "\n",
            "-- Calculate the success rate for each state\n",
            "SELECT \n",
            "    state, \n",
            "    SUM(delivery_success) AS successful_deliveries, -- Total successful deliveries\n",
            "    COUNT(*) AS total_deliveries, -- Total deliveries\n",
            "    (SUM(delivery_success) * 100.0 / COUNT(*)) AS success_rate -- Calculate success rate percentage\n",
            "FROM \n",
            "    state_delivery_data\n",
            "GROUP BY \n",
            "    state\n",
            "ORDER BY \n",
            "    success_rate DESC; -- Sort by highest success rate\n",
            "\n"
          ]
        },
        {
          "output_type": "stream",
          "name": "stdout",
          "text": [
            "2024-10-29 17:35:24,815 INFO sqlalchemy.engine.Engine [raw sql] ()\n"
          ]
        },
        {
          "output_type": "stream",
          "name": "stderr",
          "text": [
            "INFO:sqlalchemy.engine.Engine:[raw sql] ()\n"
          ]
        },
        {
          "output_type": "stream",
          "name": "stdout",
          "text": [
            "2024-10-29 17:35:25,335 INFO sqlalchemy.engine.Engine ROLLBACK\n"
          ]
        },
        {
          "output_type": "stream",
          "name": "stderr",
          "text": [
            "INFO:sqlalchemy.engine.Engine:ROLLBACK\n"
          ]
        },
        {
          "output_type": "stream",
          "name": "stdout",
          "text": [
            "   state  successful_deliveries  total_deliveries  success_rate\n",
            "0     RO                    236               243     97.119342\n",
            "1     AC                     77                80     96.250000\n",
            "2     AM                    139               145     95.862069\n",
            "3     AP                     64                67     95.522388\n",
            "4     PR                   4677              4923     95.003047\n",
            "5     MG                  10717             11355     94.381330\n",
            "6     SP                  38108             40495     94.105445\n",
            "7     MT                    826               886     93.227991\n",
            "8     DF                   1933              2080     92.932692\n",
            "9     RS                   4962              5344     92.851796\n",
            "10    GO                   1797              1957     91.824221\n",
            "11    SC                   3201              3547     90.245278\n",
            "12    RN                    423               474     89.240506\n",
            "13    PE                   1421              1593     89.202762\n",
            "14    PB                    460               517     88.974855\n",
            "15    MS                    620               701     88.445078\n",
            "16    RR                     36                41     87.804878\n",
            "17    ES                   1751              1995     87.769424\n",
            "18    PA                    829               946     87.632135\n",
            "19    TO                    239               274     87.226277\n",
            "20    RJ                  10689             12353     86.529588\n",
            "21    BA                   2799              3256     85.964373\n",
            "22    SE                    284               335     84.776119\n",
            "23    CE                   1083              1279     84.675528\n",
            "24    PI                    400               476     84.033613\n",
            "25    MA                    576               717     80.334728\n",
            "26    AL                    302               397     76.070529\n"
          ]
        }
      ]
    },
    {
      "cell_type": "markdown",
      "source": [
        "Write and execute a SQL query to find the preferred form of payment for different product categories."
      ],
      "metadata": {
        "id": "9f-sfjzqWjjg"
      }
    },
    {
      "cell_type": "code",
      "source": [
        "# SQL query to find the preferred form of payment for different product categories\n",
        "query = \"\"\"\n",
        "WITH payment_counts AS (\n",
        "    -- Join tables to get product categories and payment methods\n",
        "    SELECT\n",
        "        p.product_category_name AS category,\n",
        "        py.payment_type AS payment_method,\n",
        "        COUNT(py.payment_type) AS payment_count -- Count payment method usage\n",
        "    FROM\n",
        "        olist_order_items oi\n",
        "    JOIN\n",
        "        olist_products p ON oi.product_id = p.product_id -- Join to get product categories\n",
        "    JOIN\n",
        "        olist_orders o ON oi.order_id = o.order_id -- Join to connect orders with order items\n",
        "    JOIN\n",
        "        olist_order_payments py ON o.order_id = py.order_id -- Join to get payment methods\n",
        "    GROUP BY\n",
        "        p.product_category_name, py.payment_type -- Group by product category and payment method\n",
        ")\n",
        "-- Now we select the preferred payment method (highest count) for each product category\n",
        "SELECT\n",
        "    category,\n",
        "    payment_method,\n",
        "    MAX(payment_count) AS max_count\n",
        "FROM\n",
        "    payment_counts\n",
        "GROUP BY\n",
        "    category\n",
        "ORDER BY\n",
        "    max_count DESC;\n",
        "\"\"\"\n",
        "\n",
        "# Execute the query\n",
        "result = pd.read_sql_query(query, engine)\n",
        "\n",
        "# Display the result\n",
        "print(result)\n"
      ],
      "metadata": {
        "colab": {
          "base_uri": "https://localhost:8080/"
        },
        "id": "4JVG6rRVYbO5",
        "outputId": "240c6eef-6512-4f00-da45-cf754b3e80d5"
      },
      "execution_count": 20,
      "outputs": [
        {
          "output_type": "stream",
          "name": "stdout",
          "text": [
            "2024-10-29 17:45:14,083 INFO sqlalchemy.engine.Engine BEGIN (implicit)\n"
          ]
        },
        {
          "output_type": "stream",
          "name": "stderr",
          "text": [
            "INFO:sqlalchemy.engine.Engine:BEGIN (implicit)\n"
          ]
        },
        {
          "output_type": "stream",
          "name": "stdout",
          "text": [
            "2024-10-29 17:45:14,088 INFO sqlalchemy.engine.Engine \n",
            "WITH payment_counts AS (\n",
            "    -- Join tables to get product categories and payment methods\n",
            "    SELECT \n",
            "        p.product_category_name AS category, \n",
            "        py.payment_type AS payment_method,\n",
            "        COUNT(py.payment_type) AS payment_count -- Count payment method usage\n",
            "    FROM \n",
            "        olist_order_items oi\n",
            "    JOIN \n",
            "        olist_products p ON oi.product_id = p.product_id -- Join to get product categories\n",
            "    JOIN \n",
            "        olist_orders o ON oi.order_id = o.order_id -- Join to connect orders with order items\n",
            "    JOIN \n",
            "        olist_order_payments py ON o.order_id = py.order_id -- Join to get payment methods\n",
            "    GROUP BY \n",
            "        p.product_category_name, py.payment_type -- Group by product category and payment method\n",
            ")\n",
            "-- Now we select the preferred payment method (highest count) for each product category\n",
            "SELECT \n",
            "    category, \n",
            "    payment_method, \n",
            "    MAX(payment_count) AS max_count\n",
            "FROM \n",
            "    payment_counts\n",
            "GROUP BY \n",
            "    category\n",
            "ORDER BY \n",
            "    max_count DESC;\n",
            "\n"
          ]
        },
        {
          "output_type": "stream",
          "name": "stderr",
          "text": [
            "INFO:sqlalchemy.engine.Engine:\n",
            "WITH payment_counts AS (\n",
            "    -- Join tables to get product categories and payment methods\n",
            "    SELECT \n",
            "        p.product_category_name AS category, \n",
            "        py.payment_type AS payment_method,\n",
            "        COUNT(py.payment_type) AS payment_count -- Count payment method usage\n",
            "    FROM \n",
            "        olist_order_items oi\n",
            "    JOIN \n",
            "        olist_products p ON oi.product_id = p.product_id -- Join to get product categories\n",
            "    JOIN \n",
            "        olist_orders o ON oi.order_id = o.order_id -- Join to connect orders with order items\n",
            "    JOIN \n",
            "        olist_order_payments py ON o.order_id = py.order_id -- Join to get payment methods\n",
            "    GROUP BY \n",
            "        p.product_category_name, py.payment_type -- Group by product category and payment method\n",
            ")\n",
            "-- Now we select the preferred payment method (highest count) for each product category\n",
            "SELECT \n",
            "    category, \n",
            "    payment_method, \n",
            "    MAX(payment_count) AS max_count\n",
            "FROM \n",
            "    payment_counts\n",
            "GROUP BY \n",
            "    category\n",
            "ORDER BY \n",
            "    max_count DESC;\n",
            "\n"
          ]
        },
        {
          "output_type": "stream",
          "name": "stdout",
          "text": [
            "2024-10-29 17:45:14,093 INFO sqlalchemy.engine.Engine [raw sql] ()\n"
          ]
        },
        {
          "output_type": "stream",
          "name": "stderr",
          "text": [
            "INFO:sqlalchemy.engine.Engine:[raw sql] ()\n"
          ]
        },
        {
          "output_type": "stream",
          "name": "stdout",
          "text": [
            "2024-10-29 17:45:15,331 INFO sqlalchemy.engine.Engine ROLLBACK\n"
          ]
        },
        {
          "output_type": "stream",
          "name": "stderr",
          "text": [
            "INFO:sqlalchemy.engine.Engine:ROLLBACK\n"
          ]
        },
        {
          "output_type": "stream",
          "name": "stdout",
          "text": [
            "                                         category payment_method  max_count\n",
            "0                                 cama_mesa_banho    credit_card       8959\n",
            "1                                    beleza_saude    credit_card       7566\n",
            "2                                   esporte_lazer    credit_card       6635\n",
            "3                                moveis_decoracao    credit_card       6379\n",
            "4                          informatica_acessorios    credit_card       5436\n",
            "..                                            ...            ...        ...\n",
            "69                              cds_dvds_musicais    credit_card          9\n",
            "70  portateis_cozinha_e_preparadores_de_alimentos    credit_card          8\n",
            "71                                       pc_gamer    credit_card          5\n",
            "72                  fashion_roupa_infanto_juvenil    credit_card          5\n",
            "73                             seguros_e_servicos         boleto          1\n",
            "\n",
            "[74 rows x 3 columns]\n"
          ]
        }
      ]
    },
    {
      "cell_type": "markdown",
      "source": [
        "Write and execute a SQL query to calculate the distance between cities"
      ],
      "metadata": {
        "id": "Wm4lpd8HbetZ"
      }
    },
    {
      "cell_type": "code",
      "source": [
        "# SQL query to calculate the distance between cities using the Haversine formula\n",
        "query = \"\"\"\n",
        "WITH city_pairs AS (\n",
        "    -- Self-join the geolocation table to create pairs of cities\n",
        "    SELECT\n",
        "        g1.geolocation_city AS city1,\n",
        "        g2.geolocation_city AS city2,\n",
        "        g1.geolocation_lat AS lat1,\n",
        "        g1.geolocation_lng AS lon1,\n",
        "        g2.geolocation_lat AS lat2,\n",
        "        g2.geolocation_lng AS lon2\n",
        "    FROM\n",
        "        olist_geolocation g1\n",
        "    JOIN\n",
        "        olist_geolocation g2\n",
        "    ON\n",
        "        g1.geolocation_city <> g2.geolocation_city -- Avoid pairing a city with itself\n",
        ")\n",
        "-- Calculate the Haversine distance between city pairs\n",
        "SELECT\n",
        "    city1,\n",
        "    city2,\n",
        "    (6371 * acos(cos(radians(lat1)) * cos(radians(lat2)) * cos(radians(lon2) - radians(lon1)) + sin(radians(lat1)) * sin(radians(lat2)))) AS distance_km\n",
        "FROM\n",
        "    city_pairs\n",
        "ORDER BY\n",
        "    distance_km;\n",
        "\"\"\"\n",
        "\n",
        "# Execute the query\n",
        "result = pd.read_sql_query(query, engine)\n",
        "\n",
        "# Display the result\n",
        "print(result)\n"
      ],
      "metadata": {
        "colab": {
          "base_uri": "https://localhost:8080/"
        },
        "id": "d4d53lfBblWw",
        "outputId": "b752847a-e8dc-4ca2-eb02-e7ae55d3c774"
      },
      "execution_count": null,
      "outputs": [
        {
          "output_type": "stream",
          "name": "stdout",
          "text": [
            "2024-10-29 17:59:09,815 INFO sqlalchemy.engine.Engine BEGIN (implicit)\n"
          ]
        },
        {
          "output_type": "stream",
          "name": "stderr",
          "text": [
            "INFO:sqlalchemy.engine.Engine:BEGIN (implicit)\n"
          ]
        },
        {
          "output_type": "stream",
          "name": "stdout",
          "text": [
            "2024-10-29 17:59:09,819 INFO sqlalchemy.engine.Engine \n",
            "WITH city_pairs AS (\n",
            "    -- Self-join the geolocation table to create pairs of cities\n",
            "    SELECT \n",
            "        g1.geolocation_city AS city1, \n",
            "        g2.geolocation_city AS city2,\n",
            "        g1.geolocation_lat AS lat1, \n",
            "        g1.geolocation_lng AS lon1,\n",
            "        g2.geolocation_lat AS lat2, \n",
            "        g2.geolocation_lng AS lon2\n",
            "    FROM \n",
            "        olist_geolocation g1\n",
            "    JOIN \n",
            "        olist_geolocation g2\n",
            "    ON \n",
            "        g1.geolocation_city <> g2.geolocation_city -- Avoid pairing a city with itself\n",
            ")\n",
            "-- Calculate the Haversine distance between city pairs\n",
            "SELECT \n",
            "    city1, \n",
            "    city2,\n",
            "    (6371 * acos(cos(radians(lat1)) * cos(radians(lat2)) * cos(radians(lon2) - radians(lon1)) + sin(radians(lat1)) * sin(radians(lat2)))) AS distance_km\n",
            "FROM \n",
            "    city_pairs\n",
            "ORDER BY \n",
            "    distance_km;\n",
            "\n"
          ]
        },
        {
          "output_type": "stream",
          "name": "stderr",
          "text": [
            "INFO:sqlalchemy.engine.Engine:\n",
            "WITH city_pairs AS (\n",
            "    -- Self-join the geolocation table to create pairs of cities\n",
            "    SELECT \n",
            "        g1.geolocation_city AS city1, \n",
            "        g2.geolocation_city AS city2,\n",
            "        g1.geolocation_lat AS lat1, \n",
            "        g1.geolocation_lng AS lon1,\n",
            "        g2.geolocation_lat AS lat2, \n",
            "        g2.geolocation_lng AS lon2\n",
            "    FROM \n",
            "        olist_geolocation g1\n",
            "    JOIN \n",
            "        olist_geolocation g2\n",
            "    ON \n",
            "        g1.geolocation_city <> g2.geolocation_city -- Avoid pairing a city with itself\n",
            ")\n",
            "-- Calculate the Haversine distance between city pairs\n",
            "SELECT \n",
            "    city1, \n",
            "    city2,\n",
            "    (6371 * acos(cos(radians(lat1)) * cos(radians(lat2)) * cos(radians(lon2) - radians(lon1)) + sin(radians(lat1)) * sin(radians(lat2)))) AS distance_km\n",
            "FROM \n",
            "    city_pairs\n",
            "ORDER BY \n",
            "    distance_km;\n",
            "\n"
          ]
        },
        {
          "output_type": "stream",
          "name": "stdout",
          "text": [
            "2024-10-29 17:59:09,822 INFO sqlalchemy.engine.Engine [raw sql] ()\n"
          ]
        },
        {
          "output_type": "stream",
          "name": "stderr",
          "text": [
            "INFO:sqlalchemy.engine.Engine:[raw sql] ()\n"
          ]
        }
      ]
    }
  ]
}