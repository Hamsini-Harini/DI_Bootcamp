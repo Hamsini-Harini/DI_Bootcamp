{
  "nbformat": 4,
  "nbformat_minor": 0,
  "metadata": {
    "colab": {
      "provenance": []
    },
    "kernelspec": {
      "name": "python3",
      "display_name": "Python 3"
    },
    "language_info": {
      "name": "python"
    }
  },
  "cells": [
    {
      "cell_type": "markdown",
      "source": [
        "🌟 Exercise 1 : Basic Usage of SciPy\n",
        "Instructions\n",
        "Import the SciPy library and explore its version.\n",
        "\n"
      ],
      "metadata": {
        "id": "ksSa414AQIpD"
      }
    },
    {
      "cell_type": "code",
      "execution_count": 1,
      "metadata": {
        "colab": {
          "base_uri": "https://localhost:8080/"
        },
        "id": "CWWeVNudPcOb",
        "outputId": "cd5d8f17-8ca2-4dce-efac-613d1e5815d6"
      },
      "outputs": [
        {
          "output_type": "stream",
          "name": "stdout",
          "text": [
            "SciPy version: 1.13.1\n"
          ]
        }
      ],
      "source": [
        "import scipy\n",
        "\n",
        "# Checking the version of SciPy\n",
        "scipy_version = scipy.__version__  # The __version__ attribute stores the version of the library\n",
        "\n",
        "print(f\"SciPy version: {scipy_version}\")\n"
      ]
    },
    {
      "cell_type": "markdown",
      "source": [
        "🌟 Exercise 2 : Descriptive Statistics\n",
        "\n",
        "\n",
        "Given a sample dataset, calculate the mean, median, variance, and standard deviation using SciPy.\n",
        "\n",
        "Sample dataset in code:\n",
        "\n",
        "\n",
        "data = [12, 15, 13, 12, 18, 20, 22, 21]"
      ],
      "metadata": {
        "id": "3jCrYMU8QcBc"
      }
    },
    {
      "cell_type": "code",
      "source": [
        "from scipy import stats\n",
        "\n",
        "# The sample dataset\n",
        "data = [12, 15, 13, 12, 18, 20, 22, 21]\n",
        "\n",
        "# Calculate the mean\n",
        "mean_value = stats.tmean(data)  # tmean stands for trimmed mean, but without trimming it works as regular mean\n",
        "print(f\"Mean: {mean_value}\")\n",
        "\n",
        "# Calculate the median\n",
        "median_value = stats.scoreatpercentile(data, 50)  # Score at the 50th percentile is the median, handy since you can calculate any percentile with same function\n",
        "# In Numpy the same would be np.median(daily_steps\n",
        "print(f\"Median: {median_value}\")\n",
        "\n",
        "# Calculate the variance\n",
        "variance_value = stats.tvar(data)  # tvar computes variance\n",
        "print(f\"Variance: {variance_value}\")\n",
        "\n",
        "# Calculate the standard deviation\n",
        "std_deviation_value = stats.tstd(data)  # tstd computes standard deviation\n",
        "print(f\"Standard Deviation: {std_deviation_value}\")\n"
      ],
      "metadata": {
        "colab": {
          "base_uri": "https://localhost:8080/"
        },
        "id": "reihRWmYQcpR",
        "outputId": "246ef521-4412-4d90-86af-25a314cb5f1c"
      },
      "execution_count": 5,
      "outputs": [
        {
          "output_type": "stream",
          "name": "stdout",
          "text": [
            "Mean: 16.625\n",
            "Median: 16.5\n",
            "Variance: 17.125\n",
            "Standard Deviation: 4.138236339311712\n"
          ]
        }
      ]
    },
    {
      "cell_type": "markdown",
      "source": [
        "🌟 Exercise 3 : Understanding Distributions\n",
        "Instructions\n",
        "Generate a normal distribution using SciPy with a mean of 50 and a standard deviation of 10. Plot this distribution."
      ],
      "metadata": {
        "id": "Vg1LYjcySTgG"
      }
    },
    {
      "cell_type": "code",
      "source": [
        "\n",
        "import numpy as np  # for handling arrays\n",
        "import matplotlib.pyplot as plt  # for plotting\n",
        "\n",
        "mean = 50\n",
        "std_dev = 10\n",
        "\n",
        "# Generate 1000 data points from a normal distribution using numpy's random function\n",
        "data = np.random.normal(mean, std_dev, 1000)\n",
        "\n",
        "# Plotting the distribution\n",
        "plt.figure(figsize=(8, 5))  # Set figure size\n",
        "plt.hist(data, bins=30, density=True, alpha=0.6, color='b', edgecolor='black')  # Create a histogram\n",
        "plt.title('Normal Distribution (Mean = 50, Standard Deviation = 10)')  # Title of the plot\n",
        "plt.xlabel('Value')  # X-axis label\n",
        "plt.ylabel('Density')  # Y-axis label (Density since we're normalizing the data)\n",
        "plt.grid(True)  # Display grid for better readability\n",
        "plt.show()\n"
      ],
      "metadata": {
        "colab": {
          "base_uri": "https://localhost:8080/",
          "height": 487
        },
        "id": "jcdrQireTL7q",
        "outputId": "2ddbbbd5-39bf-419e-8b1f-e1cacebe5acf"
      },
      "execution_count": 6,
      "outputs": [
        {
          "output_type": "display_data",
          "data": {
            "text/plain": [
              "<Figure size 800x500 with 1 Axes>"
            ],
            "image/png": "[encoded data removed]"
          },
          "metadata": {}
        }
      ]
    },
    {
      "cell_type": "markdown",
      "source": [
        "🌟 Exercise 4 : T-Test Application\n",
        "Instructions\n",
        "Perform a T-test on two sets of randomly generated data. Hint: Use numpy.random.normal() to generate the datasets."
      ],
      "metadata": {
        "id": "j7R8WiiiTiB2"
      }
    },
    {
      "cell_type": "code",
      "source": [
        "data1 = np.random.normal(50, 10, 100)  # Group 1: Mean = 50, Std Dev = 10, 100 samples\n",
        "data2 = np.random.normal(52, 10, 100)  # Group 2: Mean = 52 (slightly different), Std Dev = 10, 100 samples\n",
        "\n",
        "# Perform an independent two-sample T-test\n",
        "t_statistic, p_value = stats.ttest_ind(data1, data2)\n",
        "\n",
        "print(f\"T-statistic: {t_statistic}\")\n",
        "print(f\"P-value: {p_value}\")"
      ],
      "metadata": {
        "colab": {
          "base_uri": "https://localhost:8080/"
        },
        "id": "dq8nCjmvUhF_",
        "outputId": "e973d268-7469-4eb2-e96a-2b3beeda4632"
      },
      "execution_count": 7,
      "outputs": [
        {
          "output_type": "stream",
          "name": "stdout",
          "text": [
            "T-statistic: -1.928829316880971\n",
            "P-value: 0.0551819247725704\n"
          ]
        }
      ]
    },
    {
      "cell_type": "code",
      "source": [
        "# Plotting the two datasets\n",
        "plt.figure(figsize=(8, 5))\n",
        "\n",
        "# Histogram for data1\n",
        "plt.hist(data1, bins=30, alpha=0.6, color='blue', label='Group 1 (Mean=50)', edgecolor='black')\n",
        "\n",
        "# Histogram for data2\n",
        "plt.hist(data2, bins=30, alpha=0.6, color='green', label='Group 2 (Mean=52)', edgecolor='black')\n",
        "\n",
        "plt.title('Comparison of Two Distributions')\n",
        "plt.xlabel('Value')\n",
        "plt.ylabel('Frequency')\n",
        "plt.legend()\n",
        "\n",
        "plt.grid(True)\n",
        "plt.show()\n"
      ],
      "metadata": {
        "colab": {
          "base_uri": "https://localhost:8080/",
          "height": 487
        },
        "id": "jz2FnzWJU2Fl",
        "outputId": "0636f547-b4a0-4871-8fb6-e650d8e10486"
      },
      "execution_count": 10,
      "outputs": [
        {
          "output_type": "display_data",
          "data": {
            "text/plain": [
              "<Figure size 800x500 with 1 Axes>"
            ],
            "image/png": "[encoded data removed]"
          },
          "metadata": {}
        }
      ]
    },
    {
      "cell_type": "markdown",
      "source": [
        "🌟 Exercise 5 : Working with DataFrames\n",
        "Instructions\n",
        "Task: Import a dataset using Pandas and calculate descriptive statistics for a specific column using SciPy.\n",
        "\n",
        "Sample Dataset: Use any publicly available dataset (e.g., Iris dataset).\n",
        "\n",
        "Code Example:\n",
        "\n",
        "\n",
        "\n",
        "import pandas as pd\n",
        "\n",
        "df = pd.read_csv('path_to_iris_dataset.csv')\n"
      ],
      "metadata": {
        "id": "kkhhXp3YWlz8"
      }
    },
    {
      "cell_type": "code",
      "source": [
        "import pandas as pd\n",
        "\n",
        "# Load the dataset\n",
        "# If you have the Iris dataset in a CSV file, you can load it like this:\n",
        "url = \"https://archive.ics.uci.edu/ml/machine-learning-databases/iris/iris.data\"  # This is a publicly available URL for the Iris dataset\n",
        "column_names = ['sepal_length', 'sepal_width', 'petal_length', 'petal_width', 'species']  # Assign column names\n",
        "\n",
        "df = pd.read_csv(url, header=None, names=column_names)  # Load dataset and assign column names\n",
        "df.head()"
      ],
      "metadata": {
        "colab": {
          "base_uri": "https://localhost:8080/",
          "height": 206
        },
        "id": "dS-dvRZJX-XI",
        "outputId": "a011702f-384a-488a-bf4f-0b0ea5f5bf72"
      },
      "execution_count": 13,
      "outputs": [
        {
          "output_type": "execute_result",
          "data": {
            "text/plain": [
              "   sepal_length  sepal_width  petal_length  petal_width      species\n",
              "0           5.1          3.5           1.4          0.2  Iris-setosa\n",
              "1           4.9          3.0           1.4          0.2  Iris-setosa\n",
              "2           4.7          3.2           1.3          0.2  Iris-setosa\n",
              "3           4.6          3.1           1.5          0.2  Iris-setosa\n",
              "4           5.0          3.6           1.4          0.2  Iris-setosa"
            ],
            "text/html": [
              "\n",
              "  <div id=\"df-783b5a32-ac28-4a25-9e9d-e710f630f1f0\" class=\"colab-df-container\">\n",
              "    <div>\n",
              "<style scoped>\n",
              "    .dataframe tbody tr th:only-of-type {\n",
              "        vertical-align: middle;\n",
              "    }\n",
              "\n",
              "    .dataframe tbody tr th {\n",
              "        vertical-align: top;\n",
              "    }\n",
              "\n",
              "    .dataframe thead th {\n",
              "        text-align: right;\n",
              "    }\n",
              "</style>\n",
              "<table border=\"1\" class=\"dataframe\">\n",
              "  <thead>\n",
              "    <tr style=\"text-align: right;\">\n",
              "      <th></th>\n",
              "      <th>sepal_length</th>\n",
              "      <th>sepal_width</th>\n",
              "      <th>petal_length</th>\n",
              "      <th>petal_width</th>\n",
              "      <th>species</th>\n",
              "    </tr>\n",
              "  </thead>\n",
              "  <tbody>\n",
              "    <tr>\n",
              "      <th>0</th>\n",
              "      <td>5.1</td>\n",
              "      <td>3.5</td>\n",
              "      <td>1.4</td>\n",
              "      <td>0.2</td>\n",
              "      <td>Iris-setosa</td>\n",
              "    </tr>\n",
              "    <tr>\n",
              "      <th>1</th>\n",
              "      <td>4.9</td>\n",
              "      <td>3.0</td>\n",
              "      <td>1.4</td>\n",
              "      <td>0.2</td>\n",
              "      <td>Iris-setosa</td>\n",
              "    </tr>\n",
              "    <tr>\n",
              "      <th>2</th>\n",
              "      <td>4.7</td>\n",
              "      <td>3.2</td>\n",
              "      <td>1.3</td>\n",
              "      <td>0.2</td>\n",
              "      <td>Iris-setosa</td>\n",
              "    </tr>\n",
              "    <tr>\n",
              "      <th>3</th>\n",
              "      <td>4.6</td>\n",
              "      <td>3.1</td>\n",
              "      <td>1.5</td>\n",
              "      <td>0.2</td>\n",
              "      <td>Iris-setosa</td>\n",
              "    </tr>\n",
              "    <tr>\n",
              "      <th>4</th>\n",
              "      <td>5.0</td>\n",
              "      <td>3.6</td>\n",
              "      <td>1.4</td>\n",
              "      <td>0.2</td>\n",
              "      <td>Iris-setosa</td>\n",
              "    </tr>\n",
              "  </tbody>\n",
              "</table>\n",
              "</div>\n",
              "    <div class=\"colab-df-buttons\">\n",
              "\n",
              "  <div class=\"colab-df-container\">\n",
              "    <button class=\"colab-df-convert\" onclick=\"convertToInteractive('df-783b5a32-ac28-4a25-9e9d-e710f630f1f0')\"\n",
              "            title=\"Convert this dataframe to an interactive table.\"\n",
              "            style=\"display:none;\">\n",
              "\n",
              "  <svg xmlns=\"http://www.w3.org/2000/svg\" height=\"24px\" viewBox=\"0 -960 960 960\">\n",
              "    <path d=\"M120-120v-720h720v720H120Zm60-500h600v-160H180v160Zm220 220h160v-160H400v160Zm0 220h160v-160H400v160ZM180-400h160v-160H180v160Zm440 0h160v-160H620v160ZM180-180h160v-160H180v160Zm440 0h160v-160H620v160Z\"/>\n",
              "  </svg>\n",
              "    </button>\n",
              "\n",
              "  <style>\n",
              "    .colab-df-container {\n",
              "      display:flex;\n",
              "      gap: 12px;\n",
              "    }\n",
              "\n",
              "    .colab-df-convert {\n",
              "      background-color: #E8F0FE;\n",
              "      border: none;\n",
              "      border-radius: 50%;\n",
              "      cursor: pointer;\n",
              "      display: none;\n",
              "      fill: #1967D2;\n",
              "      height: 32px;\n",
              "      padding: 0 0 0 0;\n",
              "      width: 32px;\n",
              "    }\n",
              "\n",
              "    .colab-df-convert:hover {\n",
              "      background-color: #E2EBFA;\n",
              "      box-shadow: 0px 1px 2px rgba(60, 64, 67, 0.3), 0px 1px 3px 1px rgba(60, 64, 67, 0.15);\n",
              "      fill: #174EA6;\n",
              "    }\n",
              "\n",
              "    .colab-df-buttons div {\n",
              "      margin-bottom: 4px;\n",
              "    }\n",
              "\n",
              "    [theme=dark] .colab-df-convert {\n",
              "      background-color: #3B4455;\n",
              "      fill: #D2E3FC;\n",
              "    }\n",
              "\n",
              "    [theme=dark] .colab-df-convert:hover {\n",
              "      background-color: #434B5C;\n",
              "      box-shadow: 0px 1px 3px 1px rgba(0, 0, 0, 0.15);\n",
              "      filter: drop-shadow(0px 1px 2px rgba(0, 0, 0, 0.3));\n",
              "      fill: #FFFFFF;\n",
              "    }\n",
              "  </style>\n",
              "\n",
              "    <script>\n",
              "      const buttonEl =\n",
              "        document.querySelector('#df-783b5a32-ac28-4a25-9e9d-e710f630f1f0 button.colab-df-convert');\n",
              "      buttonEl.style.display =\n",
              "        google.colab.kernel.accessAllowed ? 'block' : 'none';\n",
              "\n",
              "      async function convertToInteractive(key) {\n",
              "        const element = document.querySelector('#df-783b5a32-ac28-4a25-9e9d-e710f630f1f0');\n",
              "        const dataTable =\n",
              "          await google.colab.kernel.invokeFunction('convertToInteractive',\n",
              "                                                    [key], {});\n",
              "        if (!dataTable) return;\n",
              "\n",
              "        const docLinkHtml = 'Like what you see? Visit the ' +\n",
              "          '<a target=\"_blank\" href=https://colab.research.google.com/notebooks/data_table.ipynb>data table notebook</a>'\n",
              "          + ' to learn more about interactive tables.';\n",
              "        element.innerHTML = '';\n",
              "        dataTable['output_type'] = 'display_data';\n",
              "        await google.colab.output.renderOutput(dataTable, element);\n",
              "        const docLink = document.createElement('div');\n",
              "        docLink.innerHTML = docLinkHtml;\n",
              "        element.appendChild(docLink);\n",
              "      }\n",
              "    </script>\n",
              "  </div>\n",
              "\n",
              "\n",
              "<div id=\"df-893c2044-1771-454c-9698-d5ab65eb9fe8\">\n",
              "  <button class=\"colab-df-quickchart\" onclick=\"quickchart('df-893c2044-1771-454c-9698-d5ab65eb9fe8')\"\n",
              "            title=\"Suggest charts\"\n",
              "            style=\"display:none;\">\n",
              "\n",
              "<svg xmlns=\"http://www.w3.org/2000/svg\" height=\"24px\"viewBox=\"0 0 24 24\"\n",
              "     width=\"24px\">\n",
              "    <g>\n",
              "        <path d=\"M19 3H5c-1.1 0-2 .9-2 2v14c0 1.1.9 2 2 2h14c1.1 0 2-.9 2-2V5c0-1.1-.9-2-2-2zM9 17H7v-7h2v7zm4 0h-2V7h2v10zm4 0h-2v-4h2v4z\"/>\n",
              "    </g>\n",
              "</svg>\n",
              "  </button>\n",
              "\n",
              "<style>\n",
              "  .colab-df-quickchart {\n",
              "      --bg-color: #E8F0FE;\n",
              "      --fill-color: #1967D2;\n",
              "      --hover-bg-color: #E2EBFA;\n",
              "      --hover-fill-color: #174EA6;\n",
              "      --disabled-fill-color: #AAA;\n",
              "      --disabled-bg-color: #DDD;\n",
              "  }\n",
              "\n",
              "  [theme=dark] .colab-df-quickchart {\n",
              "      --bg-color: #3B4455;\n",
              "      --fill-color: #D2E3FC;\n",
              "      --hover-bg-color: #434B5C;\n",
              "      --hover-fill-color: #FFFFFF;\n",
              "      --disabled-bg-color: #3B4455;\n",
              "      --disabled-fill-color: #666;\n",
              "  }\n",
              "\n",
              "  .colab-df-quickchart {\n",
              "    background-color: var(--bg-color);\n",
              "    border: none;\n",
              "    border-radius: 50%;\n",
              "    cursor: pointer;\n",
              "    display: none;\n",
              "    fill: var(--fill-color);\n",
              "    height: 32px;\n",
              "    padding: 0;\n",
              "    width: 32px;\n",
              "  }\n",
              "\n",
              "  .colab-df-quickchart:hover {\n",
              "    background-color: var(--hover-bg-color);\n",
              "    box-shadow: 0 1px 2px rgba(60, 64, 67, 0.3), 0 1px 3px 1px rgba(60, 64, 67, 0.15);\n",
              "    fill: var(--button-hover-fill-color);\n",
              "  }\n",
              "\n",
              "  .colab-df-quickchart-complete:disabled,\n",
              "  .colab-df-quickchart-complete:disabled:hover {\n",
              "    background-color: var(--disabled-bg-color);\n",
              "    fill: var(--disabled-fill-color);\n",
              "    box-shadow: none;\n",
              "  }\n",
              "\n",
              "  .colab-df-spinner {\n",
              "    border: 2px solid var(--fill-color);\n",
              "    border-color: transparent;\n",
              "    border-bottom-color: var(--fill-color);\n",
              "    animation:\n",
              "      spin 1s steps(1) infinite;\n",
              "  }\n",
              "\n",
              "  @keyframes spin {\n",
              "    0% {\n",
              "      border-color: transparent;\n",
              "      border-bottom-color: var(--fill-color);\n",
              "      border-left-color: var(--fill-color);\n",
              "    }\n",
              "    20% {\n",
              "      border-color: transparent;\n",
              "      border-left-color: var(--fill-color);\n",
              "      border-top-color: var(--fill-color);\n",
              "    }\n",
              "    30% {\n",
              "      border-color: transparent;\n",
              "      border-left-color: var(--fill-color);\n",
              "      border-top-color: var(--fill-color);\n",
              "      border-right-color: var(--fill-color);\n",
              "    }\n",
              "    40% {\n",
              "      border-color: transparent;\n",
              "      border-right-color: var(--fill-color);\n",
              "      border-top-color: var(--fill-color);\n",
              "    }\n",
              "    60% {\n",
              "      border-color: transparent;\n",
              "      border-right-color: var(--fill-color);\n",
              "    }\n",
              "    80% {\n",
              "      border-color: transparent;\n",
              "      border-right-color: var(--fill-color);\n",
              "      border-bottom-color: var(--fill-color);\n",
              "    }\n",
              "    90% {\n",
              "      border-color: transparent;\n",
              "      border-bottom-color: var(--fill-color);\n",
              "    }\n",
              "  }\n",
              "</style>\n",
              "\n",
              "  <script>\n",
              "    async function quickchart(key) {\n",
              "      const quickchartButtonEl =\n",
              "        document.querySelector('#' + key + ' button');\n",
              "      quickchartButtonEl.disabled = true;  // To prevent multiple clicks.\n",
              "      quickchartButtonEl.classList.add('colab-df-spinner');\n",
              "      try {\n",
              "        const charts = await google.colab.kernel.invokeFunction(\n",
              "            'suggestCharts', [key], {});\n",
              "      } catch (error) {\n",
              "        console.error('Error during call to suggestCharts:', error);\n",
              "      }\n",
              "      quickchartButtonEl.classList.remove('colab-df-spinner');\n",
              "      quickchartButtonEl.classList.add('colab-df-quickchart-complete');\n",
              "    }\n",
              "    (() => {\n",
              "      let quickchartButtonEl =\n",
              "        document.querySelector('#df-893c2044-1771-454c-9698-d5ab65eb9fe8 button');\n",
              "      quickchartButtonEl.style.display =\n",
              "        google.colab.kernel.accessAllowed ? 'block' : 'none';\n",
              "    })();\n",
              "  </script>\n",
              "</div>\n",
              "\n",
              "    </div>\n",
              "  </div>\n"
            ],
            "application/vnd.google.colaboratory.intrinsic+json": {
              "type": "dataframe",
              "variable_name": "df",
              "summary": "{\n  \"name\": \"df\",\n  \"rows\": 150,\n  \"fields\": [\n    {\n      \"column\": \"sepal_length\",\n      \"properties\": {\n        \"dtype\": \"number\",\n        \"std\": 0.828066127977863,\n        \"min\": 4.3,\n        \"max\": 7.9,\n        \"num_unique_values\": 35,\n        \"samples\": [\n          6.2,\n          4.5,\n          5.6\n        ],\n        \"semantic_type\": \"\",\n        \"description\": \"\"\n      }\n    },\n    {\n      \"column\": \"sepal_width\",\n      \"properties\": {\n        \"dtype\": \"number\",\n        \"std\": 0.4335943113621737,\n        \"min\": 2.0,\n        \"max\": 4.4,\n        \"num_unique_values\": 23,\n        \"samples\": [\n          2.3,\n          4.0,\n          3.5\n        ],\n        \"semantic_type\": \"\",\n        \"description\": \"\"\n      }\n    },\n    {\n      \"column\": \"petal_length\",\n      \"properties\": {\n        \"dtype\": \"number\",\n        \"std\": 1.7644204199522626,\n        \"min\": 1.0,\n        \"max\": 6.9,\n        \"num_unique_values\": 43,\n        \"samples\": [\n          6.7,\n          3.8,\n          3.7\n        ],\n        \"semantic_type\": \"\",\n        \"description\": \"\"\n      }\n    },\n    {\n      \"column\": \"petal_width\",\n      \"properties\": {\n        \"dtype\": \"number\",\n        \"std\": 0.7631607417008411,\n        \"min\": 0.1,\n        \"max\": 2.5,\n        \"num_unique_values\": 22,\n        \"samples\": [\n          0.2,\n          1.2,\n          1.3\n        ],\n        \"semantic_type\": \"\",\n        \"description\": \"\"\n      }\n    },\n    {\n      \"column\": \"species\",\n      \"properties\": {\n        \"dtype\": \"category\",\n        \"num_unique_values\": 3,\n        \"samples\": [\n          \"Iris-setosa\",\n          \"Iris-versicolor\",\n          \"Iris-virginica\"\n        ],\n        \"semantic_type\": \"\",\n        \"description\": \"\"\n      }\n    }\n  ]\n}"
            }
          },
          "metadata": {},
          "execution_count": 13
        }
      ]
    },
    {
      "cell_type": "markdown",
      "source": [
        "calculate statistics like mean, median, variance, and standard deviation for the sepal_length"
      ],
      "metadata": {
        "id": "s_8ZeLLfYS2P"
      }
    },
    {
      "cell_type": "code",
      "source": [
        "# Select a specific column (e.g., 'sepal_length')\n",
        "sepal_length = df['sepal_length']\n",
        "\n",
        "# Calculate mean\n",
        "mean_sepal_length = stats.tmean(sepal_length)\n",
        "print(f\"Mean of Sepal Length: {mean_sepal_length}\")\n",
        "\n",
        "# Calculate median\n",
        "median_sepal_length = stats.scoreatpercentile(sepal_length, 50)\n",
        "print(f\"Median of Sepal Length: {median_sepal_length}\")\n",
        "\n",
        "# Calculate variance\n",
        "variance_sepal_length = stats.tvar(sepal_length)\n",
        "print(f\"Variance of Sepal Length: {variance_sepal_length}\")\n",
        "\n",
        "# Calculate standard deviation\n",
        "std_dev_sepal_length = stats.tstd(sepal_length)\n",
        "print(f\"Standard Deviation of Sepal Length: {std_dev_sepal_length}\")\n"
      ],
      "metadata": {
        "colab": {
          "base_uri": "https://localhost:8080/"
        },
        "id": "1FPKFbfAYOaI",
        "outputId": "82589404-6dd7-4e99-fcc6-459bbb77ae22"
      },
      "execution_count": 14,
      "outputs": [
        {
          "output_type": "stream",
          "name": "stdout",
          "text": [
            "Mean of Sepal Length: 5.843333333333334\n",
            "Median of Sepal Length: 5.8\n",
            "Variance of Sepal Length: 0.6856935123042507\n",
            "Standard Deviation of Sepal Length: 0.828066127977863\n"
          ]
        }
      ]
    },
    {
      "cell_type": "markdown",
      "source": [
        "🌟 Exercise 6 : Advanced Statistical Functions\n",
        "Instructions\n",
        "Task: Explore one advanced statistical function in SciPy and demonstrate its use with an example.\n",
        "\n",
        "Sample Task: Calculate kurtosis and skewness of a dataset.\n",
        "\n",
        "Code Example:\n",
        "\n",
        "data = np.random.normal(0, 1, 1000)\n",
        "\n"
      ],
      "metadata": {
        "id": "cE2hnGCzYgzJ"
      }
    },
    {
      "cell_type": "code",
      "source": [
        "data = np.random.normal(0, 1, 1000)\n",
        "\n",
        "# Calculate kurtosis\n",
        "kurtosis_value = stats.kurtosis(data)\n",
        "print(f\"Kurtosis: {kurtosis_value}\")\n",
        "\n",
        "# Calculate skewness\n",
        "skewness_value = stats.skew(data)\n",
        "print(f\"Skewness: {skewness_value}\")"
      ],
      "metadata": {
        "colab": {
          "base_uri": "https://localhost:8080/"
        },
        "id": "9q-itIsJZfZR",
        "outputId": "8957ad0e-8746-42e3-b4ad-ee2dee33cd8a"
      },
      "execution_count": 15,
      "outputs": [
        {
          "output_type": "stream",
          "name": "stdout",
          "text": [
            "Kurtosis: 0.1579706095853135\n",
            "Skewness: 0.17815746456294934\n"
          ]
        }
      ]
    }
  ]
}