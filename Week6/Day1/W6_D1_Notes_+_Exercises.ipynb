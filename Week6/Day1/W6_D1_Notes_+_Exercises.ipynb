{
  "nbformat": 4,
  "nbformat_minor": 0,
  "metadata": {
    "colab": {
      "provenance": []
    },
    "kernelspec": {
      "name": "python3",
      "display_name": "Python 3"
    },
    "language_info": {
      "name": "python"
    }
  },
  "cells": [
    {
      "cell_type": "markdown",
      "source": [
        "#CLASS NOTES"
      ],
      "metadata": {
        "id": "Wfr1eLNA3hmz"
      }
    },
    {
      "cell_type": "code",
      "execution_count": 4,
      "metadata": {
        "colab": {
          "base_uri": "https://localhost:8080/",
          "height": 0
        },
        "id": "o-xT7r5buaw8",
        "outputId": "920e2d2c-05a0-46db-b820-bf8ea3348c91"
      },
      "outputs": [
        {
          "output_type": "stream",
          "name": "stdout",
          "text": [
            "[1 2 3 4]\n",
            "[[1 2]\n",
            " [3 4]]\n",
            "[[[1 2]\n",
            "  [3 4]]\n",
            "\n",
            " [[5 6]\n",
            "  [7 8]]]\n"
          ]
        }
      ],
      "source": [
        "import numpy as np\n",
        "\n",
        "# 1D Array (a simple list of numbers)\n",
        "array_1d = np.array([1, 2, 3, 4])\n",
        "\n",
        "# 2D Array (a matrix, think of it as rows and columns)\n",
        "array_2d = np.array([[1, 2], [3, 4]])\n",
        "\n",
        "# 3D Array (a cube of data, often used for image processing)\n",
        "array_3d = np.array([[[1, 2], [3, 4]], [[5, 6], [7, 8]]])\n",
        "\n",
        "print(array_1d)\n",
        "print(array_2d)\n",
        "print(array_3d)\n"
      ]
    },
    {
      "cell_type": "markdown",
      "source": [
        "Exercise from the class"
      ],
      "metadata": {
        "id": "-7VV86E798gd"
      }
    },
    {
      "cell_type": "code",
      "source": [
        "arr1 = np.arange(1, dtype=float)\n",
        "arr1\n"
      ],
      "metadata": {
        "colab": {
          "base_uri": "https://localhost:8080/",
          "height": 0
        },
        "id": "NqH3AEyR9752",
        "outputId": "9d822557-90d4-48c0-8808-701d9adf6205"
      },
      "execution_count": 16,
      "outputs": [
        {
          "output_type": "execute_result",
          "data": {
            "text/plain": [
              "array([0.])"
            ]
          },
          "metadata": {},
          "execution_count": 16
        }
      ]
    },
    {
      "cell_type": "code",
      "source": [
        "arr2 = np.arange(1,7)\n",
        "arr2.reshape(2,3)"
      ],
      "metadata": {
        "colab": {
          "base_uri": "https://localhost:8080/",
          "height": 0
        },
        "id": "_b9C8PsPBVh7",
        "outputId": "1fad95fb-b26a-4100-d3b9-202a1ba8491e"
      },
      "execution_count": 7,
      "outputs": [
        {
          "output_type": "execute_result",
          "data": {
            "text/plain": [
              "array([[1, 2, 3],\n",
              "       [4, 5, 6]])"
            ]
          },
          "metadata": {},
          "execution_count": 7
        }
      ]
    },
    {
      "cell_type": "code",
      "source": [
        "arr1.shape\n",
        "arr1.size\n",
        "arr1.dtype"
      ],
      "metadata": {
        "colab": {
          "base_uri": "https://localhost:8080/",
          "height": 0
        },
        "id": "aNqFLQHqBheo",
        "outputId": "98a97ecb-7107-4aaa-b65b-87dcfd6ace59"
      },
      "execution_count": 14,
      "outputs": [
        {
          "output_type": "execute_result",
          "data": {
            "text/plain": [
              "dtype('int64')"
            ]
          },
          "metadata": {},
          "execution_count": 14
        }
      ]
    },
    {
      "cell_type": "code",
      "source": [
        "temps = np.linspace (20, 30, 10)\n",
        "temps"
      ],
      "metadata": {
        "colab": {
          "base_uri": "https://localhost:8080/",
          "height": 0
        },
        "id": "MMnGvOSqCz7z",
        "outputId": "3b95585a-8d79-4619-d7ef-b617ca67da3d"
      },
      "execution_count": 20,
      "outputs": [
        {
          "output_type": "execute_result",
          "data": {
            "text/plain": [
              "array([20.        , 21.11111111, 22.22222222, 23.33333333, 24.44444444,\n",
              "       25.55555556, 26.66666667, 27.77777778, 28.88888889, 30.        ])"
            ]
          },
          "metadata": {},
          "execution_count": 20
        }
      ]
    },
    {
      "cell_type": "code",
      "source": [
        "temps2 = np.random.randint(20,30,15)\n",
        "temps2\n"
      ],
      "metadata": {
        "colab": {
          "base_uri": "https://localhost:8080/",
          "height": 0
        },
        "id": "jb_BeRhFDKJl",
        "outputId": "1ba619e6-53dc-4f62-ad5b-368c6aa55558"
      },
      "execution_count": 19,
      "outputs": [
        {
          "output_type": "execute_result",
          "data": {
            "text/plain": [
              "array([29, 29, 25, 27, 22, 20, 29, 26, 25, 26, 29, 23, 22, 29, 22])"
            ]
          },
          "metadata": {},
          "execution_count": 19
        }
      ]
    },
    {
      "cell_type": "code",
      "source": [
        "temps3 = np.random.rand(2,5)\n",
        "temps3\n",
        "#values between 0-1"
      ],
      "metadata": {
        "colab": {
          "base_uri": "https://localhost:8080/",
          "height": 0
        },
        "id": "VxKKbl3fDzfu",
        "outputId": "903b27ee-6ccf-473d-e3bf-baf7e349ac14"
      },
      "execution_count": 22,
      "outputs": [
        {
          "output_type": "execute_result",
          "data": {
            "text/plain": [
              "array([[0.26407103, 0.77849941, 0.30345838, 0.29022466, 0.74175581],\n",
              "       [0.02913105, 0.03774536, 0.84663426, 0.80506753, 0.78153322]])"
            ]
          },
          "metadata": {},
          "execution_count": 22
        }
      ]
    },
    {
      "cell_type": "code",
      "source": [
        "temps4 = np.array([np.random.randint(1,10,5), np.random.randint(1,10,5)])\n",
        "temps4"
      ],
      "metadata": {
        "colab": {
          "base_uri": "https://localhost:8080/",
          "height": 0
        },
        "id": "hIEqJDdAF5KX",
        "outputId": "434a5b8d-0cfa-4ef3-9b0e-680601a3773c"
      },
      "execution_count": 25,
      "outputs": [
        {
          "output_type": "execute_result",
          "data": {
            "text/plain": [
              "array([[9, 4, 4, 3, 6],\n",
              "       [6, 5, 4, 1, 8]])"
            ]
          },
          "metadata": {},
          "execution_count": 25
        }
      ]
    },
    {
      "cell_type": "code",
      "source": [
        "pixels = np.random.randint(0,256, size=(3,3,3))\n",
        "pixels"
      ],
      "metadata": {
        "colab": {
          "base_uri": "https://localhost:8080/",
          "height": 0
        },
        "id": "XIa-bKaIG8g4",
        "outputId": "7ca6c255-f960-4eee-dbb0-1a233a0a63d4"
      },
      "execution_count": 30,
      "outputs": [
        {
          "output_type": "execute_result",
          "data": {
            "text/plain": [
              "array([[[115,   9, 235],\n",
              "        [114, 187, 225],\n",
              "        [ 51,  73, 210]],\n",
              "\n",
              "       [[ 47,  59,  34],\n",
              "        [196, 222,  40],\n",
              "        [ 48,  79, 238]],\n",
              "\n",
              "       [[123,  88, 233],\n",
              "        [118, 100, 221],\n",
              "        [ 14, 110,   0]]])"
            ]
          },
          "metadata": {},
          "execution_count": 30
        }
      ]
    },
    {
      "cell_type": "code",
      "source": [
        "import matplotlib.pyplot as plt\n",
        "plt.imshow(pixels)\n",
        "plt.show"
      ],
      "metadata": {
        "colab": {
          "base_uri": "https://localhost:8080/",
          "height": 605
        },
        "id": "LajwNL9iHBo5",
        "outputId": "bcfb1af8-54d8-4605-8bba-f871d37929c4"
      },
      "execution_count": 33,
      "outputs": [
        {
          "output_type": "execute_result",
          "data": {
            "text/plain": [
              "<function matplotlib.pyplot.show(close=None, block=None)>"
            ],
            "text/html": [
              "<div style=\"max-width:800px; border: 1px solid var(--colab-border-color);\"><style>\n",
              "      pre.function-repr-contents {\n",
              "        overflow-x: auto;\n",
              "        padding: 8px 12px;\n",
              "        max-height: 500px;\n",
              "      }\n",
              "\n",
              "      pre.function-repr-contents.function-repr-contents-collapsed {\n",
              "        cursor: pointer;\n",
              "        max-height: 100px;\n",
              "      }\n",
              "    </style>\n",
              "    <pre style=\"white-space: initial; background:\n",
              "         var(--colab-secondary-surface-color); padding: 8px 12px;\n",
              "         border-bottom: 1px solid var(--colab-border-color);\"><b>matplotlib.pyplot.show</b><br/>def show(*args, **kwargs)</pre><pre class=\"function-repr-contents function-repr-contents-collapsed\" style=\"\"><a class=\"filepath\" style=\"display:none\" href=\"#\">/usr/local/lib/python3.10/dist-packages/matplotlib/pyplot.py</a>Display all open figures.\n",
              "\n",
              "Parameters\n",
              "----------\n",
              "block : bool, optional\n",
              "    Whether to wait for all figures to be closed before returning.\n",
              "\n",
              "    If `True` block and run the GUI main loop until all figure windows\n",
              "    are closed.\n",
              "\n",
              "    If `False` ensure that all figure windows are displayed and return\n",
              "    immediately.  In this case, you are responsible for ensuring\n",
              "    that the event loop is running to have responsive figures.\n",
              "\n",
              "    Defaults to True in non-interactive mode and to False in interactive\n",
              "    mode (see `.pyplot.isinteractive`).\n",
              "\n",
              "See Also\n",
              "--------\n",
              "ion : Enable interactive mode, which shows / updates the figure after\n",
              "      every plotting command, so that calling ``show()`` is not necessary.\n",
              "ioff : Disable interactive mode.\n",
              "savefig : Save the figure to an image file instead of showing it on screen.\n",
              "\n",
              "Notes\n",
              "-----\n",
              "**Saving figures to file and showing a window at the same time**\n",
              "\n",
              "If you want an image file as well as a user interface window, use\n",
              "`.pyplot.savefig` before `.pyplot.show`. At the end of (a blocking)\n",
              "``show()`` the figure is closed and thus unregistered from pyplot. Calling\n",
              "`.pyplot.savefig` afterwards would save a new and thus empty figure. This\n",
              "limitation of command order does not apply if the show is non-blocking or\n",
              "if you keep a reference to the figure and use `.Figure.savefig`.\n",
              "\n",
              "**Auto-show in jupyter notebooks**\n",
              "\n",
              "The jupyter backends (activated via ``%matplotlib inline``,\n",
              "``%matplotlib notebook``, or ``%matplotlib widget``), call ``show()`` at\n",
              "the end of every cell by default. Thus, you usually don&#x27;t have to call it\n",
              "explicitly there.</pre>\n",
              "      <script>\n",
              "      if (google.colab.kernel.accessAllowed && google.colab.files && google.colab.files.view) {\n",
              "        for (const element of document.querySelectorAll('.filepath')) {\n",
              "          element.style.display = 'block'\n",
              "          element.onclick = (event) => {\n",
              "            event.preventDefault();\n",
              "            event.stopPropagation();\n",
              "            google.colab.files.view(element.textContent, 401);\n",
              "          };\n",
              "        }\n",
              "      }\n",
              "      for (const element of document.querySelectorAll('.function-repr-contents')) {\n",
              "        element.onclick = (event) => {\n",
              "          event.preventDefault();\n",
              "          event.stopPropagation();\n",
              "          element.classList.toggle('function-repr-contents-collapsed');\n",
              "        };\n",
              "      }\n",
              "      </script>\n",
              "      </div>"
            ]
          },
          "metadata": {},
          "execution_count": 33
        },
        {
          "output_type": "display_data",
          "data": {
            "text/plain": [
              "<Figure size 640x480 with 1 Axes>"
            ],
            "image/png": "[encoded data removed]"
          },
          "metadata": {}
        }
      ]
    },
    {
      "cell_type": "code",
      "source": [
        "import numpy as np\n",
        "\n",
        "# Creating a sample array\n",
        "array = np.array([[1, 2, 3], [4, 5, 6]])\n",
        "\n",
        "# Sum of all elements (without axis)\n",
        "print(\"Sum (entire array):\", np.sum(array))\n",
        "\n",
        "# Sum along columns (axis=0)\n",
        "print(\"Sum (axis=0, column-wise):\", np.sum(array, axis=0))\n",
        "\n",
        "# Sum along rows (axis=1)\n",
        "print(\"Sum (axis=1, row-wise):\", np.sum(array, axis=1))\n",
        "\n",
        "# Mean of the array\n",
        "print(\"Mean (entire array):\", np.mean(array))\n",
        "\n",
        "# Minimum and Maximum values\n",
        "print(\"Min:\", np.min(array), \"Max:\", np.max(array))\n"
      ],
      "metadata": {
        "colab": {
          "base_uri": "https://localhost:8080/",
          "height": 0
        },
        "id": "mGdzfeKoXnen",
        "outputId": "fd0a9a2c-c043-4752-91d5-824bafd103f1"
      },
      "execution_count": 34,
      "outputs": [
        {
          "output_type": "stream",
          "name": "stdout",
          "text": [
            "Sum (entire array): 21\n",
            "Sum (axis=0, column-wise): [5 7 9]\n",
            "Sum (axis=1, row-wise): [ 6 15]\n",
            "Mean (entire array): 3.5\n",
            "Min: 1 Max: 6\n"
          ]
        }
      ]
    },
    {
      "cell_type": "code",
      "source": [
        "import matplotlib.pyplot as plt\n",
        "import seaborn as sns\n",
        "\n",
        "# Random 10x10 matrix\n",
        "matrix = np.random.rand(10, 10)\n",
        "\n",
        "# Reshaping matrix for a different visual representation (optional)\n",
        "reshaped_matrix = matrix.reshape(5, 20)\n",
        "\n",
        "# Creating a heatmap of the reshaped matrix\n",
        "sns.heatmap(reshaped_matrix, cmap=\"coolwarm\")\n",
        "plt.show()\n"
      ],
      "metadata": {
        "colab": {
          "base_uri": "https://localhost:8080/",
          "height": 430
        },
        "id": "P4vKNUdmYW7y",
        "outputId": "e276a807-51e2-430f-a688-04533260afa6"
      },
      "execution_count": 37,
      "outputs": [
        {
          "output_type": "display_data",
          "data": {
            "text/plain": [
              "<Figure size 640x480 with 2 Axes>"
            ],
            "image/png": "[encoded data removed]"
          },
          "metadata": {}
        }
      ]
    },
    {
      "cell_type": "code",
      "source": [
        "A = np.array([[1, 2], [3, 4]])\n",
        "B = np.array([5, 6])\n",
        "\n",
        "# Transposing B to align shapes for matrix multiplication\n",
        "product = A.dot(B.T)  # B.T is the same as B.transpose()\n",
        "\n",
        "print(product)\n"
      ],
      "metadata": {
        "colab": {
          "base_uri": "https://localhost:8080/",
          "height": 0
        },
        "id": "sKpSqA3Y0--q",
        "outputId": "c853806c-26f1-4ff0-c1c5-b45d452e85b1"
      },
      "execution_count": 38,
      "outputs": [
        {
          "output_type": "stream",
          "name": "stdout",
          "text": [
            "[17 39]\n"
          ]
        }
      ]
    },
    {
      "cell_type": "code",
      "source": [
        "time_series_data = np.random.rand(28)\n",
        "time_series_data\n"
      ],
      "metadata": {
        "colab": {
          "base_uri": "https://localhost:8080/",
          "height": 0
        },
        "id": "rqz3PD4K2Zfv",
        "outputId": "39bef6e1-ac1d-41c3-f5ec-a64eb93af4a2"
      },
      "execution_count": 40,
      "outputs": [
        {
          "output_type": "execute_result",
          "data": {
            "text/plain": [
              "array([0.31947078, 0.0783805 , 0.02342773, 0.10726639, 0.15051958,\n",
              "       0.15489697, 0.11403369, 0.80499617, 0.35254091, 0.06943719,\n",
              "       0.8707093 , 0.89279314, 0.12806703, 0.09905215, 0.7616916 ,\n",
              "       0.55322966, 0.41725826, 0.79074308, 0.29670387, 0.53420277,\n",
              "       0.57399056, 0.51754552, 0.99053132, 0.09436882, 0.39718263,\n",
              "       0.54641335, 0.96957551, 0.31411569])"
            ]
          },
          "metadata": {},
          "execution_count": 40
        }
      ]
    },
    {
      "cell_type": "markdown",
      "source": [
        "#EXERCISES\n"
      ],
      "metadata": {
        "id": "vQxAK_0f3k_h"
      }
    },
    {
      "cell_type": "markdown",
      "source": [
        "Create a 1D NumPy array containing numbers from 0 to 9."
      ],
      "metadata": {
        "id": "wVlIRU0R4HCO"
      }
    },
    {
      "cell_type": "code",
      "source": [
        "array_1d = np.arange(10) #generates values from 0 up to (but not including) the given number\n",
        "array_1d\n"
      ],
      "metadata": {
        "colab": {
          "base_uri": "https://localhost:8080/",
          "height": 0
        },
        "id": "y6x-gDn03pHn",
        "outputId": "03e403c8-cd34-46d4-d7c5-597ff1384647"
      },
      "execution_count": 44,
      "outputs": [
        {
          "output_type": "execute_result",
          "data": {
            "text/plain": [
              "array([0, 1, 2, 3, 4, 5, 6, 7, 8, 9])"
            ]
          },
          "metadata": {},
          "execution_count": 44
        }
      ]
    },
    {
      "cell_type": "markdown",
      "source": [
        "Convert a list [3.14, 2.17, 0, 1, 2] into a NumPy array and convert its data type to integer."
      ],
      "metadata": {
        "id": "QBkWghh64OxC"
      }
    },
    {
      "cell_type": "code",
      "source": [
        "my_list = [3.14, 2.17, 0, 1, 2]  # This is a Python list of floating-point numbers\n",
        "array_float = np.array(my_list)  # Convert the list to a NumPy array of floats\n",
        "array_int = array_float.astype(int)  # Convert the float array to an integer array\n",
        "array_int\n",
        "\n",
        "# the fractional part is discarded, and the number is truncated (e.g., 3.14 becomes 3"
      ],
      "metadata": {
        "colab": {
          "base_uri": "https://localhost:8080/",
          "height": 0
        },
        "id": "utcKIRgG4awR",
        "outputId": "dd09a090-4df0-4552-d646-9a006324c10d"
      },
      "execution_count": 43,
      "outputs": [
        {
          "output_type": "execute_result",
          "data": {
            "text/plain": [
              "array([3, 2, 0, 1, 2])"
            ]
          },
          "metadata": {},
          "execution_count": 43
        }
      ]
    },
    {
      "cell_type": "markdown",
      "source": [
        "Create a 3x3 NumPy array with values ranging from 1 to 9."
      ],
      "metadata": {
        "id": "P9qPw7jB5U8H"
      }
    },
    {
      "cell_type": "code",
      "source": [
        "# Create a 1D array with values from 1 to 9\n",
        "array_1d = np.arange(1, 10)  # np.arange(start, stop) creates numbers from 1 to 9 (stop is exclusive)\n",
        "\n",
        "#Reshape\n",
        "array_2d = array_1d.reshape(3, 3)  # Reshape the 1D array into a 3x3 2D array\n",
        "\n",
        "array_2d"
      ],
      "metadata": {
        "colab": {
          "base_uri": "https://localhost:8080/",
          "height": 0
        },
        "id": "JU5BfEtl5VSq",
        "outputId": "38f6c6ad-e88b-42ee-9dcc-12b028f692e9"
      },
      "execution_count": 45,
      "outputs": [
        {
          "output_type": "execute_result",
          "data": {
            "text/plain": [
              "array([[1, 2, 3],\n",
              "       [4, 5, 6],\n",
              "       [7, 8, 9]])"
            ]
          },
          "metadata": {},
          "execution_count": 45
        }
      ]
    },
    {
      "cell_type": "markdown",
      "source": [
        "Create a 2D NumPy array of shape (4, 5) filled with random numbers.\n"
      ],
      "metadata": {
        "id": "7AdNA66476iz"
      }
    },
    {
      "cell_type": "code",
      "source": [
        "random_array_2d = np.random.rand(4,5) # generates random floats between 0 and 1 #randint would generate integers\n",
        "random_array_2d"
      ],
      "metadata": {
        "colab": {
          "base_uri": "https://localhost:8080/",
          "height": 0
        },
        "id": "eJgYm2uK8PZU",
        "outputId": "68737d5a-1d64-47b0-b9bc-6e147bda9e8c"
      },
      "execution_count": 46,
      "outputs": [
        {
          "output_type": "execute_result",
          "data": {
            "text/plain": [
              "array([[0.78190956, 0.33538075, 0.71820377, 0.23372601, 0.13034487],\n",
              "       [0.94355707, 0.50179701, 0.84672038, 0.23314491, 0.56795264],\n",
              "       [0.71926734, 0.34565551, 0.49871926, 0.69187606, 0.95363726],\n",
              "       [0.55344442, 0.85611193, 0.18587554, 0.58383246, 0.88969647]])"
            ]
          },
          "metadata": {},
          "execution_count": 46
        }
      ]
    },
    {
      "cell_type": "markdown",
      "source": [
        "Select the second row from a given 2D NumPy array."
      ],
      "metadata": {
        "id": "y7gmsfM9_0L-"
      }
    },
    {
      "cell_type": "code",
      "source": [
        "# Step 2: Create a 2D array as an example\n",
        "array_2d = np.array([[10, 11, 12, 13, 14],\n",
        "                     [20, 21, 22, 23, 24],  # This is the second row we need to select\n",
        "                     [30, 31, 32, 33, 34]])\n",
        "\n",
        "second_row = array_2d[1]\n",
        "second_row\n"
      ],
      "metadata": {
        "colab": {
          "base_uri": "https://localhost:8080/",
          "height": 0
        },
        "id": "PFXRifrfCVjA",
        "outputId": "f4b407e5-1850-4d75-9fed-6e9b2c14b045"
      },
      "execution_count": 47,
      "outputs": [
        {
          "output_type": "execute_result",
          "data": {
            "text/plain": [
              "array([20, 21, 22, 23, 24])"
            ]
          },
          "metadata": {},
          "execution_count": 47
        }
      ]
    },
    {
      "cell_type": "markdown",
      "source": [
        "Reverse the order of elements in a given 1D NumPy array (first element becomes last)."
      ],
      "metadata": {
        "id": "nWEGzMocC1Iq"
      }
    },
    {
      "cell_type": "markdown",
      "source": [
        "Me: In this task, we will reverse the elements of a 1D array. NumPy makes it easy to reverse arrays using slicing.\n",
        "\n",
        "Slicing: Slicing in Python (and NumPy) allows you to access and manipulate subsets of an array.\n",
        "\n",
        "We can specify how to step through the array using a slicing syntax: start:stop:step. If the step is -1, it means we are stepping backwards, which reverses the array."
      ],
      "metadata": {
        "id": "5YDU2L_1DCcd"
      }
    },
    {
      "cell_type": "code",
      "source": [
        "array_1d = np.arange(10)  # This generates the array [0, 1, 2, ..., 9]\n",
        "reversed_array = array_1d[::-1]  #\"take the whole array, but in reverse order\"\n",
        "reversed_array"
      ],
      "metadata": {
        "colab": {
          "base_uri": "https://localhost:8080/",
          "height": 0
        },
        "id": "JZO8ISTxC1rw",
        "outputId": "cf3929a3-aa73-40d2-b1d9-b3e061e8dd22"
      },
      "execution_count": 48,
      "outputs": [
        {
          "output_type": "execute_result",
          "data": {
            "text/plain": [
              "array([9, 8, 7, 6, 5, 4, 3, 2, 1, 0])"
            ]
          },
          "metadata": {},
          "execution_count": 48
        }
      ]
    },
    {
      "cell_type": "markdown",
      "source": [
        "Create a 4x4 identity matrix using NumPy."
      ],
      "metadata": {
        "id": "xLbrGSaDDfXS"
      }
    },
    {
      "cell_type": "markdown",
      "source": [
        "An identity matrix is a special kind of square matrix where all the diagonal elements are 1 and all other elements are 0. It’s widely used in linear algebra, especially when dealing with matrix multiplication, because multiplying any matrix by an identity matrix leaves the original matrix unchanged."
      ],
      "metadata": {
        "id": "J0ckVnnVDxel"
      }
    },
    {
      "cell_type": "markdown",
      "source": [
        "In NumPy, you can easily create an identity matrix using the function np.eye(). The eye function stands for “identity”, and it creates a 2D square matrix with ones on the diagonal and zeros elsewhere.\n",
        "\n",
        "The identity matrix is like the “number 1” for matrices."
      ],
      "metadata": {
        "id": "0YPGg_DsDyat"
      }
    },
    {
      "cell_type": "code",
      "source": [
        "identity_matrix = np.eye(4) #creates an n x n identity matrix\n",
        "identity_matrix"
      ],
      "metadata": {
        "colab": {
          "base_uri": "https://localhost:8080/",
          "height": 0
        },
        "id": "VFaDFCgpEHC4",
        "outputId": "368cd024-4241-470e-b8a4-191ecc600c16"
      },
      "execution_count": 49,
      "outputs": [
        {
          "output_type": "execute_result",
          "data": {
            "text/plain": [
              "array([[1., 0., 0., 0.],\n",
              "       [0., 1., 0., 0.],\n",
              "       [0., 0., 1., 0.],\n",
              "       [0., 0., 0., 1.]])"
            ]
          },
          "metadata": {},
          "execution_count": 49
        }
      ]
    },
    {
      "cell_type": "markdown",
      "source": [
        "Find the sum and average of a given 1D array.\n",
        "\n",
        "Expected Output:\n",
        "\n",
        "\n",
        "\n",
        "Sum: 45, Average: 4.5"
      ],
      "metadata": {
        "id": "NY8bTDmTFS7j"
      }
    },
    {
      "cell_type": "code",
      "source": [
        "array_1d = np.arange(10)\n",
        "array_sum = np.sum(array_1d)\n",
        "\n",
        "array_average = np.mean(array_1d)\n",
        "\n",
        "print(\"Sum:\", array_sum)\n",
        "print(\"Average:\", array_average)"
      ],
      "metadata": {
        "colab": {
          "base_uri": "https://localhost:8080/",
          "height": 0
        },
        "id": "pzKMMQw1FT2d",
        "outputId": "d0e12bb2-5ff2-4e1a-a2d5-5d1884c3d4f0"
      },
      "execution_count": 51,
      "outputs": [
        {
          "output_type": "stream",
          "name": "stdout",
          "text": [
            "Sum: 45\n",
            "Average: 4.5\n"
          ]
        }
      ]
    },
    {
      "cell_type": "markdown",
      "source": [
        "Create a NumPy array with elements from 1 to 20; then reshape it into a 4x5 matrix."
      ],
      "metadata": {
        "id": "602-PJL4NNBH"
      }
    },
    {
      "cell_type": "code",
      "source": [
        "array_1d = np.arange(1, 21)\n",
        "array_2d = array_1d.reshape((4, 5))\n",
        "array_2d"
      ],
      "metadata": {
        "colab": {
          "base_uri": "https://localhost:8080/",
          "height": 0
        },
        "id": "UKuCl9NNNNvb",
        "outputId": "f8e420b1-17f9-4a7f-956d-a633655da75e"
      },
      "execution_count": 52,
      "outputs": [
        {
          "output_type": "execute_result",
          "data": {
            "text/plain": [
              "array([[ 1,  2,  3,  4,  5],\n",
              "       [ 6,  7,  8,  9, 10],\n",
              "       [11, 12, 13, 14, 15],\n",
              "       [16, 17, 18, 19, 20]])"
            ]
          },
          "metadata": {},
          "execution_count": 52
        }
      ]
    },
    {
      "cell_type": "markdown",
      "source": [
        "Extract all odd numbers from a given NumPy array.\n",
        "\n",
        "Expected Output:\n",
        "python\n",
        "Copy code\n",
        "array([1, 3, 5, 7, 9])"
      ],
      "metadata": {
        "id": "tYEqQXzLNk8O"
      }
    },
    {
      "cell_type": "code",
      "source": [
        "array_1d = np.arange(10)\n",
        "odd_numbers = array_1d[array_1d % 2 == 1]\n",
        "odd_numbers"
      ],
      "metadata": {
        "colab": {
          "base_uri": "https://localhost:8080/",
          "height": 0
        },
        "id": "k4wmzlgzNpyL",
        "outputId": "2721e472-4dde-4eed-f83e-c3165dc4bd1c"
      },
      "execution_count": 55,
      "outputs": [
        {
          "output_type": "execute_result",
          "data": {
            "text/plain": [
              "array([1, 3, 5, 7, 9])"
            ]
          },
          "metadata": {},
          "execution_count": 55
        }
      ]
    }
  ]
}