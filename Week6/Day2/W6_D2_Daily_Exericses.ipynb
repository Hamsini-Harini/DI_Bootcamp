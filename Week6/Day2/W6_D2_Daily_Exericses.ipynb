{
  "nbformat": 4,
  "nbformat_minor": 0,
  "metadata": {
    "colab": {
      "provenance": []
    },
    "kernelspec": {
      "name": "python3",
      "display_name": "Python 3"
    },
    "language_info": {
      "name": "python"
    }
  },
  "cells": [
    {
      "cell_type": "markdown",
      "source": [
        "🌟 Exercise 1 : Matrix Operations\n",
        "Instructions\n",
        "In this exercise, you’ll work with a 3x3 matrix. Here’s a brief explanation of the concepts:\n",
        "\n",
        "Determinant: The determinant is a value that can be computed from the elements of a square matrix. It provides important information about the matrix, such as whether it has an inverse, and is used in various areas like linear algebra and calculus. To understand more about it you can watch this video.\n",
        "Inverse of a Matrix: The inverse of a matrix is a matrix that, when multiplied with the original matrix, results in an identity matrix. Not all matrices have inverses. The inverse is crucial in solving systems of linear equations.\n",
        "Create a 3x3 matrix and perform the following operations:\n",
        "\n",
        "Calculate the determinant.\n",
        "Find the inverse of the matrix.\n"
      ],
      "metadata": {
        "id": "e6qZQMZw58C9"
      }
    },
    {
      "cell_type": "code",
      "execution_count": null,
      "metadata": {
        "colab": {
          "base_uri": "https://localhost:8080/"
        },
        "id": "c1glQubvzYX6",
        "outputId": "935c0eef-a73c-4fb8-ce04-6a636b045bf4"
      },
      "outputs": [
        {
          "output_type": "stream",
          "name": "stdout",
          "text": [
            "Matrix:\n",
            " [[4 7 2]\n",
            " [3 6 1]\n",
            " [2 5 3]]\n",
            "Determinant of the matrix: 8.999999999999998\n",
            "Inverse of the matrix:\n",
            " [[ 1.44444444 -1.22222222 -0.55555556]\n",
            " [-0.77777778  0.88888889  0.22222222]\n",
            " [ 0.33333333 -0.66666667  0.33333333]]\n"
          ]
        }
      ],
      "source": [
        "import numpy as np\n",
        "\n",
        "# Step 1: Create a 3x3 matrix\n",
        "matrix = np.array([[4, 7, 2],\n",
        "                   [3, 6, 1],\n",
        "                   [2, 5, 3]])\n",
        "\n",
        "print(\"Matrix:\\n\", matrix)\n",
        "\n",
        "# Step 2: Calculate the determinant of the matrix ' Determinant: Helps determine if a matrix can be inverted.\n",
        "determinant = np.linalg.det(matrix)\n",
        "print(\"Determinant of the matrix:\", determinant)\n",
        "\n",
        "# Step 3: Find the inverse of the matrix (if determinant is non-zero)\n",
        "if determinant != 0:\n",
        "    inverse_matrix = np.linalg.inv(matrix)\n",
        "    print(\"Inverse of the matrix:\\n\", inverse_matrix)\n",
        "else:\n",
        "    print(\"This matrix does not have an inverse because its determinant is 0.\")\n"
      ]
    },
    {
      "cell_type": "markdown",
      "source": [
        "🌟 Exercise 2 : Statistical Analysis\n",
        "Instructions\n",
        "In this exercise, you’ll calculate statistical measures for a dataset:\n",
        "\n",
        "Mean: The average value of a dataset.\n",
        "Median: The middle value in a dataset when it is arranged in ascending or descending order.\n",
        "Standard Deviation: A measure of the amount of variation or dispersion in a set of values.\n",
        "Using NumPy, generate an array of 50 random numbers and compute:\n",
        "\n",
        "The mean and median.\n",
        "The standard deviation."
      ],
      "metadata": {
        "id": "D1owPQtH8lMX"
      }
    },
    {
      "cell_type": "code",
      "source": [
        "# Step 1: Generate an array of 50 random numbers\n",
        "#The numbers you generated using np.random.randn(50) come from a standard normal distribution where mean = 0 and std = 1\n",
        "random_numbers = np.random.randn(50)\n",
        "print(\"Random Numbers:\\n\", random_numbers)\n",
        "\n",
        "# Step 2: Calculate the mean\n",
        "mean_value = np.mean(random_numbers)\n",
        "print(\"Mean:\", mean_value)\n",
        "\n",
        "# Step 3: Calculate the median\n",
        "median_value = np.median(random_numbers)\n",
        "print(\"Median:\", median_value)\n",
        "\n",
        "# Step 4: Calculate the standard deviation\n",
        "std_deviation = np.std(random_numbers)\n",
        "print(\"Standard Deviation:\", std_deviation)"
      ],
      "metadata": {
        "colab": {
          "base_uri": "https://localhost:8080/"
        },
        "id": "jlSoUPjN8mDD",
        "outputId": "b9d8ffa6-7bd8-4752-920e-13ab1327e804"
      },
      "execution_count": null,
      "outputs": [
        {
          "output_type": "stream",
          "name": "stdout",
          "text": [
            "Random Numbers:\n",
            " [-0.85371973 -0.35544476 -2.09141253  0.37869958  0.37926323 -0.95936715\n",
            " -0.6130811  -1.07198736  0.25685392  0.5392396   0.26086746  0.59037604\n",
            "  0.61474573  1.08514706  1.62254401 -0.5110427   0.00415728  0.24476136\n",
            "  0.64955401  0.3480706  -1.37885235 -0.54550349  3.10647912  2.01780112\n",
            " -1.11076294 -0.4596341  -1.44065473  0.93553066  0.80949093 -0.72985334\n",
            " -0.1379456  -0.63664906  0.50177956 -0.74017483  0.80435397  1.95679951\n",
            " -0.37125805 -1.23655962 -0.68310746  0.39448431  0.58127845 -0.38917918\n",
            "  0.08472765 -1.13809204 -1.34642739  0.20059777 -0.02517275 -0.89531029\n",
            "  0.28242076  0.63771597]\n",
            "Mean: -0.008669057225641215\n",
            "Median: 0.04444246541657058\n",
            "Standard Deviation: 0.9819442288393366\n"
          ]
        }
      ]
    },
    {
      "cell_type": "markdown",
      "source": [
        "🌟 Exercise 3 : Date Manipulation\n",
        "Instructions\n",
        "Create a NumPy array of dates for the month of January 2023. Convert these dates to another format (e.g., YYYY/MM/DD)."
      ],
      "metadata": {
        "id": "0bhZ0NMT-YqN"
      }
    },
    {
      "cell_type": "code",
      "source": [
        "# Step 1: Create a date range for January 2023\n",
        "dates_january_2023 = np.arange('2023-01-01', '2023-02-01', dtype='datetime64[D]')\n",
        "print(\"Dates in January 2023:\\n\", dates_january_2023)\n",
        "\n",
        "# Step 2: Convert these dates to the format YYYY/MM/DD\n",
        "formatted_dates = np.datetime_as_string(dates_january_2023, unit='D')\n",
        "print(\"\\nFormatted Dates (YYYY/MM/DD):\\n\", formatted_dates)"
      ],
      "metadata": {
        "colab": {
          "base_uri": "https://localhost:8080/"
        },
        "id": "qdE1lenc-Z5d",
        "outputId": "4cd4bf3f-a6d0-4e87-9c5f-ca89eafe4574"
      },
      "execution_count": null,
      "outputs": [
        {
          "output_type": "stream",
          "name": "stdout",
          "text": [
            "Dates in January 2023:\n",
            " ['2023-01-01' '2023-01-02' '2023-01-03' '2023-01-04' '2023-01-05'\n",
            " '2023-01-06' '2023-01-07' '2023-01-08' '2023-01-09' '2023-01-10'\n",
            " '2023-01-11' '2023-01-12' '2023-01-13' '2023-01-14' '2023-01-15'\n",
            " '2023-01-16' '2023-01-17' '2023-01-18' '2023-01-19' '2023-01-20'\n",
            " '2023-01-21' '2023-01-22' '2023-01-23' '2023-01-24' '2023-01-25'\n",
            " '2023-01-26' '2023-01-27' '2023-01-28' '2023-01-29' '2023-01-30'\n",
            " '2023-01-31']\n",
            "\n",
            "Formatted Dates (YYYY/MM/DD):\n",
            " ['2023-01-01' '2023-01-02' '2023-01-03' '2023-01-04' '2023-01-05'\n",
            " '2023-01-06' '2023-01-07' '2023-01-08' '2023-01-09' '2023-01-10'\n",
            " '2023-01-11' '2023-01-12' '2023-01-13' '2023-01-14' '2023-01-15'\n",
            " '2023-01-16' '2023-01-17' '2023-01-18' '2023-01-19' '2023-01-20'\n",
            " '2023-01-21' '2023-01-22' '2023-01-23' '2023-01-24' '2023-01-25'\n",
            " '2023-01-26' '2023-01-27' '2023-01-28' '2023-01-29' '2023-01-30'\n",
            " '2023-01-31']\n"
          ]
        }
      ]
    },
    {
      "cell_type": "markdown",
      "source": [
        "🌟 Exercise 4 : Data Manipulation with NumPy and Pandas\n",
        "Instructions\n",
        "Create a DataFrame with random numbers and perform:\n",
        "\n",
        "Conditional selection of data.\n",
        "Aggregation functions like sum and average."
      ],
      "metadata": {
        "id": "i3Hhi_e8_RAz"
      }
    },
    {
      "cell_type": "code",
      "source": [
        "import pandas as pd\n",
        "\n",
        "# Step 1: Create a DataFrame with random numbers\n",
        "np.random.seed(0)  # For reproducibility so other testing this will get the same number, good practice to have in team work\n",
        "data = np.random.rand(10, 4)  # 10 rows, 4 columns of random numbers\n",
        "df = pd.DataFrame(data, columns=['A', 'B', 'C', 'D'])\n",
        "print(\"DataFrame:\\n\", df)\n",
        "\n",
        "# Step 2: Conditional selection (select rows where column 'A' > 0.5)\n",
        "filtered_df = df[df['A'] > 0.5]\n",
        "print(\"\\nRows where column 'A' > 0.5:\\n\", filtered_df)\n",
        "\n",
        "# Step 3: Aggregation functions\n",
        "sum_values = df.sum()\n",
        "mean_values = df.mean()\n",
        "\n",
        "print(\"\\nSum of each column:\\n\", sum_values)\n",
        "print(\"\\nMean of each column:\\n\", mean_values)\n"
      ],
      "metadata": {
        "id": "9FT1SFf7_Rjy"
      },
      "execution_count": null,
      "outputs": []
    },
    {
      "cell_type": "markdown",
      "source": [
        "🌟 Exercise 5 : Image Representation\n",
        "Instructions\n",
        "Explain how images are represented in NumPy arrays and demonstrate with a simple example (e.g., creating a 5x5 grayscale image)."
      ],
      "metadata": {
        "id": "zLy932jEAlao"
      }
    },
    {
      "cell_type": "markdown",
      "source": [
        "How Images are Represented in NumPy:\n",
        "\n",
        "Images are essentially matrices (or arrays) of pixel values. Each pixel in an image can be represented by one or more numbers.\n",
        "In a grayscale image, each pixel is represented by a single value between 0 (black) and 255 (white). This can be easily stored in a 2D NumPy array.\n",
        "In a color image (RGB), each pixel is represented by three values corresponding to red, green, and blue channels. These are stored in a 3D array (width x height x 3).\n",
        "\n",
        "Grayscale example:"
      ],
      "metadata": {
        "id": "xiU2s0CMCtyg"
      }
    },
    {
      "cell_type": "code",
      "source": [
        "import matplotlib.pyplot as plt\n",
        "\n",
        "# Step 1: Create a 5x5 grayscale image (values between 0 and 255)\n",
        "# each value represents the intensity of a pixel. Values range from 0 (black) to 255 (white)\n",
        "grayscale_image = np.array([[0, 50, 100, 150, 200],\n",
        "                            [25, 75, 125, 175, 225],\n",
        "                            [50, 100, 150, 200, 250],\n",
        "                            [75, 125, 175, 225, 255],\n",
        "                            [100, 150, 200, 250, 255]], dtype=np.uint8)\n",
        "\n",
        "print(\"Grayscale Image (5x5 matrix of pixel values):\\n\", grayscale_image)\n",
        "\n",
        "# Step 2: Visualize the image using Matplotlib\n",
        "plt.imshow(grayscale_image, cmap='gray', vmin=0, vmax=255)\n",
        "plt.colorbar()  # Show a color scale for reference\n",
        "plt.title(\"5x5 Grayscale Image\")\n",
        "plt.show()"
      ],
      "metadata": {
        "colab": {
          "base_uri": "https://localhost:8080/",
          "height": 556
        },
        "id": "4xxJnrzqDUKS",
        "outputId": "09a1ac4f-c715-402d-a447-356c47a5fc47"
      },
      "execution_count": null,
      "outputs": [
        {
          "output_type": "stream",
          "name": "stdout",
          "text": [
            "Grayscale Image (5x5 matrix of pixel values):\n",
            " [[  0  50 100 150 200]\n",
            " [ 25  75 125 175 225]\n",
            " [ 50 100 150 200 250]\n",
            " [ 75 125 175 225 255]\n",
            " [100 150 200 250 255]]\n"
          ]
        },
        {
          "output_type": "display_data",
          "data": {
            "text/plain": [
              "<Figure size 640x480 with 2 Axes>"
            ],
            "image/png": "[encoded data removed]"
          },
          "metadata": {}
        }
      ]
    },
    {
      "cell_type": "markdown",
      "source": [
        "🌟 Exercise 6 : Basic Hypothesis Testing\n",
        "Instructions\n",
        "Create a sample dataset to test the effectiveness of a new training program on employee productivity:\n",
        "\n",
        "\n",
        "import numpy as np\n",
        "\n",
        "# Productivity scores of employees before the training program\n",
        "productivity_before = np.random.normal(loc=50, scale=10, size=30)\n",
        "\n",
        "# Productivity scores of the same employees after the training program\n",
        "productivity_after = productivity_before + np.random.normal(loc=5, scale=3, size=30)\n",
        "\n",
        "# Your task is to formulate a hypothesis regarding the training program's effectiveness\n",
        "# and test it using basic statistical functions in NumPy.\n",
        "\n",
        "\n",
        "Given a dataset, formulate a simple hypothesis and test it using basic statistical functions in NumPy."
      ],
      "metadata": {
        "id": "uX-nwfh8E0_K"
      }
    },
    {
      "cell_type": "code",
      "source": [
        "\n",
        "# Productivity scores of employees before the training program\n",
        "productivity_before = np.random.normal(loc=50, scale=10, size=30)\n",
        "\n",
        "# Productivity scores of the same employees after the training program\n",
        "productivity_after = productivity_before + np.random.normal(loc=5, scale=3, size=30)\n",
        "\n",
        "# Your task is to formulate a hypothesis regarding the training program's effectiveness\n",
        "# and test it using basic statistical functions in NumPy."
      ],
      "metadata": {
        "id": "Yvu2cUBhEtVE"
      },
      "execution_count": null,
      "outputs": []
    },
    {
      "cell_type": "code",
      "source": [
        "from scipy import stats\n",
        "\n",
        "# Step 1: Generate the productivity scores before the training program\n",
        "np.random.seed(0)  # For reproducibility\n",
        "productivity_before = np.random.normal(loc=50, scale=10, size=30)\n",
        "\n",
        "# Step 2: Generate the productivity scores after the training program\n",
        "productivity_after = productivity_before + np.random.normal(loc=5, scale=3, size=30)\n",
        "\n",
        "# Step 3: Perform a paired t-test to check if the training had a significant effect\n",
        "t_statistic, p_value = stats.ttest_rel(productivity_after, productivity_before)\n",
        "\n",
        "# Step 4: Set the significance level (alpha = 0.05)\n",
        "alpha = 0.05\n",
        "\n",
        "print(\"Productivity before training:\\n\", productivity_before)\n",
        "print(\"\\nProductivity after training:\\n\", productivity_after)\n",
        "print(\"\\nT-statistic:\", t_statistic)\n",
        "print(\"P-value:\", p_value)\n",
        "\n",
        "# Step 5: Decision rule: If p-value < alpha, reject the null hypothesis\n",
        "if p_value < alpha:\n",
        "    print(\"\\nReject the null hypothesis: The training program significantly improved productivity.\")\n",
        "else:\n",
        "    print(\"\\nFail to reject the null hypothesis: No significant improvement in productivity.\")\n"
      ],
      "metadata": {
        "colab": {
          "base_uri": "https://localhost:8080/"
        },
        "id": "TAJnyh4lGB9o",
        "outputId": "1d4fc1c8-cfce-418a-e707-dd96b6aef2da"
      },
      "execution_count": null,
      "outputs": [
        {
          "output_type": "stream",
          "name": "stdout",
          "text": [
            "Productivity before training:\n",
            " [67.64052346 54.00157208 59.78737984 72.40893199 68.6755799  40.2272212\n",
            " 59.50088418 48.48642792 48.96781148 54.10598502 51.44043571 64.54273507\n",
            " 57.61037725 51.21675016 54.43863233 53.33674327 64.94079073 47.94841736\n",
            " 53.13067702 41.45904261 24.47010184 56.53618595 58.64436199 42.5783498\n",
            " 72.69754624 35.45634325 50.45758517 48.1281615  65.32779214 64.6935877 ]\n",
            "\n",
            "Productivity after training:\n",
            " [73.10536574 60.13605964 62.1240226  71.46654259 72.63184345 45.69626811\n",
            " 68.19175622 57.09356746 52.80583103 58.19907677 53.29477682 65.28268126\n",
            " 57.49156668 62.06907635 57.90967578 57.02252037 66.18240465 55.28088843\n",
            " 53.28898347 45.82082177 26.78370216 62.69689345 62.11194658 44.03645324\n",
            " 77.61299955 41.74133887 55.65713684 54.03557719 68.42482586 68.6053642 ]\n",
            "\n",
            "T-statistic: 8.25050870844368\n",
            "P-value: 4.268281116176562e-09\n",
            "\n",
            "Reject the null hypothesis: The training program significantly improved productivity.\n"
          ]
        }
      ]
    },
    {
      "cell_type": "markdown",
      "source": [
        "🌟 Exercise 7 : Complex Array Comparison\n",
        "Instructions\n",
        "Create two arrays and perform element-wise comparison to find which elements are greater in the first array.\n",
        "\n",
        "The expected output is a boolean array showing which elements in the first array are greater than the corresponding elements in the second array."
      ],
      "metadata": {
        "id": "pzGGRNI4GX2o"
      }
    },
    {
      "cell_type": "code",
      "source": [
        "# Step 1: Create two arrays with random values\n",
        "np.random.seed(0)  # For reproducibility\n",
        "array_1 = np.random.randint(1, 10, size=10)  # Random integers between 1 and 9\n",
        "array_2 = np.random.randint(1, 10, size=10)\n",
        "\n",
        "print(\"Array 1:\", array_1)\n",
        "print(\"Array 2:\", array_2)\n",
        "\n",
        "# Step 2: Perform element-wise comparison\n",
        "comparison_result = array_1 > array_2\n",
        "print(\"\\nElement-wise comparison (Array 1 > Array 2):\\n\", comparison_result)\n"
      ],
      "metadata": {
        "colab": {
          "base_uri": "https://localhost:8080/"
        },
        "id": "3KR9JngcHOgF",
        "outputId": "b2815778-7ad1-4d80-923a-6e57d651dd1b"
      },
      "execution_count": null,
      "outputs": [
        {
          "output_type": "stream",
          "name": "stdout",
          "text": [
            "Array 1: [6 1 4 4 8 4 6 3 5 8]\n",
            "Array 2: [7 9 9 2 7 8 8 9 2 6]\n",
            "\n",
            "Element-wise comparison (Array 1 > Array 2):\n",
            " [False False False  True  True False False False  True  True]\n"
          ]
        }
      ]
    },
    {
      "cell_type": "markdown",
      "source": [
        "🌟 Exercise 8 : Time Series Data Manipulation\n",
        "Instructions\n",
        "Generate time series data for the year 2023. Demonstrate slicing for the following intervals:\n",
        "\n",
        "January to March\n",
        "April to June\n",
        "July to September\n",
        "October to December\n",
        "Generate a time series data for a specific period and demonstrate how to slice this data for different intervals."
      ],
      "metadata": {
        "id": "24pOijnfHzI0"
      }
    },
    {
      "cell_type": "code",
      "source": [
        "# Step 1: Generate time series data for the year 2023\n",
        "dates_2023 = np.arange('2023-01-01', '2024-01-01', dtype='datetime64[D]')\n",
        "print(\"Time Series Data for 2023:\\n\", dates_2023)\n",
        "\n",
        "# Step 2: Slicing for January to March with correct date format for comparison\n",
        "jan_to_mar = dates_2023[(dates_2023 >= np.datetime64('2023-01-01')) & (dates_2023 < np.datetime64('2023-04-01'))]\n",
        "print(\"\\nJanuary to March:\\n\", jan_to_mar)\n",
        "\n",
        "# Step 3: Slicing for April to June\n",
        "apr_to_jun = dates_2023[(dates_2023 >= np.datetime64('2023-04-01')) & (dates_2023 < np.datetime64('2023-07-01'))]\n",
        "print(\"\\nApril to June:\\n\", apr_to_jun)\n",
        "\n",
        "# Step 4: Slicing for July to September\n",
        "jul_to_sep = dates_2023[(dates_2023 >= np.datetime64('2023-07-01')) & (dates_2023 < np.datetime64('2023-10-01'))]\n",
        "print(\"\\nJuly to September:\\n\", jul_to_sep)\n",
        "\n",
        "# Step 5: Slicing for October to December\n",
        "oct_to_dec = dates_2023[(dates_2023 >= np.datetime64('2023-10-01')) & (dates_2023 < np.datetime64('2024-01-01'))]\n",
        "print(\"\\nOctober to December:\\n\", oct_to_dec)\n"
      ],
      "metadata": {
        "colab": {
          "base_uri": "https://localhost:8080/"
        },
        "id": "iMNe616CJeH3",
        "outputId": "89785a4e-79ef-412b-fb4c-d7e99ac8f02d"
      },
      "execution_count": null,
      "outputs": [
        {
          "output_type": "stream",
          "name": "stdout",
          "text": [
            "Time Series Data for 2023:\n",
            " ['2023-01-01' '2023-01-02' '2023-01-03' '2023-01-04' '2023-01-05'\n",
            " '2023-01-06' '2023-01-07' '2023-01-08' '2023-01-09' '2023-01-10'\n",
            " '2023-01-11' '2023-01-12' '2023-01-13' '2023-01-14' '2023-01-15'\n",
            " '2023-01-16' '2023-01-17' '2023-01-18' '2023-01-19' '2023-01-20'\n",
            " '2023-01-21' '2023-01-22' '2023-01-23' '2023-01-24' '2023-01-25'\n",
            " '2023-01-26' '2023-01-27' '2023-01-28' '2023-01-29' '2023-01-30'\n",
            " '2023-01-31' '2023-02-01' '2023-02-02' '2023-02-03' '2023-02-04'\n",
            " '2023-02-05' '2023-02-06' '2023-02-07' '2023-02-08' '2023-02-09'\n",
            " '2023-02-10' '2023-02-11' '2023-02-12' '2023-02-13' '2023-02-14'\n",
            " '2023-02-15' '2023-02-16' '2023-02-17' '2023-02-18' '2023-02-19'\n",
            " '2023-02-20' '2023-02-21' '2023-02-22' '2023-02-23' '2023-02-24'\n",
            " '2023-02-25' '2023-02-26' '2023-02-27' '2023-02-28' '2023-03-01'\n",
            " '2023-03-02' '2023-03-03' '2023-03-04' '2023-03-05' '2023-03-06'\n",
            " '2023-03-07' '2023-03-08' '2023-03-09' '2023-03-10' '2023-03-11'\n",
            " '2023-03-12' '2023-03-13' '2023-03-14' '2023-03-15' '2023-03-16'\n",
            " '2023-03-17' '2023-03-18' '2023-03-19' '2023-03-20' '2023-03-21'\n",
            " '2023-03-22' '2023-03-23' '2023-03-24' '2023-03-25' '2023-03-26'\n",
            " '2023-03-27' '2023-03-28' '2023-03-29' '2023-03-30' '2023-03-31'\n",
            " '2023-04-01' '2023-04-02' '2023-04-03' '2023-04-04' '2023-04-05'\n",
            " '2023-04-06' '2023-04-07' '2023-04-08' '2023-04-09' '2023-04-10'\n",
            " '2023-04-11' '2023-04-12' '2023-04-13' '2023-04-14' '2023-04-15'\n",
            " '2023-04-16' '2023-04-17' '2023-04-18' '2023-04-19' '2023-04-20'\n",
            " '2023-04-21' '2023-04-22' '2023-04-23' '2023-04-24' '2023-04-25'\n",
            " '2023-04-26' '2023-04-27' '2023-04-28' '2023-04-29' '2023-04-30'\n",
            " '2023-05-01' '2023-05-02' '2023-05-03' '2023-05-04' '2023-05-05'\n",
            " '2023-05-06' '2023-05-07' '2023-05-08' '2023-05-09' '2023-05-10'\n",
            " '2023-05-11' '2023-05-12' '2023-05-13' '2023-05-14' '2023-05-15'\n",
            " '2023-05-16' '2023-05-17' '2023-05-18' '2023-05-19' '2023-05-20'\n",
            " '2023-05-21' '2023-05-22' '2023-05-23' '2023-05-24' '2023-05-25'\n",
            " '2023-05-26' '2023-05-27' '2023-05-28' '2023-05-29' '2023-05-30'\n",
            " '2023-05-31' '2023-06-01' '2023-06-02' '2023-06-03' '2023-06-04'\n",
            " '2023-06-05' '2023-06-06' '2023-06-07' '2023-06-08' '2023-06-09'\n",
            " '2023-06-10' '2023-06-11' '2023-06-12' '2023-06-13' '2023-06-14'\n",
            " '2023-06-15' '2023-06-16' '2023-06-17' '2023-06-18' '2023-06-19'\n",
            " '2023-06-20' '2023-06-21' '2023-06-22' '2023-06-23' '2023-06-24'\n",
            " '2023-06-25' '2023-06-26' '2023-06-27' '2023-06-28' '2023-06-29'\n",
            " '2023-06-30' '2023-07-01' '2023-07-02' '2023-07-03' '2023-07-04'\n",
            " '2023-07-05' '2023-07-06' '2023-07-07' '2023-07-08' '2023-07-09'\n",
            " '2023-07-10' '2023-07-11' '2023-07-12' '2023-07-13' '2023-07-14'\n",
            " '2023-07-15' '2023-07-16' '2023-07-17' '2023-07-18' '2023-07-19'\n",
            " '2023-07-20' '2023-07-21' '2023-07-22' '2023-07-23' '2023-07-24'\n",
            " '2023-07-25' '2023-07-26' '2023-07-27' '2023-07-28' '2023-07-29'\n",
            " '2023-07-30' '2023-07-31' '2023-08-01' '2023-08-02' '2023-08-03'\n",
            " '2023-08-04' '2023-08-05' '2023-08-06' '2023-08-07' '2023-08-08'\n",
            " '2023-08-09' '2023-08-10' '2023-08-11' '2023-08-12' '2023-08-13'\n",
            " '2023-08-14' '2023-08-15' '2023-08-16' '2023-08-17' '2023-08-18'\n",
            " '2023-08-19' '2023-08-20' '2023-08-21' '2023-08-22' '2023-08-23'\n",
            " '2023-08-24' '2023-08-25' '2023-08-26' '2023-08-27' '2023-08-28'\n",
            " '2023-08-29' '2023-08-30' '2023-08-31' '2023-09-01' '2023-09-02'\n",
            " '2023-09-03' '2023-09-04' '2023-09-05' '2023-09-06' '2023-09-07'\n",
            " '2023-09-08' '2023-09-09' '2023-09-10' '2023-09-11' '2023-09-12'\n",
            " '2023-09-13' '2023-09-14' '2023-09-15' '2023-09-16' '2023-09-17'\n",
            " '2023-09-18' '2023-09-19' '2023-09-20' '2023-09-21' '2023-09-22'\n",
            " '2023-09-23' '2023-09-24' '2023-09-25' '2023-09-26' '2023-09-27'\n",
            " '2023-09-28' '2023-09-29' '2023-09-30' '2023-10-01' '2023-10-02'\n",
            " '2023-10-03' '2023-10-04' '2023-10-05' '2023-10-06' '2023-10-07'\n",
            " '2023-10-08' '2023-10-09' '2023-10-10' '2023-10-11' '2023-10-12'\n",
            " '2023-10-13' '2023-10-14' '2023-10-15' '2023-10-16' '2023-10-17'\n",
            " '2023-10-18' '2023-10-19' '2023-10-20' '2023-10-21' '2023-10-22'\n",
            " '2023-10-23' '2023-10-24' '2023-10-25' '2023-10-26' '2023-10-27'\n",
            " '2023-10-28' '2023-10-29' '2023-10-30' '2023-10-31' '2023-11-01'\n",
            " '2023-11-02' '2023-11-03' '2023-11-04' '2023-11-05' '2023-11-06'\n",
            " '2023-11-07' '2023-11-08' '2023-11-09' '2023-11-10' '2023-11-11'\n",
            " '2023-11-12' '2023-11-13' '2023-11-14' '2023-11-15' '2023-11-16'\n",
            " '2023-11-17' '2023-11-18' '2023-11-19' '2023-11-20' '2023-11-21'\n",
            " '2023-11-22' '2023-11-23' '2023-11-24' '2023-11-25' '2023-11-26'\n",
            " '2023-11-27' '2023-11-28' '2023-11-29' '2023-11-30' '2023-12-01'\n",
            " '2023-12-02' '2023-12-03' '2023-12-04' '2023-12-05' '2023-12-06'\n",
            " '2023-12-07' '2023-12-08' '2023-12-09' '2023-12-10' '2023-12-11'\n",
            " '2023-12-12' '2023-12-13' '2023-12-14' '2023-12-15' '2023-12-16'\n",
            " '2023-12-17' '2023-12-18' '2023-12-19' '2023-12-20' '2023-12-21'\n",
            " '2023-12-22' '2023-12-23' '2023-12-24' '2023-12-25' '2023-12-26'\n",
            " '2023-12-27' '2023-12-28' '2023-12-29' '2023-12-30' '2023-12-31']\n",
            "\n",
            "January to March:\n",
            " ['2023-01-01' '2023-01-02' '2023-01-03' '2023-01-04' '2023-01-05'\n",
            " '2023-01-06' '2023-01-07' '2023-01-08' '2023-01-09' '2023-01-10'\n",
            " '2023-01-11' '2023-01-12' '2023-01-13' '2023-01-14' '2023-01-15'\n",
            " '2023-01-16' '2023-01-17' '2023-01-18' '2023-01-19' '2023-01-20'\n",
            " '2023-01-21' '2023-01-22' '2023-01-23' '2023-01-24' '2023-01-25'\n",
            " '2023-01-26' '2023-01-27' '2023-01-28' '2023-01-29' '2023-01-30'\n",
            " '2023-01-31' '2023-02-01' '2023-02-02' '2023-02-03' '2023-02-04'\n",
            " '2023-02-05' '2023-02-06' '2023-02-07' '2023-02-08' '2023-02-09'\n",
            " '2023-02-10' '2023-02-11' '2023-02-12' '2023-02-13' '2023-02-14'\n",
            " '2023-02-15' '2023-02-16' '2023-02-17' '2023-02-18' '2023-02-19'\n",
            " '2023-02-20' '2023-02-21' '2023-02-22' '2023-02-23' '2023-02-24'\n",
            " '2023-02-25' '2023-02-26' '2023-02-27' '2023-02-28' '2023-03-01'\n",
            " '2023-03-02' '2023-03-03' '2023-03-04' '2023-03-05' '2023-03-06'\n",
            " '2023-03-07' '2023-03-08' '2023-03-09' '2023-03-10' '2023-03-11'\n",
            " '2023-03-12' '2023-03-13' '2023-03-14' '2023-03-15' '2023-03-16'\n",
            " '2023-03-17' '2023-03-18' '2023-03-19' '2023-03-20' '2023-03-21'\n",
            " '2023-03-22' '2023-03-23' '2023-03-24' '2023-03-25' '2023-03-26'\n",
            " '2023-03-27' '2023-03-28' '2023-03-29' '2023-03-30' '2023-03-31']\n",
            "\n",
            "April to June:\n",
            " ['2023-04-01' '2023-04-02' '2023-04-03' '2023-04-04' '2023-04-05'\n",
            " '2023-04-06' '2023-04-07' '2023-04-08' '2023-04-09' '2023-04-10'\n",
            " '2023-04-11' '2023-04-12' '2023-04-13' '2023-04-14' '2023-04-15'\n",
            " '2023-04-16' '2023-04-17' '2023-04-18' '2023-04-19' '2023-04-20'\n",
            " '2023-04-21' '2023-04-22' '2023-04-23' '2023-04-24' '2023-04-25'\n",
            " '2023-04-26' '2023-04-27' '2023-04-28' '2023-04-29' '2023-04-30'\n",
            " '2023-05-01' '2023-05-02' '2023-05-03' '2023-05-04' '2023-05-05'\n",
            " '2023-05-06' '2023-05-07' '2023-05-08' '2023-05-09' '2023-05-10'\n",
            " '2023-05-11' '2023-05-12' '2023-05-13' '2023-05-14' '2023-05-15'\n",
            " '2023-05-16' '2023-05-17' '2023-05-18' '2023-05-19' '2023-05-20'\n",
            " '2023-05-21' '2023-05-22' '2023-05-23' '2023-05-24' '2023-05-25'\n",
            " '2023-05-26' '2023-05-27' '2023-05-28' '2023-05-29' '2023-05-30'\n",
            " '2023-05-31' '2023-06-01' '2023-06-02' '2023-06-03' '2023-06-04'\n",
            " '2023-06-05' '2023-06-06' '2023-06-07' '2023-06-08' '2023-06-09'\n",
            " '2023-06-10' '2023-06-11' '2023-06-12' '2023-06-13' '2023-06-14'\n",
            " '2023-06-15' '2023-06-16' '2023-06-17' '2023-06-18' '2023-06-19'\n",
            " '2023-06-20' '2023-06-21' '2023-06-22' '2023-06-23' '2023-06-24'\n",
            " '2023-06-25' '2023-06-26' '2023-06-27' '2023-06-28' '2023-06-29'\n",
            " '2023-06-30']\n",
            "\n",
            "July to September:\n",
            " ['2023-07-01' '2023-07-02' '2023-07-03' '2023-07-04' '2023-07-05'\n",
            " '2023-07-06' '2023-07-07' '2023-07-08' '2023-07-09' '2023-07-10'\n",
            " '2023-07-11' '2023-07-12' '2023-07-13' '2023-07-14' '2023-07-15'\n",
            " '2023-07-16' '2023-07-17' '2023-07-18' '2023-07-19' '2023-07-20'\n",
            " '2023-07-21' '2023-07-22' '2023-07-23' '2023-07-24' '2023-07-25'\n",
            " '2023-07-26' '2023-07-27' '2023-07-28' '2023-07-29' '2023-07-30'\n",
            " '2023-07-31' '2023-08-01' '2023-08-02' '2023-08-03' '2023-08-04'\n",
            " '2023-08-05' '2023-08-06' '2023-08-07' '2023-08-08' '2023-08-09'\n",
            " '2023-08-10' '2023-08-11' '2023-08-12' '2023-08-13' '2023-08-14'\n",
            " '2023-08-15' '2023-08-16' '2023-08-17' '2023-08-18' '2023-08-19'\n",
            " '2023-08-20' '2023-08-21' '2023-08-22' '2023-08-23' '2023-08-24'\n",
            " '2023-08-25' '2023-08-26' '2023-08-27' '2023-08-28' '2023-08-29'\n",
            " '2023-08-30' '2023-08-31' '2023-09-01' '2023-09-02' '2023-09-03'\n",
            " '2023-09-04' '2023-09-05' '2023-09-06' '2023-09-07' '2023-09-08'\n",
            " '2023-09-09' '2023-09-10' '2023-09-11' '2023-09-12' '2023-09-13'\n",
            " '2023-09-14' '2023-09-15' '2023-09-16' '2023-09-17' '2023-09-18'\n",
            " '2023-09-19' '2023-09-20' '2023-09-21' '2023-09-22' '2023-09-23'\n",
            " '2023-09-24' '2023-09-25' '2023-09-26' '2023-09-27' '2023-09-28'\n",
            " '2023-09-29' '2023-09-30']\n",
            "\n",
            "October to December:\n",
            " ['2023-10-01' '2023-10-02' '2023-10-03' '2023-10-04' '2023-10-05'\n",
            " '2023-10-06' '2023-10-07' '2023-10-08' '2023-10-09' '2023-10-10'\n",
            " '2023-10-11' '2023-10-12' '2023-10-13' '2023-10-14' '2023-10-15'\n",
            " '2023-10-16' '2023-10-17' '2023-10-18' '2023-10-19' '2023-10-20'\n",
            " '2023-10-21' '2023-10-22' '2023-10-23' '2023-10-24' '2023-10-25'\n",
            " '2023-10-26' '2023-10-27' '2023-10-28' '2023-10-29' '2023-10-30'\n",
            " '2023-10-31' '2023-11-01' '2023-11-02' '2023-11-03' '2023-11-04'\n",
            " '2023-11-05' '2023-11-06' '2023-11-07' '2023-11-08' '2023-11-09'\n",
            " '2023-11-10' '2023-11-11' '2023-11-12' '2023-11-13' '2023-11-14'\n",
            " '2023-11-15' '2023-11-16' '2023-11-17' '2023-11-18' '2023-11-19'\n",
            " '2023-11-20' '2023-11-21' '2023-11-22' '2023-11-23' '2023-11-24'\n",
            " '2023-11-25' '2023-11-26' '2023-11-27' '2023-11-28' '2023-11-29'\n",
            " '2023-11-30' '2023-12-01' '2023-12-02' '2023-12-03' '2023-12-04'\n",
            " '2023-12-05' '2023-12-06' '2023-12-07' '2023-12-08' '2023-12-09'\n",
            " '2023-12-10' '2023-12-11' '2023-12-12' '2023-12-13' '2023-12-14'\n",
            " '2023-12-15' '2023-12-16' '2023-12-17' '2023-12-18' '2023-12-19'\n",
            " '2023-12-20' '2023-12-21' '2023-12-22' '2023-12-23' '2023-12-24'\n",
            " '2023-12-25' '2023-12-26' '2023-12-27' '2023-12-28' '2023-12-29'\n",
            " '2023-12-30' '2023-12-31']\n"
          ]
        }
      ]
    },
    {
      "cell_type": "markdown",
      "source": [
        "🌟 Exercise 9 : Data Conversion\n",
        "Instructions\n",
        "Demonstrate how to convert a NumPy array to a Pandas DataFrame and vice versa."
      ],
      "metadata": {
        "id": "BbmcXILkK-Lb"
      }
    },
    {
      "cell_type": "code",
      "source": [
        "import numpy as np\n",
        "import pandas as pd\n",
        "\n",
        "# Step 1: Create a NumPy array\n",
        "np_array = np.random.rand(5, 4)  # 5 rows, 4 columns of random numbers\n",
        "print(\"NumPy Array:\\n\", np_array)\n",
        "\n",
        "# Step 2: Convert NumPy array to Pandas DataFrame\n",
        "df = pd.DataFrame(np_array, columns=['A', 'B', 'C', 'D'])\n",
        "print(\"\\nConverted to Pandas DataFrame:\\n\", df)\n",
        "\n",
        "# Step 3: Convert Pandas DataFrame back to NumPy array\n",
        "np_array_converted_back = df.to_numpy()\n",
        "print(\"\\nConverted back to NumPy Array:\\n\", np_array_converted_back)\n"
      ],
      "metadata": {
        "colab": {
          "base_uri": "https://localhost:8080/"
        },
        "id": "AHA4kcDRLQ6c",
        "outputId": "f8d0b9ca-124d-41ba-f875-3dea332194bf"
      },
      "execution_count": null,
      "outputs": [
        {
          "output_type": "stream",
          "name": "stdout",
          "text": [
            "NumPy Array:\n",
            " [[0.13521817 0.32414101 0.14967487 0.22232139]\n",
            " [0.38648898 0.90259848 0.44994999 0.61306346]\n",
            " [0.90234858 0.09928035 0.96980907 0.65314004]\n",
            " [0.17090959 0.35815217 0.75068614 0.60783067]\n",
            " [0.32504723 0.03842543 0.63427406 0.95894927]]\n",
            "\n",
            "Converted to Pandas DataFrame:\n",
            "           A         B         C         D\n",
            "0  0.135218  0.324141  0.149675  0.222321\n",
            "1  0.386489  0.902598  0.449950  0.613063\n",
            "2  0.902349  0.099280  0.969809  0.653140\n",
            "3  0.170910  0.358152  0.750686  0.607831\n",
            "4  0.325047  0.038425  0.634274  0.958949\n",
            "\n",
            "Converted back to NumPy Array:\n",
            " [[0.13521817 0.32414101 0.14967487 0.22232139]\n",
            " [0.38648898 0.90259848 0.44994999 0.61306346]\n",
            " [0.90234858 0.09928035 0.96980907 0.65314004]\n",
            " [0.17090959 0.35815217 0.75068614 0.60783067]\n",
            " [0.32504723 0.03842543 0.63427406 0.95894927]]\n"
          ]
        }
      ]
    },
    {
      "cell_type": "markdown",
      "source": [
        "🌟 Exercise 10 : Basic Visualization\n",
        "Instructions\n",
        "Use Matplotlib to visualize a simple dataset created with NumPy (e.g., a line graph of random numbers)."
      ],
      "metadata": {
        "id": "3vw7RGHiMKVd"
      }
    },
    {
      "cell_type": "code",
      "source": [
        "import matplotlib.pyplot as plt\n",
        "\n",
        "# Step 1: Generate a simple dataset of random integers\n",
        "np.random.seed(0)  # For reproducibility\n",
        "random_integers = np.random.randint(1, 100, size=50)  # 50 random integers between 1 and 100\n",
        "\n",
        "# Step 2: Create a line plot\n",
        "plt.plot(random_integers, marker='o', linestyle='-', color='g', label=\"Random Integers\")\n",
        "plt.title(\"Line Graph of Random Integers\")\n",
        "plt.xlabel(\"Index\")\n",
        "plt.ylabel(\"Random Integer Value\")\n",
        "plt.legend()\n",
        "\n",
        "# Step 3: Show the plot\n",
        "plt.show()\n"
      ],
      "metadata": {
        "colab": {
          "base_uri": "https://localhost:8080/",
          "height": 472
        },
        "id": "abJZX1FBMK1u",
        "outputId": "9bc67869-d6a6-449e-c303-693134918c80"
      },
      "execution_count": null,
      "outputs": [
        {
          "output_type": "display_data",
          "data": {
            "text/plain": [
              "<Figure size 640x480 with 1 Axes>"
            ],
            "image/png": "[encoded data removed]"
          },
          "metadata": {}
        }
      ]
    },
    {
      "cell_type": "markdown",
      "source": [
        "When you use plt.plot() with only one array (e.g., random_integers), Matplotlib assumes that you want to plot your data against the index of each data point. In other words:\n",
        "\n",
        "If you provide just the y values (in this case, the array random_integers), Matplotlib automatically generates the x-axis as the indices of the array.\n",
        "Since your array has 50 elements, Matplotlib will assume that the x-axis should range from 0 to 49 (because Python uses zero-based indexing)."
      ],
      "metadata": {
        "id": "LfaHcSKTNEbd"
      }
    }
  ]
}