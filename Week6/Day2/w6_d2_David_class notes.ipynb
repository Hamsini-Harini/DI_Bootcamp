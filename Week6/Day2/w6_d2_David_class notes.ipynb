{
  "nbformat": 4,
  "nbformat_minor": 0,
  "metadata": {
    "colab": {
      "provenance": []
    },
    "kernelspec": {
      "name": "python3",
      "display_name": "Python 3"
    },
    "language_info": {
      "name": "python"
    }
  },
  "cells": [
    {
      "cell_type": "code",
      "execution_count": null,
      "metadata": {
        "id": "E79SI76siXxx"
      },
      "outputs": [],
      "source": [
        "import numpy as np"
      ]
    },
    {
      "cell_type": "code",
      "source": [
        "# Create a matrix\n",
        "\n",
        "matrix_a = np.array([\n",
        "    [1, 2],\n",
        "    [3, 4]\n",
        "])\n",
        "\n",
        "print(f\"Matrix A: {matrix_a}.\")\n",
        "\n",
        "# Reshape the matrix\n",
        "\n",
        "reshaped_matrix_a =np.reshape(matrix_a, (4, 1))\n",
        "print(f\"Reshaped Matrix A: {reshaped_matrix_a}.\")\n",
        "\n",
        "# Changing values\n",
        "matrix_a[0, 1] = 7\n",
        "print(f\"Updated Matrix A: {matrix_a}.\")\n",
        "\n"
      ],
      "metadata": {
        "colab": {
          "base_uri": "https://localhost:8080/"
        },
        "id": "muQidgPel-9l",
        "outputId": "7c280cf3-527b-4017-bef5-b7715eef1a76"
      },
      "execution_count": null,
      "outputs": [
        {
          "output_type": "stream",
          "name": "stdout",
          "text": [
            "Matrix A: [[1 2]\n",
            " [3 4]].\n",
            "Reshaped Matrix A: [[1]\n",
            " [2]\n",
            " [3]\n",
            " [4]].\n",
            "Updated Matrix A: [[1 7]\n",
            " [3 4]].\n"
          ]
        }
      ]
    },
    {
      "cell_type": "code",
      "source": [
        "reshaped_matrix_a.shape"
      ],
      "metadata": {
        "colab": {
          "base_uri": "https://localhost:8080/"
        },
        "id": "QKUP-8RhnNcB",
        "outputId": "ab748a36-3371-4fd2-9ceb-88c809eb0f98"
      },
      "execution_count": null,
      "outputs": [
        {
          "output_type": "execute_result",
          "data": {
            "text/plain": [
              "(4, 1)"
            ]
          },
          "metadata": {},
          "execution_count": 4
        }
      ]
    },
    {
      "cell_type": "markdown",
      "source": [
        "## Survey answers\n"
      ],
      "metadata": {
        "id": "7WcX5C5tn7EA"
      }
    },
    {
      "cell_type": "code",
      "source": [
        "# Example survey data matrix (5 respondents, 4 questions)\n",
        "survey_data = np.array([[5, 1, 4, 4],\n",
        "                        [4, 2, 4, 3],\n",
        "                        [5, 1, 1, 5],\n",
        "                        [3, 2, 1, 2],\n",
        "                        [2, 1, 2, 5]])\n",
        "\n",
        "# Calculations\n",
        "average_responses = np.mean(survey_data, axis = 0)\n",
        "total_responses = np.sum(survey_data, axis=0)\n",
        "max_responses = np.max(survey_data, axis=0)\n",
        "min_responses = np.min(survey_data, axis=0)\n",
        "\n",
        "print(f\"Average answers per question : {average_responses}.\")\n",
        "print(f\"Total answers per question : {total_responses}.\")\n",
        "print(f\"Maximum answers per question : {max_responses}.\")\n",
        "print(f\"Minimum answers per question : {min_responses}.\")\n",
        "\n"
      ],
      "metadata": {
        "colab": {
          "base_uri": "https://localhost:8080/"
        },
        "id": "IixFn5ZknWi3",
        "outputId": "13b301d7-a7ad-4b00-fc3a-d5d2ce970e88"
      },
      "execution_count": null,
      "outputs": [
        {
          "output_type": "stream",
          "name": "stdout",
          "text": [
            "Average answers per question : [3.8 1.4 2.4 3.8].\n",
            "Total answers per question : [19  7 12 19].\n",
            "Maximum answers per question : [5 2 4 5].\n",
            "Minimum answers per question : [2 1 1 2].\n"
          ]
        }
      ]
    },
    {
      "cell_type": "markdown",
      "source": [
        "## Exercise: Movie Ratings Analysis\n"
      ],
      "metadata": {
        "id": "EN2tGCUnpcgk"
      }
    },
    {
      "cell_type": "code",
      "source": [
        "# Movie ratings matrix (5 viewers, 3 movies)\n",
        "movie_ratings = np.array([\n",
        "    [5, 1, 4],\n",
        "    [4, 4, 2],\n",
        "    [4, 3, 5],\n",
        "    [1, 1, 5],\n",
        "    [3, 2, 1]\n",
        "])\n",
        "\n",
        "# Average Rating Calculation:\n",
        "average_ratings = np.mean(movie_ratings, axis = 0)\n",
        "\n",
        "print(f\"Average Rating per movie : {average_ratings}.\")\n",
        "\n",
        "# Viewer Preference Analysis\n",
        "prefered_movies = np.max(movie_ratings, axis = 0)\n",
        "print(f\"Prefered movie per viewer : {prefered_movies}.\")"
      ],
      "metadata": {
        "colab": {
          "base_uri": "https://localhost:8080/"
        },
        "id": "eSsMNgvIn-8D",
        "outputId": "166993f8-4911-41f5-803b-b42e52fee3bc"
      },
      "execution_count": null,
      "outputs": [
        {
          "output_type": "stream",
          "name": "stdout",
          "text": [
            "Average Rating per movie : [3.4 2.2 3.4].\n",
            "Prefered movie per viewer : [5 4 5].\n"
          ]
        }
      ]
    },
    {
      "cell_type": "markdown",
      "source": [
        "## Basic operations on matrices"
      ],
      "metadata": {
        "id": "BfXrdMeSrIn7"
      }
    },
    {
      "cell_type": "code",
      "source": [
        "# Define two matrices\n",
        "matrix_B = np.array([\n",
        "    [2, 3],\n",
        "    [4, 5]\n",
        "    ])\n",
        "matrix_C = np.array([\n",
        "    [1, 1],\n",
        "    [1, 1]\n",
        "    ])\n",
        "\n",
        "# Adding and subtracting matrices\n",
        "# np.add()\n",
        "# np.substract()\n",
        "\n",
        "sum_matrix = np.add(matrix_B, matrix_C)\n",
        "diff_matrix = np.subtract(matrix_B, matrix_C)\n",
        "\n",
        "print(\"Sum of Matrices:\\n\", sum_matrix)\n",
        "print(\"Difference of Matrices:\\n\", diff_matrix)"
      ],
      "metadata": {
        "colab": {
          "base_uri": "https://localhost:8080/"
        },
        "id": "DHyVJJRNplFP",
        "outputId": "6d931503-4824-4701-e853-40c8fabba30b"
      },
      "execution_count": null,
      "outputs": [
        {
          "output_type": "stream",
          "name": "stdout",
          "text": [
            "Sum of Matrices:\n",
            " [[3 4]\n",
            " [5 6]]\n",
            "Difference of Matrices:\n",
            " [[1 2]\n",
            " [3 4]]\n"
          ]
        }
      ]
    },
    {
      "cell_type": "markdown",
      "source": [
        "## Matrix Multiplication"
      ],
      "metadata": {
        "id": "8mb2nn6cr4JS"
      }
    },
    {
      "cell_type": "code",
      "source": [
        "# Define two matrices\n",
        "matrix_B = np.array([\n",
        "    [2, 3],\n",
        "    [4, 5]\n",
        "    ])\n",
        "matrix_C = np.array([\n",
        "    [1, 1],\n",
        "    [1, 1]\n",
        "    ])\n",
        "\n",
        "# np.dot()\n",
        "product_matrix = np.dot(matrix_B, matrix_C)\n",
        "\n",
        "print(\"Product of Matrices:\\n\", product_matrix)"
      ],
      "metadata": {
        "colab": {
          "base_uri": "https://localhost:8080/"
        },
        "id": "xxsDfM9OrmqB",
        "outputId": "0d3c0258-7b3a-4d1b-d622-63069a205a95"
      },
      "execution_count": null,
      "outputs": [
        {
          "output_type": "stream",
          "name": "stdout",
          "text": [
            "Product of Matrices:\n",
            " [[5 5]\n",
            " [9 9]]\n"
          ]
        }
      ]
    },
    {
      "cell_type": "markdown",
      "source": [
        "## Exercise: Calculating Total Sales"
      ],
      "metadata": {
        "id": "vd7PtOAHuOj9"
      }
    },
    {
      "cell_type": "code",
      "source": [
        "# Defining matrices\n",
        "price_matrix = np.array([[10, 15],\n",
        "                         [12, 18]])\n",
        "quantity_matrix = np.array([[30, 40],\n",
        "                            [25, 35]])\n",
        "\n",
        "# Multiplying matrices to get total sales\n",
        "total_sales_matrix = np.dot(price_matrix, quantity_matrix.T)\n",
        "\n",
        "print(\"Total Sales Matrix:\\n\", total_sales_matrix)"
      ],
      "metadata": {
        "colab": {
          "base_uri": "https://localhost:8080/"
        },
        "id": "D3t5Xo1hsKby",
        "outputId": "f3f6c7d6-e3ae-425b-a347-1f26e3fcebc2"
      },
      "execution_count": null,
      "outputs": [
        {
          "output_type": "stream",
          "name": "stdout",
          "text": [
            "Total Sales Matrix:\n",
            " [[ 900  775]\n",
            " [1080  930]]\n"
          ]
        }
      ]
    },
    {
      "cell_type": "markdown",
      "source": [
        "## Exercice: Weather data"
      ],
      "metadata": {
        "id": "ipAAGlE9ukCz"
      }
    },
    {
      "cell_type": "code",
      "source": [
        "# Temperature data matrix (4 cities, 7 days)\n",
        "temperature_data = np.array([\n",
        "    [27, 20, 15, 18, 26, 18, 22],\n",
        "    [24, 18, 20, 17, 19, 22, 21],\n",
        "    [23, 23, 27, 25, 16, 21, 22],\n",
        "    [22, 29, 23, 16, 20, 24, 28]\n",
        "])"
      ],
      "metadata": {
        "id": "-LzVNej1uUJP"
      },
      "execution_count": null,
      "outputs": []
    },
    {
      "cell_type": "code",
      "source": [
        "# Transposing our dataset to get the same shape than the exercise's one\n",
        "transposed_data = temperature_data.T\n",
        "\n",
        "print(transposed_data)"
      ],
      "metadata": {
        "colab": {
          "base_uri": "https://localhost:8080/"
        },
        "id": "I_ctVlcrw9tH",
        "outputId": "fd445951-614c-4e94-b5c9-a7a8d460e59c"
      },
      "execution_count": null,
      "outputs": [
        {
          "output_type": "stream",
          "name": "stdout",
          "text": [
            "[[27 24 23 22]\n",
            " [20 18 23 29]\n",
            " [15 20 27 23]\n",
            " [18 17 25 16]\n",
            " [26 19 16 20]\n",
            " [18 22 21 24]\n",
            " [22 21 22 28]]\n"
          ]
        }
      ]
    },
    {
      "cell_type": "code",
      "source": [
        "# Tasks: Calculate average, max, min temperatures\n",
        "\n",
        "average_temps = np.mean(transposed_data, axis = 0)\n",
        "max_temps = np.max(transposed_data, axis = 0)\n",
        "min_temps = np.min(transposed_data, axis = 0)\n",
        "\n",
        "print(f\"Average Temperatures: {average_temps}.\")\n",
        "print(f\"Maximum Temperatures: {max_temps}.\")\n",
        "print(f\"Minimum Temperatures: {min_temps}.\")"
      ],
      "metadata": {
        "colab": {
          "base_uri": "https://localhost:8080/"
        },
        "id": "O3fkTBXGunWJ",
        "outputId": "f20d56aa-fbe4-4205-8117-7071a91a34eb"
      },
      "execution_count": null,
      "outputs": [
        {
          "output_type": "stream",
          "name": "stdout",
          "text": [
            "Average Temperatures: [20.85714286 20.14285714 22.42857143 23.14285714].\n",
            "Maximum Temperatures: [27 24 27 29].\n",
            "Minimum Temperatures: [15 17 16 16].\n"
          ]
        }
      ]
    },
    {
      "cell_type": "code",
      "source": [
        "# Day Comparison: Temperature differences between Day 1 and Day 7 in each city.\n",
        "\n",
        "days_1 = transposed_data[0, :]\n",
        "days_7 = transposed_data[6, :]\n",
        "\n",
        "print(f\"First day for every city: {days_1}.\")\n",
        "print(f\"Last day for every city: {days_7}.\")\n"
      ],
      "metadata": {
        "colab": {
          "base_uri": "https://localhost:8080/"
        },
        "id": "EoIlVqeXvZVq",
        "outputId": "5a1ba77c-e5ab-45c9-ec0f-9a7ff1718103"
      },
      "execution_count": null,
      "outputs": [
        {
          "output_type": "stream",
          "name": "stdout",
          "text": [
            "First day for every city: [27 24 23 22].\n",
            "Last day for every city: [22 21 22 28].\n"
          ]
        }
      ]
    },
    {
      "cell_type": "markdown",
      "source": [
        "# Distribution"
      ],
      "metadata": {
        "id": "pSRCQekj59wC"
      }
    },
    {
      "cell_type": "code",
      "source": [
        "# Simulating a Normal Distribution\n",
        "import matplotlib.pyplot as plt\n",
        "\n",
        "# Generate a normal distribution\n",
        "mean = 0\n",
        "std_dev = 1\n",
        "samples = np.random.normal(mean, std_dev, 1000)\n",
        "\n",
        "# Plotting the distribution\n",
        "plt.hist(samples, bins=50, density=True)\n",
        "plt.title(\"Normal Distribution\")\n",
        "plt.xlabel(\"Value\")\n",
        "plt.ylabel(\"Frequency\")\n",
        "plt.show()"
      ],
      "metadata": {
        "colab": {
          "base_uri": "https://localhost:8080/",
          "height": 472
        },
        "id": "JlHohte4wLbp",
        "outputId": "5d43a6ed-e9ec-4919-914c-f55ca43b0c4d"
      },
      "execution_count": null,
      "outputs": [
        {
          "output_type": "display_data",
          "data": {
            "text/plain": [
              "<Figure size 640x480 with 1 Axes>"
            ],
            "image/png": "[encoded data removed]"
          },
          "metadata": {}
        }
      ]
    },
    {
      "cell_type": "code",
      "source": [
        "# Random sampling from an array\n",
        "data = np.arange(10)\n",
        "sample = np.random.choice(data, size=5, replace=False)\n",
        "print(\"Random Sample:\", sample)"
      ],
      "metadata": {
        "colab": {
          "base_uri": "https://localhost:8080/"
        },
        "id": "hin_5fu86SqQ",
        "outputId": "4a071064-8a4e-45d2-ec71-bcbc7b3b3693"
      },
      "execution_count": null,
      "outputs": [
        {
          "output_type": "stream",
          "name": "stdout",
          "text": [
            "Random Sample: [6 7 3 8 9]\n"
          ]
        }
      ]
    },
    {
      "cell_type": "code",
      "source": [
        "# Shuffling data\n",
        "np.random.shuffle(data)\n",
        "print(\"Shuffled Data:\", data)"
      ],
      "metadata": {
        "colab": {
          "base_uri": "https://localhost:8080/"
        },
        "id": "qktetueJ7BIb",
        "outputId": "7da6a4e8-792b-4ef5-ed7f-cccbd5926fff"
      },
      "execution_count": null,
      "outputs": [
        {
          "output_type": "stream",
          "name": "stdout",
          "text": [
            "Shuffled Data: [8 3 2 9 0 5 6 4 1 7]\n"
          ]
        }
      ]
    },
    {
      "cell_type": "markdown",
      "source": [
        "## Exercise about statistics"
      ],
      "metadata": {
        "id": "s57knnQb7rV_"
      }
    },
    {
      "cell_type": "code",
      "source": [
        "# 1. Sampling and Shuffling Data: Perform random sampling on a dataset, followed by shuffling the sampled data.\n",
        "\n",
        "# Create dataset\n",
        "rng = np.random.default_rng()\n",
        "\n",
        "# Generate dataset\n",
        "data = rng.integers(1, 100, size = 40)\n",
        "print(f\"Our dataset: {data}.\")\n"
      ],
      "metadata": {
        "colab": {
          "base_uri": "https://localhost:8080/"
        },
        "id": "8Uh1CaJE7KB8",
        "outputId": "37dc5dd5-3f67-4eb4-a522-3f3373621689"
      },
      "execution_count": null,
      "outputs": [
        {
          "output_type": "stream",
          "name": "stdout",
          "text": [
            "Our dataset: [24 46 76 23  1 93 64  9 83 72 89  4 68 22 32 11 17 26 12 71 47 20 47 30\n",
            " 76 86 90 40 14  2 21 54 79 97 22 70 89 84 76 49].\n"
          ]
        }
      ]
    },
    {
      "cell_type": "code",
      "source": [
        "# 1.1 Perform random sampling\n",
        "sample = rng.choice(data, size = 10, replace = False)\n",
        "print(f\"Our sample: {sample}.\")"
      ],
      "metadata": {
        "colab": {
          "base_uri": "https://localhost:8080/"
        },
        "id": "gWsDymAP8wf2",
        "outputId": "b7d4322c-e3b5-4623-87a1-00c91f5c39d3"
      },
      "execution_count": null,
      "outputs": [
        {
          "output_type": "stream",
          "name": "stdout",
          "text": [
            "Our sample: [93 47 21 68 64 22 83 14 32 79].\n"
          ]
        }
      ]
    },
    {
      "cell_type": "code",
      "source": [
        "# 1.2 Perform random suffling\n",
        "shuffled_data = rng.shuffle(sample)\n",
        "print(f\"Our shuffled data: {sample}.\")"
      ],
      "metadata": {
        "colab": {
          "base_uri": "https://localhost:8080/"
        },
        "id": "_p3azTSR9Jlr",
        "outputId": "eb7d611f-4d01-4fa6-dc7d-fed00324cbb7"
      },
      "execution_count": null,
      "outputs": [
        {
          "output_type": "stream",
          "name": "stdout",
          "text": [
            "Our shuffled data: [79 93 22 47 68 14 64 83 32 21].\n"
          ]
        }
      ]
    },
    {
      "cell_type": "code",
      "source": [
        "# 2. Compute Descriptive Statistics: Calculate mean, median, variance, skewness, and kurtosis of a randomly generated dataset.\n",
        "\n",
        "from scipy.stats import skew, kurtosis\n",
        "\n",
        "# Create a normal dataset\n",
        "rng = np.random.default_rng()\n",
        "norm_data = rng.normal(loc = 20, scale = 5, size = 80)\n",
        "\n",
        "# 2.1 Calculate mean\n",
        "mean_value = np.mean(norm_data)\n",
        "print(f\"Mean: {mean_value}.\")\n",
        "\n",
        "# 2.2 Calculate median\n",
        "median_value = np.median(norm_data)\n",
        "print(f\"Median: {median_value}.\")\n",
        "\n",
        "# 2.3 Calculate variance\n",
        "variance_value = np.var(norm_data)\n",
        "print(f\"Variance: {variance_value}.\")\n",
        "\n",
        "# 2.4 Calculate skewness\n",
        "skewness_value = skew(norm_data)\n",
        "print(f\"Skewness: {skewness_value}.\")\n",
        "\n",
        "# 2.5 Calculate kurtosis\n",
        "kurtosis_value = kurtosis(norm_data)\n",
        "print(f\"Kurtosis: {kurtosis_value}.\")\n",
        "\n"
      ],
      "metadata": {
        "colab": {
          "base_uri": "https://localhost:8080/"
        },
        "id": "B6t7g6Ld9Zk3",
        "outputId": "82e97d72-6068-47d9-dfdf-faada092120a"
      },
      "execution_count": null,
      "outputs": [
        {
          "output_type": "stream",
          "name": "stdout",
          "text": [
            "Mean: 19.975268990362693.\n",
            "Median: 19.640502165950593.\n",
            "Variance: 22.631547943719887.\n",
            "Skewness: -0.4997417977952424.\n",
            "Kurtosis: 0.12290672318943674.\n"
          ]
        }
      ]
    },
    {
      "cell_type": "markdown",
      "source": [
        "# Time Series"
      ],
      "metadata": {
        "id": "syr0B75NA9Tt"
      }
    },
    {
      "cell_type": "code",
      "source": [
        "# Creating date ranges\n",
        "dates = np.arange('2020-01', '2020-02', dtype='datetime64[D]')\n",
        "print(\"January 2020 Dates:\\n\", dates)"
      ],
      "metadata": {
        "colab": {
          "base_uri": "https://localhost:8080/"
        },
        "id": "LTyGQGbO_UlJ",
        "outputId": "d2eec6fb-21d6-4f7c-ea72-d92e1fd1eb29"
      },
      "execution_count": null,
      "outputs": [
        {
          "output_type": "stream",
          "name": "stdout",
          "text": [
            "January 2020 Dates:\n",
            " ['2020-01-01' '2020-01-02' '2020-01-03' '2020-01-04' '2020-01-05'\n",
            " '2020-01-06' '2020-01-07' '2020-01-08' '2020-01-09' '2020-01-10'\n",
            " '2020-01-11' '2020-01-12' '2020-01-13' '2020-01-14' '2020-01-15'\n",
            " '2020-01-16' '2020-01-17' '2020-01-18' '2020-01-19' '2020-01-20'\n",
            " '2020-01-21' '2020-01-22' '2020-01-23' '2020-01-24' '2020-01-25'\n",
            " '2020-01-26' '2020-01-27' '2020-01-28' '2020-01-29' '2020-01-30'\n",
            " '2020-01-31']\n"
          ]
        }
      ]
    },
    {
      "cell_type": "code",
      "source": [
        "# Converting dates to a different format\n",
        "formatted_dates = np.datetime_as_string(dates, unit='D')\n",
        "print(\"Formatted Dates:\\n\", formatted_dates)"
      ],
      "metadata": {
        "colab": {
          "base_uri": "https://localhost:8080/"
        },
        "id": "usJ9Etg7BAJY",
        "outputId": "dc0a0bd5-b36b-407e-b597-5976b1b53e18"
      },
      "execution_count": null,
      "outputs": [
        {
          "output_type": "stream",
          "name": "stdout",
          "text": [
            "Formatted Dates:\n",
            " ['2020-01-01' '2020-01-02' '2020-01-03' '2020-01-04' '2020-01-05'\n",
            " '2020-01-06' '2020-01-07' '2020-01-08' '2020-01-09' '2020-01-10'\n",
            " '2020-01-11' '2020-01-12' '2020-01-13' '2020-01-14' '2020-01-15'\n",
            " '2020-01-16' '2020-01-17' '2020-01-18' '2020-01-19' '2020-01-20'\n",
            " '2020-01-21' '2020-01-22' '2020-01-23' '2020-01-24' '2020-01-25'\n",
            " '2020-01-26' '2020-01-27' '2020-01-28' '2020-01-29' '2020-01-30'\n",
            " '2020-01-31']\n"
          ]
        }
      ]
    },
    {
      "cell_type": "code",
      "source": [
        "# Rolling statistics\n",
        "\n",
        "import pandas as pd\n",
        "\n",
        "# Example: Using rolling statistics\n",
        "ts_data = pd.Series(np.random.randn(100), index=pd.date_range('today', periods=100))\n",
        "rolling_mean = ts_data.rolling(window=5).mean()\n",
        "print(\"Rolling Mean:\\n\", rolling_mean)\n",
        "\n",
        "# Example: Applying a window function\n",
        "window_sum = ts_data.rolling(window=5).sum()\n",
        "print(\"Window Sum:\\n\", window_sum)"
      ],
      "metadata": {
        "colab": {
          "base_uri": "https://localhost:8080/"
        },
        "id": "_wTkHjtqB4Do",
        "outputId": "b0599266-264f-47d9-88d4-dfc1d34f3185"
      },
      "execution_count": null,
      "outputs": [
        {
          "output_type": "stream",
          "name": "stdout",
          "text": [
            "Rolling Mean:\n",
            " 2024-09-16 19:50:06.502718         NaN\n",
            "2024-09-17 19:50:06.502718         NaN\n",
            "2024-09-18 19:50:06.502718         NaN\n",
            "2024-09-19 19:50:06.502718         NaN\n",
            "2024-09-20 19:50:06.502718    0.165498\n",
            "                                ...   \n",
            "2024-12-20 19:50:06.502718    0.240256\n",
            "2024-12-21 19:50:06.502718   -0.192509\n",
            "2024-12-22 19:50:06.502718   -0.347303\n",
            "2024-12-23 19:50:06.502718   -0.251309\n",
            "2024-12-24 19:50:06.502718   -0.774399\n",
            "Freq: D, Length: 100, dtype: float64\n",
            "Window Sum:\n",
            " 2024-09-16 19:50:06.502718         NaN\n",
            "2024-09-17 19:50:06.502718         NaN\n",
            "2024-09-18 19:50:06.502718         NaN\n",
            "2024-09-19 19:50:06.502718         NaN\n",
            "2024-09-20 19:50:06.502718    0.827488\n",
            "                                ...   \n",
            "2024-12-20 19:50:06.502718    1.201281\n",
            "2024-12-21 19:50:06.502718   -0.962544\n",
            "2024-12-22 19:50:06.502718   -1.736517\n",
            "2024-12-23 19:50:06.502718   -1.256546\n",
            "2024-12-24 19:50:06.502718   -3.871995\n",
            "Freq: D, Length: 100, dtype: float64\n"
          ]
        }
      ]
    },
    {
      "cell_type": "markdown",
      "source": [
        "## Exercises on Time Series Data in NumPy\n"
      ],
      "metadata": {
        "id": "BIAhMSZwEE4n"
      }
    },
    {
      "cell_type": "code",
      "source": [
        "# Data Creation Exercise:\n",
        "import numpy as np\n",
        "import pandas as pd\n",
        "\n",
        "# 1. Generate date range\n",
        "rng = np.random.default_rng()\n",
        "date_values = np.arange('2022-01-01', '2023-01-01', dtype = 'datetime64[D]')\n",
        "\n",
        "# 2. Simulate temperature (between 10 and 35)\n",
        "temp_values = rng.uniform(10, 35, size= len(date_values))\n",
        "\n",
        "# 3. Humidity (between 30% and 90%)\n",
        "humidity_values = rng.uniform(0.3, 0.9, size = len(date_values))\n",
        "\n",
        "# 4. Create a DataFrame\n",
        "df = pd.DataFrame({\n",
        "    'Date': date_values,\n",
        "    'Temperature': temp_values,\n",
        "    'Humidity': humidity_values\n",
        "}\n",
        ")\n",
        "\n",
        "df.head()"
      ],
      "metadata": {
        "colab": {
          "base_uri": "https://localhost:8080/",
          "height": 206
        },
        "id": "cBPCL65wEG3d",
        "outputId": "d68ca6ba-a998-4c1e-a987-af3d9d910ce1"
      },
      "execution_count": null,
      "outputs": [
        {
          "output_type": "execute_result",
          "data": {
            "text/plain": [
              "        Date  Temperature  Humidity\n",
              "0 2022-01-01    20.587639  0.837225\n",
              "1 2022-01-02    14.917757  0.529616\n",
              "2 2022-01-03    16.040909  0.689264\n",
              "3 2022-01-04    16.017954  0.359947\n",
              "4 2022-01-05    17.411362  0.339012"
            ],
            "text/html": [
              "\n",
              "  <div id=\"df-51d5b879-6fe2-41c7-bb78-5f62f29d7af9\" class=\"colab-df-container\">\n",
              "    <div>\n",
              "<style scoped>\n",
              "    .dataframe tbody tr th:only-of-type {\n",
              "        vertical-align: middle;\n",
              "    }\n",
              "\n",
              "    .dataframe tbody tr th {\n",
              "        vertical-align: top;\n",
              "    }\n",
              "\n",
              "    .dataframe thead th {\n",
              "        text-align: right;\n",
              "    }\n",
              "</style>\n",
              "<table border=\"1\" class=\"dataframe\">\n",
              "  <thead>\n",
              "    <tr style=\"text-align: right;\">\n",
              "      <th></th>\n",
              "      <th>Date</th>\n",
              "      <th>Temperature</th>\n",
              "      <th>Humidity</th>\n",
              "    </tr>\n",
              "  </thead>\n",
              "  <tbody>\n",
              "    <tr>\n",
              "      <th>0</th>\n",
              "      <td>2022-01-01</td>\n",
              "      <td>20.587639</td>\n",
              "      <td>0.837225</td>\n",
              "    </tr>\n",
              "    <tr>\n",
              "      <th>1</th>\n",
              "      <td>2022-01-02</td>\n",
              "      <td>14.917757</td>\n",
              "      <td>0.529616</td>\n",
              "    </tr>\n",
              "    <tr>\n",
              "      <th>2</th>\n",
              "      <td>2022-01-03</td>\n",
              "      <td>16.040909</td>\n",
              "      <td>0.689264</td>\n",
              "    </tr>\n",
              "    <tr>\n",
              "      <th>3</th>\n",
              "      <td>2022-01-04</td>\n",
              "      <td>16.017954</td>\n",
              "      <td>0.359947</td>\n",
              "    </tr>\n",
              "    <tr>\n",
              "      <th>4</th>\n",
              "      <td>2022-01-05</td>\n",
              "      <td>17.411362</td>\n",
              "      <td>0.339012</td>\n",
              "    </tr>\n",
              "  </tbody>\n",
              "</table>\n",
              "</div>\n",
              "    <div class=\"colab-df-buttons\">\n",
              "\n",
              "  <div class=\"colab-df-container\">\n",
              "    <button class=\"colab-df-convert\" onclick=\"convertToInteractive('df-51d5b879-6fe2-41c7-bb78-5f62f29d7af9')\"\n",
              "            title=\"Convert this dataframe to an interactive table.\"\n",
              "            style=\"display:none;\">\n",
              "\n",
              "  <svg xmlns=\"http://www.w3.org/2000/svg\" height=\"24px\" viewBox=\"0 -960 960 960\">\n",
              "    <path d=\"M120-120v-720h720v720H120Zm60-500h600v-160H180v160Zm220 220h160v-160H400v160Zm0 220h160v-160H400v160ZM180-400h160v-160H180v160Zm440 0h160v-160H620v160ZM180-180h160v-160H180v160Zm440 0h160v-160H620v160Z\"/>\n",
              "  </svg>\n",
              "    </button>\n",
              "\n",
              "  <style>\n",
              "    .colab-df-container {\n",
              "      display:flex;\n",
              "      gap: 12px;\n",
              "    }\n",
              "\n",
              "    .colab-df-convert {\n",
              "      background-color: #E8F0FE;\n",
              "      border: none;\n",
              "      border-radius: 50%;\n",
              "      cursor: pointer;\n",
              "      display: none;\n",
              "      fill: #1967D2;\n",
              "      height: 32px;\n",
              "      padding: 0 0 0 0;\n",
              "      width: 32px;\n",
              "    }\n",
              "\n",
              "    .colab-df-convert:hover {\n",
              "      background-color: #E2EBFA;\n",
              "      box-shadow: 0px 1px 2px rgba(60, 64, 67, 0.3), 0px 1px 3px 1px rgba(60, 64, 67, 0.15);\n",
              "      fill: #174EA6;\n",
              "    }\n",
              "\n",
              "    .colab-df-buttons div {\n",
              "      margin-bottom: 4px;\n",
              "    }\n",
              "\n",
              "    [theme=dark] .colab-df-convert {\n",
              "      background-color: #3B4455;\n",
              "      fill: #D2E3FC;\n",
              "    }\n",
              "\n",
              "    [theme=dark] .colab-df-convert:hover {\n",
              "      background-color: #434B5C;\n",
              "      box-shadow: 0px 1px 3px 1px rgba(0, 0, 0, 0.15);\n",
              "      filter: drop-shadow(0px 1px 2px rgba(0, 0, 0, 0.3));\n",
              "      fill: #FFFFFF;\n",
              "    }\n",
              "  </style>\n",
              "\n",
              "    <script>\n",
              "      const buttonEl =\n",
              "        document.querySelector('#df-51d5b879-6fe2-41c7-bb78-5f62f29d7af9 button.colab-df-convert');\n",
              "      buttonEl.style.display =\n",
              "        google.colab.kernel.accessAllowed ? 'block' : 'none';\n",
              "\n",
              "      async function convertToInteractive(key) {\n",
              "        const element = document.querySelector('#df-51d5b879-6fe2-41c7-bb78-5f62f29d7af9');\n",
              "        const dataTable =\n",
              "          await google.colab.kernel.invokeFunction('convertToInteractive',\n",
              "                                                    [key], {});\n",
              "        if (!dataTable) return;\n",
              "\n",
              "        const docLinkHtml = 'Like what you see? Visit the ' +\n",
              "          '<a target=\"_blank\" href=https://colab.research.google.com/notebooks/data_table.ipynb>data table notebook</a>'\n",
              "          + ' to learn more about interactive tables.';\n",
              "        element.innerHTML = '';\n",
              "        dataTable['output_type'] = 'display_data';\n",
              "        await google.colab.output.renderOutput(dataTable, element);\n",
              "        const docLink = document.createElement('div');\n",
              "        docLink.innerHTML = docLinkHtml;\n",
              "        element.appendChild(docLink);\n",
              "      }\n",
              "    </script>\n",
              "  </div>\n",
              "\n",
              "\n",
              "<div id=\"df-d961b29a-ffb2-472b-8cbd-4a5b21adb086\">\n",
              "  <button class=\"colab-df-quickchart\" onclick=\"quickchart('df-d961b29a-ffb2-472b-8cbd-4a5b21adb086')\"\n",
              "            title=\"Suggest charts\"\n",
              "            style=\"display:none;\">\n",
              "\n",
              "<svg xmlns=\"http://www.w3.org/2000/svg\" height=\"24px\"viewBox=\"0 0 24 24\"\n",
              "     width=\"24px\">\n",
              "    <g>\n",
              "        <path d=\"M19 3H5c-1.1 0-2 .9-2 2v14c0 1.1.9 2 2 2h14c1.1 0 2-.9 2-2V5c0-1.1-.9-2-2-2zM9 17H7v-7h2v7zm4 0h-2V7h2v10zm4 0h-2v-4h2v4z\"/>\n",
              "    </g>\n",
              "</svg>\n",
              "  </button>\n",
              "\n",
              "<style>\n",
              "  .colab-df-quickchart {\n",
              "      --bg-color: #E8F0FE;\n",
              "      --fill-color: #1967D2;\n",
              "      --hover-bg-color: #E2EBFA;\n",
              "      --hover-fill-color: #174EA6;\n",
              "      --disabled-fill-color: #AAA;\n",
              "      --disabled-bg-color: #DDD;\n",
              "  }\n",
              "\n",
              "  [theme=dark] .colab-df-quickchart {\n",
              "      --bg-color: #3B4455;\n",
              "      --fill-color: #D2E3FC;\n",
              "      --hover-bg-color: #434B5C;\n",
              "      --hover-fill-color: #FFFFFF;\n",
              "      --disabled-bg-color: #3B4455;\n",
              "      --disabled-fill-color: #666;\n",
              "  }\n",
              "\n",
              "  .colab-df-quickchart {\n",
              "    background-color: var(--bg-color);\n",
              "    border: none;\n",
              "    border-radius: 50%;\n",
              "    cursor: pointer;\n",
              "    display: none;\n",
              "    fill: var(--fill-color);\n",
              "    height: 32px;\n",
              "    padding: 0;\n",
              "    width: 32px;\n",
              "  }\n",
              "\n",
              "  .colab-df-quickchart:hover {\n",
              "    background-color: var(--hover-bg-color);\n",
              "    box-shadow: 0 1px 2px rgba(60, 64, 67, 0.3), 0 1px 3px 1px rgba(60, 64, 67, 0.15);\n",
              "    fill: var(--button-hover-fill-color);\n",
              "  }\n",
              "\n",
              "  .colab-df-quickchart-complete:disabled,\n",
              "  .colab-df-quickchart-complete:disabled:hover {\n",
              "    background-color: var(--disabled-bg-color);\n",
              "    fill: var(--disabled-fill-color);\n",
              "    box-shadow: none;\n",
              "  }\n",
              "\n",
              "  .colab-df-spinner {\n",
              "    border: 2px solid var(--fill-color);\n",
              "    border-color: transparent;\n",
              "    border-bottom-color: var(--fill-color);\n",
              "    animation:\n",
              "      spin 1s steps(1) infinite;\n",
              "  }\n",
              "\n",
              "  @keyframes spin {\n",
              "    0% {\n",
              "      border-color: transparent;\n",
              "      border-bottom-color: var(--fill-color);\n",
              "      border-left-color: var(--fill-color);\n",
              "    }\n",
              "    20% {\n",
              "      border-color: transparent;\n",
              "      border-left-color: var(--fill-color);\n",
              "      border-top-color: var(--fill-color);\n",
              "    }\n",
              "    30% {\n",
              "      border-color: transparent;\n",
              "      border-left-color: var(--fill-color);\n",
              "      border-top-color: var(--fill-color);\n",
              "      border-right-color: var(--fill-color);\n",
              "    }\n",
              "    40% {\n",
              "      border-color: transparent;\n",
              "      border-right-color: var(--fill-color);\n",
              "      border-top-color: var(--fill-color);\n",
              "    }\n",
              "    60% {\n",
              "      border-color: transparent;\n",
              "      border-right-color: var(--fill-color);\n",
              "    }\n",
              "    80% {\n",
              "      border-color: transparent;\n",
              "      border-right-color: var(--fill-color);\n",
              "      border-bottom-color: var(--fill-color);\n",
              "    }\n",
              "    90% {\n",
              "      border-color: transparent;\n",
              "      border-bottom-color: var(--fill-color);\n",
              "    }\n",
              "  }\n",
              "</style>\n",
              "\n",
              "  <script>\n",
              "    async function quickchart(key) {\n",
              "      const quickchartButtonEl =\n",
              "        document.querySelector('#' + key + ' button');\n",
              "      quickchartButtonEl.disabled = true;  // To prevent multiple clicks.\n",
              "      quickchartButtonEl.classList.add('colab-df-spinner');\n",
              "      try {\n",
              "        const charts = await google.colab.kernel.invokeFunction(\n",
              "            'suggestCharts', [key], {});\n",
              "      } catch (error) {\n",
              "        console.error('Error during call to suggestCharts:', error);\n",
              "      }\n",
              "      quickchartButtonEl.classList.remove('colab-df-spinner');\n",
              "      quickchartButtonEl.classList.add('colab-df-quickchart-complete');\n",
              "    }\n",
              "    (() => {\n",
              "      let quickchartButtonEl =\n",
              "        document.querySelector('#df-d961b29a-ffb2-472b-8cbd-4a5b21adb086 button');\n",
              "      quickchartButtonEl.style.display =\n",
              "        google.colab.kernel.accessAllowed ? 'block' : 'none';\n",
              "    })();\n",
              "  </script>\n",
              "</div>\n",
              "\n",
              "    </div>\n",
              "  </div>\n"
            ],
            "application/vnd.google.colaboratory.intrinsic+json": {
              "type": "dataframe",
              "variable_name": "df",
              "summary": "{\n  \"name\": \"df\",\n  \"rows\": 365,\n  \"fields\": [\n    {\n      \"column\": \"Date\",\n      \"properties\": {\n        \"dtype\": \"date\",\n        \"min\": \"2022-01-01 00:00:00\",\n        \"max\": \"2022-12-31 00:00:00\",\n        \"num_unique_values\": 365,\n        \"samples\": [\n          \"2022-07-13 00:00:00\",\n          \"2022-02-03 00:00:00\",\n          \"2022-01-16 00:00:00\"\n        ],\n        \"semantic_type\": \"\",\n        \"description\": \"\"\n      }\n    },\n    {\n      \"column\": \"Temperature\",\n      \"properties\": {\n        \"dtype\": \"number\",\n        \"std\": 7.139281464215814,\n        \"min\": 10.057685780788791,\n        \"max\": 34.84692988651722,\n        \"num_unique_values\": 365,\n        \"samples\": [\n          31.72079088060678,\n          20.566780270682596,\n          10.339476243184475\n        ],\n        \"semantic_type\": \"\",\n        \"description\": \"\"\n      }\n    },\n    {\n      \"column\": \"Humidity\",\n      \"properties\": {\n        \"dtype\": \"number\",\n        \"std\": 0.17488464190201297,\n        \"min\": 0.3025683110643422,\n        \"max\": 0.8997360745048839,\n        \"num_unique_values\": 365,\n        \"samples\": [\n          0.8961454920787564,\n          0.46164706625019614,\n          0.7871879819981059\n        ],\n        \"semantic_type\": \"\",\n        \"description\": \"\"\n      }\n    }\n  ]\n}"
            }
          },
          "metadata": {},
          "execution_count": 24
        }
      ]
    },
    {
      "cell_type": "code",
      "source": [
        "# 2. Data Analysis Exercise:\n",
        "\n",
        "# 2.1 Calculate the mean, median, and standard deviation for both temperature and humidity\n",
        "\n",
        "mean_temp = df['Temperature'].mean()\n",
        "median_temp = df['Temperature'].median()\n",
        "std_temp = df['Temperature'].std()\n",
        "\n",
        "mean_humidity = df['Humidity'].mean()\n",
        "median_humidity = df['Humidity'].median()\n",
        "std_humidity = df['Humidity'].std()\n",
        "\n",
        "print(f\"Mean Temperature: {mean_temp}.\")\n",
        "print(f\"Median Temperature: {median_temp}.\")\n",
        "print(f\"Standard Deviation Temperature: {std_temp}.\")\n",
        "\n",
        "print(f\"Mean Humidity: {mean_humidity}.\")\n",
        "print(f\"Median Humidity: {median_humidity}.\")\n",
        "print(f\"Standard Deviation Humidity: {std_humidity}.\")"
      ],
      "metadata": {
        "colab": {
          "base_uri": "https://localhost:8080/"
        },
        "id": "7JPG1OfNGaqM",
        "outputId": "76003961-a7d2-46e6-e954-78130faa89b3"
      },
      "execution_count": null,
      "outputs": [
        {
          "output_type": "stream",
          "name": "stdout",
          "text": [
            "Mean Temperature: 21.89566258372884.\n",
            "Median Temperature: 20.869063219958782.\n",
            "Standard Deviation Temperature: 7.139281464215814.\n",
            "Mean Humidity: 0.6082645592326021.\n",
            "Median Humidity: 0.5916232760222033.\n",
            "Standard Deviation Humidity: 0.17488464190201297.\n"
          ]
        }
      ]
    },
    {
      "cell_type": "code",
      "source": [
        "# Identify the date with the highest temperature and the date with the highest humidity.\n",
        "max_temp_date = df.loc[df['Temperature'].idxmax(), 'Date']\n",
        "max_humidity_date = df.loc[df['Humidity'].idxmax(), 'Date']\n",
        "\n",
        "\n",
        "print(f\"Date with the highest temperature: {max_temp_date}.\")\n",
        "print(f\"Date with the highest humidity: {max_humidity_date}.\")\n"
      ],
      "metadata": {
        "colab": {
          "base_uri": "https://localhost:8080/"
        },
        "id": "D9seuP0jHSFQ",
        "outputId": "266d715f-5d94-43f5-d06a-6211e01eefbd"
      },
      "execution_count": null,
      "outputs": [
        {
          "output_type": "stream",
          "name": "stdout",
          "text": [
            "Date with the highest temperature: 2022-05-12 00:00:00.\n",
            "Date with the highest humidity: 2022-08-09 00:00:00.\n"
          ]
        }
      ]
    },
    {
      "cell_type": "code",
      "source": [
        "# Plot the temperature and humidity trends over the year\n",
        "import matplotlib.pyplot as plt\n",
        "\n",
        "plt.figure(figsize=(10, 6))\n",
        "plt.plot(df['Date'], df['Temperature'], label='Temperature (°C)')\n",
        "plt.plot(df['Date'], df['Humidity'], label='Humidity (%)', alpha=0.8)\n",
        "plt.xlabel('Date')\n",
        "plt.ylabel('Value')\n",
        "plt.title('Temperature and Humidity Trends in 2022')\n",
        "plt.legend()\n",
        "plt.show()\n",
        "5"
      ],
      "metadata": {
        "colab": {
          "base_uri": "https://localhost:8080/",
          "height": 581
        },
        "id": "hWDWCtprYWV5",
        "outputId": "f1144bbc-9f6a-4bc9-f3c8-bb46d365a94e"
      },
      "execution_count": null,
      "outputs": [
        {
          "output_type": "display_data",
          "data": {
            "text/plain": [
              "<Figure size 1000x600 with 1 Axes>"
            ],
            "image/png": "[encoded data removed]"
          },
          "metadata": {}
        },
        {
          "output_type": "execute_result",
          "data": {
            "text/plain": [
              "5"
            ]
          },
          "metadata": {},
          "execution_count": 27
        }
      ]
    },
    {
      "cell_type": "markdown",
      "source": [
        "# Integrating ..."
      ],
      "metadata": {
        "id": "KoaOCp9sJItj"
      }
    },
    {
      "cell_type": "code",
      "source": [
        "import numpy as np\n",
        "import pandas as pd\n",
        "import time\n",
        "\n",
        "# Creating a large DataFrame\n",
        "data = pd.DataFrame(np.random.rand(100000, 4), columns=['A', 'B', 'C', 'D'])\n",
        "\n",
        "# Timing Pandas operations\n",
        "start_time = time.time()\n",
        "result_pandas = data[(data['A'] > 0.5) & (data['B'] < 0.5)].mean()\n",
        "end_time = time.time()\n",
        "print(\"Pandas Conditional Mean:\\n\", result_pandas)\n",
        "print(\"Pandas Operation Time: {:.5f} seconds\".format(end_time - start_time))\n",
        "\n",
        "# Timing equivalent NumPy operations\n",
        "numpy_data = data.to_numpy()\n",
        "start_time = time.time()\n",
        "result_numpy = np.mean(numpy_data[(numpy_data[:, 0] > 0.5) & (numpy_data[:, 1] < 0.5)], axis=0)\n",
        "end_time = time.time()\n",
        "print(\"NumPy Conditional Mean:\\n\", result_numpy)\n",
        "print(\"NumPy Operation Time: {:.5f} seconds\".format(end_time - start_time))"
      ],
      "metadata": {
        "colab": {
          "base_uri": "https://localhost:8080/"
        },
        "id": "RFFiabZZJKf-",
        "outputId": "296b0948-8532-41ff-9992-225246baea52"
      },
      "execution_count": null,
      "outputs": [
        {
          "output_type": "stream",
          "name": "stdout",
          "text": [
            "Pandas Conditional Mean:\n",
            " A    0.750928\n",
            "B    0.250560\n",
            "C    0.501133\n",
            "D    0.502914\n",
            "dtype: float64\n",
            "Pandas Operation Time: 0.05264 seconds\n",
            "NumPy Conditional Mean:\n",
            " [0.75092769 0.25055953 0.50113254 0.50291446]\n",
            "NumPy Operation Time: 0.01345 seconds\n"
          ]
        }
      ]
    },
    {
      "cell_type": "code",
      "source": [],
      "metadata": {
        "id": "RMMQo-LeJlm5"
      },
      "execution_count": null,
      "outputs": []
    }
  ]
}