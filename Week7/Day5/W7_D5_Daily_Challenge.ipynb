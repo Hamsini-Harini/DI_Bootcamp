{
  "cells": [
    {
      "cell_type": "code",
      "execution_count": 6,
      "metadata": {
        "colab": {
          "base_uri": "https://localhost:8080/"
        },
        "id": "CKnHbcTfdTP3",
        "outputId": "5cbbccb3-c976-46ae-c331-f5432b4527e6"
      },
      "outputs": [
        {
          "name": "stdout",
          "output_type": "stream",
          "text": [
            "Requirement already satisfied: openpyxl in /usr/local/lib/python3.10/dist-packages (3.1.5)\n",
            "Requirement already satisfied: et-xmlfile in /usr/local/lib/python3.10/dist-packages (from openpyxl) (1.1.0)\n"
          ]
        }
      ],
      "source": [
        "!pip install openpyxl\n",
        "\n",
        "from openpyxl import Workbook\n",
        "from openpyxl.styles import Font, PatternFill\n"
      ]
    },
    {
      "cell_type": "markdown",
      "metadata": {},
      "source": [
        "GOOGLE COLLAB LINK \n",
        "https://colab.research.google.com/drive/1GiYEMXuZ5zAUNL4aRZtIio0yfAQDmfx1?usp=sharing "
      ]
    },
    {
      "cell_type": "code",
      "execution_count": 7,
      "metadata": {
        "id": "ggeEp-Vidr9I"
      },
      "outputs": [],
      "source": [
        "# Create a new workbook and add a sheet\n",
        "wb = Workbook()\n",
        "ws = wb.active\n",
        "ws.title = \"Grades\""
      ]
    },
    {
      "cell_type": "code",
      "execution_count": 8,
      "metadata": {
        "id": "xcv0-tErdSi3"
      },
      "outputs": [],
      "source": [
        "data = {\n",
        "    \"Joe\": {\"math\": 65, \"science\": 78, \"english\": 98, \"gym\": 89},\n",
        "    \"Bill\": {\"math\": 55, \"science\": 72, \"english\": 87, \"gym\": 95},\n",
        "    \"Tim\": {\"math\": 100, \"science\": 45, \"english\": 75, \"gym\": 92},\n",
        "    \"Sally\": {\"math\": 30, \"science\": 25, \"english\": 45, \"gym\": 100},\n",
        "    \"Jane\": {\"math\": 100, \"science\": 100, \"english\": 100, \"gym\": 60}\n",
        "}\n"
      ]
    },
    {
      "cell_type": "code",
      "execution_count": 9,
      "metadata": {
        "id": "PAUpt7p1eSaH"
      },
      "outputs": [],
      "source": [
        "# Define headers\n",
        "headers = [\"Student Name\", \"Math\", \"Science\", \"English\", \"Gym\"]\n",
        "ws.append(headers)  # Append headers to the first row"
      ]
    },
    {
      "cell_type": "code",
      "execution_count": 10,
      "metadata": {
        "id": "wlMlPn5Peejf"
      },
      "outputs": [],
      "source": [
        "# Populate the data for each student\n",
        "for student, grades in data.items(): # The key (student) is the student’s name, and the value (grades) is another dictionary containing the grades for each subject.\n",
        "    row = [student] + list(grades.values())  # Combine the student name with their grades\n",
        "    ws.append(row)"
      ]
    },
    {
      "cell_type": "code",
      "execution_count": 10,
      "metadata": {
        "id": "Z9lvGVPLireA"
      },
      "outputs": [],
      "source": []
    },
    {
      "cell_type": "code",
      "execution_count": 11,
      "metadata": {
        "id": "EG4HFlokkkJ4"
      },
      "outputs": [],
      "source": [
        "# Calculate the row number of the last student (for placing the average formula)\n",
        "last_student_row = len(data) + 1  # +1 because the headers are in row 1\n",
        "\n",
        "# Adding formulas for each subject (Math: B, Science: C, English: D, Gym: E)\n",
        "ws[f\"B{last_student_row + 1}\"] = f\"=AVERAGE(B2:B{last_student_row})\"\n",
        "ws[f\"C{last_student_row + 1}\"] = f\"=AVERAGE(C2:C{last_student_row})\"\n",
        "ws[f\"D{last_student_row + 1}\"] = f\"=AVERAGE(D2:D{last_student_row})\"\n",
        "ws[f\"E{last_student_row + 1}\"] = f\"=AVERAGE(E2:E{last_student_row})\"\n",
        "\n",
        "# Label the average row\n",
        "ws[f\"A{last_student_row + 1}\"] = \"Average\"\n"
      ]
    },
    {
      "cell_type": "code",
      "execution_count": 12,
      "metadata": {
        "id": "_XWdQP5OmHvZ"
      },
      "outputs": [],
      "source": [
        "# Apply bold and colored formatting to the header row\n",
        "header_font = Font(bold=True)\n",
        "header_fill = PatternFill(start_color=\"FFFF00\", end_color=\"FFFF00\", fill_type=\"solid\")\n",
        "\n",
        "for cell in ws[1]:\n",
        "    cell.font = header_font  # Make header text bold\n",
        "    cell.fill = header_fill  # Add a yellow background color\n"
      ]
    },
    {
      "cell_type": "code",
      "execution_count": 13,
      "metadata": {
        "id": "qVGsogT2mRYn"
      },
      "outputs": [],
      "source": [
        "# Save the workbook\n",
        "wb.save(\"grades.xlsx\")\n"
      ]
    }
  ],
  "metadata": {
    "colab": {
      "provenance": []
    },
    "kernelspec": {
      "display_name": "Python 3",
      "name": "python3"
    },
    "language_info": {
      "name": "python"
    }
  },
  "nbformat": 4,
  "nbformat_minor": 0
}
