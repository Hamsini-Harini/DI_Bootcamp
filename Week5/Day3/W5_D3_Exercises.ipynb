{
  "nbformat": 4,
  "nbformat_minor": 0,
  "metadata": {
    "colab": {
      "provenance": []
    },
    "kernelspec": {
      "name": "python3",
      "display_name": "Python 3"
    },
    "language_info": {
      "name": "python"
    }
  },
  "cells": [
    {
      "cell_type": "code",
      "source": [
        "### useful: functions for displaying results from sql queries using pandas\n",
        "from IPython.display import display\n",
        "import pandas as pd\n",
        "\n",
        "def sql(query):\n",
        "    print()\n",
        "    print(query)\n",
        "    print()\n",
        "\n",
        "def get_results(query):\n",
        "    global engine\n",
        "    q = query.statement if isinstance(query, sqlalchemy.orm.query.Query) else query\n",
        "    return pd.read_sql(q, engine)\n",
        "\n",
        "def display_results(query):\n",
        "    df = get_results(query)\n",
        "    display(df)\n",
        "    sql(query)"
      ],
      "metadata": {
        "id": "oZ9XCREPzw5l"
      },
      "execution_count": 22,
      "outputs": []
    },
    {
      "cell_type": "code",
      "source": [
        "import sqlalchemy\n",
        "# Creating a connection to the database\n",
        "# We use SQLite here because the database file is an SQLite .db file\n",
        "# create_engine is used to establish a connection to the database file\n",
        "from sqlalchemy import create_engine, inspect\n",
        "engine = create_engine('sqlite:///chinook.db') # 3 slashes - relative path 4 slashes - absolute path\n",
        "cur = engine.connect()\n",
        "\n"
      ],
      "metadata": {
        "colab": {
          "base_uri": "https://localhost:8080/"
        },
        "id": "yCugxu011_NH",
        "outputId": "cb712db2-b62e-4575-d216-a6df9c5bac2c"
      },
      "execution_count": 26,
      "outputs": [
        {
          "output_type": "stream",
          "name": "stdout",
          "text": [
            "Tables in the database: ['albums', 'artists', 'customers', 'employees', 'genres', 'invoice_items', 'invoices', 'media_types', 'playlist_track', 'playlists', 'tracks']\n"
          ]
        }
      ]
    },
    {
      "cell_type": "markdown",
      "source": [
        "🌟 Exercise 1 : Open the database\n",
        "open the database using sqlalchemy module interface. create an engine object in a variable named engine\n",
        "call the connect() method to obtain a connection and place in a variable named cur\n",
        "now run the code below to to run reflecton on the database, prepare classes that map to the database and create an orm session :"
      ],
      "metadata": {
        "id": "roe1z31t8AYf"
      }
    },
    {
      "cell_type": "code",
      "source": [
        "#then we want to reflect on the database, prepare classes that map to the database and create an orm session :\n",
        "# you create an instance of MetaData, which is an object that holds information about the database's schema (tables, columns, and relationships).\n",
        "metadata = sqlalchemy.MetaData()\n",
        "# reads the database schema from the database engine and populates the MetaData object with the database structure.\n",
        "metadata.reflect(engine)\n",
        "\n",
        "\n",
        "from sqlalchemy.ext.automap import automap_base\n",
        "\n",
        "# used to automatically generate ORM mappings for the tables in the database. Base is the base class for the automatically generated ORM classes\n",
        "Base = automap_base(metadata=metadata)\n",
        "\n",
        "# analyzes the MetaData object and creates ORM classes for each table in the database.\n",
        "Base.prepare()\n",
        "\n",
        "#now each table in the database will be mapped to a class in SQLAlchemy, which you can use to interact with the data using Python objects.\n",
        "\n",
        "# also prepare an orm session to interact with db\n",
        "from sqlalchemy.orm import sessionmaker\n",
        "Session = sessionmaker(bind=engine)\n",
        "session = Session()\n",
        "\n"
      ],
      "metadata": {
        "id": "KjTO_tjb7BDm"
      },
      "execution_count": 32,
      "outputs": []
    },
    {
      "cell_type": "markdown",
      "source": [
        "🌟 Exercise 2 : table names\n",
        "print out all the table names"
      ],
      "metadata": {
        "id": "t1aDE8z98M17"
      }
    },
    {
      "cell_type": "code",
      "source": [
        "metadata.tables.keys()"
      ],
      "metadata": {
        "colab": {
          "base_uri": "https://localhost:8080/"
        },
        "id": "gFn48bPU8OFo",
        "outputId": "ec76f3cf-8309-4e19-ba33-84a67152b7b7"
      },
      "execution_count": 31,
      "outputs": [
        {
          "output_type": "execute_result",
          "data": {
            "text/plain": [
              "dict_keys(['albums', 'artists', 'customers', 'employees', 'genres', 'invoice_items', 'tracks', 'media_types', 'invoices', 'playlist_track', 'playlists'])"
            ]
          },
          "metadata": {},
          "execution_count": 31
        }
      ]
    },
    {
      "cell_type": "code",
      "source": [
        "# Listing all the mapped classes after reflection\n",
        "print(Base.classes.keys())\n"
      ],
      "metadata": {
        "colab": {
          "base_uri": "https://localhost:8080/"
        },
        "id": "WNVltYKK99MG",
        "outputId": "26ef3081-57b4-4b12-98d0-21a71126b339"
      },
      "execution_count": 35,
      "outputs": [
        {
          "output_type": "stream",
          "name": "stdout",
          "text": [
            "['albums', 'artists', 'customers', 'media_types', 'playlists', 'invoices', 'employees', 'tracks', 'invoice_items', 'genres']\n"
          ]
        }
      ]
    },
    {
      "cell_type": "markdown",
      "source": [
        "🌟 Exercise 3 : Tracks\n",
        "print out the first three tracks in the tracks table"
      ],
      "metadata": {
        "id": "iTcrCdYv-qZF"
      }
    },
    {
      "cell_type": "code",
      "source": [
        "# Reference the tracks table\n",
        "Tracks = Base.classes.tracks\n",
        "\n",
        "# Query the first 3 tracks\n",
        "tracks = session.query(Tracks).limit(3).all()\n",
        "\n",
        "# Print out the first three tracks\n",
        "for track in tracks:\n",
        "    print(f\"Track ID: {track.TrackId}, Name: {track.Name}\")\n",
        "\n"
      ],
      "metadata": {
        "colab": {
          "base_uri": "https://localhost:8080/"
        },
        "id": "3XBpbw4A-ybQ",
        "outputId": "4aaf4472-be18-42fa-e4c4-a5fdc7589b5f"
      },
      "execution_count": 39,
      "outputs": [
        {
          "output_type": "stream",
          "name": "stdout",
          "text": [
            "Track ID: 1, Name: For Those About To Rock (We Salute You)\n",
            "Track ID: 2, Name: Balls to the Wall\n",
            "Track ID: 3, Name: Fast As a Shark\n"
          ]
        }
      ]
    },
    {
      "cell_type": "markdown",
      "source": [
        "🌟 Exercise 4 : Albums from Tracks\n",
        "print out the track name and albums title of the first 20 tracks in the tracks table"
      ],
      "metadata": {
        "id": "EpN0MT_VAXTC"
      }
    },
    {
      "cell_type": "code",
      "source": [
        "# First, we need references to both the tracks and albums tables\n",
        "Tracks = Base.classes.tracks\n",
        "Albums = Base.classes.albums\n",
        "\n",
        "# Now, let's query the first 20 tracks along with the corresponding album titles\n",
        "# We'll join the tracks table with the albums table on AlbumId\n",
        "query = session.query(Tracks.Name, Albums.Title).join(Albums, Tracks.AlbumId == Albums.AlbumId).limit(20)\n",
        "\n",
        "# Execute the query and fetch the results\n",
        "tracks_with_albums = query.all()\n",
        "\n",
        "# Now, let's print the track name and corresponding album title for each result\n",
        "for track, album in tracks_with_albums:\n",
        "    print(f\"Track Name: {track}, Album Title: {album}\")\n"
      ],
      "metadata": {
        "colab": {
          "base_uri": "https://localhost:8080/"
        },
        "id": "Vx-zZF-8AXuJ",
        "outputId": "b8a1ae6a-153a-4b6f-eea9-b7c130776346"
      },
      "execution_count": 40,
      "outputs": [
        {
          "output_type": "stream",
          "name": "stdout",
          "text": [
            "Track Name: For Those About To Rock (We Salute You), Album Title: For Those About To Rock We Salute You\n",
            "Track Name: Put The Finger On You, Album Title: For Those About To Rock We Salute You\n",
            "Track Name: Let's Get It Up, Album Title: For Those About To Rock We Salute You\n",
            "Track Name: Inject The Venom, Album Title: For Those About To Rock We Salute You\n",
            "Track Name: Snowballed, Album Title: For Those About To Rock We Salute You\n",
            "Track Name: Evil Walks, Album Title: For Those About To Rock We Salute You\n",
            "Track Name: C.O.D., Album Title: For Those About To Rock We Salute You\n",
            "Track Name: Breaking The Rules, Album Title: For Those About To Rock We Salute You\n",
            "Track Name: Night Of The Long Knives, Album Title: For Those About To Rock We Salute You\n",
            "Track Name: Spellbound, Album Title: For Those About To Rock We Salute You\n",
            "Track Name: Balls to the Wall, Album Title: Balls to the Wall\n",
            "Track Name: Fast As a Shark, Album Title: Restless and Wild\n",
            "Track Name: Restless and Wild, Album Title: Restless and Wild\n",
            "Track Name: Princess of the Dawn, Album Title: Restless and Wild\n",
            "Track Name: Go Down, Album Title: Let There Be Rock\n",
            "Track Name: Dog Eat Dog, Album Title: Let There Be Rock\n",
            "Track Name: Let There Be Rock, Album Title: Let There Be Rock\n",
            "Track Name: Bad Boy Boogie, Album Title: Let There Be Rock\n",
            "Track Name: Problem Child, Album Title: Let There Be Rock\n",
            "Track Name: Overdose, Album Title: Let There Be Rock\n"
          ]
        }
      ]
    },
    {
      "cell_type": "markdown",
      "source": [
        "🌟 Exercise : Tracks sold\n",
        "print out the first 10 track sales from the invoice_items table\n",
        "for these first 10 sales, print what are the names of the track sold, and the quantity sold"
      ],
      "metadata": {
        "id": "6FpOGb3NBg2e"
      }
    },
    {
      "cell_type": "markdown",
      "source": [
        "We will need to join the invoice_items table with the tracks table to get the track names and then print the first 10 sales."
      ],
      "metadata": {
        "id": "rWfFb3XkBnxz"
      }
    },
    {
      "cell_type": "code",
      "source": [
        "# First, we need references to the invoice_items and tracks tables\n",
        "InvoiceItems = Base.classes.invoice_items\n",
        "Tracks = Base.classes.tracks\n",
        "\n",
        "# Now, let's query the first 10 sales from the invoice_items table and join with the tracks table\n",
        "query = session.query(Tracks.Name, InvoiceItems.Quantity).join(Tracks, InvoiceItems.TrackId == Tracks.TrackId).limit(10)\n",
        "\n",
        "# Execute the query and fetch the results\n",
        "sales_with_tracks = query.all()\n",
        "\n",
        "# Now, let's print the track name and quantity sold for each sale\n",
        "for track_name, quantity in sales_with_tracks:\n",
        "    print(f\"Track Name: {track_name}, Quantity Sold: {quantity}\")\n"
      ],
      "metadata": {
        "colab": {
          "base_uri": "https://localhost:8080/"
        },
        "id": "vZHzac13Bogy",
        "outputId": "5ee3f6ea-91a7-4cf3-9e13-f6296f87c16c"
      },
      "execution_count": 41,
      "outputs": [
        {
          "output_type": "stream",
          "name": "stdout",
          "text": [
            "Track Name: Balls to the Wall, Quantity Sold: 1\n",
            "Track Name: Restless and Wild, Quantity Sold: 1\n",
            "Track Name: Put The Finger On You, Quantity Sold: 1\n",
            "Track Name: Inject The Venom, Quantity Sold: 1\n",
            "Track Name: Evil Walks, Quantity Sold: 1\n",
            "Track Name: Breaking The Rules, Quantity Sold: 1\n",
            "Track Name: Dog Eat Dog, Quantity Sold: 1\n",
            "Track Name: Overdose, Quantity Sold: 1\n",
            "Track Name: Love In An Elevator, Quantity Sold: 1\n",
            "Track Name: Janie's Got A Gun, Quantity Sold: 1\n"
          ]
        }
      ]
    },
    {
      "cell_type": "markdown",
      "source": [
        "🌟 Exercise 6 : Top tracks sold\n",
        "print the names of top 10 tracks sold, and how many they times they were sold\n"
      ],
      "metadata": {
        "id": "F68U3j8lBx3w"
      }
    },
    {
      "cell_type": "markdown",
      "source": [
        "Here, we need to find the total number of sales for each track and order the results by the number of sales in descending order to get the top 10 tracks."
      ],
      "metadata": {
        "id": "QbmOjFvkCHXy"
      }
    },
    {
      "cell_type": "code",
      "source": [
        "from sqlalchemy import func\n",
        "\n",
        "# Reference the invoice_items and tracks tables\n",
        "InvoiceItems = Base.classes.invoice_items\n",
        "Tracks = Base.classes.tracks\n",
        "\n",
        "# Query to find the top 10 tracks by the number of times they were sold\n",
        "# We use func.sum to calculate total sales and func.count for how many times a track was sold\n",
        "query = session.query(Tracks.Name, func.sum(InvoiceItems.Quantity).label('total_sales')).\\\n",
        "    join(Tracks, InvoiceItems.TrackId == Tracks.TrackId).\\\n",
        "    group_by(Tracks.Name).\\\n",
        "    order_by(func.sum(InvoiceItems.Quantity).desc()).\\\n",
        "    limit(10)\n",
        "\n",
        "# Execute the query and fetch the results\n",
        "top_tracks = query.all()\n",
        "\n",
        "# Now, print the top 10 tracks and how many times they were sold\n",
        "for track_name, total_sales in top_tracks:\n",
        "    print(f\"Track Name: {track_name}, Total Sales: {total_sales}\")\n"
      ],
      "metadata": {
        "colab": {
          "base_uri": "https://localhost:8080/"
        },
        "id": "y_j94F-fCIPR",
        "outputId": "b5b43698-ad07-43e9-9264-e9854d078e70"
      },
      "execution_count": 42,
      "outputs": [
        {
          "output_type": "stream",
          "name": "stdout",
          "text": [
            "Track Name: The Trooper, Total Sales: 5\n",
            "Track Name: Untitled, Total Sales: 4\n",
            "Track Name: The Number Of The Beast, Total Sales: 4\n",
            "Track Name: Sure Know Something, Total Sales: 4\n",
            "Track Name: Hallowed Be Thy Name, Total Sales: 4\n",
            "Track Name: Eruption, Total Sales: 4\n",
            "Track Name: Where Eagles Dare, Total Sales: 3\n",
            "Track Name: Welcome Home (Sanitarium), Total Sales: 3\n",
            "Track Name: Sweetest Thing, Total Sales: 3\n",
            "Track Name: Surrender, Total Sales: 3\n"
          ]
        }
      ]
    },
    {
      "cell_type": "markdown",
      "source": [
        "🌟 Exercise 7 : Top selling artists\n",
        "Who are the top 10 highest selling artists?"
      ],
      "metadata": {
        "id": "G56lF9GqCXja"
      }
    },
    {
      "cell_type": "markdown",
      "source": [
        "For this task, we need to:\n",
        "\n",
        "Join the invoice_items, tracks, albums, and artists tables.\n",
        "Sum up the total sales for each artist and order the results by total sales in descending order."
      ],
      "metadata": {
        "id": "Uk3aycKzCgS-"
      }
    },
    {
      "cell_type": "code",
      "source": [
        "# Reference the necessary tables\n",
        "InvoiceItems = Base.classes.invoice_items\n",
        "Tracks = Base.classes.tracks\n",
        "Albums = Base.classes.albums\n",
        "Artists = Base.classes.artists\n",
        "\n",
        "# Query to find the top 10 highest-selling artists\n",
        "query = session.query(Artists.Name, func.sum(InvoiceItems.Quantity).label('total_sales')).\\\n",
        "    join(Tracks, InvoiceItems.TrackId == Tracks.TrackId).\\\n",
        "    join(Albums, Tracks.AlbumId == Albums.AlbumId).\\\n",
        "    join(Artists, Albums.ArtistId == Artists.ArtistId).\\\n",
        "    group_by(Artists.Name).\\\n",
        "    order_by(func.sum(InvoiceItems.Quantity).desc()).\\\n",
        "    limit(10)\n",
        "\n",
        "# Execute the query and fetch the results\n",
        "top_artists = query.all()\n",
        "\n",
        "# Now, print the top 10 highest-selling artists and their total sales\n",
        "for artist_name, total_sales in top_artists:\n",
        "    print(f\"Artist Name: {artist_name}, Total Sales: {total_sales}\")"
      ],
      "metadata": {
        "colab": {
          "base_uri": "https://localhost:8080/"
        },
        "id": "Rhab1BWECkhe",
        "outputId": "01466f2f-b812-412e-c254-3b7fb8212dfe"
      },
      "execution_count": 45,
      "outputs": [
        {
          "output_type": "stream",
          "name": "stdout",
          "text": [
            "Artist Name: Iron Maiden, Total Sales: 140\n",
            "Artist Name: U2, Total Sales: 107\n",
            "Artist Name: Metallica, Total Sales: 91\n",
            "Artist Name: Led Zeppelin, Total Sales: 87\n",
            "Artist Name: Os Paralamas Do Sucesso, Total Sales: 45\n",
            "Artist Name: Deep Purple, Total Sales: 44\n",
            "Artist Name: Faith No More, Total Sales: 42\n",
            "Artist Name: Lost, Total Sales: 41\n",
            "Artist Name: Eric Clapton, Total Sales: 40\n",
            "Artist Name: R.E.M., Total Sales: 39\n"
          ]
        }
      ]
    }
  ]
}